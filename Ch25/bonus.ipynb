{
 "cells": [
  {
   "cell_type": "code",
   "execution_count": 1,
   "id": "f6c4102e",
   "metadata": {},
   "outputs": [
    {
     "name": "stdout",
     "output_type": "stream",
     "text": [
      "﻿[{\"sitename\":\"竹東\",\"county\":\"新竹縣\",\"aqi\":\"19\",\"pollutant\":\"\",\"status\":\"良好\",\"so2\":\"0.4\",\"co\":\"0.21\",\"o3\":\"8.8\",\"o3_8hr\":\"20.4\",\"pm10\":\"8\",\"pm2.5\":\"4\",\"no2\":\"7.1\",\"nox\":\"8.3\",\"no\":\"1.2\",\"wind_speed\":\"1.5\",\"wind_direc\":\"144\",\"publishtime\":\"2023/07/30 21:00:00\",\"co_8hr\":\"0.1\",\"pm2.5_avg\":\"5\",\"pm10_avg\":\"8\",\"so2_avg\":\"0\",\"longitude\":\"121.08895493\",\"latitude\":\"24.74091408\",\"siteid\":\"23\"}]\n"
     ]
    }
   ],
   "source": [
    "with open(\"Preview_Data.json\",\"r\",encoding = \"utf-8\") as infile:\n",
    "    content = infile.read()\n",
    "    \n",
    "print(content)"
   ]
  },
  {
   "cell_type": "code",
   "execution_count": 2,
   "id": "2e34204a",
   "metadata": {},
   "outputs": [
    {
     "data": {
      "text/plain": [
       "<Response [200]>"
      ]
     },
     "execution_count": 2,
     "metadata": {},
     "output_type": "execute_result"
    }
   ],
   "source": [
    "import requests,time\n",
    "#https://notify-bot.line.me/zh_TW/取得token的官網\n",
    "line_token = \"xCt5J5wiDyg3m6TqyPUVRkoMTkYBYRztfvUupOnEJbg\" # 給自己的token\n",
    "# workshop_token = \"vBBft2YY0G1muMxNAWcUY3U9vD6YtZ34uN4bNIbPORl\" # 研討會的token\n",
    "# study_token = \"LFQPtFatFmg8FnB9ppNpWAV1PjGHFNKju2lzZ7Lc4Pj\" # 讀書會的token\n",
    "\n",
    "message = \"{}\".format(\"有料嗎?我只是想試試看\")\n",
    "#message\n",
    "\n",
    "payload = {\"message\": message}\n",
    "# POST = \"https://notify-api.line.me/api/notify\"\n",
    "# Content_Type = \"application/x-www-form-urlencoded\"\n",
    "# Authorization = \"Bearer \" + line_token\n",
    "headers = {\n",
    "    \"Authorization\":\"Bearer \" + study_token,\n",
    "    \"Content_Type\":\"application/x-www-form-urlencoded\"\n",
    "}\n",
    "\n",
    "requests.post(\"https://notify-api.line.me/api/notify\",\n",
    "            headers = headers, params = payload)#params可以改成data\n",
    "# while True:\n",
    "#     requests.post(\"https://notify-api.line.me/api/notify\",\n",
    "#                  headers = headers, params = payload)\n",
    "#     time.sleep(10)"
   ]
  },
  {
   "cell_type": "code",
   "execution_count": 8,
   "id": "001d1175",
   "metadata": {},
   "outputs": [
    {
     "data": {
      "text/plain": [
       "<Response [200]>"
      ]
     },
     "execution_count": 8,
     "metadata": {},
     "output_type": "execute_result"
    }
   ],
   "source": [
    "import requests\n",
    "# response = requests.get(\"https://www.taiwanstat.com/waters/latest\")\n",
    "json = response.json()\n",
    "\n",
    "line_token = \"xCt5J5wiDyg3m6TqyPUVRkoMTkYBYRztfvUupOnEJbg\"\n",
    "headers = {\n",
    "    \"Authorization\":\"Bearer \" + line_token,\n",
    "    \"Content_Type\":\"application/x-www-form-urlencoded\"\n",
    "}\n",
    "\n",
    "message = \"\"\n",
    "\n",
    "for i in json[0]:\n",
    "    if json[0][i][\"percentage\"] < 60:\n",
    "        message += \"{}:{}({})\\n\".format(\"缺水的有(少於60%)\",json[0][i][\"name\"],str(json[0][i][\"percentage\"]) + \"%\")\n",
    "payload = {\"message\":message}\n",
    "requests.post(\"https://notify-api.line.me/api/notify\",\n",
    "            headers = headers,data = payload)\n",
    "        #print(json[0][i][\"name\"],json[0][i][\"updateAt\"],json[0][i][\"volumn\"],str(json[0][i][\"percentage\"]) + \"%\")"
   ]
  }
 ],
 "metadata": {
  "kernelspec": {
   "display_name": "Python 3 (ipykernel)",
   "language": "python",
   "name": "python3"
  },
  "language_info": {
   "codemirror_mode": {
    "name": "ipython",
    "version": 3
   },
   "file_extension": ".py",
   "mimetype": "text/x-python",
   "name": "python",
   "nbconvert_exporter": "python",
   "pygments_lexer": "ipython3",
   "version": "3.7.13"
  }
 },
 "nbformat": 4,
 "nbformat_minor": 5
}
