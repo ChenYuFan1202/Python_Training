{
 "cells": [
  {
   "cell_type": "code",
   "execution_count": 4,
   "id": "bca6fb75",
   "metadata": {},
   "outputs": [
    {
     "data": {
      "text/plain": [
       "5040"
      ]
     },
     "execution_count": 4,
     "metadata": {},
     "output_type": "execute_result"
    }
   ],
   "source": [
    "#中文版公式\n",
    "# https://docs.python.org/zh-tw/3/library/functions.html#map\n",
    "n = 7\n",
    "r = 1\n",
    "while n > 0:\n",
    "    r = r * n\n",
    "    n = n - 1\n",
    "r"
   ]
  },
  {
   "cell_type": "code",
   "execution_count": 5,
   "id": "ac9d1611",
   "metadata": {},
   "outputs": [
    {
     "name": "stdout",
     "output_type": "stream",
     "text": [
      "[1, 5, 3] [1, 5, 3] [1, 5, 3]\n"
     ]
    }
   ],
   "source": [
    "a = [1,2,3]\n",
    "b = a\n",
    "c = a\n",
    "b[1] = 5\n",
    "print(a,b,c) #指的是同一個物件"
   ]
  },
  {
   "cell_type": "code",
   "execution_count": 6,
   "id": "657bbb73",
   "metadata": {},
   "outputs": [
    {
     "name": "stdout",
     "output_type": "stream",
     "text": [
      "1 5 1\n"
     ]
    }
   ],
   "source": [
    "a = 1\n",
    "b = a\n",
    "c = a\n",
    "b = 5\n",
    "print(a,b,c) #會產生新的物件"
   ]
  },
  {
   "cell_type": "code",
   "execution_count": 38,
   "id": "e0e40f60",
   "metadata": {},
   "outputs": [
    {
     "name": "stdout",
     "output_type": "stream",
     "text": [
      "1.5 3 -1\n"
     ]
    }
   ],
   "source": [
    "a = 3 / 2 #/是會跑出浮點數的除法\n",
    "b = 7 // 2 #//是整數除法\n",
    "c = -1 // 2 #//會是小於它的最大整數\n",
    "print(a,b,c)"
   ]
  },
  {
   "cell_type": "code",
   "execution_count": 16,
   "id": "5abd0a06",
   "metadata": {},
   "outputs": [
    {
     "data": {
      "text/plain": [
       "20.0"
      ]
     },
     "execution_count": 16,
     "metadata": {},
     "output_type": "execute_result"
    }
   ],
   "source": [
    "x = 2 + 4 * 5 - 6 / 3\n",
    "x\n",
    "# \\\\是一個反斜線字元"
   ]
  },
  {
   "cell_type": "code",
   "execution_count": 21,
   "id": "c0363b36",
   "metadata": {},
   "outputs": [
    {
     "name": "stdout",
     "output_type": "stream",
     "text": [
      "Can 't get \n"
     ]
    }
   ],
   "source": [
    "x = \"Can 't get \"\n",
    "print(x)\n",
    "# 字串不能跨行，除非用\"\"\""
   ]
  },
  {
   "cell_type": "code",
   "execution_count": 35,
   "id": "93015372",
   "metadata": {},
   "outputs": [
    {
     "name": "stdout",
     "output_type": "stream",
     "text": [
      "aaaaaaabbbb\n"
     ]
    }
   ],
   "source": [
    "a = (\"aaaaaaa\" #也可以用/但要馬上換行\n",
    "    \"bbbb\")\n",
    "print(a)"
   ]
  },
  {
   "cell_type": "code",
   "execution_count": 41,
   "id": "50be3068",
   "metadata": {},
   "outputs": [
    {
     "data": {
      "text/plain": [
       "2.0"
      ]
     },
     "execution_count": 41,
     "metadata": {},
     "output_type": "execute_result"
    }
   ],
   "source": [
    "5 // 2.0"
   ]
  },
  {
   "cell_type": "code",
   "execution_count": 44,
   "id": "568720ee",
   "metadata": {},
   "outputs": [
    {
     "name": "stdout",
     "output_type": "stream",
     "text": [
      "我我我\n"
     ]
    }
   ],
   "source": [
    "a = \"我\"\n",
    "print(a * 3)"
   ]
  },
  {
   "cell_type": "code",
   "execution_count": 48,
   "id": "8266d17e",
   "metadata": {},
   "outputs": [
    {
     "data": {
      "text/plain": [
       "True"
      ]
     },
     "execution_count": 48,
     "metadata": {},
     "output_type": "execute_result"
    }
   ],
   "source": [
    "True == 1"
   ]
  },
  {
   "cell_type": "code",
   "execution_count": 57,
   "id": "9a085d84",
   "metadata": {},
   "outputs": [
    {
     "name": "stdout",
     "output_type": "stream",
     "text": [
      "name? L\n",
      "L\n",
      "age? 20\n",
      "20\n"
     ]
    }
   ],
   "source": [
    "name = input(\"name? \")\n",
    "print(name)\n",
    "age = int(input(\"age? \"))\n",
    "print(age)"
   ]
  },
  {
   "cell_type": "code",
   "execution_count": 11,
   "id": "a0484754",
   "metadata": {},
   "outputs": [
    {
     "name": "stdout",
     "output_type": "stream",
     "text": [
      "whatever? 28.5\n"
     ]
    },
    {
     "data": {
      "text/plain": [
       "28.5"
      ]
     },
     "execution_count": 11,
     "metadata": {},
     "output_type": "execute_result"
    }
   ],
   "source": [
    "a = float(input(\"whatever? \"))\n",
    "a"
   ]
  },
  {
   "cell_type": "code",
   "execution_count": 7,
   "id": "1be9eaae",
   "metadata": {},
   "outputs": [
    {
     "data": {
      "text/plain": [
       "(7+0j)"
      ]
     },
     "execution_count": 7,
     "metadata": {},
     "output_type": "execute_result"
    }
   ],
   "source": [
    "a = 3 + 2j\n",
    "a * 2.5\n",
    "from cmath import sqrt\n",
    "a = 49\n",
    "sqrt(a)"
   ]
  }
 ],
 "metadata": {
  "kernelspec": {
   "display_name": "Python 3 (ipykernel)",
   "language": "python",
   "name": "python3"
  },
  "language_info": {
   "codemirror_mode": {
    "name": "ipython",
    "version": 3
   },
   "file_extension": ".py",
   "mimetype": "text/x-python",
   "name": "python",
   "nbconvert_exporter": "python",
   "pygments_lexer": "ipython3",
   "version": "3.9.7"
  }
 },
 "nbformat": 4,
 "nbformat_minor": 5
}
