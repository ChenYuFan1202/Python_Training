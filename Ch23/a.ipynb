{
 "cells": [
  {
   "cell_type": "code",
   "execution_count": 1,
   "id": "35b2d612",
   "metadata": {},
   "outputs": [
    {
     "data": {
      "text/plain": [
       "<sqlite3.Cursor at 0x2983275f490>"
      ]
     },
     "execution_count": 1,
     "metadata": {},
     "output_type": "execute_result"
    }
   ],
   "source": [
    "import sqlite3\n",
    "conn = sqlite3.connect(\"datafile.db\")\n",
    "cursor = conn.cursor()#（電腦的）遊標\n",
    "cursor"
   ]
  },
  {
   "cell_type": "code",
   "execution_count": 2,
   "id": "1dd870bf",
   "metadata": {},
   "outputs": [
    {
     "data": {
      "text/plain": [
       "<sqlite3.Cursor at 0x29cd45ef570>"
      ]
     },
     "execution_count": 2,
     "metadata": {},
     "output_type": "execute_result"
    }
   ],
   "source": [
    "import sqlite3\n",
    "conn = sqlite3.connect(\":memory:\")\n",
    "cursor = conn.cursor()\n",
    "cursor"
   ]
  },
  {
   "cell_type": "code",
   "execution_count": 2,
   "id": "105e1a08",
   "metadata": {},
   "outputs": [],
   "source": [
    "cursor.execute(\"\"\"create table people(id integer\n",
    "                  primary key, name text, count integer)\"\"\")\n",
    "cursor.execute(\"\"\"insert into people(name,count)\n",
    "                   values(\"Bob\",1)\"\"\")\n",
    "username = \"Jill\"\n",
    "usercount = 15\n",
    "cursor.execute(\"\"\"insert into people\n",
    "    (name,count) values (?,?)\"\"\",(username,usercount))\n",
    "\n",
    "conn.commit()"
   ]
  },
  {
   "cell_type": "code",
   "execution_count": 3,
   "id": "1ff94feb",
   "metadata": {},
   "outputs": [
    {
     "data": {
      "text/plain": [
       "<sqlite3.Cursor at 0x2983275f490>"
      ]
     },
     "execution_count": 3,
     "metadata": {},
     "output_type": "execute_result"
    }
   ],
   "source": [
    "cursor.execute(\"\"\"insert into people(name,count) values\n",
    "               (:username,:usercount)\"\"\",{\"username\":\"Joe\",\"usercount\":10})"
   ]
  },
  {
   "cell_type": "code",
   "execution_count": 6,
   "id": "87c15735",
   "metadata": {},
   "outputs": [
    {
     "name": "stdout",
     "output_type": "stream",
     "text": [
      "[(1, 'Bob', 1), (2, 'Jill', 20), (3, 'Joe', 10)]\n",
      "[(1, 'Bob', 1)]\n"
     ]
    },
    {
     "data": {
      "text/plain": [
       "[(1, 'Bob', 1), (2, 'Jill', 20), (3, 'Joe', 10)]"
      ]
     },
     "execution_count": 6,
     "metadata": {},
     "output_type": "execute_result"
    }
   ],
   "source": [
    "result = cursor.execute(\"select * from people\")\n",
    "print(result.fetchall())#fetch:取回\n",
    "result = cursor.execute(\"\"\"select * from people\n",
    "    where name like (:name)\"\"\",{\"name\":\"Bob\"})#感覺加()比較可讀\n",
    "print(result.fetchall())\n",
    "result = cursor.execute(\"\"\"update people\n",
    "    set count = ? where name = ?\"\"\",(20,\"Jill\"))\n",
    "result = cursor.execute(\"select * from people\")\n",
    "result.fetchall()"
   ]
  },
  {
   "cell_type": "code",
   "execution_count": 7,
   "id": "183e6947",
   "metadata": {},
   "outputs": [
    {
     "name": "stdout",
     "output_type": "stream",
     "text": [
      "(1, 'Bob', 1)\n",
      "(2, 'Jill', 20)\n",
      "(3, 'Joe', 10)\n"
     ]
    }
   ],
   "source": [
    "result = cursor.execute(\"select * from people\")\n",
    "for row in result:\n",
    "    print(row)"
   ]
  },
  {
   "cell_type": "code",
   "execution_count": 8,
   "id": "573cd182",
   "metadata": {},
   "outputs": [
    {
     "data": {
      "text/plain": [
       "[(2, 'Jill', 20)]"
      ]
     },
     "execution_count": 8,
     "metadata": {},
     "output_type": "execute_result"
    }
   ],
   "source": [
    "name = \"Jill\"\n",
    "result = cursor.execute(\"\"\"select * from people\n",
    "    where name = '{}'\"\"\".format(name))\n",
    "result.fetchall()"
   ]
  },
  {
   "cell_type": "code",
   "execution_count": 12,
   "id": "05b3f3d7",
   "metadata": {},
   "outputs": [
    {
     "data": {
      "text/plain": [
       "[(1, 'Bob', 1), (2, 'Jill', 20), (3, 'Joe', 10)]"
      ]
     },
     "execution_count": 12,
     "metadata": {},
     "output_type": "execute_result"
    }
   ],
   "source": [
    "bad_name = \"1'or'1'='1\"\n",
    "result = cursor.execute(\"\"\"select * from people\n",
    "    where name = '{}'\"\"\".format(bad_name))\n",
    "result.fetchall()"
   ]
  },
  {
   "cell_type": "code",
   "execution_count": 14,
   "id": "30c22c24",
   "metadata": {},
   "outputs": [
    {
     "data": {
      "text/plain": [
       "[]"
      ]
     },
     "execution_count": 14,
     "metadata": {},
     "output_type": "execute_result"
    }
   ],
   "source": [
    "bad_name = \"1'or'1'='1\"\n",
    "#good_name = \"Bob\"\n",
    "result = cursor.execute(\"\"\"select * from people\n",
    "    where name = (?)\"\"\",(bad_name,))\n",
    "result.fetchall()"
   ]
  },
  {
   "cell_type": "code",
   "execution_count": 15,
   "id": "96f32ac8",
   "metadata": {},
   "outputs": [],
   "source": [
    "cursor.execute(\"\"\"update people set count = ?\n",
    "    where name = ?\"\"\",(20,\"Jill\"))\n",
    "conn.commit()\n",
    "conn.close()"
   ]
  },
  {
   "cell_type": "code",
   "execution_count": 11,
   "id": "5a6647a1",
   "metadata": {},
   "outputs": [],
   "source": [
    "import sqlite3\n",
    "conn = sqlite3.connect(\"test0.db\")\n",
    "cursor = conn.cursor()\n",
    "cursor.execute(\"\"\"create table weather0 (id integer primary key,\n",
    "    a text,b text,\n",
    "    c text,d text,e real,\n",
    "    f integer,g real,\n",
    "    h real,i real,\n",
    "    j integer,k real,\n",
    "    l real,m text)\"\"\")\n",
    "\n",
    "conn.commit()"
   ]
  },
  {
   "cell_type": "code",
   "execution_count": 21,
   "id": "61779a67",
   "metadata": {},
   "outputs": [
    {
     "name": "stdout",
     "output_type": "stream",
     "text": [
      "[['', 'Illinois', '17', 'Jan 01, 1979', '1979/01/01', '17.48', '994', '6.00', '30.50', '2.89', '994', '-13.60', '15.80', 'Missing', '0', 'Missing', 'Missing', '0.00%'], ['', 'Illinois', '17', 'Jan 02, 1979', '1979/01/02', '4.64', '994', '-6.40', '15.80', '-9.03', '994', '-23.60', '6.60', 'Missing', '0', 'Missing', 'Missing', '0.00%'], ['', 'Illinois', '17', 'Jan 03, 1979', '1979/01/03', '11.05', '994', '-0.70', '24.70', '-2.17', '994', '-18.30', '12.90', 'Missing', '0', 'Missing', 'Missing', '0.00%'], ['', 'Illinois', '17', 'Jan 04, 1979', '1979/01/04', '9.51', '994', '0.20', '27.60', '-0.43', '994', '-16.30', '16.30', 'Missing', '0', 'Missing', 'Missing', '0.00%'], ['', 'Illinois', '17', 'May 15, 1979', '1979/05/15', '68.42', '994', '61.00', '75.10', '51.30', '994', '43.30', '57.00', 'Missing', '0', 'Missing', 'Missing', '0.00%'], ['', 'Illinois', '17', 'May 16, 1979', '1979/05/16', '70.29', '994', '63.40', '73.50', '48.09', '994', '41.10', '53.00', 'Missing', '0', 'Missing', 'Missing', '0.00%'], ['', 'Illinois', '17', 'May 17, 1979', '1979/05/17', '75.34', '994', '64.00', '80.50', '50.84', '994', '44.30', '55.70', '82.60', '2', '82.40', '82.80', '0.20%'], ['', 'Illinois', '17', 'May 18, 1979', '1979/05/18', '79.13', '994', '75.50', '82.10', '55.68', '994', '50.00', '61.10', '81.42', '349', '80.20', '83.40', '35.11%'], ['', 'Illinois', '17', 'May 19, 1979', '1979/05/19', '74.94', '994', '66.90', '83.10', '58.59', '994', '50.90', '63.20', '82.87', '78', '81.60', '85.20', '7.85%']]\n"
     ]
    }
   ],
   "source": [
    "import csv\n",
    "results = csv.reader(open(\"temp_data_01.csv\",encoding = \"utf-8\"))\n",
    "weather_list = []\n",
    "for result in results:\n",
    "    weather_list.append(result)\n",
    "    \n",
    "del weather_list[0]\n",
    "print(weather_list)"
   ]
  },
  {
   "cell_type": "code",
   "execution_count": 27,
   "id": "70e2a90c",
   "metadata": {},
   "outputs": [
    {
     "ename": "OperationalError",
     "evalue": "table weather already exists",
     "output_type": "error",
     "traceback": [
      "\u001b[1;31m---------------------------------------------------------------------------\u001b[0m",
      "\u001b[1;31mOperationalError\u001b[0m                          Traceback (most recent call last)",
      "\u001b[1;32m~\\AppData\\Local\\Temp/ipykernel_11208/378036296.py\u001b[0m in \u001b[0;36m<module>\u001b[1;34m\u001b[0m\n\u001b[0;32m      2\u001b[0m \u001b[0mconn\u001b[0m \u001b[1;33m=\u001b[0m \u001b[0msqlite3\u001b[0m\u001b[1;33m.\u001b[0m\u001b[0mconnect\u001b[0m\u001b[1;33m(\u001b[0m\u001b[1;34m\"test.db\"\u001b[0m\u001b[1;33m)\u001b[0m\u001b[1;33m\u001b[0m\u001b[1;33m\u001b[0m\u001b[0m\n\u001b[0;32m      3\u001b[0m \u001b[0mcursor\u001b[0m \u001b[1;33m=\u001b[0m \u001b[0mconn\u001b[0m\u001b[1;33m.\u001b[0m\u001b[0mcursor\u001b[0m\u001b[1;33m(\u001b[0m\u001b[1;33m)\u001b[0m\u001b[1;31m#創建表格時，不能用中文\u001b[0m\u001b[1;33m\u001b[0m\u001b[1;33m\u001b[0m\u001b[0m\n\u001b[1;32m----> 4\u001b[1;33m cursor.execute(\"\"\"create table weather (id integer primary key, \n\u001b[0m\u001b[0;32m      5\u001b[0m \u001b[0mstate\u001b[0m \u001b[0mtext\u001b[0m\u001b[1;33m,\u001b[0m \u001b[0mstate_code\u001b[0m \u001b[0mtext\u001b[0m\u001b[1;33m,\u001b[0m\u001b[1;33m\u001b[0m\u001b[1;33m\u001b[0m\u001b[0m\n\u001b[0;32m      6\u001b[0m               \u001b[0myear_text\u001b[0m \u001b[0mtext\u001b[0m\u001b[1;33m,\u001b[0m \u001b[0myear_code\u001b[0m \u001b[0mtext\u001b[0m\u001b[1;33m,\u001b[0m \u001b[0mavg_max_temp\u001b[0m \u001b[0mreal\u001b[0m\u001b[1;33m,\u001b[0m\u001b[1;33m\u001b[0m\u001b[1;33m\u001b[0m\u001b[0m\n",
      "\u001b[1;31mOperationalError\u001b[0m: table weather already exists"
     ]
    }
   ],
   "source": [
    "import sqlite3\n",
    "conn = sqlite3.connect(\"test.db\")\n",
    "cursor = conn.cursor()#創建表格時，不能用中文\n",
    "cursor.execute(\"\"\"create table weather (id integer primary key, \n",
    "state text, state_code text,\n",
    "              year_text text, year_code text, avg_max_temp real,  \n",
    "max_temp_count integer, \n",
    "              max_temp_low real, max_temp_high real,\n",
    "              avg_min_temp real, min_temp_count integer,\n",
    "              min_temp_low real, min_temp_high real,\n",
    "              heat_index real, heat_index_count integer, \n",
    "              heat_index_low real, heat_index_high real,\n",
    "              heat_index_coverage text)\n",
    "              \"\"\")\n",
    "\n",
    "\n",
    "\n",
    "conn.commit()"
   ]
  },
  {
   "cell_type": "code",
   "execution_count": null,
   "id": "3ebc5954",
   "metadata": {},
   "outputs": [],
   "source": [
    "110570027\n",
    "*Jelly198576"
   ]
  },
  {
   "cell_type": "code",
   "execution_count": 1,
   "id": "a2ac882e",
   "metadata": {},
   "outputs": [],
   "source": [
    "from sqlalchemy import create_engine,select,MetaData,Table,Column,Integer,String\n",
    "from sqlalchemy.orm import sessionmaker\n",
    "\n",
    "dbPath = \"datafile2.db\"\n",
    "engine = create_engine(\"sqlite:///%s\" % dbPath)\n",
    "metadata = MetaData(engine)\n",
    "people = Table(\"people\",metadata,\n",
    "              Column(\"id\",Integer,primary_key = True),\n",
    "              Column(\"name\",String),\n",
    "              Column(\"count\",Integer))\n",
    "\n",
    "Session = sessionmaker(bind = engine)\n",
    "session = Session()\n",
    "metadata.create_all(engine)"
   ]
  },
  {
   "cell_type": "code",
   "execution_count": 2,
   "id": "f3ffeb2e",
   "metadata": {},
   "outputs": [],
   "source": [
    "people_ins = people.insert().values(name = \"Bob\",count = 1)\n",
    "str(people_ins)\n",
    "session.execute(people_ins)\n",
    "session.commit()"
   ]
  },
  {
   "cell_type": "code",
   "execution_count": 3,
   "id": "6d47f2bb",
   "metadata": {},
   "outputs": [
    {
     "name": "stdout",
     "output_type": "stream",
     "text": [
      "(1, 'Bob', 1)\n",
      "(2, 'Bob', 1)\n",
      "(3, 'Bob', 1)\n",
      "(4, 'Jill', 22)\n",
      "(5, 'Joe', 10)\n",
      "(6, 'Jill', 20)\n",
      "(7, 'Joe', 10)\n",
      "(8, 'Jill', 20)\n",
      "(9, 'Joe', 10)\n",
      "(10, 'Jill', 20)\n",
      "(11, 'Joe', 10)\n",
      "(12, 'Bob', 1)\n",
      "(13, 'Jill', 15)\n",
      "(14, 'Joe', 10)\n"
     ]
    }
   ],
   "source": [
    "session.execute(people_ins,[\n",
    "    {\"name\":\"Jill\",\"count\":15},\n",
    "    {\"name\":\"Joe\",\"count\":10}\n",
    "])\n",
    "session.commit()\n",
    "result = session.execute(select([people]))\n",
    "for row in result:\n",
    "    print(row)"
   ]
  },
  {
   "cell_type": "code",
   "execution_count": 4,
   "id": "a28d1050",
   "metadata": {},
   "outputs": [
    {
     "name": "stdout",
     "output_type": "stream",
     "text": [
      "(4, 'Jill', 22)\n",
      "(6, 'Jill', 20)\n",
      "(8, 'Jill', 20)\n",
      "(10, 'Jill', 20)\n",
      "(13, 'Jill', 15)\n"
     ]
    }
   ],
   "source": [
    "result = session.execute(\n",
    "    select([people]).where(people.c.name == \"Jill\"))\n",
    "for row in result:\n",
    "    print(row)"
   ]
  },
  {
   "cell_type": "code",
   "execution_count": 12,
   "id": "9c44cf9e",
   "metadata": {},
   "outputs": [
    {
     "name": "stdout",
     "output_type": "stream",
     "text": [
      "(4, 'Jill', 20)\n",
      "(6, 'Jill', 20)\n",
      "(8, 'Jill', 20)\n",
      "(10, 'Jill', 20)\n"
     ]
    }
   ],
   "source": [
    "result = session.execute(\n",
    "    people.update().values(count = 20).where(\n",
    "    people.c.name == \"Jill\"))\n",
    "session.commit()\n",
    "result = session.execute(\n",
    "    select([people]).where(people.c.name == \"Jill\"))\n",
    "for row in result:\n",
    "    print(row)"
   ]
  },
  {
   "cell_type": "code",
   "execution_count": 13,
   "id": "6479135b",
   "metadata": {},
   "outputs": [
    {
     "name": "stdout",
     "output_type": "stream",
     "text": [
      "4 Jill 20\n",
      "6 Jill 20\n",
      "8 Jill 20\n",
      "10 Jill 20\n"
     ]
    }
   ],
   "source": [
    "from sqlalchemy.ext.declarative import declarative_base\n",
    "Base = declarative_base()\n",
    "class People(Base):\n",
    "    __tablename__ = \"people\"\n",
    "    id = Column(Integer,primary_key = True)\n",
    "    name = Column(String)\n",
    "    count = Column(Integer)\n",
    "    \n",
    "results = session.query(People).filter_by(name = \"Jill\")\n",
    "for person in results:\n",
    "    print(person.id,person.name,person.count)"
   ]
  },
  {
   "cell_type": "code",
   "execution_count": 14,
   "id": "5add892f",
   "metadata": {},
   "outputs": [
    {
     "name": "stdout",
     "output_type": "stream",
     "text": [
      "1 Bob 1\n",
      "2 Bob 1\n",
      "3 Bob 1\n",
      "4 Jill 20\n",
      "5 Joe 10\n",
      "6 Jill 20\n",
      "7 Joe 10\n",
      "8 Jill 20\n",
      "9 Joe 10\n",
      "10 Jill 20\n",
      "11 Joe 10\n",
      "12 Jane 5\n"
     ]
    }
   ],
   "source": [
    "new_person = People(name = \"Jane\",count = 5)\n",
    "session.add(new_person)\n",
    "session.commit()\n",
    "results = session.query(People).all()\n",
    "for person in results:\n",
    "    print(person.id,person.name,person.count)"
   ]
  },
  {
   "cell_type": "code",
   "execution_count": 18,
   "id": "841e9c88",
   "metadata": {},
   "outputs": [
    {
     "name": "stdout",
     "output_type": "stream",
     "text": [
      "Jill 20\n",
      "1 Bob 1\n",
      "2 Bob 1\n",
      "3 Bob 1\n",
      "4 Jill 22\n",
      "5 Joe 10\n",
      "6 Jill 20\n",
      "7 Joe 10\n",
      "8 Jill 20\n",
      "9 Joe 10\n",
      "10 Jill 20\n",
      "11 Joe 10\n",
      "12 Jane 5\n"
     ]
    }
   ],
   "source": [
    "jill = session.query(People).filter_by(name = \"Jill\").first()\n",
    "print(jill.name,jill.count)\n",
    "jill.count = 22\n",
    "session.add(jill)\n",
    "session.commit()\n",
    "results = session.query(People).all()\n",
    "for person in results:\n",
    "    print(person.id,person.name,person.count)"
   ]
  },
  {
   "cell_type": "code",
   "execution_count": 25,
   "id": "06920327",
   "metadata": {},
   "outputs": [
    {
     "name": "stdout",
     "output_type": "stream",
     "text": [
      "None\n"
     ]
    }
   ],
   "source": [
    "jane = session.query(People).filter_by(name = \"Jane\").first()\n",
    "#print(jane)\n",
    "#session.delete(jane)\n",
    "session.commit()\n",
    "jane = session.query(People).filter_by(name = \"Jane\").first()\n",
    "print(jane)"
   ]
  },
  {
   "cell_type": "code",
   "execution_count": 4,
   "id": "0b8d7307",
   "metadata": {},
   "outputs": [],
   "source": [
    "from sqlalchemy import create_engine, select, MetaData, Table, Column, Integer, String, Float\n",
    "from sqlalchemy.orm import sessionmaker\n",
    "\n",
    "dbPath = 'datafile.db'\n",
    "engine = create_engine('sqlite:///%s' % dbPath)\n",
    "metadata = MetaData(engine)\n",
    "weather  = Table('weather', metadata, \n",
    "                Column('id', Integer, primary_key=True),\n",
    "                Column(\"state\", String),\n",
    "                Column(\"state_code\", String),\n",
    "                Column(\"year_text\", String ),\n",
    "                Column(\"year_code\", String), \n",
    "                Column(\"avg_max_temp\", Float),\n",
    "                Column(\"max_temp_count\", Integer),\n",
    "                Column(\"max_temp_low\", Float),\n",
    "                Column(\"max_temp_high\", Float),\n",
    "                Column(\"avg_min_temp\", Float), \n",
    "                Column(\"min_temp_count\", Integer),\n",
    "                Column(\"min_temp_low\", Float), \n",
    "                Column(\"min_temp_high\", Float),\n",
    "                Column(\"heat_index\", Float), \n",
    "                Column(\"heat_index_count\", Integer),\n",
    "                Column(\"heat_index_low\", Float), \n",
    "                Column(\"heat_index_high\", Float),\n",
    "                Column(\"heat_index_coverage\", String)\n",
    "                )\n",
    "Session = sessionmaker(bind=engine)\n",
    "session = Session()\n",
    "result = session.execute(select([weather]))\n",
    "for row in result:\n",
    "    print(row)"
   ]
  },
  {
   "cell_type": "code",
   "execution_count": 3,
   "id": "622f0e90",
   "metadata": {},
   "outputs": [
    {
     "name": "stdout",
     "output_type": "stream",
     "text": [
      "['people']\n"
     ]
    },
    {
     "name": "stderr",
     "output_type": "stream",
     "text": [
      "C:\\Users\\Vick\\AppData\\Local\\Temp/ipykernel_18868/1043810782.py:1: SADeprecationWarning: The Engine.table_names() method is deprecated and will be removed in a future release.  Please refer to Inspector.get_table_names(). (deprecated since: 1.4)\n",
      "  print(engine.table_names())\n"
     ]
    }
   ],
   "source": [
    "print(engine.table_names())"
   ]
  },
  {
   "cell_type": "code",
   "execution_count": 5,
   "id": "bc9e2504",
   "metadata": {},
   "outputs": [
    {
     "name": "stderr",
     "output_type": "stream",
     "text": [
      "C:\\Users\\Vick\\AppData\\Local\\Temp/ipykernel_18868/4162273999.py:1: SADeprecationWarning: The Engine.table_names() method is deprecated and will be removed in a future release.  Please refer to Inspector.get_table_names(). (deprecated since: 1.4)\n",
      "  engine.table_names()\n"
     ]
    },
    {
     "data": {
      "text/plain": [
       "['address', 'alembic_version', 'people']"
      ]
     },
     "execution_count": 5,
     "metadata": {},
     "output_type": "execute_result"
    }
   ],
   "source": [
    "engine.table_names()"
   ]
  },
  {
   "cell_type": "code",
   "execution_count": 6,
   "id": "86b478f8",
   "metadata": {},
   "outputs": [
    {
     "name": "stderr",
     "output_type": "stream",
     "text": [
      "C:\\Users\\Vick\\AppData\\Local\\Temp/ipykernel_18868/4162273999.py:1: SADeprecationWarning: The Engine.table_names() method is deprecated and will be removed in a future release.  Please refer to Inspector.get_table_names(). (deprecated since: 1.4)\n",
      "  engine.table_names()\n"
     ]
    },
    {
     "data": {
      "text/plain": [
       "['alembic_version', 'people']"
      ]
     },
     "execution_count": 6,
     "metadata": {},
     "output_type": "execute_result"
    }
   ],
   "source": [
    "engine.table_names()"
   ]
  },
  {
   "cell_type": "code",
   "execution_count": 7,
   "id": "03ac2654",
   "metadata": {},
   "outputs": [],
   "source": [
    "import redis\n",
    "r = redis.Redis(host = \"localhost\",port = 6379)"
   ]
  },
  {
   "cell_type": "code",
   "execution_count": 8,
   "id": "907ca543",
   "metadata": {},
   "outputs": [
    {
     "ename": "ConnectionError",
     "evalue": "Error 10061 connecting to localhost:6379. 無法連線，因為目標電腦拒絕連線。.",
     "output_type": "error",
     "traceback": [
      "\u001b[1;31m---------------------------------------------------------------------------\u001b[0m",
      "\u001b[1;31mConnectionRefusedError\u001b[0m                    Traceback (most recent call last)",
      "\u001b[1;32m~\\anaconda3\\lib\\site-packages\\redis\\connection.py\u001b[0m in \u001b[0;36mconnect\u001b[1;34m(self)\u001b[0m\n\u001b[0;32m    706\u001b[0m         \u001b[1;32mtry\u001b[0m\u001b[1;33m:\u001b[0m\u001b[1;33m\u001b[0m\u001b[1;33m\u001b[0m\u001b[0m\n\u001b[1;32m--> 707\u001b[1;33m             sock = self.retry.call_with_retry(\n\u001b[0m\u001b[0;32m    708\u001b[0m                 \u001b[1;32mlambda\u001b[0m\u001b[1;33m:\u001b[0m \u001b[0mself\u001b[0m\u001b[1;33m.\u001b[0m\u001b[0m_connect\u001b[0m\u001b[1;33m(\u001b[0m\u001b[1;33m)\u001b[0m\u001b[1;33m,\u001b[0m \u001b[1;32mlambda\u001b[0m \u001b[0merror\u001b[0m\u001b[1;33m:\u001b[0m \u001b[0mself\u001b[0m\u001b[1;33m.\u001b[0m\u001b[0mdisconnect\u001b[0m\u001b[1;33m(\u001b[0m\u001b[0merror\u001b[0m\u001b[1;33m)\u001b[0m\u001b[1;33m\u001b[0m\u001b[1;33m\u001b[0m\u001b[0m\n",
      "\u001b[1;32m~\\anaconda3\\lib\\site-packages\\redis\\retry.py\u001b[0m in \u001b[0;36mcall_with_retry\u001b[1;34m(self, do, fail)\u001b[0m\n\u001b[0;32m     45\u001b[0m             \u001b[1;32mtry\u001b[0m\u001b[1;33m:\u001b[0m\u001b[1;33m\u001b[0m\u001b[1;33m\u001b[0m\u001b[0m\n\u001b[1;32m---> 46\u001b[1;33m                 \u001b[1;32mreturn\u001b[0m \u001b[0mdo\u001b[0m\u001b[1;33m(\u001b[0m\u001b[1;33m)\u001b[0m\u001b[1;33m\u001b[0m\u001b[1;33m\u001b[0m\u001b[0m\n\u001b[0m\u001b[0;32m     47\u001b[0m             \u001b[1;32mexcept\u001b[0m \u001b[0mself\u001b[0m\u001b[1;33m.\u001b[0m\u001b[0m_supported_errors\u001b[0m \u001b[1;32mas\u001b[0m \u001b[0merror\u001b[0m\u001b[1;33m:\u001b[0m\u001b[1;33m\u001b[0m\u001b[1;33m\u001b[0m\u001b[0m\n",
      "\u001b[1;32m~\\anaconda3\\lib\\site-packages\\redis\\connection.py\u001b[0m in \u001b[0;36m<lambda>\u001b[1;34m()\u001b[0m\n\u001b[0;32m    707\u001b[0m             sock = self.retry.call_with_retry(\n\u001b[1;32m--> 708\u001b[1;33m                 \u001b[1;32mlambda\u001b[0m\u001b[1;33m:\u001b[0m \u001b[0mself\u001b[0m\u001b[1;33m.\u001b[0m\u001b[0m_connect\u001b[0m\u001b[1;33m(\u001b[0m\u001b[1;33m)\u001b[0m\u001b[1;33m,\u001b[0m \u001b[1;32mlambda\u001b[0m \u001b[0merror\u001b[0m\u001b[1;33m:\u001b[0m \u001b[0mself\u001b[0m\u001b[1;33m.\u001b[0m\u001b[0mdisconnect\u001b[0m\u001b[1;33m(\u001b[0m\u001b[0merror\u001b[0m\u001b[1;33m)\u001b[0m\u001b[1;33m\u001b[0m\u001b[1;33m\u001b[0m\u001b[0m\n\u001b[0m\u001b[0;32m    709\u001b[0m             )\n",
      "\u001b[1;32m~\\anaconda3\\lib\\site-packages\\redis\\connection.py\u001b[0m in \u001b[0;36m_connect\u001b[1;34m(self)\u001b[0m\n\u001b[0;32m   1005\u001b[0m         \u001b[1;32mif\u001b[0m \u001b[0merr\u001b[0m \u001b[1;32mis\u001b[0m \u001b[1;32mnot\u001b[0m \u001b[1;32mNone\u001b[0m\u001b[1;33m:\u001b[0m\u001b[1;33m\u001b[0m\u001b[1;33m\u001b[0m\u001b[0m\n\u001b[1;32m-> 1006\u001b[1;33m             \u001b[1;32mraise\u001b[0m \u001b[0merr\u001b[0m\u001b[1;33m\u001b[0m\u001b[1;33m\u001b[0m\u001b[0m\n\u001b[0m\u001b[0;32m   1007\u001b[0m         \u001b[1;32mraise\u001b[0m \u001b[0mOSError\u001b[0m\u001b[1;33m(\u001b[0m\u001b[1;34m\"socket.getaddrinfo returned an empty list\"\u001b[0m\u001b[1;33m)\u001b[0m\u001b[1;33m\u001b[0m\u001b[1;33m\u001b[0m\u001b[0m\n",
      "\u001b[1;32m~\\anaconda3\\lib\\site-packages\\redis\\connection.py\u001b[0m in \u001b[0;36m_connect\u001b[1;34m(self)\u001b[0m\n\u001b[0;32m    993\u001b[0m                 \u001b[1;31m# connect\u001b[0m\u001b[1;33m\u001b[0m\u001b[1;33m\u001b[0m\u001b[0m\n\u001b[1;32m--> 994\u001b[1;33m                 \u001b[0msock\u001b[0m\u001b[1;33m.\u001b[0m\u001b[0mconnect\u001b[0m\u001b[1;33m(\u001b[0m\u001b[0msocket_address\u001b[0m\u001b[1;33m)\u001b[0m\u001b[1;33m\u001b[0m\u001b[1;33m\u001b[0m\u001b[0m\n\u001b[0m\u001b[0;32m    995\u001b[0m \u001b[1;33m\u001b[0m\u001b[0m\n",
      "\u001b[1;31mConnectionRefusedError\u001b[0m: [WinError 10061] 無法連線，因為目標電腦拒絕連線。",
      "\nDuring handling of the above exception, another exception occurred:\n",
      "\u001b[1;31mConnectionError\u001b[0m                           Traceback (most recent call last)",
      "\u001b[1;32m~\\AppData\\Local\\Temp/ipykernel_18868/749964980.py\u001b[0m in \u001b[0;36m<module>\u001b[1;34m\u001b[0m\n\u001b[1;32m----> 1\u001b[1;33m \u001b[0mr\u001b[0m\u001b[1;33m.\u001b[0m\u001b[0mkeys\u001b[0m\u001b[1;33m(\u001b[0m\u001b[1;33m)\u001b[0m\u001b[1;33m\u001b[0m\u001b[1;33m\u001b[0m\u001b[0m\n\u001b[0m",
      "\u001b[1;32m~\\anaconda3\\lib\\site-packages\\redis\\commands\\core.py\u001b[0m in \u001b[0;36mkeys\u001b[1;34m(self, pattern, **kwargs)\u001b[0m\n\u001b[0;32m   1957\u001b[0m         \u001b[0mFor\u001b[0m \u001b[0mmore\u001b[0m \u001b[0minformation\u001b[0m \u001b[0msee\u001b[0m \u001b[0mhttps\u001b[0m\u001b[1;33m:\u001b[0m\u001b[1;33m//\u001b[0m\u001b[0mredis\u001b[0m\u001b[1;33m.\u001b[0m\u001b[0mio\u001b[0m\u001b[1;33m/\u001b[0m\u001b[0mcommands\u001b[0m\u001b[1;33m/\u001b[0m\u001b[0mkeys\u001b[0m\u001b[1;33m\u001b[0m\u001b[1;33m\u001b[0m\u001b[0m\n\u001b[0;32m   1958\u001b[0m         \"\"\"\n\u001b[1;32m-> 1959\u001b[1;33m         \u001b[1;32mreturn\u001b[0m \u001b[0mself\u001b[0m\u001b[1;33m.\u001b[0m\u001b[0mexecute_command\u001b[0m\u001b[1;33m(\u001b[0m\u001b[1;34m\"KEYS\"\u001b[0m\u001b[1;33m,\u001b[0m \u001b[0mpattern\u001b[0m\u001b[1;33m,\u001b[0m \u001b[1;33m**\u001b[0m\u001b[0mkwargs\u001b[0m\u001b[1;33m)\u001b[0m\u001b[1;33m\u001b[0m\u001b[1;33m\u001b[0m\u001b[0m\n\u001b[0m\u001b[0;32m   1960\u001b[0m \u001b[1;33m\u001b[0m\u001b[0m\n\u001b[0;32m   1961\u001b[0m     def lmove(\n",
      "\u001b[1;32m~\\anaconda3\\lib\\site-packages\\redis\\client.py\u001b[0m in \u001b[0;36mexecute_command\u001b[1;34m(self, *args, **options)\u001b[0m\n\u001b[0;32m   1264\u001b[0m         \u001b[0mpool\u001b[0m \u001b[1;33m=\u001b[0m \u001b[0mself\u001b[0m\u001b[1;33m.\u001b[0m\u001b[0mconnection_pool\u001b[0m\u001b[1;33m\u001b[0m\u001b[1;33m\u001b[0m\u001b[0m\n\u001b[0;32m   1265\u001b[0m         \u001b[0mcommand_name\u001b[0m \u001b[1;33m=\u001b[0m \u001b[0margs\u001b[0m\u001b[1;33m[\u001b[0m\u001b[1;36m0\u001b[0m\u001b[1;33m]\u001b[0m\u001b[1;33m\u001b[0m\u001b[1;33m\u001b[0m\u001b[0m\n\u001b[1;32m-> 1266\u001b[1;33m         \u001b[0mconn\u001b[0m \u001b[1;33m=\u001b[0m \u001b[0mself\u001b[0m\u001b[1;33m.\u001b[0m\u001b[0mconnection\u001b[0m \u001b[1;32mor\u001b[0m \u001b[0mpool\u001b[0m\u001b[1;33m.\u001b[0m\u001b[0mget_connection\u001b[0m\u001b[1;33m(\u001b[0m\u001b[0mcommand_name\u001b[0m\u001b[1;33m,\u001b[0m \u001b[1;33m**\u001b[0m\u001b[0moptions\u001b[0m\u001b[1;33m)\u001b[0m\u001b[1;33m\u001b[0m\u001b[1;33m\u001b[0m\u001b[0m\n\u001b[0m\u001b[0;32m   1267\u001b[0m \u001b[1;33m\u001b[0m\u001b[0m\n\u001b[0;32m   1268\u001b[0m         \u001b[1;32mtry\u001b[0m\u001b[1;33m:\u001b[0m\u001b[1;33m\u001b[0m\u001b[1;33m\u001b[0m\u001b[0m\n",
      "\u001b[1;32m~\\anaconda3\\lib\\site-packages\\redis\\connection.py\u001b[0m in \u001b[0;36mget_connection\u001b[1;34m(self, command_name, *keys, **options)\u001b[0m\n\u001b[0;32m   1459\u001b[0m         \u001b[1;32mtry\u001b[0m\u001b[1;33m:\u001b[0m\u001b[1;33m\u001b[0m\u001b[1;33m\u001b[0m\u001b[0m\n\u001b[0;32m   1460\u001b[0m             \u001b[1;31m# ensure this connection is connected to Redis\u001b[0m\u001b[1;33m\u001b[0m\u001b[1;33m\u001b[0m\u001b[0m\n\u001b[1;32m-> 1461\u001b[1;33m             \u001b[0mconnection\u001b[0m\u001b[1;33m.\u001b[0m\u001b[0mconnect\u001b[0m\u001b[1;33m(\u001b[0m\u001b[1;33m)\u001b[0m\u001b[1;33m\u001b[0m\u001b[1;33m\u001b[0m\u001b[0m\n\u001b[0m\u001b[0;32m   1462\u001b[0m             \u001b[1;31m# connections that the pool provides should be ready to send\u001b[0m\u001b[1;33m\u001b[0m\u001b[1;33m\u001b[0m\u001b[0m\n\u001b[0;32m   1463\u001b[0m             \u001b[1;31m# a command. if not, the connection was either returned to the\u001b[0m\u001b[1;33m\u001b[0m\u001b[1;33m\u001b[0m\u001b[0m\n",
      "\u001b[1;32m~\\anaconda3\\lib\\site-packages\\redis\\connection.py\u001b[0m in \u001b[0;36mconnect\u001b[1;34m(self)\u001b[0m\n\u001b[0;32m    711\u001b[0m             \u001b[1;32mraise\u001b[0m \u001b[0mTimeoutError\u001b[0m\u001b[1;33m(\u001b[0m\u001b[1;34m\"Timeout connecting to server\"\u001b[0m\u001b[1;33m)\u001b[0m\u001b[1;33m\u001b[0m\u001b[1;33m\u001b[0m\u001b[0m\n\u001b[0;32m    712\u001b[0m         \u001b[1;32mexcept\u001b[0m \u001b[0mOSError\u001b[0m \u001b[1;32mas\u001b[0m \u001b[0me\u001b[0m\u001b[1;33m:\u001b[0m\u001b[1;33m\u001b[0m\u001b[1;33m\u001b[0m\u001b[0m\n\u001b[1;32m--> 713\u001b[1;33m             \u001b[1;32mraise\u001b[0m \u001b[0mConnectionError\u001b[0m\u001b[1;33m(\u001b[0m\u001b[0mself\u001b[0m\u001b[1;33m.\u001b[0m\u001b[0m_error_message\u001b[0m\u001b[1;33m(\u001b[0m\u001b[0me\u001b[0m\u001b[1;33m)\u001b[0m\u001b[1;33m)\u001b[0m\u001b[1;33m\u001b[0m\u001b[1;33m\u001b[0m\u001b[0m\n\u001b[0m\u001b[0;32m    714\u001b[0m \u001b[1;33m\u001b[0m\u001b[0m\n\u001b[0;32m    715\u001b[0m         \u001b[0mself\u001b[0m\u001b[1;33m.\u001b[0m\u001b[0m_sock\u001b[0m \u001b[1;33m=\u001b[0m \u001b[0msock\u001b[0m\u001b[1;33m\u001b[0m\u001b[1;33m\u001b[0m\u001b[0m\n",
      "\u001b[1;31mConnectionError\u001b[0m: Error 10061 connecting to localhost:6379. 無法連線，因為目標電腦拒絕連線。."
     ]
    }
   ],
   "source": [
    "r.keys()"
   ]
  },
  {
   "cell_type": "code",
   "execution_count": 7,
   "id": "1b65b291",
   "metadata": {},
   "outputs": [
    {
     "ename": "ModuleNotFoundError",
     "evalue": "No module named 'pymongo'",
     "output_type": "error",
     "traceback": [
      "\u001b[1;31m---------------------------------------------------------------------------\u001b[0m",
      "\u001b[1;31mModuleNotFoundError\u001b[0m                       Traceback (most recent call last)",
      "\u001b[1;32m~\\AppData\\Local\\Temp/ipykernel_11392/2944501792.py\u001b[0m in \u001b[0;36m<module>\u001b[1;34m\u001b[0m\n\u001b[1;32m----> 1\u001b[1;33m \u001b[1;32mimport\u001b[0m \u001b[0mpymongo\u001b[0m\u001b[1;33m\u001b[0m\u001b[1;33m\u001b[0m\u001b[0m\n\u001b[0m",
      "\u001b[1;31mModuleNotFoundError\u001b[0m: No module named 'pymongo'"
     ]
    }
   ],
   "source": [
    "import pymongo"
   ]
  }
 ],
 "metadata": {
  "kernelspec": {
   "display_name": "Python 3 (ipykernel)",
   "language": "python",
   "name": "python3"
  },
  "language_info": {
   "codemirror_mode": {
    "name": "ipython",
    "version": 3
   },
   "file_extension": ".py",
   "mimetype": "text/x-python",
   "name": "python",
   "nbconvert_exporter": "python",
   "pygments_lexer": "ipython3",
   "version": "3.9.7"
  }
 },
 "nbformat": 4,
 "nbformat_minor": 5
}
