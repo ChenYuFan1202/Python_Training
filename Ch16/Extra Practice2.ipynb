{
 "cells": [
  {
   "cell_type": "code",
   "execution_count": 4,
   "id": "c3ca95ac",
   "metadata": {},
   "outputs": [
    {
     "data": {
      "text/plain": [
       "['h', 'e', 'a', 'i', 'i', 'a', 'i']"
      ]
     },
     "execution_count": 4,
     "metadata": {},
     "output_type": "execute_result"
    }
   ],
   "source": [
    "#findall\n",
    "\"\"\"範例ㄧ：找出a~m之間的小寫英文字\"\"\"\n",
    "import re\n",
    "txt = \"The rain in Spain\"\n",
    "result = re.findall(r\"[a-m]\",txt)\n",
    "result"
   ]
  },
  {
   "cell_type": "code",
   "execution_count": 5,
   "id": "3f7ca541",
   "metadata": {},
   "outputs": [
    {
     "data": {
      "text/plain": [
       "['5', '9']"
      ]
     },
     "execution_count": 5,
     "metadata": {},
     "output_type": "execute_result"
    }
   ],
   "source": [
    "\"\"\"範例二：找出數字\"\"\"\n",
    "import re\n",
    "\n",
    "txt = \"That will be 59 dollars\"\n",
    "result  = re.findall(r\"[0-9]\",txt)#\\d也可以\n",
    "result"
   ]
  },
  {
   "cell_type": "code",
   "execution_count": 62,
   "id": "66b0b54f",
   "metadata": {},
   "outputs": [
    {
     "data": {
      "text/plain": [
       "['hello']"
      ]
     },
     "execution_count": 62,
     "metadata": {},
     "output_type": "execute_result"
    }
   ],
   "source": [
    "\"\"\"範例三：找出he字串後接著兩個字元，然後接著是o\"\"\"\n",
    "import re\n",
    "\n",
    "txt = \"hello world\"\n",
    "result = re.findall(r\"he..o\",txt)#.為除了新行符號外的任意字元\n",
    "result"
   ]
  },
  {
   "cell_type": "code",
   "execution_count": 11,
   "id": "d904dd48",
   "metadata": {},
   "outputs": [
    {
     "name": "stdout",
     "output_type": "stream",
     "text": [
      "Yes, the string starts with 'hello'\n"
     ]
    }
   ],
   "source": [
    "\"\"\"範例四：字串開頭必須為hello\"\"\"\n",
    "txt = \"hello world\"\n",
    "result = re.findall(r\"^hello\",txt)\n",
    "\n",
    "if result:\n",
    "    print(\"Yes, the string starts with 'hello'\")\n",
    "else:\n",
    "    print(\"No match\")"
   ]
  },
  {
   "cell_type": "code",
   "execution_count": 13,
   "id": "48c993f6",
   "metadata": {},
   "outputs": [
    {
     "name": "stdout",
     "output_type": "stream",
     "text": [
      "Yes, the string ends with 'world'\n"
     ]
    }
   ],
   "source": [
    "\"\"\"範例五：字串結尾為world\"\"\"\n",
    "import re\n",
    "txt = \"hello world\"\n",
    "result = re.findall(r\"world$\",txt)\n",
    "if result:\n",
    "     print(\"Yes, the string ends with 'world'\")\n",
    "else:\n",
    "    print(\"No match\")"
   ]
  },
  {
   "cell_type": "code",
   "execution_count": 17,
   "id": "cd66a330",
   "metadata": {},
   "outputs": [
    {
     "name": "stdout",
     "output_type": "stream",
     "text": [
      "['ai', 'ai', 'ai', 'ai']\n",
      "Yes, there is at least one match!\n"
     ]
    }
   ],
   "source": [
    "\"\"\"範例六：找出ai字串後面有0~多個x字元的字串\"\"\"\n",
    "import re\n",
    "txt = \"The rain in Spain falls mainly in the plain!\"\n",
    "result = re.findall(r\"aix*\",txt)\n",
    "print(result)\n",
    "\n",
    "if result:\n",
    "    print(\"Yes, there is at least one match!\")\n",
    "else:\n",
    "    print(\"No match\")"
   ]
  },
  {
   "cell_type": "code",
   "execution_count": 20,
   "id": "9ba80e1e",
   "metadata": {},
   "outputs": [
    {
     "name": "stdout",
     "output_type": "stream",
     "text": [
      "[]\n",
      "No match\n"
     ]
    }
   ],
   "source": [
    "\"\"\"範例七：找出ai字串後面有1~多個x字元的字串\"\"\"\n",
    "import re\n",
    "txt = \"The rain in Spain falls mainly in the plain!\"\n",
    "result = re.findall(r\"aix+\",txt)\n",
    "print(result)\n",
    "if result:\n",
    "    print(\"Yes, there is at least one match!\")\n",
    "else:\n",
    "    print(\"No match\")"
   ]
  },
  {
   "cell_type": "code",
   "execution_count": 24,
   "id": "7aa56d13",
   "metadata": {},
   "outputs": [
    {
     "name": "stdout",
     "output_type": "stream",
     "text": [
      "['all']\n",
      "Yes, there is at least one match!\n"
     ]
    }
   ],
   "source": [
    "\"\"\"範例八：找出a後面連續2個l的字串\"\"\"\n",
    "import re\n",
    "txt = 'The rain in Spain falls mainly in the plain!'\n",
    "result = re.findall(r\"al{2}\",txt)\n",
    "print(result)\n",
    "if result:\n",
    "    print(\"Yes, there is at least one match!\")\n",
    "else:\n",
    "    print(\"No match\")"
   ]
  },
  {
   "cell_type": "code",
   "execution_count": 26,
   "id": "9993b193",
   "metadata": {},
   "outputs": [
    {
     "name": "stdout",
     "output_type": "stream",
     "text": [
      "['falls']\n",
      "Yes, there is at least one match!\n"
     ]
    }
   ],
   "source": [
    "\"\"\"範例九：字串包含falls或是stays\"\"\"\n",
    "import re\n",
    "txt = 'The rain in Spain falls mainly in the plain!'\n",
    "result = re.findall(r\"falls|stays\",txt)\n",
    "print(result)\n",
    "\n",
    "if result:\n",
    "    print('Yes, there is at least one match!')\n",
    "else:\n",
    "    print('No match') "
   ]
  },
  {
   "cell_type": "code",
   "execution_count": 1,
   "id": "21ae8cac",
   "metadata": {},
   "outputs": [
    {
     "name": "stdout",
     "output_type": "stream",
     "text": [
      "The first white-space character is located in position: 3\n"
     ]
    }
   ],
   "source": [
    "#search()\n",
    "\"\"\"找出第一個空白字元的位置\"\"\"\n",
    "import re\n",
    "\n",
    "txt = 'The rain in Spain'\n",
    "result = re.search(r\"\\s\",txt)#空白鍵也可以\n",
    "print(r'The first white-space character is located in position:',\n",
    "      result.start())\n"
   ]
  },
  {
   "cell_type": "code",
   "execution_count": 30,
   "id": "d77a03d4",
   "metadata": {},
   "outputs": [
    {
     "name": "stdout",
     "output_type": "stream",
     "text": [
      "None\n"
     ]
    }
   ],
   "source": [
    "\"\"\"找出Portugal是否出現在字串中\"\"\"\n",
    "import re\n",
    "\n",
    "txt = 'The rain in Spain'\n",
    "result = re.search(r\"Portugal\",txt)\n",
    "print(result)"
   ]
  },
  {
   "cell_type": "code",
   "execution_count": 33,
   "id": "4c911d64",
   "metadata": {},
   "outputs": [
    {
     "data": {
      "text/plain": [
       "['The', 'rain', 'in', 'Spain']"
      ]
     },
     "execution_count": 33,
     "metadata": {},
     "output_type": "execute_result"
    }
   ],
   "source": [
    "#split\n",
    "\"\"\"使用空白字元分割字串\"\"\"\n",
    "import re\n",
    "\n",
    "txt = 'The rain in Spain'\n",
    "result = re.split(r\"\\s\",txt)#用space鍵也可以\n",
    "result"
   ]
  },
  {
   "cell_type": "code",
   "execution_count": 36,
   "id": "273cf985",
   "metadata": {},
   "outputs": [
    {
     "data": {
      "text/plain": [
       "['The', 'rain in Spain']"
      ]
     },
     "execution_count": 36,
     "metadata": {},
     "output_type": "execute_result"
    }
   ],
   "source": [
    "\"\"\"使用空白字元分割字串，並限制最大分割次數\"\"\"\n",
    "import re\n",
    "\n",
    "#Split the string at the first white-space character:\n",
    "\n",
    "txt = 'The rain in Spain'\n",
    "result = re.split(r\"\\s\",txt,1)\n",
    "result"
   ]
  },
  {
   "cell_type": "code",
   "execution_count": 38,
   "id": "d09ce163",
   "metadata": {},
   "outputs": [
    {
     "data": {
      "text/plain": [
       "'The9rain9in9Spain'"
      ]
     },
     "execution_count": 38,
     "metadata": {},
     "output_type": "execute_result"
    }
   ],
   "source": [
    "#sub\n",
    "\"\"\"使用9取代所有的空白字元\"\"\"\n",
    "import re\n",
    "\n",
    "#Replace all white-space characters with the digit '9':\n",
    "\n",
    "txt = 'The rain in Spain'\n",
    "\n",
    "result = re.sub(r\"\\s\",\"9\",txt)\n",
    "result"
   ]
  },
  {
   "cell_type": "code",
   "execution_count": 40,
   "id": "f7008fe3",
   "metadata": {},
   "outputs": [
    {
     "data": {
      "text/plain": [
       "'The9rain9in Spain'"
      ]
     },
     "execution_count": 40,
     "metadata": {},
     "output_type": "execute_result"
    }
   ],
   "source": [
    "\"\"\"使用9取代所有的空白字元，並限制最大的取代次數\"\"\"\n",
    "import re\n",
    "\n",
    "#Replace the first two occurrences of a white-space character with the digit 9:\n",
    "\n",
    "txt = 'The rain in Spain'\n",
    "\n",
    "result = re.sub(r\"\\s\",\"9\",txt,2)\n",
    "result"
   ]
  },
  {
   "cell_type": "code",
   "execution_count": null,
   "id": "68685e82",
   "metadata": {},
   "outputs": [],
   "source": [
    "#[^arn]:回傳任意字元，除了，a、r和n,注意要有[]，字串表開頭\n",
    "#[0-5][0-9]:回傳00~59之間的數字，十位數0~5，個位數0~9\n",
    "#[+]:回傳字串中的+號（+, *, ., `"
   ]
  },
  {
   "cell_type": "code",
   "execution_count": 44,
   "id": "f83188c8",
   "metadata": {},
   "outputs": [
    {
     "name": "stdout",
     "output_type": "stream",
     "text": [
      "[<div id=\"item-1\">牛肉乾</div>, <div id=\"item-2\">豬肉乾</div>, <div id=\"item-3\">羊肉乾</div>, <div id=\"item-4\">鳥肉乾</div>, <div id=\"item-5\">雞肉乾</div>]\n",
      "<div id=\"item-1\">牛肉乾</div>\n",
      "<div id=\"item-2\">豬肉乾</div>\n",
      "<div id=\"item-3\">羊肉乾</div>\n",
      "<div id=\"item-4\">鳥肉乾</div>\n",
      "<div id=\"item-5\">雞肉乾</div>\n"
     ]
    }
   ],
   "source": [
    "from bs4 import BeautifulSoup\n",
    "import re\n",
    "\n",
    "html_doc ='''\n",
    "<html>\n",
    "  <head>\n",
    "    <title>這是HTML文件標題</title>\n",
    "  </head>\n",
    "  <body>\n",
    "    <div id='item-1'>牛肉乾</div>\n",
    "    <div id='item-2'>豬肉乾</div>\n",
    "    <div id='item-3'>羊肉乾</div>\n",
    "    <div id='item-4'>鳥肉乾</div>\n",
    "    <div id='item-5'>雞肉乾</div>\n",
    "  </body>\n",
    "</html>\n",
    "'''\n",
    "\n",
    "# 建立BeautifulSoup物件解析HTML文件\n",
    "soup = BeautifulSoup(html_doc, 'lxml')\n",
    "items = soup.find_all(id=re.compile(r'^item'))\n",
    "print(items)\n",
    "for i in items: \n",
    "    print(i)"
   ]
  },
  {
   "cell_type": "code",
   "execution_count": null,
   "id": "d7dbd8c9",
   "metadata": {},
   "outputs": [],
   "source": [
    "r\"09\\d{8}\"\n",
    "#^09\\d{8}$"
   ]
  },
  {
   "cell_type": "code",
   "execution_count": 51,
   "id": "21bd4882",
   "metadata": {},
   "outputs": [
    {
     "name": "stdout",
     "output_type": "stream",
     "text": [
      "0912345678為手機號碼\n",
      "023456789不是手機號碼\n",
      "096312345不是手機號碼\n"
     ]
    }
   ],
   "source": [
    "import re\n",
    "\n",
    "phones = ['0912345678', '023456789', '096312345']\n",
    "\n",
    "for p in phones:\n",
    "    result = re.findall(r\"09\\d{8}\",p)\n",
    "    \n",
    "    if len(result) > 0:\n",
    "        print(p + \"為手機號碼\")\n",
    "    else:\n",
    "        print(p + \"不是手機號碼\")"
   ]
  },
  {
   "cell_type": "code",
   "execution_count": 57,
   "id": "3150b247",
   "metadata": {},
   "outputs": [
    {
     "name": "stdout",
     "output_type": "stream",
     "text": [
      "0912345678為手機號碼\n",
      "023456789不是手機號碼\n",
      "096312345不是手機號碼\n"
     ]
    }
   ],
   "source": [
    "import re\n",
    "\n",
    "phones = ['0912345678', '023456789', '096312345']\n",
    "\n",
    "for p in phones:\n",
    "    result = re.match(r\"^09\\d{8}$\",p)\n",
    "    \n",
    "    if result:\n",
    "        print(p + \"為手機號碼\")\n",
    "    else:\n",
    "        print(p + \"不是手機號碼\")"
   ]
  },
  {
   "cell_type": "code",
   "execution_count": 3,
   "id": "30e3280b",
   "metadata": {},
   "outputs": [
    {
     "name": "stdout",
     "output_type": "stream",
     "text": [
      "aaronho\n",
      "andyliu\n",
      "apple\n",
      "abner\n",
      "amberok\n"
     ]
    }
   ],
   "source": [
    "lis = [\"aaronho@gmail.com\",\n",
    "       \"andyliu@yahoo.com\",\n",
    "       \"apple@google.com\",\n",
    "       \"abner@microsoft.com\",\n",
    "       \"amberok@facebook.com\"]\n",
    "\n",
    "for mail in lis:\n",
    "    #print(mail)\n",
    "    result = re.search(r\"\\w+(?=@)\",mail)\n",
    "    print(result.group())"
   ]
  },
  {
   "cell_type": "code",
   "execution_count": 5,
   "id": "57aad7e0",
   "metadata": {},
   "outputs": [
    {
     "data": {
      "text/plain": [
       "['expression', 'ration', 'expression', 'operation', 'validation']"
      ]
     },
     "execution_count": 5,
     "metadata": {},
     "output_type": "execute_result"
    }
   ],
   "source": [
    "sentence = \"\"\"\n",
    "A regular expression (shortened as regex or regexp;also referred to as rational \n",
    "expression) is a sequence of characters that define a search pattern. Usually \n",
    "such patterns are used by string-searching algorithms for \"find\" or \"find and \n",
    "replace\" operations on strings, or for input validation. It is a technique \n",
    "developed in theoretical computer science and formal language theory.\n",
    "\"\"\"\n",
    "\n",
    "result = re.findall(r\"(\\w*tion|\\w*sion)\",sentence)\n",
    "result"
   ]
  }
 ],
 "metadata": {
  "kernelspec": {
   "display_name": "Python 3 (ipykernel)",
   "language": "python",
   "name": "python3"
  },
  "language_info": {
   "codemirror_mode": {
    "name": "ipython",
    "version": 3
   },
   "file_extension": ".py",
   "mimetype": "text/x-python",
   "name": "python",
   "nbconvert_exporter": "python",
   "pygments_lexer": "ipython3",
   "version": "3.10.9"
  }
 },
 "nbformat": 4,
 "nbformat_minor": 5
}
