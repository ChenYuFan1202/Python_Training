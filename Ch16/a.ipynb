{
 "cells": [
  {
   "cell_type": "code",
   "execution_count": 1,
   "id": "f379beb7",
   "metadata": {},
   "outputs": [
    {
     "name": "stdout",
     "output_type": "stream",
     "text": [
      "2\n"
     ]
    }
   ],
   "source": [
    "import re\n",
    "regexp = re.compile(\"hello\")\n",
    "count = 0\n",
    "file = open(\"textfile\",\"r\")\n",
    "for line in file.readlines():\n",
    "    if regexp.search(line):\n",
    "        count += 1\n",
    "#print(file.readlines())\n",
    "file.close()\n",
    "print(count)"
   ]
  },
  {
   "cell_type": "code",
   "execution_count": 9,
   "id": "fa97aa63",
   "metadata": {},
   "outputs": [
    {
     "name": "stdout",
     "output_type": "stream",
     "text": [
      "6\n"
     ]
    },
    {
     "data": {
      "text/plain": [
       "True"
      ]
     },
     "execution_count": 9,
     "metadata": {},
     "output_type": "execute_result"
    }
   ],
   "source": [
    "string = \"Hello world world\n",
    "\n"
   ]
  },
  {
   "cell_type": "code",
   "execution_count": 10,
   "id": "684f734a",
   "metadata": {},
   "outputs": [
    {
     "name": "stdout",
     "output_type": "stream",
     "text": [
      "3\n"
     ]
    }
   ],
   "source": [
    "import re\n",
    "count = 0\n",
    "regexp = re.compile(\"[Hh]ello\")#(\"(H|h)ello\")#(\"hello|Hello\")\n",
    "file = open(\"textfile\",\"r\")\n",
    "for line in file.readlines():\n",
    "    if regexp.search(line):\n",
    "        count += 1\n",
    "file.close()\n",
    "print(count)"
   ]
  },
  {
   "cell_type": "code",
   "execution_count": 10,
   "id": "4eb4a840",
   "metadata": {},
   "outputs": [
    {
     "data": {
      "text/plain": [
       "'[0-9A-Fa-f]'"
      ]
     },
     "execution_count": 10,
     "metadata": {},
     "output_type": "execute_result"
    }
   ],
   "source": [
    "import re\n",
    "#regexp = re.compile(\"[-5-5]\")\n",
    "regexp = re.compile(\"[0-9A-Fa-f]\")\n",
    "\n",
    "r\"-{0,1}[0-5]\"#這代表0-5的數字裡，負號出現的次數最少0次最多1次\n",
    " \n",
    "#---\n",
    "\n",
    "r\"[0-9A-Fa-f]\""
   ]
  },
  {
   "cell_type": "code",
   "execution_count": 19,
   "id": "f975db62",
   "metadata": {},
   "outputs": [
    {
     "name": "stdout",
     "output_type": "stream",
     "text": [
      "Hello\n",
      "Goodbye\n",
      "12345\n"
     ]
    },
    {
     "data": {
      "text/plain": [
       "'\\\\t to be\\\\n\\\\tor not to be'"
      ]
     },
     "execution_count": 19,
     "metadata": {},
     "output_type": "execute_result"
    }
   ],
   "source": [
    "print(r\"Hello\")\n",
    "print(R\"Goodbye\")\n",
    "print(r'''12345''')\n",
    "r\"\\t to be\\n\\tor not to be\""
   ]
  },
  {
   "cell_type": "code",
   "execution_count": 22,
   "id": "21d3bdd1",
   "metadata": {},
   "outputs": [
    {
     "name": "stdout",
     "output_type": "stream",
     "text": [
      "True\n",
      "True\n",
      "False\n",
      "\\the\n",
      "\the\n",
      "\\\\ten\n"
     ]
    }
   ],
   "source": [
    "print(r\"Hello\" == \"Hello\")\n",
    "print(r\"\\the\" == \"\\\\the\")\n",
    "print(r\"\\the\" == \"\\the\")\n",
    "print(r\"\\the\")\n",
    "print(\"\\the\")\n",
    "print(r\"\\\\ten\")\n",
    "#r\"\\\\ten\""
   ]
  },
  {
   "cell_type": "code",
   "execution_count": null,
   "id": "b0df2677",
   "metadata": {},
   "outputs": [],
   "source": [
    "import re\n",
    "regexp = re.compile(r\"[-a-zA-Z]+,\"\n",
    "                    r\" [-a-zA-Z]+\"\n",
    "                    r\"( [-a-zA-Z]+)?\"\n",
    "                    r\": (\\d{3}-)?\\d{3}-\\d{4}\")"
   ]
  },
  {
   "cell_type": "code",
   "execution_count": 23,
   "id": "64e3df2c",
   "metadata": {},
   "outputs": [
    {
     "name": "stdout",
     "output_type": "stream",
     "text": [
      "how couldyou\n"
     ]
    }
   ],
   "source": [
    "print(\"how could\"\\\n",
    "      \"you\")"
   ]
  },
  {
   "cell_type": "code",
   "execution_count": 53,
   "id": "4ccbf132",
   "metadata": {},
   "outputs": [
    {
     "name": "stdout",
     "output_type": "stream",
     "text": [
      "Name: Chen Yu Fan Number: 096-572-1130\n",
      "Name: Chen Hua Fan Number: 090-558-6603\n",
      "Name: PWOQEI  ASHIO Number: 654-9840\n"
     ]
    }
   ],
   "source": [
    "import re\n",
    "regexp = re.compile(r\"(?P<last>[-a-zA-Z]+),\"\n",
    "                    r\" (?P<first>[-a-zA-Z]+)\"\n",
    "                    r\"( (?P<middle>[-a-zA-Z]+))?\"\n",
    "                    r\": (?P<phone>(\\d{3}-)?\\d{3}-\\d{4})\"#[0-9]+也可以\n",
    "                   )\n",
    "file = open(\"information\",\"r\")\n",
    "for line in file.readlines():\n",
    "    result = regexp.search(line)\n",
    "    if result == None:\n",
    "        print(\"Oops, I don't think this is a record\")\n",
    "    else:\n",
    "        lastname = result.group(\"last\")\n",
    "        firstname = result.group(\"first\")\n",
    "        middlename = result.group(\"middle\")\n",
    "        if middlename == None:\n",
    "            middlename = \"\"\n",
    "        phonenumber = result.group(\"phone\")\n",
    "        print(\"Name:\",firstname,middlename,lastname,\"Number:\",phonenumber)\n",
    "file.close()"
   ]
  },
  {
   "cell_type": "code",
   "execution_count": null,
   "id": "8521fcb7",
   "metadata": {},
   "outputs": [],
   "source": [
    "import re\n",
    "r\": (?P<phone>(\\+\\d{2}-)?(\\d{3}-)?\\d{3}-\\d{4}\"\n",
    "r\": (?P<phone>(\\+\\d{1,3}-)?(\\d{3}-)?\\d{3}-\\d{4})\""
   ]
  },
  {
   "cell_type": "code",
   "execution_count": 46,
   "id": "d8aee1a3",
   "metadata": {},
   "outputs": [
    {
     "data": {
      "text/plain": [
       "': (?P<phone>(\\\\+\\\\d{2}-)?(\\\\d{3}-)?\\\\d{3}-\\\\d{4})'"
      ]
     },
     "execution_count": 46,
     "metadata": {},
     "output_type": "execute_result"
    }
   ],
   "source": [
    "import re\n",
    "regexp = re.compile(r\"(?P<last>[-a-zA-Z]+),\"\n",
    "                    r\" (?P<first>)[-a-zA-Z]+\"\n",
    "                    r\"( (?P<middle>[-a-zA-Z]+))?\"\n",
    "                    r\": ((?P<country>\\+\\d{2}-))?\"\n",
    "                    r\"(?P<phone>(\\d{3}-)?\\d{3}-\\d{4})\"\n",
    "                   )\n",
    "\n",
    "\n",
    "\n",
    "r\": (?P<phone>(\\+\\d{2}-)?(\\d{3}-)?\\d{3}-\\d{4})\"\n",
    "\n",
    "\n",
    "\n",
    "\n",
    "#因為match只會找一開始的字，search會找全部\n",
    "# re.match(r\": (?P<phone>(\\+\\d{2}-)?(\\d\\d\\d-)?\\d\\d\\d-\\d\\d\\d\\d)\", \": +01-111-222-3333\")\n",
    "\n",
    "# 或\n",
    "\n",
    "# re.match(r\": (?P<phone>(\\+\\d{2}-)?(\\d{3}-)?\\d{3}-\\d{4})\", \": +01-111-222-3333\")\n",
    "\n",
    "# re.search(r\": (?P<phone>(\\+\\d{0,3}-)?(\\d{3}-)?\\d{3}-\\d{4}\")\n",
    "# re.match(r\": (?P<phone>(\\+\\d{1,3}-)?(\\d{3}-)?\\d{3}-\\d{4})\", \": +011-111-222-3333\")"
   ]
  },
  {
   "cell_type": "code",
   "execution_count": 47,
   "id": "b590e288",
   "metadata": {},
   "outputs": [
    {
     "data": {
      "text/plain": [
       "'If the problem is textual, use the re module'"
      ]
     },
     "execution_count": 47,
     "metadata": {},
     "output_type": "execute_result"
    }
   ],
   "source": [
    "import re\n",
    "string = \"If the the problem is textual, use the the re module\"\n",
    "pattern = r\"the the\"\n",
    "regexp = re.compile(pattern)\n",
    "regexp.sub(\"the\",string)"
   ]
  },
  {
   "cell_type": "code",
   "execution_count": 5,
   "id": "aa8b892e",
   "metadata": {},
   "outputs": [
    {
     "name": "stdout",
     "output_type": "stream",
     "text": [
      "<re.Match object; span=(0, 1), match='1'>\n",
      ",\n",
      "<re.Match object; span=(2, 3), match='2'>\n",
      ",\n",
      "<re.Match object; span=(4, 5), match='3'>\n",
      ",\n",
      "<re.Match object; span=(6, 7), match='4'>\n",
      ",\n",
      "<re.Match object; span=(8, 9), match='5'>\n",
      ",\n"
     ]
    },
    {
     "data": {
      "text/plain": [
       "'1.0 2.0 3.0 4.0 5.0'"
      ]
     },
     "execution_count": 5,
     "metadata": {},
     "output_type": "execute_result"
    }
   ],
   "source": [
    "import re\n",
    "int_string = \"1 2 3 4 5\"\n",
    "def int_match_to_string(match_obj):\n",
    "    print(match_obj)\n",
    "    print(\",\")\n",
    "    return match_obj.group(\"num\") + \".0\"\n",
    "\n",
    "pattern = r\"(?P<num>[0-9]+)\"\n",
    "regexp = re.compile(pattern)\n",
    "regexp.sub(int_match_to_string,int_string)\n",
    "# re.sub(pattern,int_match_to_string,int_string)"
   ]
  },
  {
   "cell_type": "code",
   "execution_count": 8,
   "id": "2a681bb5",
   "metadata": {},
   "outputs": [
    {
     "data": {
      "text/plain": [
       "'+1 123-456-7890'"
      ]
     },
     "execution_count": 8,
     "metadata": {},
     "output_type": "execute_result"
    }
   ],
   "source": [
    "import re\n",
    "string = \"123-456-7890\"\n",
    "\n",
    "def myfun(match_object):\n",
    "    #print(match_object)\n",
    "    return \"+1 \" + match_object.group(\"phone\")\n",
    "\n",
    "re.sub(r\"(?P<phone>(\\d{3}-)?\\d{3}-\\d{4})\",myfun,string)"
   ]
  },
  {
   "cell_type": "code",
   "execution_count": 71,
   "id": "1e41c251",
   "metadata": {},
   "outputs": [
    {
     "data": {
      "text/plain": [
       "'+1 123-456-7890'"
      ]
     },
     "execution_count": 71,
     "metadata": {},
     "output_type": "execute_result"
    }
   ],
   "source": [
    "import re\n",
    "string = \"123-456-7890\"#\"456-7890\"\n",
    "pattern = r\"(?P<number>(\\d{3}-)?\\d{3}-\\d{4})\"\n",
    "regexp = re.compile(pattern)\n",
    "\n",
    "def myfun(num):\n",
    "    #print(num)\n",
    "    return \"+1 \" + num.group(\"number\")\n",
    "regexp.sub(myfun,string)"
   ]
  },
  {
   "cell_type": "code",
   "execution_count": 68,
   "id": "997a6556",
   "metadata": {},
   "outputs": [
    {
     "data": {
      "text/plain": [
       "'+1 111-222-3333'"
      ]
     },
     "execution_count": 68,
     "metadata": {},
     "output_type": "execute_result"
    }
   ],
   "source": [
    "def add_code(match_obj):\n",
    "    return(\"+1 \"+match_obj.group('phone'))\n",
    "\n",
    "re.sub(r\"(?P<phone>(\\d{3}-)?\\d{3}-\\d{4})\", add_code, \"111-222-3333\")"
   ]
  },
  {
   "cell_type": "code",
   "execution_count": 44,
   "id": "89a8db7a",
   "metadata": {},
   "outputs": [
    {
     "name": "stdout",
     "output_type": "stream",
     "text": [
      "1-223-456-7890\n",
      "\n",
      "1-223-456-7890\n",
      "\n",
      "1-223-456-7890\n",
      "\n",
      "1-223-456-7890\n",
      "\n",
      "1-223-456-7890\n",
      "\n",
      "1-223-456-7890\n",
      "\n"
     ]
    },
    {
     "ename": "ValueError",
     "evalue": "無效的電話號碼:111",
     "output_type": "error",
     "traceback": [
      "\u001b[1;31m---------------------------------------------------------------------------\u001b[0m",
      "\u001b[1;31mValueError\u001b[0m                                Traceback (most recent call last)",
      "\u001b[1;32m~\\AppData\\Local\\Temp/ipykernel_8028/1938273121.py\u001b[0m in \u001b[0;36m<module>\u001b[1;34m\u001b[0m\n\u001b[0;32m     26\u001b[0m \u001b[1;32mfor\u001b[0m \u001b[0mnumber\u001b[0m \u001b[1;32min\u001b[0m \u001b[0mfile\u001b[0m\u001b[1;33m.\u001b[0m\u001b[0mreadlines\u001b[0m\u001b[1;33m(\u001b[0m\u001b[1;33m)\u001b[0m\u001b[1;33m:\u001b[0m\u001b[1;33m\u001b[0m\u001b[1;33m\u001b[0m\u001b[0m\n\u001b[0;32m     27\u001b[0m     \u001b[1;31m#print(number)\u001b[0m\u001b[1;33m\u001b[0m\u001b[1;33m\u001b[0m\u001b[0m\n\u001b[1;32m---> 28\u001b[1;33m     \u001b[0mprint\u001b[0m\u001b[1;33m(\u001b[0m\u001b[0mregexp\u001b[0m\u001b[1;33m.\u001b[0m\u001b[0msub\u001b[0m\u001b[1;33m(\u001b[0m\u001b[0mmyfun\u001b[0m\u001b[1;33m,\u001b[0m\u001b[0mnumber\u001b[0m\u001b[1;33m)\u001b[0m\u001b[1;33m)\u001b[0m\u001b[1;33m\u001b[0m\u001b[1;33m\u001b[0m\u001b[0m\n\u001b[0m\u001b[0;32m     29\u001b[0m \u001b[1;33m\u001b[0m\u001b[0m\n\u001b[0;32m     30\u001b[0m \u001b[0mfile\u001b[0m\u001b[1;33m.\u001b[0m\u001b[0mclose\u001b[0m\u001b[1;33m(\u001b[0m\u001b[1;33m)\u001b[0m\u001b[1;33m\u001b[0m\u001b[1;33m\u001b[0m\u001b[0m\n",
      "\u001b[1;32m~\\AppData\\Local\\Temp/ipykernel_8028/1938273121.py\u001b[0m in \u001b[0;36mmyfun\u001b[1;34m(match_object)\u001b[0m\n\u001b[0;32m     10\u001b[0m \u001b[1;33m\u001b[0m\u001b[0m\n\u001b[0;32m     11\u001b[0m     \u001b[1;32mif\u001b[0m \u001b[1;32mnot\u001b[0m \u001b[0mre\u001b[0m\u001b[1;33m.\u001b[0m\u001b[0msearch\u001b[0m\u001b[1;33m(\u001b[0m\u001b[1;34mr\"[2-9][0-8]\\d\"\u001b[0m\u001b[1;33m,\u001b[0m\u001b[0mmatch_object\u001b[0m\u001b[1;33m.\u001b[0m\u001b[0mgroup\u001b[0m\u001b[1;33m(\u001b[0m\u001b[1;34m\"area\"\u001b[0m\u001b[1;33m)\u001b[0m\u001b[1;33m)\u001b[0m\u001b[1;33m:\u001b[0m\u001b[1;33m\u001b[0m\u001b[1;33m\u001b[0m\u001b[0m\n\u001b[1;32m---> 12\u001b[1;33m         \u001b[1;32mraise\u001b[0m \u001b[0mValueError\u001b[0m\u001b[1;33m(\u001b[0m\u001b[1;34m\"無效的電話號碼:{}\"\u001b[0m\u001b[1;33m.\u001b[0m\u001b[0mformat\u001b[0m\u001b[1;33m(\u001b[0m\u001b[0mmatch_object\u001b[0m\u001b[1;33m.\u001b[0m\u001b[0mgroup\u001b[0m\u001b[1;33m(\u001b[0m\u001b[1;34m\"area\"\u001b[0m\u001b[1;33m)\u001b[0m\u001b[1;33m)\u001b[0m\u001b[1;33m)\u001b[0m\u001b[1;33m\u001b[0m\u001b[1;33m\u001b[0m\u001b[0m\n\u001b[0m\u001b[0;32m     13\u001b[0m \u001b[1;33m\u001b[0m\u001b[0m\n\u001b[0;32m     14\u001b[0m     \u001b[1;32mif\u001b[0m \u001b[1;32mnot\u001b[0m \u001b[0mre\u001b[0m\u001b[1;33m.\u001b[0m\u001b[0msearch\u001b[0m\u001b[1;33m(\u001b[0m\u001b[1;34mr\"[2-9]\\d{2}\"\u001b[0m\u001b[1;33m,\u001b[0m\u001b[0mmatch_object\u001b[0m\u001b[1;33m.\u001b[0m\u001b[0mgroup\u001b[0m\u001b[1;33m(\u001b[0m\u001b[1;34m\"exc\"\u001b[0m\u001b[1;33m)\u001b[0m\u001b[1;33m)\u001b[0m\u001b[1;33m:\u001b[0m\u001b[1;33m\u001b[0m\u001b[1;33m\u001b[0m\u001b[0m\n",
      "\u001b[1;31mValueError\u001b[0m: 無效的電話號碼:111"
     ]
    }
   ],
   "source": [
    "import re\n",
    "file = open(\"phonenumber\",\"r\")\n",
    "\n",
    "pattern = r\"(\\+)?(?P<country>\\d)?([- ])?\\(?(?P<area>\\d{3})\\)?([- .])?(?P<exc>\\d{3})([- .])?(?P<machine>\\d{4})\"\n",
    "#[- .]那些可以用.來取代\n",
    "regexp = re.compile(pattern)\n",
    "\n",
    "def myfun(match_object):\n",
    "    #print(match_object)\n",
    "    \n",
    "    if not re.search(r\"[2-9][0-8]\\d\",match_object.group(\"area\")):\n",
    "        raise ValueError(\"無效的電話號碼:{}\".format(match_object.group(\"area\")))\n",
    "\n",
    "    if not re.search(r\"[2-9]\\d{2}\",match_object.group(\"exc\")):\n",
    "        raise ValueError(\"無效的電話號碼:{}\".format(match_object.group(\"exc\")))\n",
    "        \n",
    "    country = match_object.group(\"country\")\n",
    "    #print(country)\n",
    "    if not country:\n",
    "        return \"{}-{}-{}-{}\".format(1,match_object.group(\"area\"),match_object.group(\"exc\"),\n",
    "                                      match_object.group(\"machine\"))\n",
    "    else:\n",
    "        return \"{}-{}-{}-{}\".format(match_object.group(\"country\"),match_object.group(\"area\"),\n",
    "                                    match_object.group(\"exc\"),match_object.group(\"machine\"))\n",
    "    \n",
    "for number in file.readlines():\n",
    "    #print(number)\n",
    "    print(regexp.sub(myfun,number))\n",
    "    \n",
    "file.close()"
   ]
  },
  {
   "cell_type": "code",
   "execution_count": 156,
   "id": "fddd27f1",
   "metadata": {},
   "outputs": [
    {
     "name": "stdout",
     "output_type": "stream",
     "text": [
      "1-223-456-7890\n",
      "1-223-456-7890\n",
      "1-223-456-7890\n",
      "1-223-456-7890\n",
      "1-223-456-7890\n",
      "1-223-456-7890\n"
     ]
    },
    {
     "ename": "ValueError",
     "evalue": "invalid phone number exchange 111",
     "output_type": "error",
     "traceback": [
      "\u001b[1;31m---------------------------------------------------------------------------\u001b[0m",
      "\u001b[1;31mValueError\u001b[0m                                Traceback (most recent call last)",
      "Cell \u001b[1;32mIn[156], line 30\u001b[0m\n\u001b[0;32m     27\u001b[0m regexp \u001b[38;5;241m=\u001b[39m re\u001b[38;5;241m.\u001b[39mcompile(\u001b[38;5;124mr\u001b[39m\u001b[38;5;124m\"\u001b[39m\u001b[38;5;124m\\\u001b[39m\u001b[38;5;124m+?(?P<country>\u001b[39m\u001b[38;5;124m\\\u001b[39m\u001b[38;5;124md\u001b[39m\u001b[38;5;124m{\u001b[39m\u001b[38;5;124m1,3})?[- .]?\u001b[39m\u001b[38;5;124m\\\u001b[39m\u001b[38;5;124m(?(?P<area>\u001b[39m\u001b[38;5;124m\\\u001b[39m\u001b[38;5;124md\u001b[39m\u001b[38;5;132;01m{3}\u001b[39;00m\u001b[38;5;124m)\u001b[39m\u001b[38;5;124m\\\u001b[39m\u001b[38;5;124m)?[- .](?P<exch>(\u001b[39m\u001b[38;5;124m\\\u001b[39m\u001b[38;5;124md\u001b[39m\u001b[38;5;132;01m{3}\u001b[39;00m\u001b[38;5;124m))[- .](?P<number>\u001b[39m\u001b[38;5;124m\\\u001b[39m\u001b[38;5;124md\u001b[39m\u001b[38;5;132;01m{4}\u001b[39;00m\u001b[38;5;124m)\u001b[39m\u001b[38;5;124m\"\u001b[39m)\n\u001b[0;32m     29\u001b[0m \u001b[38;5;28;01mfor\u001b[39;00m number \u001b[38;5;129;01min\u001b[39;00m test_numbers:\n\u001b[1;32m---> 30\u001b[0m     \u001b[38;5;28mprint\u001b[39m(\u001b[43mregexp\u001b[49m\u001b[38;5;241;43m.\u001b[39;49m\u001b[43msub\u001b[49m\u001b[43m(\u001b[49m\u001b[43mreturn_number\u001b[49m\u001b[43m,\u001b[49m\u001b[43m \u001b[49m\u001b[43mnumber\u001b[49m\u001b[43m)\u001b[49m)\n",
      "Cell \u001b[1;32mIn[156], line 15\u001b[0m, in \u001b[0;36mreturn_number\u001b[1;34m(match_obj)\u001b[0m\n\u001b[0;32m     12\u001b[0m     \u001b[38;5;28;01mraise\u001b[39;00m \u001b[38;5;167;01mValueError\u001b[39;00m(\u001b[38;5;124m\"\u001b[39m\u001b[38;5;124minvalid phone number area code \u001b[39m\u001b[38;5;132;01m{}\u001b[39;00m\u001b[38;5;124m\"\u001b[39m\u001b[38;5;241m.\u001b[39mformat(match_obj\u001b[38;5;241m.\u001b[39mgroup(\u001b[38;5;124m\"\u001b[39m\u001b[38;5;124marea\u001b[39m\u001b[38;5;124m\"\u001b[39m)))\n\u001b[0;32m     14\u001b[0m \u001b[38;5;28;01mif\u001b[39;00m \u001b[38;5;129;01mnot\u001b[39;00m re\u001b[38;5;241m.\u001b[39msearch(\u001b[38;5;124mr\u001b[39m\u001b[38;5;124m\"\u001b[39m\u001b[38;5;124m[2-9]\u001b[39m\u001b[38;5;124m\\\u001b[39m\u001b[38;5;124md\u001b[39m\u001b[38;5;124m\\\u001b[39m\u001b[38;5;124md\u001b[39m\u001b[38;5;124m\"\u001b[39m, match_obj\u001b[38;5;241m.\u001b[39mgroup(\u001b[38;5;124m\"\u001b[39m\u001b[38;5;124mexch\u001b[39m\u001b[38;5;124m\"\u001b[39m) ):\n\u001b[1;32m---> 15\u001b[0m     \u001b[38;5;28;01mraise\u001b[39;00m \u001b[38;5;167;01mValueError\u001b[39;00m(\u001b[38;5;124m\"\u001b[39m\u001b[38;5;124minvalid phone number exchange \u001b[39m\u001b[38;5;132;01m{}\u001b[39;00m\u001b[38;5;124m\"\u001b[39m\u001b[38;5;241m.\u001b[39mformat(match_obj\u001b[38;5;241m.\u001b[39mgroup(\u001b[38;5;124m\"\u001b[39m\u001b[38;5;124mexch\u001b[39m\u001b[38;5;124m\"\u001b[39m)))\n\u001b[0;32m     17\u001b[0m country \u001b[38;5;241m=\u001b[39m match_obj\u001b[38;5;241m.\u001b[39mgroup(\u001b[38;5;124m\"\u001b[39m\u001b[38;5;124mcountry\u001b[39m\u001b[38;5;124m\"\u001b[39m)\n\u001b[0;32m     18\u001b[0m \u001b[38;5;28;01mif\u001b[39;00m \u001b[38;5;129;01mnot\u001b[39;00m country:\n",
      "\u001b[1;31mValueError\u001b[0m: invalid phone number exchange 111"
     ]
    }
   ],
   "source": [
    "test_numbers = [\"+1 223-456-7890\",\n",
    "                \"1-223-456-7890\",\n",
    "                \"+1 223 456-7890\",\n",
    "                \"(223) 456-7890\",\n",
    "                \"1 223 456 7890\",\n",
    "                \"223.456.7890\",\n",
    "                \"1-989-111-2222\"]\n",
    "\n",
    "def return_number(match_obj):\n",
    "    # validate number raise ValueError if not valid\n",
    "    if not re.search(r\"[2-9][0-8]\\d\", match_obj.group(\"area\") ): \n",
    "        raise ValueError(\"invalid phone number area code {}\".format(match_obj.group(\"area\")))\n",
    "\n",
    "    if not re.search(r\"[2-9]\\d\\d\", match_obj.group(\"exch\") ):\n",
    "        raise ValueError(\"invalid phone number exchange {}\".format(match_obj.group(\"exch\")))\n",
    "        \n",
    "    country = match_obj.group(\"country\")\n",
    "    if not country:\n",
    "        country = \"1\"\n",
    "        \n",
    "    return(\"{}-{}-{}-{}\".format(country, match_obj.group('area'), \n",
    "                                match_obj.group('exch'), \n",
    "                                match_obj.group('number')))\n",
    "    \n",
    "\n",
    "                    \n",
    "regexp = re.compile(r\"\\+?(?P<country>\\d{1,3})?[- .]?\\(?(?P<area>\\d{3})\\)?[- .](?P<exch>(\\d{3}))[- .](?P<number>\\d{4})\")\n",
    "\n",
    "for number in test_numbers:\n",
    "    print(regexp.sub(return_number, number))\n",
    "\n",
    "\n"
   ]
  },
  {
   "cell_type": "code",
   "execution_count": 17,
   "id": "9bc3e056",
   "metadata": {},
   "outputs": [
    {
     "data": {
      "text/plain": [
       "'12 34'"
      ]
     },
     "execution_count": 17,
     "metadata": {},
     "output_type": "execute_result"
    }
   ],
   "source": [
    "import re\n",
    "string = \"12 34\"\n",
    "regexp = re.compile(r\"(?P<test>[0-9]+ [0-9]{2})\")#也可以\\s\n",
    "regexp.search(string).group(\"test\")"
   ]
  },
  {
   "cell_type": "code",
   "execution_count": 160,
   "id": "203b2594",
   "metadata": {},
   "outputs": [
    {
     "name": "stdout",
     "output_type": "stream",
     "text": [
      "[('0930', '919', '231'), ('0930', '919', '321'), ('0930', '654', '321'), ('0930', '234', '561'), ('0930', '135', '246'), ('0930', '246', '351')]\n",
      "0930 919-231\n",
      "0930 919-321\n",
      "0930 654-321\n",
      "0930 234-561\n",
      "0930 135-246\n",
      "0930 246-351\n"
     ]
    }
   ],
   "source": [
    "msg = \"0930 919231, 0930919321, 0930 654-321, 0930-234561, 0930 135 246, 0930-246-351\"\n",
    "items = re.findall(\"(\\d{4}).?(\\d{3}).?(\\d{3})\", msg)#.為除了新行符號外的任意字元\n",
    "print(items)#findall會傳回list\n",
    "for it in items:\n",
    "    print(it[0], ' ', it[1], '-', it[2], sep=\"\")"
   ]
  },
  {
   "cell_type": "code",
   "execution_count": 15,
   "id": "5efb157c",
   "metadata": {},
   "outputs": [
    {
     "name": "stdout",
     "output_type": "stream",
     "text": [
      "[('0930', '919', '231'), ('0930', '919', '321'), ('0930', '654', '321'), ('0930', '234', '561'), ('0930', '135', '246'), ('0930', '246', '351')]\n",
      "0930-919-231\n",
      "0930-919-321\n",
      "0930-654-321\n",
      "0930-234-561\n",
      "0930-135-246\n",
      "0930-246-351\n"
     ]
    }
   ],
   "source": [
    "import re\n",
    "msg = \"0930 919231, 0930919321, 0930 654-321, 0930-234561, 0930 135 246, 0930-246-351\"\n",
    "pattern = r\"(\\d{4}).?(\\d{3}).?(\\d{3})\"\n",
    "item = re.findall(pattern,msg)\n",
    "print(item)\n",
    "for i in item:\n",
    "    print(i[0],\"-\",i[1],\"-\",i[2],sep = \"\")"
   ]
  }
 ],
 "metadata": {
  "kernelspec": {
   "display_name": "Python 3 (ipykernel)",
   "language": "python",
   "name": "python3"
  },
  "language_info": {
   "codemirror_mode": {
    "name": "ipython",
    "version": 3
   },
   "file_extension": ".py",
   "mimetype": "text/x-python",
   "name": "python",
   "nbconvert_exporter": "python",
   "pygments_lexer": "ipython3",
   "version": "3.10.9"
  }
 },
 "nbformat": 4,
 "nbformat_minor": 5
}
