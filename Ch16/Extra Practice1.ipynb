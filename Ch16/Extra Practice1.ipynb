{
 "cells": [
  {
   "cell_type": "code",
   "execution_count": 2,
   "id": "5d8f63ab",
   "metadata": {},
   "outputs": [
    {
     "name": "stdout",
     "output_type": "stream",
     "text": [
      "<re.Match object; span=(21, 33), match='02-8888-1688'>\n",
      "group(): 02-8888-1688\n",
      "span(): (21, 33)\n",
      "start(): 21\n",
      "end(): 33\n"
     ]
    },
    {
     "data": {
      "text/plain": [
       "'Please call David at 02-8888-1688 by today.\\r\\n02-9888-9898 is his office number.'"
      ]
     },
     "execution_count": 2,
     "metadata": {},
     "output_type": "execute_result"
    }
   ],
   "source": [
    "\"\"\"用search來找，會找全部並會傳回第一個符合的\"\"\"\n",
    "import re\n",
    "# regexp = re.compile(r\"(?P<phone>\\d{2}-\\d{4}-\\d{4})\")\n",
    "regexp = re.compile(r\"\\d{2}-\\d{4}-\\d{4}\")\n",
    "string = \"Please call David at 02-8888-1688 by today.\\r\\n02-9888-9898 is his office number.\"\n",
    "result = regexp.search(string)\n",
    "print(result)\n",
    "print(\"group():\",result.group())\n",
    "print(\"span():\",result.span())\n",
    "print(\"start():\",result.start())\n",
    "print(\"end():\",result.end())\n",
    "#string"
   ]
  },
  {
   "cell_type": "code",
   "execution_count": 10,
   "id": "ceda80fd",
   "metadata": {},
   "outputs": [
    {
     "name": "stdout",
     "output_type": "stream",
     "text": [
      "None\n"
     ]
    }
   ],
   "source": [
    "\"\"\"用match來找，只會找開頭的部分\"\"\"\n",
    "regexp = re.compile(r\"\\d{2}-\\d{4}-\\d{4}\")\n",
    "string = \"Please call David at 02-8888-1688 by today.\\r\\n02-9888-9898 is his office number.\"\n",
    "result = regexp.match(string)\n",
    "print(result)\n",
    "\n",
    "\n"
   ]
  },
  {
   "cell_type": "code",
   "execution_count": 2,
   "id": "0e90e0fd",
   "metadata": {},
   "outputs": [
    {
     "name": "stdout",
     "output_type": "stream",
     "text": [
      "02-9888-9898\n"
     ]
    }
   ],
   "source": [
    "import re\n",
    "regexp = re.compile(r'\\d{2}-\\d{4}-\\d{4}')\n",
    "\n",
    "string = \"02-9888-9898 is his office number.\"\n",
    "\n",
    "result = regexp.match(string)\n",
    "print(result.group())"
   ]
  },
  {
   "cell_type": "code",
   "execution_count": 18,
   "id": "db19d289",
   "metadata": {},
   "outputs": [
    {
     "data": {
      "text/plain": [
       "['02-8888-1688', '02-9888-9898']"
      ]
     },
     "execution_count": 18,
     "metadata": {},
     "output_type": "execute_result"
    }
   ],
   "source": [
    "\"\"\"用findall，會找到全部並傳回串列\"\"\"\n",
    "regexp = re.compile(r\"\\d{2}-\\d{4}-\\d{4}\")\n",
    "string = \"Please call David at 02-8888-1688 by today.\\r\\n02-9888-9898 is his office number.\"\n",
    "\n",
    "result = regexp.findall(string)\n",
    "result"
   ]
  },
  {
   "cell_type": "code",
   "execution_count": 22,
   "id": "2e042da7",
   "metadata": {},
   "outputs": [
    {
     "name": "stdout",
     "output_type": "stream",
     "text": [
      "group(): 02-8888-1688\n",
      "span(): (21, 33)\n",
      "start(): 21\n",
      "end(): 33\n",
      "\n",
      "group(): 02-9888-9898\n",
      "span(): (45, 57)\n",
      "start(): 45\n",
      "end(): 57\n",
      "\n"
     ]
    }
   ],
   "source": [
    "regexp = re.compile(r\"\\d{2}-\\d{4}-\\d{4}\")\n",
    "string = \"Please call David at 02-8888-1688 by today.\\r\\n02-9888-9898 is his office number.\"\n",
    "\n",
    "result = regexp.finditer(string)\n",
    "for match in result:\n",
    "    print(\"group():\",match.group())\n",
    "    print(\"span():\",match.span())\n",
    "    print(\"start():\",match.start())\n",
    "    print(\"end():\",match.end())\n",
    "    print()"
   ]
  },
  {
   "cell_type": "code",
   "execution_count": 8,
   "id": "15b33c8f",
   "metadata": {},
   "outputs": [
    {
     "data": {
      "text/plain": [
       "['abc']"
      ]
     },
     "execution_count": 8,
     "metadata": {},
     "output_type": "execute_result"
    }
   ],
   "source": [
    "import re\n",
    "string = (\"abc\")\n",
    "re.findall(re.compile(r\"[a|b|\\w]+\"), string)"
   ]
  },
  {
   "cell_type": "code",
   "execution_count": 40,
   "id": "30e1115a",
   "metadata": {},
   "outputs": [
    {
     "name": "stdout",
     "output_type": "stream",
     "text": [
      "0911111111\n",
      "886911111111\n"
     ]
    }
   ],
   "source": [
    "string = (\"0911111111,886911111111\")\n",
    "regexp = re.compile(r\"(886)?0?9\\d{8}\")#(886|0)?也可以\n",
    "result = regexp.finditer(string)\n",
    "for match in result:\n",
    "    print(match.group())\n",
    "    #print()"
   ]
  },
  {
   "cell_type": "code",
   "execution_count": 23,
   "id": "cf07c7bf",
   "metadata": {},
   "outputs": [
    {
     "data": {
      "text/plain": [
       "['0911111111', '6911111111']"
      ]
     },
     "execution_count": 23,
     "metadata": {},
     "output_type": "execute_result"
    }
   ],
   "source": [
    "string = (\"0911111111,886911111111\")\n",
    "regexp = re.compile(r\"[886]?0?9\\d{8}\")#(886|0)?也可以\n",
    "result = regexp.findall(string)\n",
    "result#有單一分組最好不要用findall，會有問題，除非全部都有分組"
   ]
  },
  {
   "cell_type": "code",
   "execution_count": 45,
   "id": "ce53b331",
   "metadata": {},
   "outputs": [
    {
     "data": {
      "text/plain": [
       "['J123110286', 'J123023233', 'M220574906']"
      ]
     },
     "execution_count": 45,
     "metadata": {},
     "output_type": "execute_result"
    }
   ],
   "source": [
    "regexp = re.compile(r\"[A-Z][12]\\d{8}\")\n",
    "string = \"J123110286,J123023233,M220574906,a32154654654,vick9120321\"\n",
    "result = regexp.findall(string)\n",
    "result"
   ]
  },
  {
   "cell_type": "code",
   "execution_count": 6,
   "id": "281009a2",
   "metadata": {},
   "outputs": [
    {
     "data": {
      "text/plain": [
       "['123456', '12', '7898']"
      ]
     },
     "execution_count": 6,
     "metadata": {},
     "output_type": "execute_result"
    }
   ],
   "source": [
    "string = \"123456 12 7898\"\n",
    "regexp = re.compile(r\"\\d{1,6}\")\n",
    "result = regexp.findall(string)\n",
    "result"
   ]
  },
  {
   "cell_type": "code",
   "execution_count": 5,
   "id": "18d2d355",
   "metadata": {},
   "outputs": [
    {
     "name": "stdout",
     "output_type": "stream",
     "text": [
      "02-8888-1688 (21, 33)\n",
      "02 (21, 23)\n",
      "8888 (24, 28)\n",
      "1688 (29, 33)\n",
      "('02-8888-1688', '02', '8888', '1688')\n"
     ]
    }
   ],
   "source": [
    "import re\n",
    "regexp = re.compile(r\"(\\d{2})-(\\d{4})-(\\d{4})\")\n",
    "string = \"Please call David at 02-8888-1688 by today.\\r\\n02-9888-9898 is his office number.\"\n",
    "result = regexp.search(string)\n",
    "print(result.group(0),result.span(0))#有沒有0是一樣的\n",
    "print(result.group(1),result.span(1))\n",
    "print(result.group(2),result.span(2))\n",
    "print(result.group(3),result.span(3))\n",
    "print(result.group(0,1,2,3))"
   ]
  },
  {
   "cell_type": "code",
   "execution_count": 10,
   "id": "e54be7e0",
   "metadata": {},
   "outputs": [
    {
     "name": "stdout",
     "output_type": "stream",
     "text": [
      "[('02', '8888', '1688'), ('02', '9888', '9898')]\n"
     ]
    }
   ],
   "source": [
    "import re\n",
    "regexp = re.compile(r\"(\\d{2})-(\\d{4})-(\\d{4})\")\n",
    "string = \"Please call David at 02-8888-1688 by today.\\r\\n02-9888-9898 is his office number.\"\n",
    "result = regexp.findall(string)\n",
    "print(result)\n"
   ]
  },
  {
   "cell_type": "code",
   "execution_count": 11,
   "id": "61729370",
   "metadata": {},
   "outputs": [
    {
     "name": "stdout",
     "output_type": "stream",
     "text": [
      "[('02', '8888'), ('02', '9888')]\n"
     ]
    }
   ],
   "source": [
    "\"\"\"不想搜尋到某括號的內容，用?:\"\"\"\n",
    "import re\n",
    "regexp = re.compile(r\"(\\d{2})-(\\d{4})-(?:\\d{4})\")\n",
    "string = \"Please call David at 02-8888-1688 by today.\\r\\n02-9888-9898 is his office number.\"\n",
    "result = regexp.findall(string)\n",
    "print(result)"
   ]
  },
  {
   "cell_type": "code",
   "execution_count": 25,
   "id": "15fb7735",
   "metadata": {},
   "outputs": [
    {
     "data": {
      "text/plain": [
       "['8888']"
      ]
     },
     "execution_count": 25,
     "metadata": {},
     "output_type": "execute_result"
    }
   ],
   "source": [
    "\"\"\"a(?=b) a後面必須是b\"\"\"\n",
    "regexp = re.compile(r\"\\d{4}(?=-1688)\")\n",
    "string = \"Please call David at 02-8888-1688 by today.\\r\\n02-9888-9898 is his office number.\"\n",
    "result = regexp.findall(string)\n",
    "result\n",
    "#需要注意的是放在(?= )裡的條件不會出現在結果裡"
   ]
  },
  {
   "cell_type": "code",
   "execution_count": 26,
   "id": "45d3b920",
   "metadata": {},
   "outputs": [
    {
     "data": {
      "text/plain": [
       "['1688', '9888', '9898']"
      ]
     },
     "execution_count": 26,
     "metadata": {},
     "output_type": "execute_result"
    }
   ],
   "source": [
    "\"\"\"a(?!b) a後面必須不是b\"\"\"\n",
    "regexp = re.compile(r\"\\d{4}(?!-1688)\")\n",
    "string = \"Please call David at 02-8888-1688 by today.\\r\\n02-9888-9898 is his office number.\"\n",
    "result = regexp.findall(string)\n",
    "result\n",
    "#a沒有出現"
   ]
  },
  {
   "cell_type": "code",
   "execution_count": 35,
   "id": "00a815f7",
   "metadata": {},
   "outputs": [
    {
     "name": "stdout",
     "output_type": "stream",
     "text": [
      "group(): 02-8888-1688\n",
      "group('first'): 02\n",
      "group('second'): 8888\n",
      "group('third'): 1688\n",
      "groupdict(): {'first': '02', 'second': '8888', 'third': '1688'}\n"
     ]
    }
   ],
   "source": [
    "\"\"\"(?P<first>…) 把分組命名為first\"\"\"\n",
    "\"\"\"除了能做為group等函數的參數外，用groupdict函數還能做為key輸出成字典\"\"\"\n",
    "regexp = re.compile(r\"(?P<first>\\d{2})-(?P<second>\\d{4})-(?P<third>\\d{4})\")\n",
    "string = \"Please call David at 02-8888-1688 by today.\\r\\n02-9888-9898 is his office number.\"\n",
    "result = regexp.search(string)\n",
    "print(\"group():\",result.group())\n",
    "print(\"group('first'):\",result.group(1))\n",
    "print(\"group('second'):\",result.group(\"second\"))\n",
    "print(\"group('third'):\",result.group(\"third\"))\n",
    "print(\"groupdict():\",result.groupdict())"
   ]
  },
  {
   "cell_type": "code",
   "execution_count": 17,
   "id": "c136ce28",
   "metadata": {},
   "outputs": [
    {
     "name": "stdout",
     "output_type": "stream",
     "text": [
      "group()\t\t: 02-8888-1688\n",
      "group(\"first\")\t: 02\n",
      "group(\"second\")\t: 8888\n",
      "group(\"third\")\t: 1688\n",
      "groupdict()\t: {'first': '02', 'second': '8888', 'third': '1688'}\n"
     ]
    }
   ],
   "source": [
    "Regex = re.compile(r'(?P<first>\\d{2})-(?P<second>\\d{4})-(?P<third>\\d{4})')\n",
    "\n",
    "str = \"Please call David at 02-8888-1688 by today.\\r\\n02-9888-9898 is his office number.\"\n",
    "result = Regex.search(str)\n",
    "print(\"group()\\t\\t:\",result.group())\n",
    "print(\"group(\\\"first\\\")\\t:\",result.group(\"first\"))\n",
    "print(\"group(\\\"second\\\")\\t:\",result.group(\"second\"))\n",
    "print(\"group(\\\"third\\\")\\t:\",result.group(\"third\"))\n",
    "print(\"groupdict()\\t:\",result.groupdict())\n",
    "#「\\t」是指製表符，代表著四個空格，也就是一個tab(table)，它的作用是對齊表格資料的各列，在不使用表格的情況下可以上下對齊。"
   ]
  }
 ],
 "metadata": {
  "kernelspec": {
   "display_name": "Python 3 (ipykernel)",
   "language": "python",
   "name": "python3"
  },
  "language_info": {
   "codemirror_mode": {
    "name": "ipython",
    "version": 3
   },
   "file_extension": ".py",
   "mimetype": "text/x-python",
   "name": "python",
   "nbconvert_exporter": "python",
   "pygments_lexer": "ipython3",
   "version": "3.9.7"
  }
 },
 "nbformat": 4,
 "nbformat_minor": 5
}
