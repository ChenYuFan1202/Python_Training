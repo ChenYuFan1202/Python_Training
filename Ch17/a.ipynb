{
 "cells": [
  {
   "cell_type": "code",
   "execution_count": 36,
   "id": "48c74e92",
   "metadata": {},
   "outputs": [
    {
     "name": "stdout",
     "output_type": "stream",
     "text": [
      "<html>\n",
      "<body>\n",
      " This is the body\n",
      "<p>\n",
      "this is some body text\n",
      "</p>\n",
      "</body>\n",
      "</html>\n",
      "\n"
     ]
    }
   ],
   "source": [
    "class Element:\n",
    "    def __init__(self,text = None,subelement = None):\n",
    "        self.text = text\n",
    "        self.subelement = subelement\n",
    "    def __str__(self):\n",
    "        value = \"<{}>\\n\".format(type(self).__name__)\n",
    "        if self.text:\n",
    "            value += \"{}\\n\".format(self.text)\n",
    "        if self.subelement:\n",
    "            value += \"{}\".format(self.subelement)#str(self.subelement)\n",
    "        value += \"</{}>\\n\".format(self.__class__.__name__)\n",
    "        return value\n",
    "        \n",
    "class html(Element):\n",
    "    def __init__(self,text = None, subelement = None):\n",
    "        super().__init__(text,subelement)\n",
    "    def __str__(self):\n",
    "        return super().__str__()\n",
    "\n",
    "class body(Element):\n",
    "    def __init__(self,text = None,subelement  = None):\n",
    "        super().__init__(text,subelement)\n",
    "    def __str__(self):\n",
    "        return super().__str__()\n",
    "    \n",
    "class p(Element):\n",
    "    def __init__(self,text = None,subelement = None):\n",
    "        super().__init__(text,subelement)\n",
    "    def __str__(self):\n",
    "        return super().__str__()\n",
    "    \n",
    "para = p(text = \"this is some body text\")\n",
    "doc_body = body(text = \" This is the body\",subelement = para)\n",
    "doc = html(subelement = doc_body)\n",
    "print(doc)"
   ]
  },
  {
   "cell_type": "code",
   "execution_count": 7,
   "id": "ca7a9c75",
   "metadata": {},
   "outputs": [
    {
     "name": "stdout",
     "output_type": "stream",
     "text": [
      "<class 'int'>\n",
      "<class 'list'>\n"
     ]
    }
   ],
   "source": [
    "print(type(5))\n",
    "print(type([\"hello\",\"goodbye\"]))"
   ]
  },
  {
   "cell_type": "code",
   "execution_count": 8,
   "id": "064dfdd5",
   "metadata": {},
   "outputs": [
    {
     "name": "stdout",
     "output_type": "stream",
     "text": [
      "True\n",
      "False\n"
     ]
    }
   ],
   "source": [
    "print(type(\"Hello\") == type(\"Goodbye\"))\n",
    "print(type(\"Hello\") == type(5))"
   ]
  },
  {
   "cell_type": "code",
   "execution_count": 9,
   "id": "7d6cd9e1",
   "metadata": {},
   "outputs": [
    {
     "name": "stdout",
     "output_type": "stream",
     "text": [
      "<class 'str'>\n",
      "True\n",
      "False\n"
     ]
    }
   ],
   "source": [
    "print(type(\"\"))\n",
    "s = \"Hello\"\n",
    "print(type(s) == str)\n",
    "print(type(s) == list)"
   ]
  },
  {
   "cell_type": "code",
   "execution_count": 5,
   "id": "d68c4464",
   "metadata": {},
   "outputs": [
    {
     "name": "stdout",
     "output_type": "stream",
     "text": [
      "<class '__main__.B'>\n",
      "<class '__main__.B'>\n",
      "True\n",
      "True\n",
      "(<class '__main__.A'>,)\n",
      "('2',)\n",
      "True\n"
     ]
    },
    {
     "data": {
      "text/plain": [
       "'B'"
      ]
     },
     "execution_count": 5,
     "metadata": {},
     "output_type": "execute_result"
    }
   ],
   "source": [
    "class A:\n",
    "    pass\n",
    "class B(A):\n",
    "    pass\n",
    "\n",
    "b = B()\n",
    "print(type(b))\n",
    "print(b.__class__)\n",
    "print(type(b) == b.__class__)\n",
    "b_class = b.__class__\n",
    "print(b_class == B)\n",
    "print(b_class.__bases__)\n",
    "print(tuple(\"2\"))#int等數字不能用在tuple，字串才可以\n",
    "print(b_class.__name__ == \"B\")\n",
    "b_class.__name__"
   ]
  },
  {
   "cell_type": "code",
   "execution_count": 6,
   "id": "611576ad",
   "metadata": {},
   "outputs": [
    {
     "name": "stdout",
     "output_type": "stream",
     "text": [
      "False\n",
      "False\n",
      "True\n",
      "True\n",
      "True\n",
      "False\n",
      "True\n",
      "True\n"
     ]
    }
   ],
   "source": [
    "class C:\n",
    "    pass\n",
    "class D(B):\n",
    "    pass\n",
    "class E(D):\n",
    "    pass\n",
    "\n",
    "x = 12\n",
    "c = C()\n",
    "d = D()\n",
    "e = E()\n",
    "\n",
    "print(isinstance(x,E))\n",
    "print(isinstance(c,E))\n",
    "print(isinstance(e,E))\n",
    "print(isinstance(e,D))\n",
    "print(isinstance(e,B))\n",
    "print(isinstance(d,E))\n",
    "\n",
    "y = 12\n",
    "print(isinstance(y,type(5)))\n",
    "print(isinstance(y,int))"
   ]
  },
  {
   "cell_type": "code",
   "execution_count": 14,
   "id": "409a31be",
   "metadata": {},
   "outputs": [
    {
     "name": "stdout",
     "output_type": "stream",
     "text": [
      "False\n",
      "True\n",
      "False\n",
      "True\n",
      "True\n",
      "True\n",
      "True\n"
     ]
    }
   ],
   "source": [
    "print(issubclass(C,D))\n",
    "print(issubclass(E,D))\n",
    "print(issubclass(D,E))#反過來就不行，都是繼承的在下(前)面，被繼承的在上(後)面\n",
    "print(issubclass(E,B))\n",
    "print(issubclass(e.__class__,D))\n",
    "print(issubclass(type(e),D))\n",
    "print(issubclass(D,D))"
   ]
  },
  {
   "cell_type": "code",
   "execution_count": 16,
   "id": "a2c49e3f",
   "metadata": {},
   "outputs": [
    {
     "name": "stdout",
     "output_type": "stream",
     "text": [
      "<class 'list'>\n",
      "True\n"
     ]
    }
   ],
   "source": [
    "x = []\n",
    "print(type(x))#可以加__name__\n",
    "print(isinstance(x,list))\n",
    "\n",
    "# if isinstance(x, list):\n",
    "#     print(\"is list\")\n",
    "\n",
    "# ---\n",
    "\n",
    "# 這是LBYL風格。\n",
    "\n",
    "# 你可以將動作包裝在try ...except區塊內，並捕獲TypeError異常，這種作法比較接近EAFP風格。"
   ]
  },
  {
   "cell_type": "code",
   "execution_count": 22,
   "id": "e555b849",
   "metadata": {},
   "outputs": [
    {
     "name": "stdout",
     "output_type": "stream",
     "text": [
      "['bar', 'foo', 'fox']\n",
      "['bar', 'foo', 'fox']\n",
      "['k1', 'k2', 'k3']\n",
      "['a', 'b', 'f', 'f', 'o', 'o', 'o', 'r', 'x']\n"
     ]
    }
   ],
   "source": [
    "print(sorted([\"foo\",\"bar\",\"fox\"]))\n",
    "print(sorted({\"foo\",\"bar\",\"fox\"}))\n",
    "print(sorted({\"k1\":\"foo\",\"k2\":\"bar\",\"k3\":\"fox\"}))\n",
    "print(sorted(\"foobarfox\"))"
   ]
  },
  {
   "cell_type": "code",
   "execution_count": 30,
   "id": "323fb152",
   "metadata": {},
   "outputs": [
    {
     "name": "stdout",
     "output_type": "stream",
     "text": [
      "10\n",
      "foobarfoobar\n",
      "[1, 2, 3, 4, 1, 2, 3, 4]\n",
      "calculate()發生錯誤: can't multiply sequence by non-int of type 'str'\n"
     ]
    }
   ],
   "source": [
    "def calculate(x,y,z):\n",
    "    return (x + y) * z\n",
    "\n",
    "print(calculate(3,2,2))\n",
    "print(calculate(\"foo\",\"bar\",2))\n",
    "print(calculate([1,2],[3,4],2))\n",
    "\n",
    "try:\n",
    "    print(calculate(\"foo\",\"bar\",\"fox\"))\n",
    "except TypeError as error:\n",
    "    print(\"calculate()發生錯誤:\",error)"
   ]
  },
  {
   "cell_type": "code",
   "execution_count": 13,
   "id": "d7d9222a",
   "metadata": {},
   "outputs": [
    {
     "name": "stdout",
     "output_type": "stream",
     "text": [
      "Output from __str__\n",
      "Output from __str__\n",
      "<__main__.C object at 0x00000205C8E80370>\n"
     ]
    }
   ],
   "source": [
    "class MyClass():\n",
    "    def __str__(self):\n",
    "        return \"Output from __str__\"\n",
    "    \n",
    "c = MyClass()\n",
    "print(c)\n",
    "print(\"{}\".format(c))#最上面的範例就是用這個\n",
    "c = C()\n",
    "print(c)"
   ]
  },
  {
   "cell_type": "code",
   "execution_count": 1,
   "id": "3dbc3583",
   "metadata": {},
   "outputs": [
    {
     "name": "stdout",
     "output_type": "stream",
     "text": [
      "Color: R=15, G=35, B=3\n"
     ]
    }
   ],
   "source": [
    "#import color_module\n",
    "from color_module import Color\n",
    "c = Color(15,35,3)\n",
    "print(c)"
   ]
  },
  {
   "cell_type": "code",
   "execution_count": 4,
   "id": "266e0f5d",
   "metadata": {},
   "outputs": [
    {
     "name": "stdout",
     "output_type": "stream",
     "text": [
      "0\n",
      "1\n",
      "2\n",
      "3\n",
      "4\n",
      "\n",
      "2\n"
     ]
    }
   ],
   "source": [
    "class MyList():\n",
    "    def __getitem__(self,index):\n",
    "        if index >= 5:\n",
    "            raise IndexError\n",
    "        return index\n",
    "    \n",
    "c = MyList()\n",
    "for n in c:\n",
    "    print(n)\n",
    "print()    \n",
    "print(c[2])"
   ]
  },
  {
   "cell_type": "code",
   "execution_count": 9,
   "id": "f9616350",
   "metadata": {},
   "outputs": [
    {
     "name": "stdout",
     "output_type": "stream",
     "text": [
      "<__main__.MyList object at 0x00000205CA48E9B0>\n",
      "[None, None, None]\n",
      "One\n"
     ]
    },
    {
     "data": {
      "text/plain": [
       "[None, 'One', None]"
      ]
     },
     "execution_count": 9,
     "metadata": {},
     "output_type": "execute_result"
    }
   ],
   "source": [
    "class MyList():\n",
    "    def __init__(self,length):\n",
    "        self.list = [None] * length\n",
    "    def __getitem__(self,index):\n",
    "        if index >= len(self.list):#用length會顯示沒有被define，因為不同區域空間\n",
    "            raise IndexError\n",
    "        return self.list[index]\n",
    "    def __setitem__(self,index,element):\n",
    "        self.list[index] = element\n",
    "        \n",
    "c = MyList(3)\n",
    "print(c)\n",
    "print(list(c))\n",
    "c[1] = \"One\"\n",
    "print(c[1])\n",
    "list(c)"
   ]
  },
  {
   "cell_type": "code",
   "execution_count": 6,
   "id": "49682e47",
   "metadata": {},
   "outputs": [
    {
     "data": {
      "text/plain": [
       "[None, None, None, None, None]"
      ]
     },
     "execution_count": 6,
     "metadata": {},
     "output_type": "execute_result"
    }
   ],
   "source": [
    "lis = [None] * 5\n",
    "lis"
   ]
  },
  {
   "cell_type": "code",
   "execution_count": 21,
   "id": "4c4d6d84",
   "metadata": {},
   "outputs": [
    {
     "data": {
      "text/plain": [
       "['List', 'of', 'strings']"
      ]
     },
     "execution_count": 21,
     "metadata": {},
     "output_type": "execute_result"
    }
   ],
   "source": [
    "class TypedList:\n",
    "    def __init__(self,example_element,initial_list = []):\n",
    "        self.type = type(example_element)\n",
    "        #self.list = initial_list這也可以\n",
    "        if not isinstance(initial_list,list):\n",
    "            raise TypeError(\"TypedList的第2個參數必須是list.\")\n",
    "        for element in initial_list:\n",
    "            if not isinstance(element,self.type):\n",
    "                raise TypeError(\"新元素的型別不允許加入此TypedList.\")\n",
    "        self.elements = initial_list[:]\n",
    "    \n",
    "x = TypedList(\"Hello\",[\"List\",\"of\",\"strings\"])\n",
    "x.elements"
   ]
  },
  {
   "cell_type": "code",
   "execution_count": 2,
   "id": "ddd81fd5",
   "metadata": {},
   "outputs": [
    {
     "name": "stdout",
     "output_type": "stream",
     "text": [
      "Hello There\n"
     ]
    },
    {
     "data": {
      "text/plain": [
       "('', '', 'Hello', 'There', '')"
      ]
     },
     "execution_count": 2,
     "metadata": {},
     "output_type": "execute_result"
    }
   ],
   "source": [
    "class TypedList:\n",
    "    def __init__(self,example_element,initial_list = []):\n",
    "        self.type = type(example_element)\n",
    "        if not isinstance(initial_list,list):\n",
    "            raise TypeError(\"TypedList的第2個參數必須是list.\")\n",
    "        for element in initial_list:\n",
    "            self.__check(element)\n",
    "        self.elements = initial_list[:]\n",
    "        \n",
    "    def __check(self,element):\n",
    "        if type(element) != self.type:\n",
    "            raise TypeError(\"新元素的型別不允許加入此TypeList.\")\n",
    "#         if not isinstance(element,self.type):\n",
    "#                 raise TypeError(\"新元素的型別不允許加入此TypeList.\")#也可以\n",
    "            \n",
    "    def __setitem__(self,i,element):\n",
    "        self.__check(element)\n",
    "        self.elements[i] = element\n",
    "        \n",
    "    def __getitem__(self,i):\n",
    "#         if i >= len(self.elements):\n",
    "#             raise IndexError\n",
    "        return self.elements[i]\n",
    "\n",
    "x = TypedList(\"\",5 * [\"\"])\n",
    "x[2] = \"Hello\"\n",
    "x[3] = \"There\"\n",
    "print(x[2] + \" \" + x[3])\n",
    "# print(x[5])\n",
    "a,b,c,d,e = x\n",
    "a,b,c,d,e"
   ]
  },
  {
   "cell_type": "code",
   "execution_count": 32,
   "id": "4f02d865",
   "metadata": {},
   "outputs": [
    {
     "ename": "TypeError",
     "evalue": "新元素的型別不允許加入此TypeList.",
     "output_type": "error",
     "traceback": [
      "\u001b[1;31m---------------------------------------------------------------------------\u001b[0m",
      "\u001b[1;31mTypeError\u001b[0m                                 Traceback (most recent call last)",
      "Cell \u001b[1;32mIn[32], line 1\u001b[0m\n\u001b[1;32m----> 1\u001b[0m x[\u001b[38;5;241m1\u001b[39m] \u001b[38;5;241m=\u001b[39m \u001b[38;5;241m123\u001b[39m\n",
      "Cell \u001b[1;32mIn[31], line 17\u001b[0m, in \u001b[0;36mTypedList.__setitem__\u001b[1;34m(self, i, element)\u001b[0m\n\u001b[0;32m     16\u001b[0m \u001b[38;5;28;01mdef\u001b[39;00m \u001b[38;5;21m__setitem__\u001b[39m(\u001b[38;5;28mself\u001b[39m,i,element):\n\u001b[1;32m---> 17\u001b[0m     \u001b[38;5;28;43mself\u001b[39;49m\u001b[38;5;241;43m.\u001b[39;49m\u001b[43m__check\u001b[49m\u001b[43m(\u001b[49m\u001b[43melement\u001b[49m\u001b[43m)\u001b[49m\n\u001b[0;32m     18\u001b[0m     \u001b[38;5;28mself\u001b[39m\u001b[38;5;241m.\u001b[39melements[i] \u001b[38;5;241m=\u001b[39m element\n",
      "Cell \u001b[1;32mIn[31], line 12\u001b[0m, in \u001b[0;36mTypedList.__check\u001b[1;34m(self, element)\u001b[0m\n\u001b[0;32m     10\u001b[0m \u001b[38;5;28;01mdef\u001b[39;00m \u001b[38;5;21m__check\u001b[39m(\u001b[38;5;28mself\u001b[39m,element):\n\u001b[0;32m     11\u001b[0m     \u001b[38;5;28;01mif\u001b[39;00m \u001b[38;5;28mtype\u001b[39m(element) \u001b[38;5;241m!=\u001b[39m \u001b[38;5;28mself\u001b[39m\u001b[38;5;241m.\u001b[39mtype:\n\u001b[1;32m---> 12\u001b[0m         \u001b[38;5;28;01mraise\u001b[39;00m \u001b[38;5;167;01mTypeError\u001b[39;00m(\u001b[38;5;124m\"\u001b[39m\u001b[38;5;124m新元素的型別不允許加入此TypeList.\u001b[39m\u001b[38;5;124m\"\u001b[39m)\n",
      "\u001b[1;31mTypeError\u001b[0m: 新元素的型別不允許加入此TypeList."
     ]
    }
   ],
   "source": [
    "x[1] = 123"
   ]
  },
  {
   "cell_type": "code",
   "execution_count": 40,
   "id": "5137c92a",
   "metadata": {},
   "outputs": [
    {
     "name": "stdout",
     "output_type": "stream",
     "text": [
      "[1, 2, [3, 4], 3, 4]\n"
     ]
    }
   ],
   "source": [
    "a = [1,2]\n",
    "b = [3,4]\n",
    "a.append(b)\n",
    "a.extend(b)\n",
    "print(a)"
   ]
  },
  {
   "cell_type": "code",
   "execution_count": 20,
   "id": "b341f8f3",
   "metadata": {},
   "outputs": [
    {
     "name": "stdout",
     "output_type": "stream",
     "text": [
      "<__main__.TypedList object at 0x0000029AEB6AED70>\n",
      "['', '', '', '', '']\n",
      "['', 'Please', '', 'Stop', '']\n",
      "['', 'Please', '', 'Stop', '', 'Playing']\n",
      "5\n",
      "['', 'Please', '', 'Stop', 'Playing']\n"
     ]
    }
   ],
   "source": [
    "class TypedList:\n",
    "    def __init__(self,element_type,initial_list = []):\n",
    "        self.type = type(element_type)\n",
    "        if not isinstance(initial_list,list):\n",
    "            return TypeError(\"第二個參數必須是list.\")\n",
    "        for element in initial_list:\n",
    "            self.__check(element)\n",
    "        self.elements = initial_list[:]\n",
    "    \n",
    "    def __check(self,element):\n",
    "        if not isinstance(element,self.type):\n",
    "            raise TypeError(\"有元素的型別是不一致的\")\n",
    "            \n",
    "    def __setitem__(self,i,element):\n",
    "        self.__check(element)\n",
    "        self.elements[i] = element\n",
    "        \n",
    "    def __getitem__(self,i):\n",
    "        return self.elements[i]\n",
    "    \n",
    "    def append(self,element):\n",
    "        self.__check(element)\n",
    "        self.elements.append(element)\n",
    "        #self.elements = self.elements + [element]\n",
    "        \n",
    "    def __len__(self):\n",
    "        return len(self.elements)\n",
    "        \n",
    "    def __delitem__(self,index):\n",
    "        del self.elements[index]\n",
    "        \n",
    "x = TypedList(\"\",[\"\"] * 5)\n",
    "print(x)\n",
    "print(x[:])\n",
    "x[1] = \"Please\"\n",
    "x[3] = \"Stop\"\n",
    "print(list(x))#顯示的話這個比x和x[:]還要好\n",
    "x.append(\"Playing\")\n",
    "print(x.elements)\n",
    "# x.__delitem__(4)\n",
    "# print(x.__len__())\n",
    "del x[4]\n",
    "print(len(x))\n",
    "print(x.elements)"
   ]
  },
  {
   "cell_type": "code",
   "execution_count": 83,
   "id": "fd9ceead",
   "metadata": {},
   "outputs": [
    {
     "data": {
      "text/plain": [
       "['please']"
      ]
     },
     "execution_count": 83,
     "metadata": {},
     "output_type": "execute_result"
    }
   ],
   "source": [
    "a = [\"please\"]\n",
    "a = a + [\"stop\"]\n",
    "#a.remove(\"please\")\n",
    "del a[1]#可以是integer or slices\n",
    "a"
   ]
  },
  {
   "cell_type": "code",
   "execution_count": 18,
   "id": "dc161260",
   "metadata": {},
   "outputs": [
    {
     "name": "stdout",
     "output_type": "stream",
     "text": [
      "[1, 2, 3]\n",
      "3\n",
      "[1, 2, 3, 1]\n",
      "[1, 2, 1]\n"
     ]
    }
   ],
   "source": [
    "class TypedList:\n",
    "    def __init__(self, example_element, initial_list=[]):\n",
    "        self.type = type(example_element)\n",
    "        if not isinstance(initial_list, list):\n",
    "            raise TypeError(\"Second argument of TypedList must \" \n",
    "                            \"be a list.\")\n",
    "        for element in initial_list: \n",
    "            self.__check(element)\n",
    "        self.elements = initial_list[:]\n",
    "\n",
    "    def __check(self, element):\n",
    "        if type(element) != self.type:\n",
    "            raise TypeError(\"Attempted to add an element of \" \n",
    "                            \"incorrect type to a typed list.\")\n",
    "\n",
    "    def __setitem__(self, i, element):\n",
    "        self.__check(element)\n",
    "        self.elements[i] = element\n",
    "\n",
    "    def __getitem__(self, i):\n",
    "        return self.elements[i]\n",
    "\n",
    "    # added methods\n",
    "    def __delitem__(self, i):\n",
    "        del self.elements[i]\n",
    "\n",
    "    def __len__(self):\n",
    "        return len(self.elements)\n",
    "\n",
    "    def append(self, element):\n",
    "        self.__check(element)\n",
    "        self.elements.append(element)\n",
    "\n",
    "\n",
    "x = TypedList(1, [1,2,3])\n",
    "# print(list(x))\n",
    "print(x.elements)\n",
    "print(len(x))\n",
    "x.append(1)\n",
    "print(x.elements)\n",
    "del x[2]\n",
    "print(x.elements)"
   ]
  },
  {
   "cell_type": "code",
   "execution_count": 14,
   "id": "5f524af2",
   "metadata": {},
   "outputs": [
    {
     "name": "stdout",
     "output_type": "stream",
     "text": [
      "Hello There\n",
      "['', '', 'Hello', 'There', '', 'str', 'str', 'str']\n",
      "['', '', 'Hello', 'There', '']\n",
      "['', '', 'There', '']\n",
      "['', '', '', 'There']\n"
     ]
    },
    {
     "ename": "TypeError",
     "evalue": "新元素的型別不允許加入此TypedList.",
     "output_type": "error",
     "traceback": [
      "\u001b[1;31m---------------------------------------------------------------------------\u001b[0m",
      "\u001b[1;31mTypeError\u001b[0m                                 Traceback (most recent call last)",
      "Cell \u001b[1;32mIn[14], line 28\u001b[0m\n\u001b[0;32m     26\u001b[0m x\u001b[38;5;241m.\u001b[39msort()\n\u001b[0;32m     27\u001b[0m \u001b[38;5;28mprint\u001b[39m(\u001b[38;5;28mlist\u001b[39m(x))\n\u001b[1;32m---> 28\u001b[0m x[\u001b[38;5;241m1\u001b[39m] \u001b[38;5;241m=\u001b[39m \u001b[38;5;241m123\u001b[39m\n",
      "Cell \u001b[1;32mIn[14], line 15\u001b[0m, in \u001b[0;36mTypedListList.__setitem__\u001b[1;34m(self, i, element)\u001b[0m\n\u001b[0;32m     14\u001b[0m \u001b[38;5;28;01mdef\u001b[39;00m \u001b[38;5;21m__setitem__\u001b[39m(\u001b[38;5;28mself\u001b[39m,i,element):\n\u001b[1;32m---> 15\u001b[0m     \u001b[38;5;28;43mself\u001b[39;49m\u001b[38;5;241;43m.\u001b[39;49m\u001b[43m__check\u001b[49m\u001b[43m(\u001b[49m\u001b[43melement\u001b[49m\u001b[43m)\u001b[49m\n\u001b[0;32m     16\u001b[0m     \u001b[38;5;28msuper\u001b[39m()\u001b[38;5;241m.\u001b[39m\u001b[38;5;21m__setitem__\u001b[39m(i,element)\n",
      "Cell \u001b[1;32mIn[14], line 12\u001b[0m, in \u001b[0;36mTypedListList.__check\u001b[1;34m(self, element)\u001b[0m\n\u001b[0;32m     10\u001b[0m \u001b[38;5;28;01mdef\u001b[39;00m \u001b[38;5;21m__check\u001b[39m(\u001b[38;5;28mself\u001b[39m,element):\n\u001b[0;32m     11\u001b[0m     \u001b[38;5;28;01mif\u001b[39;00m \u001b[38;5;28mtype\u001b[39m(element) \u001b[38;5;241m!=\u001b[39m \u001b[38;5;28mself\u001b[39m\u001b[38;5;241m.\u001b[39mtype:\n\u001b[1;32m---> 12\u001b[0m         \u001b[38;5;28;01mraise\u001b[39;00m \u001b[38;5;167;01mTypeError\u001b[39;00m(\u001b[38;5;124m\"\u001b[39m\u001b[38;5;124m新元素的型別不允許加入此TypedList.\u001b[39m\u001b[38;5;124m\"\u001b[39m)\n",
      "\u001b[1;31mTypeError\u001b[0m: 新元素的型別不允許加入此TypedList."
     ]
    }
   ],
   "source": [
    "class TypedListList(list):\n",
    "    def __init__(self,example_element,initial_list = []):\n",
    "        self.type = type(example_element)\n",
    "        if not isinstance(initial_list,list):\n",
    "            raise TypeError(\"TypedList的第二個參數必須是list.\")\n",
    "        for element in initial_list:\n",
    "            self.__check(element)\n",
    "        super().__init__(initial_list)\n",
    "        \n",
    "    def __check(self,element):\n",
    "        if type(element) != self.type:\n",
    "            raise TypeError(\"新元素的型別不允許加入此TypedList.\")\n",
    "            \n",
    "    def __setitem__(self,i,element):\n",
    "        self.__check(element)\n",
    "        super().__setitem__(i,element)\n",
    "        \n",
    "x = TypedListList(\"\",5 * [\"\"])\n",
    "x[2] = \"Hello\"\n",
    "x[3] = \"There\"\n",
    "print(x[2] + \" \" + x[3])\n",
    "print(x + TypedListList(\"\",3 * [\"str\"]))\n",
    "print(x[:])\n",
    "del x[2]\n",
    "print(x[:])\n",
    "x.sort()\n",
    "print(list(x))\n",
    "x[1] = 123"
   ]
  },
  {
   "cell_type": "code",
   "execution_count": 24,
   "id": "320d3069",
   "metadata": {},
   "outputs": [
    {
     "name": "stdout",
     "output_type": "stream",
     "text": [
      "Hello There\n",
      "['', '', 'Hello', 'There', '']\n"
     ]
    },
    {
     "data": {
      "text/plain": [
       "('', '', 'Hello', 'There')"
      ]
     },
     "execution_count": 24,
     "metadata": {},
     "output_type": "execute_result"
    }
   ],
   "source": [
    "from collections import UserList\n",
    "class TypedUserList(UserList):\n",
    "    def __init__(self,example_element,initial_list = []):\n",
    "        self.type = type(example_element)\n",
    "        if not isinstance(initial_list,list):\n",
    "            raise TypedError(\"TypedList的第2個參數必須是list.\")\n",
    "        for element in initial_list:\n",
    "            self.__check(element)\n",
    "        super().__init__(initial_list)\n",
    "        \n",
    "    def __check(self,element):\n",
    "        if type(element) != self.type:\n",
    "            raise TypeError(\"新元素的型別不允許加入此TypedList.\")\n",
    "            \n",
    "    def __setitem__(self,i,element):\n",
    "        self.__check(element)\n",
    "        self.data[i] = element\n",
    "        \n",
    "    def __getitem(self,i):\n",
    "        return self.data[i]\n",
    "    \n",
    "x = TypedUserList(\"\",5 * [\"\"])\n",
    "x[2] = \"Hello\"\n",
    "x[3] = \"There\"\n",
    "print(x[2] + \" \" + x[3])\n",
    "a,b,c,d,e = x\n",
    "print(list(x))\n",
    "\n",
    "a,b,c,d"
   ]
  },
  {
   "cell_type": "code",
   "execution_count": 25,
   "id": "e12b95f9",
   "metadata": {},
   "outputs": [
    {
     "name": "stdout",
     "output_type": "stream",
     "text": [
      "['', '', 'There', '']\n",
      "['', '', '', 'There']\n"
     ]
    }
   ],
   "source": [
    "del x[2]\n",
    "print(list(x))\n",
    "x.sort()\n",
    "print(list(x))"
   ]
  },
  {
   "cell_type": "code",
   "execution_count": 29,
   "id": "f1826bbf",
   "metadata": {},
   "outputs": [
    {
     "data": {
      "text/plain": [
       "['ChainMap',\n",
       " 'Counter',\n",
       " 'OrderedDict',\n",
       " 'UserDict',\n",
       " 'UserList',\n",
       " 'UserString',\n",
       " '_Link',\n",
       " '_OrderedDictItemsView',\n",
       " '_OrderedDictKeysView',\n",
       " '_OrderedDictValuesView',\n",
       " '__all__',\n",
       " '__builtins__',\n",
       " '__cached__',\n",
       " '__doc__',\n",
       " '__file__',\n",
       " '__loader__',\n",
       " '__name__',\n",
       " '__package__',\n",
       " '__path__',\n",
       " '__spec__',\n",
       " '_chain',\n",
       " '_collections_abc',\n",
       " '_count_elements',\n",
       " '_eq',\n",
       " '_iskeyword',\n",
       " '_itemgetter',\n",
       " '_proxy',\n",
       " '_recursive_repr',\n",
       " '_repeat',\n",
       " '_starmap',\n",
       " '_sys',\n",
       " '_tuplegetter',\n",
       " 'abc',\n",
       " 'defaultdict',\n",
       " 'deque',\n",
       " 'namedtuple']"
      ]
     },
     "execution_count": 29,
     "metadata": {},
     "output_type": "execute_result"
    }
   ],
   "source": [
    "import collections\n",
    "dir(collections)"
   ]
  }
 ],
 "metadata": {
  "kernelspec": {
   "display_name": "Python 3 (ipykernel)",
   "language": "python",
   "name": "python3"
  },
  "language_info": {
   "codemirror_mode": {
    "name": "ipython",
    "version": 3
   },
   "file_extension": ".py",
   "mimetype": "text/x-python",
   "name": "python",
   "nbconvert_exporter": "python",
   "pygments_lexer": "ipython3",
   "version": "3.10.9"
  }
 },
 "nbformat": 4,
 "nbformat_minor": 5
}
