{
 "cells": [
  {
   "cell_type": "code",
   "execution_count": 2,
   "id": "b4c01c46",
   "metadata": {},
   "outputs": [
    {
     "name": "stdout",
     "output_type": "stream",
     "text": [
      "[1, 2, 3]\n",
      "2\n"
     ]
    }
   ],
   "source": [
    "m = [[1,2,3],[4,5,6],[7,8,9]]\n",
    "print(m[0])\n",
    "print(m[0][1])"
   ]
  },
  {
   "cell_type": "code",
   "execution_count": 18,
   "id": "06936bf8",
   "metadata": {},
   "outputs": [
    {
     "name": "stdout",
     "output_type": "stream",
     "text": [
      "[[0], 1]\n",
      "[['zero'], 1]\n",
      "[0]\n",
      "[[0], 1]\n",
      "[[0], 1]\n"
     ]
    }
   ],
   "source": [
    "nested = [0]\n",
    "original = [nested,1]\n",
    "print(original)\n",
    "nested[0] = \"zero\"\n",
    "print(original)\n",
    "original[0][0] = 0\n",
    "print(nested)\n",
    "print(original)\n",
    "nested = [2]\n",
    "#original[0][0] = \"two\"\n",
    "print(original)"
   ]
  },
  {
   "cell_type": "code",
   "execution_count": 23,
   "id": "e35af69e",
   "metadata": {},
   "outputs": [
    {
     "name": "stdout",
     "output_type": "stream",
     "text": [
      "[[0], 2]\n",
      "[[0], 1]\n",
      "[['zero'], 1]\n",
      "[[5], 1]\n",
      "[['zero'], 2]\n",
      "[['zero'], 1]\n"
     ]
    }
   ],
   "source": [
    "original = [[0],1]\n",
    "shallow = original[:]\n",
    "import copy\n",
    "deep = copy.deepcopy(original)\n",
    "shallow[1] = 2\n",
    "print(shallow)\n",
    "print(original)\n",
    "shallow[0][0] = \"zero\"\n",
    "print(original)\n",
    "deep[0][0] = 5\n",
    "print(deep)\n",
    "print(shallow)\n",
    "print(original)"
   ]
  },
  {
   "cell_type": "code",
   "execution_count": 25,
   "id": "b7719ca9",
   "metadata": {},
   "outputs": [
    {
     "name": "stdout",
     "output_type": "stream",
     "text": [
      "[[4, 5, 3], [4, 5, 6], [7, 8, 9]]\n",
      "[[1, 2, 3], [4, 5, 6], [7, 8, 9]]\n"
     ]
    }
   ],
   "source": [
    "x = [[1,2,3],[4,5,6],[7,8,9]]\n",
    "import copy\n",
    "y = copy.deepcopy(x)\n",
    "y[0][0:2] = [4,5]\n",
    "print(y)\n",
    "print(x)"
   ]
  },
  {
   "cell_type": "code",
   "execution_count": 38,
   "id": "f7ecfff3",
   "metadata": {},
   "outputs": [
    {
     "name": "stdout",
     "output_type": "stream",
     "text": [
      "c\n",
      "('b', 'c')\n",
      "3\n",
      "c\n",
      "a\n",
      "False\n",
      "True\n",
      "('a', 'b')\n",
      "('a', 'b', 'c', 'a', 'b', 'c')\n",
      "('a', 'b', 'c', 'a', 'b', 'c')\n",
      "('a', 'b', 'c', 1, 2)\n"
     ]
    }
   ],
   "source": [
    "x = (\"a\",\"b\",\"c\")\n",
    "print(x[2])\n",
    "print(x[1:])\n",
    "# y = [1,2,3]\n",
    "# print(y[1:])\n",
    "print(len(x))\n",
    "print(max(x))\n",
    "print(min(x))\n",
    "print(5 in x)\n",
    "print(5 not in x)#7:44\n",
    "print(x[:2])\n",
    "print(x + x)\n",
    "print(x * 2)\n",
    "print(x + (1,2))"
   ]
  },
  {
   "cell_type": "code",
   "execution_count": 65,
   "id": "5ad9451c",
   "metadata": {},
   "outputs": [
    {
     "data": {
      "text/plain": [
       "(7, 5)"
      ]
     },
     "execution_count": 65,
     "metadata": {},
     "output_type": "execute_result"
    }
   ],
   "source": [
    "x = 3\n",
    "y = 4\n",
    "x + y,\n",
    "x + y,5\n",
    "#()"
   ]
  },
  {
   "cell_type": "code",
   "execution_count": 46,
   "id": "b91c4db2",
   "metadata": {},
   "outputs": [
    {
     "name": "stdout",
     "output_type": "stream",
     "text": [
      "1\n",
      "5\n"
     ]
    }
   ],
   "source": [
    "(one,two,three,four) = 1,2,3,4\n",
    "print(one)\n",
    "one,two,three,four = 5,6,7,8\n",
    "print(one)"
   ]
  },
  {
   "cell_type": "code",
   "execution_count": 49,
   "id": "25cf55f1",
   "metadata": {},
   "outputs": [
    {
     "name": "stdout",
     "output_type": "stream",
     "text": [
      "2 1\n"
     ]
    }
   ],
   "source": [
    "var1,var2,temp = 1,2,0\n",
    "var1,var2 = var2,var1\n",
    "# temp = var1\n",
    "# var1 = var2\n",
    "# var2 = temp\n",
    "print(var1,var2)"
   ]
  },
  {
   "cell_type": "code",
   "execution_count": 71,
   "id": "83638219",
   "metadata": {},
   "outputs": [
    {
     "data": {
      "text/plain": [
       "(1, 2, 3, 4, [])"
      ]
     },
     "execution_count": 71,
     "metadata": {},
     "output_type": "execute_result"
    }
   ],
   "source": [
    "x = 1,2,3,4\n",
    "a,b,*c = x\n",
    "a,b,c\n",
    "*a,b,c = x\n",
    "a,b,c\n",
    "a,b,c,d,*e = x\n",
    "a,b,c,d,e"
   ]
  },
  {
   "cell_type": "code",
   "execution_count": 19,
   "id": "81ecd591",
   "metadata": {},
   "outputs": [
    {
     "data": {
      "text/plain": [
       "(1, 2)"
      ]
     },
     "execution_count": 19,
     "metadata": {},
     "output_type": "execute_result"
    }
   ],
   "source": [
    "x = 1,2,3,4,5\n",
    "a,b,*_ = x\n",
    "a,b"
   ]
  },
  {
   "cell_type": "code",
   "execution_count": 89,
   "id": "be4bd150",
   "metadata": {},
   "outputs": [
    {
     "data": {
      "text/plain": [
       "(8, 9, 10, 11, 12)"
      ]
     },
     "execution_count": 89,
     "metadata": {},
     "output_type": "execute_result"
    }
   ],
   "source": [
    "[a,b] = [1,2]\n",
    "[c,d] = 3,4\n",
    "[e,f] = (5,6)\n",
    "(g,h) = 7,8\n",
    "i,j = [9,10]\n",
    "k,l = (11,12)\n",
    "a\n",
    "[b,c,d]\n",
    "(e,f,g)\n",
    "h,i,j,k,l"
   ]
  },
  {
   "cell_type": "code",
   "execution_count": 92,
   "id": "205a9f2c",
   "metadata": {},
   "outputs": [
    {
     "data": {
      "text/plain": [
       "['V', 'i', 'c', 'k']"
      ]
     },
     "execution_count": 92,
     "metadata": {},
     "output_type": "execute_result"
    }
   ],
   "source": [
    "list((1,2,3,4))\n",
    "tuple([1,2,3,4])\n",
    "list(\"Vick\")"
   ]
  },
  {
   "cell_type": "code",
   "execution_count": 2,
   "id": "48e49170",
   "metadata": {},
   "outputs": [
    {
     "name": "stdout",
     "output_type": "stream",
     "text": [
      "(1, 2, 3, 4)\n"
     ]
    }
   ],
   "source": [
    "x = (3,1,2,4)\n",
    "y = tuple(sorted(x))\n",
    "print(y)"
   ]
  },
  {
   "cell_type": "code",
   "execution_count": 113,
   "id": "8c757fe1",
   "metadata": {},
   "outputs": [
    {
     "name": "stdout",
     "output_type": "stream",
     "text": [
      "{1, 2, 3, 6}\n"
     ]
    },
    {
     "data": {
      "text/plain": [
       "{2, 3, 6, 7, 8, 9}"
      ]
     },
     "execution_count": 113,
     "metadata": {},
     "output_type": "execute_result"
    }
   ],
   "source": [
    "x = {1,2,1,2,1,2}\n",
    "x\n",
    "x = set([1,2,3,2,3,1,5,1])\n",
    "x\n",
    "x.add(6)\n",
    "x\n",
    "x.remove(5)\n",
    "x\n",
    "print(x)\n",
    "4 in x\n",
    "1 in x\n",
    "y = set([1,7,8,9])\n",
    "x | y\n",
    "x & y\n",
    "x ^ y"
   ]
  },
  {
   "cell_type": "code",
   "execution_count": 117,
   "id": "d63deb6d",
   "metadata": {},
   "outputs": [
    {
     "data": {
      "text/plain": [
       "{1, 2, 3, 5, frozenset({1, 2, 3, 5})}"
      ]
     },
     "execution_count": 117,
     "metadata": {},
     "output_type": "execute_result"
    }
   ],
   "source": [
    "x = set({1,2,3,1,3,5})\n",
    "z = frozenset(x)\n",
    "z\n",
    "#z.add(6)\n",
    "x.add(z)\n",
    "x"
   ]
  },
  {
   "cell_type": "code",
   "execution_count": 3,
   "id": "6fdfac2b",
   "metadata": {},
   "outputs": [
    {
     "name": "stdout",
     "output_type": "stream",
     "text": [
      "{0, 1, 2, 3, 5, (1, 2, 3)}\n"
     ]
    },
    {
     "data": {
      "text/plain": [
       "6"
      ]
     },
     "execution_count": 3,
     "metadata": {},
     "output_type": "execute_result"
    }
   ],
   "source": [
    "x = [1,2,5,1,0,2,3,1,1,(1,2,3)]\n",
    "print(set(x))\n",
    "len(set(x))"
   ]
  },
  {
   "cell_type": "code",
   "execution_count": 7,
   "id": "1377c7c6",
   "metadata": {},
   "outputs": [
    {
     "name": "stdout",
     "output_type": "stream",
     "text": [
      "最大值 28.2 最小值 0.8 平均值 14.848309178743966 中位數 14.7\n"
     ]
    }
   ],
   "source": [
    "temperatures = []\n",
    "with open('lab_05.txt') as infile:\n",
    "    for row in infile:\n",
    "        temperatures.append(float(row.strip()))\n",
    "temperatures.sort()\n",
    "#print(len(temperatures))\n",
    "ma = max(temperatures)\n",
    "mi = min(temperatures)\n",
    "average = sum(temperatures) / len(temperatures)\n",
    "i424 = temperatures[int(len(temperatures) / 2)]\n",
    "i425 = temperatures[int(len(temperatures) / 2) + 1]\n",
    "median = ((i424 + i425) / 2)\n",
    "print(\"最大值\",ma,\"最小值\",mi,\"平均值\",average,\"中位數\",median)"
   ]
  },
  {
   "cell_type": "code",
   "execution_count": 149,
   "id": "13fe423b",
   "metadata": {},
   "outputs": [
    {
     "data": {
      "text/plain": [
       "217"
      ]
     },
     "execution_count": 149,
     "metadata": {},
     "output_type": "execute_result"
    }
   ],
   "source": [
    "len(set(temperatures))"
   ]
  },
  {
   "cell_type": "code",
   "execution_count": 15,
   "id": "d9741ac9",
   "metadata": {},
   "outputs": [
    {
     "name": "stdout",
     "output_type": "stream",
     "text": [
      "max = 28.2\n",
      "min = 0.8\n",
      "mean = 14.848309178743966\n",
      "median = 14.7\n"
     ]
    }
   ],
   "source": [
    "temperatures = []\n",
    "with open('lab_05.txt') as infile:\n",
    "    for row in infile:\n",
    "        temperatures.append(float(row.strip()))\n",
    "\n",
    "max_temp = max(temperatures)\n",
    "min_temp = min(temperatures)\n",
    "mean_temp = sum(temperatures)/len(temperatures)\n",
    "\n",
    " # 排序後取得中位數\n",
    "temperatures.sort()\n",
    "median_temp = temperatures[len(temperatures)//2]\n",
    "\n",
    "print(\"max = {}\".format(max_temp))\n",
    "print(\"min = {}\".format(min_temp))\n",
    "print(\"mean = {}\".format(mean_temp))\n",
    "print(\"median = {}\".format(median_temp))"
   ]
  },
  {
   "cell_type": "code",
   "execution_count": null,
   "id": "44cbd1f2",
   "metadata": {},
   "outputs": [],
   "source": [
    "x = [1,2,3,4,5]\n",
    "median = "
   ]
  }
 ],
 "metadata": {
  "kernelspec": {
   "display_name": "Python 3 (ipykernel)",
   "language": "python",
   "name": "python3"
  },
  "language_info": {
   "codemirror_mode": {
    "name": "ipython",
    "version": 3
   },
   "file_extension": ".py",
   "mimetype": "text/x-python",
   "name": "python",
   "nbconvert_exporter": "python",
   "pygments_lexer": "ipython3",
   "version": "3.9.7"
  }
 },
 "nbformat": 4,
 "nbformat_minor": 5
}
