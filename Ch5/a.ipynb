{
 "cells": [
  {
   "cell_type": "code",
   "execution_count": 1,
   "id": "26824740",
   "metadata": {},
   "outputs": [
    {
     "name": "stdout",
     "output_type": "stream",
     "text": [
      "3 3\n"
     ]
    }
   ],
   "source": [
    "a = [1,2,3]\n",
    "b = [2, \"two\", [1,2,3]]\n",
    "print(len(a),len(b))"
   ]
  },
  {
   "cell_type": "code",
   "execution_count": 2,
   "id": "94525ba9",
   "metadata": {},
   "outputs": [
    {
     "name": "stdout",
     "output_type": "stream",
     "text": [
      "1 0 2\n"
     ]
    }
   ],
   "source": [
    "a = [0]\n",
    "b = []\n",
    "c = [[1,3,[4,5],6],7]\n",
    "print(len(a),len(b),len(c))"
   ]
  },
  {
   "cell_type": "code",
   "execution_count": 46,
   "id": "81865a0b",
   "metadata": {},
   "outputs": [
    {
     "name": "stdout",
     "output_type": "stream",
     "text": [
      "[]\n",
      "['1 st', 'second', 'third', 'fourth']\n",
      "['first', 'second', 'third', 'fourth']\n"
     ]
    }
   ],
   "source": [
    "x = [\"first\",\"second\",\"third\",\"fourth\"] # 選取多行按ctrl + /可以註解多行\n",
    "# print(x[0:3])\n",
    "# print(x[1:3])\n",
    "# print(x[1:-1])\n",
    "# print(x[-2:-1])\n",
    "# print(x[-1:2])\n",
    "y = x[:]\n",
    "y[0] = \"1 st\"\n",
    "print(y)\n",
    "print(x)"
   ]
  },
  {
   "cell_type": "code",
   "execution_count": 14,
   "id": "d9cf9285",
   "metadata": {},
   "outputs": [
    {
     "name": "stdout",
     "output_type": "stream",
     "text": [
      "['1 st', 'second', 'third', 'fourth'] ['1 st', 'second', 'third', 'fourth']\n"
     ]
    }
   ],
   "source": [
    "x = [\"first\",\"second\",\"third\",\"fourth\"]\n",
    "y = x\n",
    "y[0] = \"1 st\"\n",
    "print(x,y)"
   ]
  },
  {
   "cell_type": "code",
   "execution_count": 2,
   "id": "6ff15438",
   "metadata": {},
   "outputs": [
    {
     "data": {
      "text/plain": [
       "[4, 5, 6]"
      ]
     },
     "execution_count": 2,
     "metadata": {},
     "output_type": "execute_result"
    }
   ],
   "source": [
    "x = [1,2,3,4,5,6]\n",
    "#a = int(len(x) / 2)\n",
    "#print(a)\n",
    "# print(x[int(len(x) / 2):])\n",
    "# print(x[2:2+3])\n",
    "lasthalf = x[len(x) // 2:]\n",
    "lasthalf"
   ]
  },
  {
   "cell_type": "code",
   "execution_count": 32,
   "id": "1c3598f8",
   "metadata": {},
   "outputs": [
    {
     "name": "stdout",
     "output_type": "stream",
     "text": [
      "[0, 5, 5, 3, 4]\n",
      "[0, 'one', 'two', 'three', 3]\n",
      "['a', 'b', 3]\n"
     ]
    }
   ],
   "source": [
    "x = [0,1,2,3,4]\n",
    "x[1:3] = [5,5]\n",
    "print(x)\n",
    "x = [0,1,2,3]\n",
    "x[1:3] = [\"one\",\"two\",\"three\"]\n",
    "print(x)\n",
    "x[0:4] = [\"a\",\"b\"]\n",
    "print(x)"
   ]
  },
  {
   "cell_type": "code",
   "execution_count": 37,
   "id": "d84f1295",
   "metadata": {},
   "outputs": [
    {
     "name": "stdout",
     "output_type": "stream",
     "text": [
      "[1, 2, 3, 4, 5, 6, 7]\n",
      "[-1, 0, 1, 2, 3, 4, 5, 6, 7]\n",
      "[-1, 7]\n"
     ]
    }
   ],
   "source": [
    "x = [1,2,3,4]\n",
    "x[len(x):] = [5,6,7]\n",
    "print(x)\n",
    "x[:0] = [-1,0]\n",
    "print(x)\n",
    "x[1:-1] = []\n",
    "print(x)"
   ]
  },
  {
   "cell_type": "code",
   "execution_count": 1,
   "id": "48d168ec",
   "metadata": {},
   "outputs": [
    {
     "name": "stdout",
     "output_type": "stream",
     "text": [
      "[1, 2, 3, 'four']\n",
      "[1, 2, 3, 4, [5, 6, 7]]\n",
      "[1, 2, 3, 4, 5, 6, 7]\n"
     ]
    }
   ],
   "source": [
    "x = [1,2,3]\n",
    "x.append(\"four\")\n",
    "print(x)\n",
    "x = [1,2,3,4]\n",
    "y = [5,6,7]\n",
    "x.append(y)\n",
    "print(x)\n",
    "x = [1,2,3,4]\n",
    "y = [5,6,7]\n",
    "#x.extend(y)\n",
    "#z = x + y\n",
    "print(x + y)\n",
    "#print(x)"
   ]
  },
  {
   "cell_type": "code",
   "execution_count": 45,
   "id": "98805e66",
   "metadata": {},
   "outputs": [
    {
     "name": "stdout",
     "output_type": "stream",
     "text": [
      "[1, 2, 2.5, 3]\n",
      "[0, 1, 2, 2.5, 3]\n",
      "[0, 1, 2, 2.5, 2.7, 3]\n",
      "[0, 1, 1.5, 2, 2.5, 2.7, 3]\n"
     ]
    }
   ],
   "source": [
    "x = [1,2,3]\n",
    "x.insert(2,2.5)\n",
    "print(x)\n",
    "x.insert(0,0)\n",
    "print(x)\n",
    "x.insert(-1,2.7)\n",
    "print(x)\n",
    "x[2:2] = [1.5]\n",
    "print(x)"
   ]
  },
  {
   "cell_type": "code",
   "execution_count": 99,
   "id": "0278dcb8",
   "metadata": {},
   "outputs": [
    {
     "name": "stdout",
     "output_type": "stream",
     "text": [
      "['a', 'c', 7, 9, 11]\n",
      "[7, 9, 11]\n"
     ]
    }
   ],
   "source": [
    "x = [\"a\",2,\"c\",7,9,11]\n",
    "del(x[1])\n",
    "print(x)\n",
    "del x[:2]\n",
    "print(x)"
   ]
  },
  {
   "cell_type": "code",
   "execution_count": 56,
   "id": "e06f414c",
   "metadata": {},
   "outputs": [
    {
     "name": "stdout",
     "output_type": "stream",
     "text": [
      "[1, 2, 4, 3, 5]\n",
      "[1, 2, 4, 5]\n",
      "[5, 4, 2, 1]\n"
     ]
    }
   ],
   "source": [
    "x = [1,2,3,4,3,5]\n",
    "x.remove(3)\n",
    "print(x)\n",
    "x.remove(3)\n",
    "print(x)\n",
    "x.reverse()\n",
    "print(x)"
   ]
  },
  {
   "cell_type": "code",
   "execution_count": 3,
   "id": "a808ea32",
   "metadata": {},
   "outputs": [
    {
     "data": {
      "text/plain": [
       "[7, 8, 9, 0, 1, 2, 3, 4, 5, 6]"
      ]
     },
     "execution_count": 3,
     "metadata": {},
     "output_type": "execute_result"
    }
   ],
   "source": [
    "x = [0,1,2,3,4,5,6,7,8,9]\n",
    "y = x[-3:] + x[:-3]\n",
    "y\n",
    "# y = x[-3:]\n",
    "# del x[-3:]\n",
    "# x[:0] = y\n",
    "# print(x)\n",
    "# #print(y)"
   ]
  },
  {
   "cell_type": "code",
   "execution_count": 67,
   "id": "a511f6d1",
   "metadata": {},
   "outputs": [
    {
     "name": "stdout",
     "output_type": "stream",
     "text": [
      "[1, 2, 3, 5, 5, 6, 6, 8]\n"
     ]
    }
   ],
   "source": [
    "x = [1,3,5,6,8,5,2,6]\n",
    "x.sort()\n",
    "print(x)"
   ]
  },
  {
   "cell_type": "code",
   "execution_count": 72,
   "id": "d07ab95a",
   "metadata": {},
   "outputs": [
    {
     "name": "stdout",
     "output_type": "stream",
     "text": [
      "[1, 5, 3, 2]\n",
      "[1, 2, 3, 5]\n"
     ]
    }
   ],
   "source": [
    "x = [1,5,3,2]\n",
    "y = x[:]\n",
    "y.sort()\n",
    "print(x)\n",
    "print(y)"
   ]
  },
  {
   "cell_type": "code",
   "execution_count": 73,
   "id": "b8c25b15",
   "metadata": {},
   "outputs": [
    {
     "name": "stdout",
     "output_type": "stream",
     "text": [
      "['Life', 'enchanting', 'is']\n"
     ]
    }
   ],
   "source": [
    "x = [\"Life\",\"is\",\"enchanting\"]\n",
    "x.sort()\n",
    "print(x)"
   ]
  },
  {
   "cell_type": "code",
   "execution_count": 75,
   "id": "ce251f71",
   "metadata": {},
   "outputs": [
    {
     "name": "stdout",
     "output_type": "stream",
     "text": [
      "[[1, 2], [1, 5], [2, 8], [3, 6]]\n",
      "[[3, 6], [2, 8], [1, 5], [1, 2]]\n"
     ]
    }
   ],
   "source": [
    "x = [[1,5],[2,8],[3,6],[1,2]]\n",
    "x.sort()\n",
    "print(x)\n",
    "x.sort(reverse = True)\n",
    "print(x)"
   ]
  },
  {
   "cell_type": "code",
   "execution_count": 79,
   "id": "93d7d46e",
   "metadata": {},
   "outputs": [
    {
     "name": "stdout",
     "output_type": "stream",
     "text": [
      "['pkwr', 'ac', 'a']\n"
     ]
    }
   ],
   "source": [
    "def c(string):\n",
    "    return len(string)\n",
    "\n",
    "x = [\"ac\",\"a\",\"pkwr\"]\n",
    "x.sort(key = c)#,reverse = True\n",
    "x.reverse()\n",
    "print(x)"
   ]
  },
  {
   "cell_type": "code",
   "execution_count": 94,
   "id": "a34581a7",
   "metadata": {},
   "outputs": [
    {
     "name": "stdout",
     "output_type": "stream",
     "text": [
      "[1, 2, 3, 4]\n",
      "[4, 2, 1, 3]\n"
     ]
    }
   ],
   "source": [
    "x = [4,2,1,3]\n",
    "print(sorted(x))\n",
    "print(x)\n",
    "# y = sorted(x)\n",
    "# print(y)\n",
    "# z = sorted(x,reverse = True)\n",
    "# print(z,x)"
   ]
  },
  {
   "cell_type": "code",
   "execution_count": 4,
   "id": "a6fbd534",
   "metadata": {},
   "outputs": [
    {
     "name": "stdout",
     "output_type": "stream",
     "text": [
      "[[4, 0, 1], [2, 1, 3], [1, 2, 3]]\n"
     ]
    }
   ],
   "source": [
    "# def c(string):\n",
    "#     return string[1]\n",
    "\n",
    "x = [[1,2,3],[2,1,3],[4,0,1]]\n",
    "x.sort(key = lambda x: x[1])#c\n",
    "print(x)"
   ]
  },
  {
   "cell_type": "code",
   "execution_count": 87,
   "id": "c291e4f6",
   "metadata": {},
   "outputs": [
    {
     "name": "stdout",
     "output_type": "stream",
     "text": [
      "True\n"
     ]
    }
   ],
   "source": [
    "x = [1,2,3,4]\n",
    "print(1 in x)#也可以用not"
   ]
  },
  {
   "cell_type": "code",
   "execution_count": 92,
   "id": "4390a17a",
   "metadata": {},
   "outputs": [
    {
     "name": "stdout",
     "output_type": "stream",
     "text": [
      "['Vick', 'Vick', 'Vick']\n",
      "1 10\n"
     ]
    }
   ],
   "source": [
    "x = [\"Vick\"] * 3\n",
    "print(x)\n",
    "y = [1,5,6,3,10]\n",
    "print(min(y),max(y))"
   ]
  },
  {
   "cell_type": "code",
   "execution_count": 96,
   "id": "aa28984e",
   "metadata": {},
   "outputs": [
    {
     "name": "stdout",
     "output_type": "stream",
     "text": [
      "3\n"
     ]
    }
   ],
   "source": [
    "x = [1,2,3,4]\n",
    "y = x.index(4)\n",
    "print(y)"
   ]
  },
  {
   "cell_type": "code",
   "execution_count": 4,
   "id": "de43ec46",
   "metadata": {},
   "outputs": [
    {
     "name": "stdout",
     "output_type": "stream",
     "text": [
      "3 62\n"
     ]
    }
   ],
   "source": [
    "x = [2,4,6,8,10,10,6,8,6,2,0]\n",
    "print(x.count(6),sum(x))"
   ]
  },
  {
   "cell_type": "code",
   "execution_count": 2,
   "id": "3aa3d7d7",
   "metadata": {},
   "outputs": [
    {
     "name": "stdout",
     "output_type": "stream",
     "text": [
      "3\n",
      "0\n"
     ]
    }
   ],
   "source": [
    "x = [[1,2]] * 3\n",
    "print(len(x))\n",
    "print([1,2,3].count(\"one\"))"
   ]
  },
  {
   "cell_type": "code",
   "execution_count": null,
   "id": "414bcea4",
   "metadata": {},
   "outputs": [],
   "source": []
  }
 ],
 "metadata": {
  "kernelspec": {
   "display_name": "Python 3 (ipykernel)",
   "language": "python",
   "name": "python3"
  },
  "language_info": {
   "codemirror_mode": {
    "name": "ipython",
    "version": 3
   },
   "file_extension": ".py",
   "mimetype": "text/x-python",
   "name": "python",
   "nbconvert_exporter": "python",
   "pygments_lexer": "ipython3",
   "version": "3.9.7"
  }
 },
 "nbformat": 4,
 "nbformat_minor": 5
}
