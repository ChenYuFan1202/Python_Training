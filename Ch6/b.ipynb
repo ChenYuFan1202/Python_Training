{
 "cells": [
  {
   "cell_type": "code",
   "execution_count": 5,
   "id": "807b8143",
   "metadata": {},
   "outputs": [
    {
     "name": "stdout",
     "output_type": "stream",
     "text": [
      ",olleH\n"
     ]
    }
   ],
   "source": [
    "text = \"Hello, World\"\n",
    "wordList = list(text)\n",
    "\n",
    "wordList[6:] = []\n",
    "wordList.reverse()\n",
    "#wordList = tuple(wordList)\n",
    "text = \"\".join(wordList)\n",
    "text\n",
    "print(text)"
   ]
  },
  {
   "cell_type": "code",
   "execution_count": 1,
   "id": "6faad908",
   "metadata": {},
   "outputs": [
    {
     "data": {
      "text/plain": [
       "'This is text  with  punctuation  Right '"
      ]
     },
     "execution_count": 1,
     "metadata": {},
     "output_type": "execute_result"
    }
   ],
   "source": [
    "x = \"This is text, with: punctuation! Right?\" #punctuation 標點符號\n",
    "table = str.maketrans(\",:!?\",\"    \")\n",
    "x.translate(table)"
   ]
  },
  {
   "cell_type": "code",
   "execution_count": 10,
   "id": "30714700",
   "metadata": {},
   "outputs": [
    {
     "data": {
      "text/plain": [
       "'the list x is [1, 2, [3, 4]]'"
      ]
     },
     "execution_count": 10,
     "metadata": {},
     "output_type": "execute_result"
    }
   ],
   "source": [
    "repr([1,2,3])\n",
    "x = [1]\n",
    "x.append(2)\n",
    "x.append([3,4])\n",
    "\"the list x is \" + repr(x)"
   ]
  },
  {
   "cell_type": "code",
   "execution_count": 3,
   "id": "9d9f7588",
   "metadata": {},
   "outputs": [
    {
     "data": {
      "text/plain": [
       "\"<class 'tuple'>\""
      ]
     },
     "execution_count": 3,
     "metadata": {},
     "output_type": "execute_result"
    }
   ],
   "source": [
    "repr(len)\n",
    "repr(tuple)\n",
    "# x = 5\n",
    "# repr(x)"
   ]
  },
  {
   "cell_type": "code",
   "execution_count": 4,
   "id": "fc641607",
   "metadata": {},
   "outputs": [
    {
     "name": "stdout",
     "output_type": "stream",
     "text": [
      "2023-02-08 15:34:46.576010\n"
     ]
    },
    {
     "data": {
      "text/plain": [
       "'datetime.datetime(2023, 2, 8, 15, 34, 46, 576010)'"
      ]
     },
     "execution_count": 4,
     "metadata": {},
     "output_type": "execute_result"
    }
   ],
   "source": [
    "from datetime import datetime\n",
    "now = datetime.now()\n",
    "str(now)\n",
    "print(now)\n",
    "repr(now)"
   ]
  },
  {
   "cell_type": "code",
   "execution_count": 30,
   "id": "118721e8",
   "metadata": {},
   "outputs": [
    {
     "data": {
      "text/plain": [
       "'{Ambrosia} is the food of the gods'"
      ]
     },
     "execution_count": 30,
     "metadata": {},
     "output_type": "execute_result"
    }
   ],
   "source": [
    "\"{} is the {} of {}\".format(\"Ambrosia\",\"food\",\"the gods\")\n",
    "\"{{Ambrosia}} is the {} of {}\".format(\"food\",\"the gods\")"
   ]
  },
  {
   "cell_type": "code",
   "execution_count": 6,
   "id": "0d03a3f3",
   "metadata": {},
   "outputs": [
    {
     "data": {
      "text/plain": [
       "\"The list contains: [1, 2, 'three']\""
      ]
     },
     "execution_count": 6,
     "metadata": {},
     "output_type": "execute_result"
    }
   ],
   "source": [
    "\"{} + {} = {}\".format(1,2,1+2)\n",
    "x = [1,2,\"three\"]\n",
    "\"The {} contains: {}\".format(\"list\", x)"
   ]
  },
  {
   "cell_type": "code",
   "execution_count": 36,
   "id": "c1765a61",
   "metadata": {},
   "outputs": [
    {
     "data": {
      "text/plain": [
       "'abcdefabc'"
      ]
     },
     "execution_count": 36,
     "metadata": {},
     "output_type": "execute_result"
    }
   ],
   "source": [
    "\"{2} is the {0} of {1} \".format(\"food\",\"the gods\",\"Ambrosia\")\n",
    "\"{0}{1}{0}\".format(\"abc\",\"def\")"
   ]
  },
  {
   "cell_type": "code",
   "execution_count": 38,
   "id": "d412df64",
   "metadata": {},
   "outputs": [
    {
     "data": {
      "text/plain": [
       "'Ambrosia is the food of the gods'"
      ]
     },
     "execution_count": 38,
     "metadata": {},
     "output_type": "execute_result"
    }
   ],
   "source": [
    "\"{food} is the food of {user}\".format(food = \"Ambrosia\",user = \"the gods\")\n",
    "\"{0} is the food of {user[1]}\".format(\"Ambrosia\",user = [\"men\",\"the gods\",\"others\"])"
   ]
  },
  {
   "cell_type": "code",
   "execution_count": 20,
   "id": "fa9bfa66",
   "metadata": {},
   "outputs": [
    {
     "data": {
      "text/plain": [
       "'Ambrosia   is the food of the gods'"
      ]
     },
     "execution_count": 20,
     "metadata": {},
     "output_type": "execute_result"
    }
   ],
   "source": [
    "\"{0:10} is the food of the gods\".format(\"Ambrosia\")\n",
    "# \"{0:>10} is the food of the gods\".format(\"Ambrosia\")\n",
    "# \"{0:&>10} is the food of the gods\".format(\"Ambrosia\")"
   ]
  },
  {
   "cell_type": "code",
   "execution_count": 50,
   "id": "ffda6caf",
   "metadata": {},
   "outputs": [
    {
     "data": {
      "text/plain": [
       "'Amborsia   is the food of the gods'"
      ]
     },
     "execution_count": 50,
     "metadata": {},
     "output_type": "execute_result"
    }
   ],
   "source": [
    "\"{0:{1}} is the food of the gods\".format(\"Amborsia\",10)\n",
    "\"{food:{width}} is the food of the gods\".format(food = \"Amborsia\",width = 10)"
   ]
  },
  {
   "cell_type": "code",
   "execution_count": 15,
   "id": "5a77aa53",
   "metadata": {},
   "outputs": [
    {
     "data": {
      "text/plain": [
       "'    1:$$$$3'"
      ]
     },
     "execution_count": 15,
     "metadata": {},
     "output_type": "execute_result"
    }
   ],
   "source": [
    "\"{1:>{0}}\".format(3,\"4\")\n",
    "\"{1:>{0}}\".format(3,\"v\")\n",
    "\"{0:$>5}\".format(3)\n",
    "\"{a:{b}}\".format(a = 1,b = 5)\n",
    "\"{a:{b}}:{0:$>5}\".format(3,4,a = 1,b = 5,c = 10)"
   ]
  },
  {
   "cell_type": "code",
   "execution_count": 17,
   "id": "2a1e97fc",
   "metadata": {},
   "outputs": [
    {
     "data": {
      "text/plain": [
       "'Brussels Sprouts is the food of foolish'"
      ]
     },
     "execution_count": 17,
     "metadata": {},
     "output_type": "execute_result"
    }
   ],
   "source": [
    "\"%s is the %s of %s\" % (\"Ambrosia\",\"food\",\"the gods\")\n",
    "\"%s is the %s of %s\" % (\"Nectar\",\"drink\",\"the gods\")\n",
    "\"%s is the %s of %s\" % (\"Brussels Sprouts\",\"food\",\"foolish\")"
   ]
  },
  {
   "cell_type": "code",
   "execution_count": 72,
   "id": "757f445e",
   "metadata": {},
   "outputs": [
    {
     "data": {
      "text/plain": [
       "\"The list contains: [1, 2, 'three']\""
      ]
     },
     "execution_count": 72,
     "metadata": {},
     "output_type": "execute_result"
    }
   ],
   "source": [
    "x = [1,2,\"three\"]\n",
    "\"The %s contains: %s\" % (\"list\",x)"
   ]
  },
  {
   "cell_type": "code",
   "execution_count": 74,
   "id": "4116c828",
   "metadata": {},
   "outputs": [
    {
     "data": {
      "text/plain": [
       "'Pi is <3.14  >'"
      ]
     },
     "execution_count": 74,
     "metadata": {},
     "output_type": "execute_result"
    }
   ],
   "source": [
    "\"Pi is <%-6.2f>\" % (3.14159)"
   ]
  },
  {
   "cell_type": "code",
   "execution_count": 77,
   "id": "582453a4",
   "metadata": {},
   "outputs": [
    {
     "name": "stdout",
     "output_type": "stream",
     "text": [
      "3.14 - 3.1416 - 2.72\n"
     ]
    }
   ],
   "source": [
    "num_dict = {\"e\":2.718,\"pi\":3.14159}\n",
    "print(\"%(pi).2f - %(pi).4f - %(e).2f\" % num_dict)"
   ]
  },
  {
   "cell_type": "code",
   "execution_count": 82,
   "id": "5451fabb",
   "metadata": {},
   "outputs": [
    {
     "data": {
      "text/plain": [
       "'1.11110000'"
      ]
     },
     "execution_count": 82,
     "metadata": {},
     "output_type": "execute_result"
    }
   ],
   "source": [
    "x = \"%.2f\" % 1.1111\n",
    "x = \"%(a).2f\" % {\"a\":1.1111}\n",
    "x = \"%(a).08f\" % {\"a\":1.1111}\n",
    "x"
   ]
  },
  {
   "cell_type": "code",
   "execution_count": 85,
   "id": "06b83e87",
   "metadata": {},
   "outputs": [
    {
     "name": "stdout",
     "output_type": "stream",
     "text": [
      "The answer is 42\n"
     ]
    }
   ],
   "source": [
    "value = 42\n",
    "message = f\"The answer is {value}\"\n",
    "print(message)"
   ]
  },
  {
   "cell_type": "code",
   "execution_count": 90,
   "id": "1a3745d4",
   "metadata": {},
   "outputs": [
    {
     "data": {
      "text/plain": [
       "'pi is        3.1'"
      ]
     },
     "execution_count": 90,
     "metadata": {},
     "output_type": "execute_result"
    }
   ],
   "source": [
    "pi = 3.1415\n",
    "f\"pi is {pi:{10}.{2}}\""
   ]
  },
  {
   "cell_type": "code",
   "execution_count": 22,
   "id": "aba17f31",
   "metadata": {},
   "outputs": [
    {
     "data": {
      "text/plain": [
       "'中'"
      ]
     },
     "execution_count": 22,
     "metadata": {},
     "output_type": "execute_result"
    }
   ],
   "source": [
    "unicode_string = \"中\"\n",
    "unicode_string\n",
    "xb = unicode_string.encode()\n",
    "xb\n",
    "#xb += \"A\"\n",
    "xb.decode()"
   ]
  },
  {
   "cell_type": "code",
   "execution_count": 110,
   "id": "4e48a765",
   "metadata": {},
   "outputs": [
    {
     "data": {
      "text/plain": [
       "'測試'"
      ]
     },
     "execution_count": 110,
     "metadata": {},
     "output_type": "execute_result"
    }
   ],
   "source": [
    "byte_object = \"測試\".encode(\"utf-8\")\n",
    "byte_object\n",
    "len(\"測試\")\n",
    "len(byte_object)\n",
    "\"測試\"[0]\n",
    "byte_object[0]\n",
    "byte_object.decode(\"utf-8\")"
   ]
  },
  {
   "cell_type": "code",
   "execution_count": 112,
   "id": "49e52340",
   "metadata": {},
   "outputs": [
    {
     "name": "stdout",
     "output_type": "stream",
     "text": [
      "a\n",
      "1\n"
     ]
    }
   ],
   "source": [
    "print(\"a\")\n",
    "print(1)"
   ]
  },
  {
   "cell_type": "code",
   "execution_count": 120,
   "id": "00cd29e9",
   "metadata": {},
   "outputs": [
    {
     "name": "stdout",
     "output_type": "stream",
     "text": [
      "a b c\n",
      "a|b|c\n",
      "a b c\n",
      "\n",
      "1\n"
     ]
    }
   ],
   "source": [
    "print(\"a\",\"b\",\"c\")\n",
    "print(\"a\",\"b\",\"c\",sep = \"|\")\n",
    "print(\"a\",\"b\",\"c\",end = \"\\n\\n\")\n",
    "print(1)\n",
    "print(\"a\",\"b\",\"c\",file = open(\"testfile.txt\",\"w\"))"
   ]
  },
  {
   "cell_type": "code",
   "execution_count": 24,
   "id": "8e571371",
   "metadata": {},
   "outputs": [
    {
     "name": "stdout",
     "output_type": "stream",
     "text": [
      "abc\n",
      "def\n",
      "ghi\n",
      "klm\n",
      "nop\n"
     ]
    }
   ],
   "source": [
    "y = \" \" * 20\n",
    "y\n",
    "x = ['\"abc\"', 'def', '\"ghi\"', '\"klm\"', 'nop']\n",
    "for item in x:\n",
    "#     z = item.strip('\"')\n",
    "#     print(z)\n",
    "    print(item.strip('\"'))\n",
    "    \n"
   ]
  },
  {
   "cell_type": "code",
   "execution_count": 144,
   "id": "3cbf8a74",
   "metadata": {},
   "outputs": [
    {
     "data": {
      "text/plain": [
       "'Mississipi'"
      ]
     },
     "execution_count": 144,
     "metadata": {},
     "output_type": "execute_result"
    }
   ],
   "source": [
    "state = \"Mississippi\"\n",
    "x = state.rfind(\"p\")\n",
    "state = state[:x] + state[x+1 :]\n",
    "state"
   ]
  },
  {
   "cell_type": "code",
   "execution_count": 3,
   "id": "2d905b57",
   "metadata": {},
   "outputs": [],
   "source": [
    "with open(\"moby_01.txt\") as infile, open(\"moby_01_clean.txt\", \"w\") as outfile:\n",
    "    for line in infile:\n",
    "        # 將所有字元轉成小寫\n",
    "        cleaned_line = line.lower()\n",
    "        \n",
    "        # 刪除所有標點符號\n",
    "        table = str.maketrans(\".,;:!-\",\"      \")\n",
    "        punct = cleaned_line.translate(table)\n",
    "        cleaned_line = punct\n",
    "        \n",
    "        # 依照單字切割\n",
    "        cleaned_words = cleaned_line.split()\n",
    "        \n",
    "        # 每行放一個單字\n",
    "        cleaned_words = \"\\n\".join(cleaned_words)\n",
    "        \n",
    "        #print(cleaned_words)\n",
    "        outfile.write(cleaned_words)\n",
    "        "
   ]
  },
  {
   "cell_type": "code",
   "execution_count": 208,
   "id": "65083bd2",
   "metadata": {},
   "outputs": [],
   "source": [
    "with open(\"moby_01.txt\") as infile, open(\"moby_01_clean.txt\", \"w\") as outfile:\n",
    "    for line in infile:\n",
    "        # 將所有字元轉成小寫\n",
    "        cleaned_line = line.lower()\n",
    "        \n",
    "        # 刪除所有標點符號\n",
    "        punct = str.maketrans(\"!.,:;-?\", \"       \")\n",
    "        cleaned_line = cleaned_line.translate(punct)\n",
    "        \n",
    "        # 依照單字切割\n",
    "        words = cleaned_line.split()\n",
    "        cleaned_words = \"\\n\".join(words)\n",
    "\n",
    "        # 每行放一個單字\n",
    "        outfile.write(cleaned_words)"
   ]
  }
 ],
 "metadata": {
  "kernelspec": {
   "display_name": "Python 3 (ipykernel)",
   "language": "python",
   "name": "python3"
  },
  "language_info": {
   "codemirror_mode": {
    "name": "ipython",
    "version": 3
   },
   "file_extension": ".py",
   "mimetype": "text/x-python",
   "name": "python",
   "nbconvert_exporter": "python",
   "pygments_lexer": "ipython3",
   "version": "3.9.7"
  }
 },
 "nbformat": 4,
 "nbformat_minor": 5
}
