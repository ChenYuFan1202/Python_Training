{
 "cells": [
  {
   "cell_type": "code",
   "execution_count": 4,
   "id": "495d490e",
   "metadata": {},
   "outputs": [
    {
     "data": {
      "text/plain": [
       "'ello'"
      ]
     },
     "execution_count": 4,
     "metadata": {},
     "output_type": "execute_result"
    }
   ],
   "source": [
    "x = \"Hello\"\n",
    "x[1]\n",
    "x[0]\n",
    "x[-1]\n",
    "x[1:]"
   ]
  },
  {
   "cell_type": "code",
   "execution_count": 11,
   "id": "095b0e0b",
   "metadata": {},
   "outputs": [
    {
     "data": {
      "text/plain": [
       "9"
      ]
     },
     "execution_count": 11,
     "metadata": {},
     "output_type": "execute_result"
    }
   ],
   "source": [
    "x = \"Goodnight\\n\"\n",
    "x\n",
    "x = x[:-1]\n",
    "x\n",
    "len(x)"
   ]
  },
  {
   "cell_type": "code",
   "execution_count": 17,
   "id": "716617e9",
   "metadata": {},
   "outputs": [
    {
     "data": {
      "text/plain": [
       "'hello world'"
      ]
     },
     "execution_count": 17,
     "metadata": {},
     "output_type": "execute_result"
    }
   ],
   "source": [
    "x = \"Hello \" + \"World\"\n",
    "x\n",
    "x = \"hello \"  \"world\"\n",
    "x"
   ]
  },
  {
   "cell_type": "code",
   "execution_count": 22,
   "id": "610efe4f",
   "metadata": {},
   "outputs": [
    {
     "data": {
      "text/plain": [
       "'xxxxxxxx'"
      ]
     },
     "execution_count": 22,
     "metadata": {},
     "output_type": "execute_result"
    }
   ],
   "source": [
    "\"x\" * 8"
   ]
  },
  {
   "cell_type": "code",
   "execution_count": 1,
   "id": "219ad02c",
   "metadata": {},
   "outputs": [
    {
     "data": {
      "text/plain": [
       "'\\n'"
      ]
     },
     "execution_count": 1,
     "metadata": {},
     "output_type": "execute_result"
    }
   ],
   "source": [
    "\"m\"\n",
    "\"\\155\"\n",
    "\"\\x6D\"\n",
    "\"\\x6d\"\n",
    "\"\\n\"\n",
    "\"\\012\"\n",
    "\"\\x0A\"\n"
   ]
  },
  {
   "cell_type": "code",
   "execution_count": 5,
   "id": "2592cb25",
   "metadata": {},
   "outputs": [
    {
     "data": {
      "text/plain": [
       "'á'"
      ]
     },
     "execution_count": 5,
     "metadata": {},
     "output_type": "execute_result"
    }
   ],
   "source": [
    "unicode_a = \"\\N{LATIN SMALL LETTER A}\"\n",
    "unicode_a\n",
    "unicode_a_with_acute = \"\\N{LATIN SMALL LETTER A WITH ACUTE}\"\n",
    "unicode_a_with_acute\n",
    "\"\\u00E1\""
   ]
  },
  {
   "cell_type": "code",
   "execution_count": 59,
   "id": "42be2ef1",
   "metadata": {},
   "outputs": [
    {
     "name": "stdout",
     "output_type": "stream",
     "text": [
      "a\n",
      "\tb\n",
      "abc\n",
      "def\n"
     ]
    }
   ],
   "source": [
    "\"a\\n\\tb\"\n",
    "print(\"a\\n\\tb\")\n",
    "print(\"abc\\n\",end = \"\")\n",
    "print(\"def\")"
   ]
  },
  {
   "cell_type": "code",
   "execution_count": 63,
   "id": "e210bb00",
   "metadata": {},
   "outputs": [
    {
     "data": {
      "text/plain": [
       "'Separatedbynothing'"
      ]
     },
     "execution_count": 63,
     "metadata": {},
     "output_type": "execute_result"
    }
   ],
   "source": [
    "\" \".join([\"join\",\"puts\",\"spaces\",\"between\",\"elements\"])\n",
    "\"::\".join([\"Separated\",\"with\",\"colons\"])\n",
    "\"\".join([\"Separated\",\"by\",\"nothing\"])"
   ]
  },
  {
   "cell_type": "code",
   "execution_count": 65,
   "id": "eaef65bc",
   "metadata": {},
   "outputs": [
    {
     "data": {
      "text/plain": [
       "['Mi', 'i', 'ippi']"
      ]
     },
     "execution_count": 65,
     "metadata": {},
     "output_type": "execute_result"
    }
   ],
   "source": [
    "x = \"You\\t\\t can have tabs\\t\\n \\t and newlines \\n\\n mixed in\"\n",
    "x.split()\n",
    "x = \"Mississippi\"\n",
    "x.split(\"ss\")"
   ]
  },
  {
   "cell_type": "code",
   "execution_count": 77,
   "id": "82a5c517",
   "metadata": {},
   "outputs": [
    {
     "data": {
      "text/plain": [
       "['a', 'b c d']"
      ]
     },
     "execution_count": 77,
     "metadata": {},
     "output_type": "execute_result"
    }
   ],
   "source": [
    "x = \"a b c d\"\n",
    "x.split(\" \",1)\n",
    "# x.split(\" \",2)\n",
    "# x.split(\" \",9)"
   ]
  },
  {
   "cell_type": "code",
   "execution_count": 76,
   "id": "77290f25",
   "metadata": {},
   "outputs": [
    {
     "data": {
      "text/plain": [
       "['a', 'b', 'c d']"
      ]
     },
     "execution_count": 76,
     "metadata": {},
     "output_type": "execute_result"
    }
   ],
   "source": [
    "x = 'a\\nb c d'\n",
    "# x.split(\" \",2)\n",
    "x.split(None,2)"
   ]
  },
  {
   "cell_type": "code",
   "execution_count": 6,
   "id": "49791100",
   "metadata": {},
   "outputs": [
    {
     "data": {
      "text/plain": [
       "'this-is-a-test'"
      ]
     },
     "execution_count": 6,
     "metadata": {},
     "output_type": "execute_result"
    }
   ],
   "source": [
    "x = \"this is a test\"\n",
    "# y = x.split(\" \")\n",
    "# \"-\".join(y)\n",
    "\"-\".join(x.split(\" \"))"
   ]
  },
  {
   "cell_type": "code",
   "execution_count": 20,
   "id": "ec2aef0c",
   "metadata": {},
   "outputs": [
    {
     "data": {
      "text/plain": [
       "1865"
      ]
     },
     "execution_count": 20,
     "metadata": {},
     "output_type": "execute_result"
    }
   ],
   "source": [
    "float(\"12.456\")\n",
    "#float(\"xxyy\")\n",
    "int(\"3333\")\n",
    "#int(\"123.123\")\n",
    "int(\"10000\",8)\n",
    "int(\"101\",2)\n",
    "int(\"ff\",16)\n",
    "int(\"12345\",6)"
   ]
  },
  {
   "cell_type": "code",
   "execution_count": 24,
   "id": "94f67a4d",
   "metadata": {},
   "outputs": [
    {
     "data": {
      "text/plain": [
       "123.0"
      ]
     },
     "execution_count": 24,
     "metadata": {},
     "output_type": "execute_result"
    }
   ],
   "source": [
    "# int(\"12*2\")\n",
    "float(\"123\")"
   ]
  },
  {
   "cell_type": "code",
   "execution_count": 27,
   "id": "7d0af0d3",
   "metadata": {},
   "outputs": [
    {
     "data": {
      "text/plain": [
       "' Hello, World'"
      ]
     },
     "execution_count": 27,
     "metadata": {},
     "output_type": "execute_result"
    }
   ],
   "source": [
    "x = \" Hello, World\\t\\t \"\n",
    "x.strip()\n",
    "x.lstrip()\n",
    "x.rstrip()"
   ]
  },
  {
   "cell_type": "code",
   "execution_count": 10,
   "id": "cb11aa6b",
   "metadata": {},
   "outputs": [
    {
     "data": {
      "text/plain": [
       "' \\t\\n\\r\\x0b\\x0c'"
      ]
     },
     "execution_count": 10,
     "metadata": {},
     "output_type": "execute_result"
    }
   ],
   "source": [
    "import string\n",
    "#string.whitespace\n",
    "\" \\t\\n\\r\\v\\f\""
   ]
  },
  {
   "cell_type": "code",
   "execution_count": 8,
   "id": "066144f7",
   "metadata": {},
   "outputs": [
    {
     "data": {
      "text/plain": [
       "'.python.'"
      ]
     },
     "execution_count": 8,
     "metadata": {},
     "output_type": "execute_result"
    }
   ],
   "source": [
    "x = \"www.python.org\"\n",
    "x.strip(\"w\")\n",
    "x.strip(\"gor\")\n",
    "x.strip(\"gorw\")"
   ]
  },
  {
   "cell_type": "code",
   "execution_count": 55,
   "id": "d2280c92",
   "metadata": {},
   "outputs": [
    {
     "data": {
      "text/plain": [
       "'name, date'"
      ]
     },
     "execution_count": 55,
     "metadata": {},
     "output_type": "execute_result"
    }
   ],
   "source": [
    "x = \"(name, date),\\n\"\n",
    "# x.rstrip().rstrip(\",\")\n",
    "x.strip(\"(),\\n\")"
   ]
  },
  {
   "cell_type": "code",
   "execution_count": 62,
   "id": "c5beaa1b",
   "metadata": {},
   "outputs": [
    {
     "data": {
      "text/plain": [
       "False"
      ]
     },
     "execution_count": 62,
     "metadata": {},
     "output_type": "execute_result"
    }
   ],
   "source": [
    "x = \"123\"\n",
    "x.isdigit()\n",
    "x.isalpha()\n",
    "x = \"MM\"\n",
    "x.isupper()\n",
    "x.islower()"
   ]
  },
  {
   "cell_type": "code",
   "execution_count": 13,
   "id": "aff844d2",
   "metadata": {},
   "outputs": [
    {
     "data": {
      "text/plain": [
       "'abcdefghijklmnopqrstuvwxyzABCDEFGHIJKLMNOPQRSTUVWXYZ'"
      ]
     },
     "execution_count": 13,
     "metadata": {},
     "output_type": "execute_result"
    }
   ],
   "source": [
    "import string\n",
    "string.digits\n",
    "string.hexdigits\n",
    "string.octdigits\n",
    "string.ascii_lowercase\n",
    "string.ascii_uppercase\n",
    "string.ascii_letters"
   ]
  },
  {
   "cell_type": "code",
   "execution_count": 74,
   "id": "1710fed1",
   "metadata": {},
   "outputs": [
    {
     "data": {
      "text/plain": [
       "True"
      ]
     },
     "execution_count": 74,
     "metadata": {},
     "output_type": "execute_result"
    }
   ],
   "source": [
    "x = \"The string\"\n",
    "\"str\" in x\n",
    "\"sTr\" in x\n",
    "\"e s\" in x"
   ]
  },
  {
   "cell_type": "code",
   "execution_count": 82,
   "id": "7839f6ea",
   "metadata": {},
   "outputs": [
    {
     "data": {
      "text/plain": [
       "-1"
      ]
     },
     "execution_count": 82,
     "metadata": {},
     "output_type": "execute_result"
    }
   ],
   "source": [
    "x = \"Mississippi\"\n",
    "x.find(\"is\")\n",
    "x.find(\"zz\")\n",
    "x.find(\"s\")\n",
    "x.find(\"s\",2)\n",
    "x.find(\"s\",4)\n",
    "x.find(\"s\",4,5)\n",
    "x.find(\"ss\",3)\n",
    "x.find(\"ss\",0,3)"
   ]
  },
  {
   "cell_type": "code",
   "execution_count": 21,
   "id": "3203e398",
   "metadata": {},
   "outputs": [
    {
     "data": {
      "text/plain": [
       "6"
      ]
     },
     "execution_count": 21,
     "metadata": {},
     "output_type": "execute_result"
    }
   ],
   "source": [
    "x = \"Mississippi\"\n",
    "x.rfind(\"s\")"
   ]
  },
  {
   "cell_type": "code",
   "execution_count": 94,
   "id": "cf5e5613",
   "metadata": {},
   "outputs": [
    {
     "data": {
      "text/plain": [
       "True"
      ]
     },
     "execution_count": 94,
     "metadata": {},
     "output_type": "execute_result"
    }
   ],
   "source": [
    "x = \"Mississippi\"\n",
    "x.count(\"ss\")\n",
    "x.startswith(\"Miss\")\n",
    "x.startswith(\"Mist\")\n",
    "x.endswith(\"pi\")\n",
    "x.endswith(\"p\")\n",
    "x.startswith((\"B\",\"N\",\"M\"))"
   ]
  },
  {
   "cell_type": "code",
   "execution_count": 108,
   "id": "22a96332",
   "metadata": {},
   "outputs": [
    {
     "data": {
      "text/plain": [
       "True"
      ]
     },
     "execution_count": 108,
     "metadata": {},
     "output_type": "execute_result"
    }
   ],
   "source": [
    "x = \"s rejected\"\n",
    "x.endswith(\"rejected\")\n",
    "x[-8:] == \"rejected\""
   ]
  },
  {
   "cell_type": "code",
   "execution_count": 109,
   "id": "c3ab0953",
   "metadata": {},
   "outputs": [
    {
     "data": {
      "text/plain": [
       "'Mi+++i+++ippi'"
      ]
     },
     "execution_count": 109,
     "metadata": {},
     "output_type": "execute_result"
    }
   ],
   "source": [
    "x = \"Mississippi\"\n",
    "x.replace(\"ss\",\"+++\")"
   ]
  },
  {
   "cell_type": "code",
   "execution_count": 111,
   "id": "d5a7a0c5",
   "metadata": {},
   "outputs": [
    {
     "data": {
      "text/plain": [
       "'!x & [y % z]'"
      ]
     },
     "execution_count": 111,
     "metadata": {},
     "output_type": "execute_result"
    }
   ],
   "source": [
    "x = \"~x ^ (y % z)\"\n",
    "table = x.maketrans(\"~^()\",\"!&[]\")\n",
    "x.translate(table)\n"
   ]
  },
  {
   "cell_type": "code",
   "execution_count": 119,
   "id": "841deb58",
   "metadata": {},
   "outputs": [
    {
     "data": {
      "text/plain": [
       "'hI i AM vICK'"
      ]
     },
     "execution_count": 119,
     "metadata": {},
     "output_type": "execute_result"
    }
   ],
   "source": [
    "x = \"Hi I am Vick\"\n",
    "x.lower()\n",
    "x.upper()\n",
    "x.capitalize()\n",
    "x.title()\n",
    "x.swapcase()"
   ]
  },
  {
   "cell_type": "code",
   "execution_count": 133,
   "id": "83a7ba03",
   "metadata": {},
   "outputs": [
    {
     "data": {
      "text/plain": [
       "'0000hello my friends'"
      ]
     },
     "execution_count": 133,
     "metadata": {},
     "output_type": "execute_result"
    }
   ],
   "source": [
    "x = \"hello my friends\"\n",
    "x.ljust(20)\n",
    "x.rjust(20)\n",
    "x.center(20)\n",
    "x.zfill(20)"
   ]
  }
 ],
 "metadata": {
  "kernelspec": {
   "display_name": "Python 3 (ipykernel)",
   "language": "python",
   "name": "python3"
  },
  "language_info": {
   "codemirror_mode": {
    "name": "ipython",
    "version": 3
   },
   "file_extension": ".py",
   "mimetype": "text/x-python",
   "name": "python",
   "nbconvert_exporter": "python",
   "pygments_lexer": "ipython3",
   "version": "3.9.7"
  }
 },
 "nbformat": 4,
 "nbformat_minor": 5
}
