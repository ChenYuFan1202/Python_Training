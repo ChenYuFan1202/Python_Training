{
 "cells": [
  {
   "cell_type": "code",
   "execution_count": 2,
   "id": "2aa59a48",
   "metadata": {},
   "outputs": [
    {
     "name": "stdout",
     "output_type": "stream",
     "text": [
      "C:\\Users\\Vick\\Python3\\Ch12\\a.ipynb\n"
     ]
    },
    {
     "data": {
      "text/plain": [
       "True"
      ]
     },
     "metadata": {},
     "output_type": "display_data"
    },
    {
     "data": {
      "text/plain": [
       "False"
      ]
     },
     "metadata": {},
     "output_type": "display_data"
    },
    {
     "data": {
      "text/plain": [
       "True"
      ]
     },
     "metadata": {},
     "output_type": "display_data"
    }
   ],
   "source": [
    "import os\n",
    "path = os.getcwd()\n",
    "new_path = path + \"\\\\a.ipynb\"\n",
    "print(new_path)\n",
    "display(os.path.exists(new_path))\n",
    "display(os.path.isdir(new_path))\n",
    "display(os.path.isfile(new_path))"
   ]
  },
  {
   "cell_type": "code",
   "execution_count": 3,
   "id": "666a9d34",
   "metadata": {},
   "outputs": [
    {
     "name": "stdout",
     "output_type": "stream",
     "text": [
      ".ipynb_checkpoints False\n",
      "a.ipynb True\n",
      "b.ipynb True\n"
     ]
    }
   ],
   "source": [
    "for entry in os.scandir(\".\"):\n",
    "    print(entry.name,entry.is_file())"
   ]
  },
  {
   "cell_type": "code",
   "execution_count": 4,
   "id": "0a25b8e7",
   "metadata": {},
   "outputs": [
    {
     "name": "stdout",
     "output_type": "stream",
     "text": [
      ".ipynb_checkpoints False\n",
      "a.ipynb True\n",
      "b.ipynb True\n"
     ]
    }
   ],
   "source": [
    "with os.scandir(\".\") as my_dir:\n",
    "    for entry in my_dir:\n",
    "        print(entry.name,entry.is_file())"
   ]
  },
  {
   "cell_type": "code",
   "execution_count": 5,
   "id": "4fe49b1d",
   "metadata": {},
   "outputs": [
    {
     "data": {
      "text/plain": [
       "['.ipynb_checkpoints', 'a.ipynb', 'b.ipynb']"
      ]
     },
     "execution_count": 5,
     "metadata": {},
     "output_type": "execute_result"
    }
   ],
   "source": [
    "#os.chdir(os.path.join(\"C:\",\"my documents\",\"tmp\"))\n",
    "os.listdir(os.curdir)"
   ]
  },
  {
   "cell_type": "code",
   "execution_count": 11,
   "id": "a2e8c410",
   "metadata": {},
   "outputs": [
    {
     "data": {
      "text/plain": [
       "['1.tmp', '7.tmp']"
      ]
     },
     "execution_count": 11,
     "metadata": {},
     "output_type": "execute_result"
    }
   ],
   "source": [
    "import glob\n",
    "glob.glob(\"*\")\n",
    "glob.glob(\"*bkp\")\n",
    "glob.glob(\"?.tmp\")\n",
    "glob.glob(\"[0-9].tmp\")"
   ]
  },
  {
   "cell_type": "code",
   "execution_count": 14,
   "id": "64bed5a9",
   "metadata": {},
   "outputs": [
    {
     "data": {
      "text/plain": [
       "['.ipynb_checkpoints',\n",
       " '1.tmp',\n",
       " '7.tmp',\n",
       " 'a.ipynb',\n",
       " 'a.tmp',\n",
       " 'b.ipynb',\n",
       " 'registry.bkp.old']"
      ]
     },
     "execution_count": 14,
     "metadata": {},
     "output_type": "execute_result"
    }
   ],
   "source": [
    "#os.rename(\"registry.bkp\",\"registry.bkp.old\")\n",
    "os.listdir(os.curdir)"
   ]
  },
  {
   "cell_type": "code",
   "execution_count": 17,
   "id": "1780b3a2",
   "metadata": {},
   "outputs": [],
   "source": [
    "os.rename(\"7.tmp\",os.path.join(os.pardir,\"7.tmp\"))"
   ]
  },
  {
   "cell_type": "code",
   "execution_count": 8,
   "id": "efd6fab4",
   "metadata": {},
   "outputs": [
    {
     "data": {
      "text/plain": [
       "['.ipynb_checkpoints',\n",
       " 'a.ipynb',\n",
       " 'a.tmp',\n",
       " 'b.ipynb',\n",
       " 'backup',\n",
       " 'd1',\n",
       " 'mydir1',\n",
       " 'mydir2']"
      ]
     },
     "execution_count": 8,
     "metadata": {},
     "output_type": "execute_result"
    }
   ],
   "source": [
    "import os\n",
    "#os.remove(\"1.tmp\")\n",
    "os.listdir(os.curdir)"
   ]
  },
  {
   "cell_type": "code",
   "execution_count": 22,
   "id": "64a19a7d",
   "metadata": {},
   "outputs": [],
   "source": [
    "# os.mkdir(\"mydir\")\n",
    "os.listdir(os.curdir)\n",
    "os.path.isdir(\"mydir\")\n",
    "os.makedirs(os.path.join(\"d1\",\"d2\"))"
   ]
  },
  {
   "cell_type": "code",
   "execution_count": 23,
   "id": "7fc73015",
   "metadata": {},
   "outputs": [],
   "source": [
    "os.rmdir(\"mydir\")"
   ]
  },
  {
   "cell_type": "code",
   "execution_count": 3,
   "id": "589e63a4",
   "metadata": {},
   "outputs": [
    {
     "data": {
      "text/plain": [
       "[WindowsPath('.ipynb_checkpoints'),\n",
       " WindowsPath('a.ipynb'),\n",
       " WindowsPath('a.tmp'),\n",
       " WindowsPath('b.ipynb'),\n",
       " WindowsPath('backup'),\n",
       " WindowsPath('d1'),\n",
       " WindowsPath('mydir1'),\n",
       " WindowsPath('mydir2')]"
      ]
     },
     "execution_count": 3,
     "metadata": {},
     "output_type": "execute_result"
    }
   ],
   "source": [
    "from pathlib import Path\n",
    "cur_path = Path()\n",
    "list(cur_path.iterdir())\n",
    "# new_path = cur_path.joinpath(\"C:\\\\\",\"Users\",\"Vick\",\"Python3\",\"Ch12\",\"tmp\")\n",
    "# list(new_path.iterdir())"
   ]
  },
  {
   "cell_type": "code",
   "execution_count": 12,
   "id": "caff4098",
   "metadata": {},
   "outputs": [
    {
     "data": {
      "text/plain": [
       "[]"
      ]
     },
     "execution_count": 12,
     "metadata": {},
     "output_type": "execute_result"
    }
   ],
   "source": [
    "list(cur_path.glob(\"*\"))\n",
    "list(cur_path.glob(\"*bkp\"))\n",
    "list(cur_path.glob(\"?.tmp\"))\n",
    "list(cur_path.glob(\"[0-9].tmp\"))"
   ]
  },
  {
   "cell_type": "code",
   "execution_count": 14,
   "id": "6f492932",
   "metadata": {},
   "outputs": [
    {
     "data": {
      "text/plain": [
       "[WindowsPath('.ipynb_checkpoints'),\n",
       " WindowsPath('a.ipynb'),\n",
       " WindowsPath('a.tmp'),\n",
       " WindowsPath('b.ipynb'),\n",
       " WindowsPath('d1'),\n",
       " WindowsPath('registry.bkp')]"
      ]
     },
     "execution_count": 14,
     "metadata": {},
     "output_type": "execute_result"
    }
   ],
   "source": [
    "old_path = Path(\"registry.bkp.old\")\n",
    "new_path = Path(\"registry.bkp\")\n",
    "old_path.rename(new_path)\n",
    "list(cur_path.iterdir())"
   ]
  },
  {
   "cell_type": "code",
   "execution_count": 15,
   "id": "9443fa89",
   "metadata": {},
   "outputs": [
    {
     "data": {
      "text/plain": [
       "[WindowsPath('.ipynb_checkpoints'),\n",
       " WindowsPath('a.ipynb'),\n",
       " WindowsPath('a.tmp'),\n",
       " WindowsPath('b.ipynb'),\n",
       " WindowsPath('d1')]"
      ]
     },
     "execution_count": 15,
     "metadata": {},
     "output_type": "execute_result"
    }
   ],
   "source": [
    "new_path = Path(\"registry.bkp\")\n",
    "new_path.unlink()\n",
    "list(cur_path.iterdir())"
   ]
  },
  {
   "cell_type": "code",
   "execution_count": 14,
   "id": "c15d6831",
   "metadata": {},
   "outputs": [
    {
     "data": {
      "text/plain": [
       "True"
      ]
     },
     "execution_count": 14,
     "metadata": {},
     "output_type": "execute_result"
    }
   ],
   "source": [
    "#import os\n",
    "# new_path = Path(\"mydir1\")\n",
    "# new_path.mkdir()\n",
    "cur_path.iterdir()\n",
    "new_path.is_dir()\n",
    "#new_path.is_dir(\"mydir1\")"
   ]
  },
  {
   "cell_type": "code",
   "execution_count": 45,
   "id": "04ac7511",
   "metadata": {},
   "outputs": [
    {
     "data": {
      "text/plain": [
       "[WindowsPath('.ipynb_checkpoints'),\n",
       " WindowsPath('a.ipynb'),\n",
       " WindowsPath('a.tmp'),\n",
       " WindowsPath('b.ipynb'),\n",
       " WindowsPath('d1'),\n",
       " WindowsPath('mydir1'),\n",
       " WindowsPath('mydir2'),\n",
       " WindowsPath('mydir2.5')]"
      ]
     },
     "execution_count": 45,
     "metadata": {},
     "output_type": "execute_result"
    }
   ],
   "source": [
    "new_path = Path(os.path.join(\"mydir2\",\"mydir3\"))\n",
    "new_path.mkdir(parents=True)\n",
    "list(cur_path.iterdir())"
   ]
  },
  {
   "cell_type": "code",
   "execution_count": 11,
   "id": "9a231563",
   "metadata": {},
   "outputs": [
    {
     "data": {
      "text/plain": [
       "<generator object Path.iterdir at 0x000001ADAEEF9BA0>"
      ]
     },
     "execution_count": 11,
     "metadata": {},
     "output_type": "execute_result"
    }
   ],
   "source": [
    "new_path = Path(\"mydir1\")\n",
    "new_path.rmdir()\n",
    "cur_path.iterdir()"
   ]
  },
  {
   "cell_type": "code",
   "execution_count": 60,
   "id": "0a2d4be8",
   "metadata": {},
   "outputs": [
    {
     "name": "stdout",
     "output_type": "stream",
     "text": [
      "['.ipynb_checkpoints', 'a.ipynb', 'a.tmp', 'b.ipynb', 'd1', 'mydir1', 'mydir2', 'test1.txt', 'test2.txt']\n",
      "24\n"
     ]
    }
   ],
   "source": [
    "import os,glob\n",
    "print(os.listdir(os.curdir))\n",
    "file_size = 0\n",
    "for file in glob.glob(\"*.txt\"):\n",
    "    file_size += os.path.getsize(file)\n",
    "print(file_size)"
   ]
  },
  {
   "cell_type": "code",
   "execution_count": 84,
   "id": "1c88fef6",
   "metadata": {},
   "outputs": [
    {
     "name": "stdout",
     "output_type": "stream",
     "text": [
      "24\n"
     ]
    }
   ],
   "source": [
    "from pathlib import Path\n",
    "cur_path = Path(\".\")\n",
    "#print(list(cur_path.iterdir()))\n",
    "txt_file = list(cur_path.glob(\"*.txt\"))\n",
    "\n",
    "file_size = 0\n",
    "for file in txt_file:\n",
    "    file_size += file.stat().st_size\n",
    "print(file_size)"
   ]
  },
  {
   "cell_type": "code",
   "execution_count": 83,
   "id": "d7418ba1",
   "metadata": {},
   "outputs": [
    {
     "name": "stdout",
     "output_type": "stream",
     "text": [
      "24\n"
     ]
    }
   ],
   "source": [
    "import pathlib\n",
    "cur_path = pathlib.Path(\".\")\n",
    "size = 0\n",
    "for text_path in cur_path.glob(\"*.txt\"):\n",
    "    if not text_path.is_symlink():\n",
    "        size += text_path.stat().st_size\n",
    "        \n",
    "print(size)"
   ]
  },
  {
   "cell_type": "code",
   "execution_count": 122,
   "id": "b63ddecd",
   "metadata": {},
   "outputs": [],
   "source": [
    "import pathlib\n",
    "cur_path = pathlib.Path(\".\")\n",
    "#list(cur_path.iterdir())\n",
    "new_path = pathlib.Path(\"backup1\")\n",
    "new_path.mkdir()"
   ]
  },
  {
   "cell_type": "code",
   "execution_count": 21,
   "id": "c7cbaa0e",
   "metadata": {},
   "outputs": [
    {
     "name": "stdout",
     "output_type": "stream",
     "text": [
      "30\n"
     ]
    }
   ],
   "source": [
    "import pathlib\n",
    "cur_path = pathlib.Path(\".\")\n",
    "new_path = cur_path.joinpath(\"backup\")\n",
    "size = 0\n",
    "for text_path in cur_path.glob(\"*.txt\"):\n",
    "    if not text_path.is_symlink():\n",
    "        size += text_path.stat().st_size\n",
    "        text_path.rename(new_path.joinpath(text_path.name))\n",
    "        \n",
    "print(size)"
   ]
  },
  {
   "cell_type": "code",
   "execution_count": 20,
   "id": "5423dcbe",
   "metadata": {},
   "outputs": [
    {
     "name": "stdout",
     "output_type": "stream",
     "text": [
      "30\n"
     ]
    }
   ],
   "source": [
    "from pathlib import Path\n",
    "cur_path = Path(\".\")\n",
    "new_path = cur_path.joinpath(\"backup\")\n",
    "\n",
    "file_size = 0\n",
    "for file in cur_path.glob(\"*.txt\"):\n",
    "    if not file.is_symlink():\n",
    "        file_size += file.stat().st_size\n",
    "        file.rename(new_path.joinpath(file))\n",
    "print(file_size)"
   ]
  },
  {
   "cell_type": "code",
   "execution_count": 123,
   "id": "dde6cd15",
   "metadata": {},
   "outputs": [],
   "source": [
    "new_path = Path(\"backup1\")\n",
    "new_path.rmdir()"
   ]
  },
  {
   "cell_type": "code",
   "execution_count": 26,
   "id": "218d4aaf",
   "metadata": {},
   "outputs": [
    {
     "name": "stdout",
     "output_type": "stream",
     "text": [
      "('temp', ['.ipynb_checkpoints', 'dir1', 'dir2'], ['file1.txt'])\n",
      "('temp\\\\.ipynb_checkpoints', [], [])\n",
      "('temp\\\\dir1', ['.ipynb_checkpoints'], ['file2.txt'])\n",
      "('temp\\\\dir1\\\\.ipynb_checkpoints', [], [])\n",
      "('temp\\\\dir2', ['.ipynb_checkpoints', 'dir3'], ['file3.txt'])\n",
      "('temp\\\\dir2\\\\.ipynb_checkpoints', [], [])\n",
      "('temp\\\\dir2\\\\dir3', ['.ipynb_checkpoints'], ['file4.txt'])\n",
      "('temp\\\\dir2\\\\dir3\\\\.ipynb_checkpoints', [], [])\n"
     ]
    }
   ],
   "source": [
    "cur_path = Path(\".\")\n",
    "list(cur_path.iterdir())\n",
    "for entry in os.walk(\"temp\"):\n",
    "    print(entry)"
   ]
  },
  {
   "cell_type": "code",
   "execution_count": 27,
   "id": "664274cb",
   "metadata": {},
   "outputs": [
    {
     "name": "stdout",
     "output_type": "stream",
     "text": [
      "('temp\\\\.ipynb_checkpoints', [], [])\n",
      "('temp\\\\dir1\\\\.ipynb_checkpoints', [], [])\n",
      "('temp\\\\dir1', ['.ipynb_checkpoints'], ['file2.txt'])\n",
      "('temp\\\\dir2\\\\.ipynb_checkpoints', [], [])\n",
      "('temp\\\\dir2\\\\dir3\\\\.ipynb_checkpoints', [], [])\n",
      "('temp\\\\dir2\\\\dir3', ['.ipynb_checkpoints'], ['file4.txt'])\n",
      "('temp\\\\dir2', ['.ipynb_checkpoints', 'dir3'], ['file3.txt'])\n",
      "('temp', ['.ipynb_checkpoints', 'dir1', 'dir2'], ['file1.txt'])\n"
     ]
    }
   ],
   "source": [
    "for entry in os.walk(\"temp\",topdown=False):\n",
    "    print(entry)"
   ]
  },
  {
   "cell_type": "code",
   "execution_count": 28,
   "id": "d2ab70ef",
   "metadata": {},
   "outputs": [
    {
     "name": "stdout",
     "output_type": "stream",
     "text": [
      ". has 3 files\n",
      ".\\.ipynb_checkpoints has 2 files\n",
      ".\\backup has 3 files\n",
      ".\\backup\\.ipynb_checkpoints has 0 files\n",
      ".\\d1 has 0 files\n",
      ".\\d1\\d2 has 0 files\n",
      ".\\mydir1 has 0 files\n",
      ".\\mydir2 has 0 files\n",
      ".\\mydir2\\mydir3 has 0 files\n",
      ".\\temp has 1 files\n",
      ".\\temp\\.ipynb_checkpoints has 0 files\n",
      ".\\temp\\dir1 has 1 files\n",
      ".\\temp\\dir1\\.ipynb_checkpoints has 0 files\n",
      ".\\temp\\dir2 has 1 files\n",
      ".\\temp\\dir2\\.ipynb_checkpoints has 0 files\n",
      ".\\temp\\dir2\\dir3 has 1 files\n",
      ".\\temp\\dir2\\dir3\\.ipynb_checkpoints has 0 files\n"
     ]
    }
   ],
   "source": [
    "import os\n",
    "for root,dirs,files in os.walk(os.curdir):\n",
    "    print(\"{0} has {1} files\".format(root,len(files)))\n",
    "    if \".git\" in dirs:\n",
    "        dirs.remove(\".git\")"
   ]
  }
 ],
 "metadata": {
  "kernelspec": {
   "display_name": "Python 3 (ipykernel)",
   "language": "python",
   "name": "python3"
  },
  "language_info": {
   "codemirror_mode": {
    "name": "ipython",
    "version": 3
   },
   "file_extension": ".py",
   "mimetype": "text/x-python",
   "name": "python",
   "nbconvert_exporter": "python",
   "pygments_lexer": "ipython3",
   "version": "3.9.7"
  }
 },
 "nbformat": 4,
 "nbformat_minor": 5
}
