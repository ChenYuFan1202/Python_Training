{
 "cells": [
  {
   "cell_type": "code",
   "execution_count": 2,
   "id": "0e419f84",
   "metadata": {},
   "outputs": [
    {
     "data": {
      "text/plain": [
       "'C:\\\\Users\\\\Vick\\\\Python3\\\\Ch12'"
      ]
     },
     "execution_count": 2,
     "metadata": {},
     "output_type": "execute_result"
    }
   ],
   "source": [
    "import os\n",
    "os.getcwd()"
   ]
  },
  {
   "cell_type": "code",
   "execution_count": 3,
   "id": "308c89e1",
   "metadata": {},
   "outputs": [
    {
     "data": {
      "text/plain": [
       "['.ipynb_checkpoints', 'a.ipynb', 'b.ipynb']"
      ]
     },
     "execution_count": 3,
     "metadata": {},
     "output_type": "execute_result"
    }
   ],
   "source": [
    "os.listdir(os.curdir)"
   ]
  },
  {
   "cell_type": "code",
   "execution_count": 4,
   "id": "95097a97",
   "metadata": {},
   "outputs": [
    {
     "data": {
      "text/plain": [
       "['.ipynb_checkpoints', 'a.ipynb', 'b.ipynb']"
      ]
     },
     "execution_count": 4,
     "metadata": {},
     "output_type": "execute_result"
    }
   ],
   "source": [
    "os.listdir(\".\")"
   ]
  },
  {
   "cell_type": "code",
   "execution_count": 5,
   "id": "81cdac9d",
   "metadata": {
    "scrolled": false
   },
   "outputs": [
    {
     "data": {
      "text/plain": [
       "'C:\\\\'"
      ]
     },
     "metadata": {},
     "output_type": "display_data"
    },
    {
     "data": {
      "text/plain": [
       "['$Recycle.Bin',\n",
       " '$WinREAgent',\n",
       " 'Documents and Settings',\n",
       " 'DumpStack.log',\n",
       " 'DumpStack.log.tmp',\n",
       " 'hiberfil.sys',\n",
       " 'hp',\n",
       " 'hpswsetup',\n",
       " 'Intel',\n",
       " 'OneDriveTemp',\n",
       " 'pagefile.sys',\n",
       " 'PerfLogs',\n",
       " 'Program Files',\n",
       " 'Program Files (x86)',\n",
       " 'ProgramData',\n",
       " 'Recovery',\n",
       " 'swapfile.sys',\n",
       " 'SWSetup',\n",
       " 'System Volume Information',\n",
       " 'System.sav',\n",
       " 'test',\n",
       " 'Users',\n",
       " 'Windows']"
      ]
     },
     "execution_count": 5,
     "metadata": {},
     "output_type": "execute_result"
    }
   ],
   "source": [
    "os.chdir(\"C:\\\\\")\n",
    "display(os.getcwd())\n",
    "os.listdir(os.curdir)"
   ]
  },
  {
   "cell_type": "code",
   "execution_count": 6,
   "id": "c494fe18",
   "metadata": {},
   "outputs": [
    {
     "data": {
      "text/plain": [
       "'C:\\\\Windows\\\\temp'"
      ]
     },
     "execution_count": 6,
     "metadata": {},
     "output_type": "execute_result"
    }
   ],
   "source": [
    "os.chdir(\"C:/Windows/temp\")\n",
    "os.getcwd()"
   ]
  },
  {
   "cell_type": "code",
   "execution_count": 7,
   "id": "2bcc57fa",
   "metadata": {},
   "outputs": [
    {
     "data": {
      "text/plain": [
       "WindowsPath('C:/Windows/temp')"
      ]
     },
     "execution_count": 7,
     "metadata": {},
     "output_type": "execute_result"
    }
   ],
   "source": [
    "import pathlib\n",
    "cur_path = pathlib.Path()\n",
    "cur_path.cwd()"
   ]
  },
  {
   "cell_type": "code",
   "execution_count": 8,
   "id": "df91f9f8",
   "metadata": {},
   "outputs": [
    {
     "name": "stdout",
     "output_type": "stream",
     "text": [
      "bin\\utils\\disktools\n"
     ]
    },
    {
     "data": {
      "text/plain": [
       "'bin\\\\utils\\\\disktools'"
      ]
     },
     "execution_count": 8,
     "metadata": {},
     "output_type": "execute_result"
    }
   ],
   "source": [
    "import os\n",
    "print(os.path.join(\"bin\",\"utils\",\"disktools\"))\n",
    "os.path.join(\"bin\",\"utils\",\"disktools\")"
   ]
  },
  {
   "cell_type": "code",
   "execution_count": 9,
   "id": "2876fbd8",
   "metadata": {},
   "outputs": [
    {
     "name": "stdout",
     "output_type": "stream",
     "text": [
      "mydir\\bin\\utils\\disktools\\chkdisk\n"
     ]
    }
   ],
   "source": [
    "import os\n",
    "print(os.path.join(\"mydir\\\\bin\",\"utils\\\\disktools\\\\chkdisk\"))"
   ]
  },
  {
   "cell_type": "code",
   "execution_count": 10,
   "id": "1de42134",
   "metadata": {},
   "outputs": [
    {
     "name": "stdout",
     "output_type": "stream",
     "text": [
      "mydir\\bin\\utils\\disktools\\chkdisk\n"
     ]
    }
   ],
   "source": [
    "import os\n",
    "path1 = os.path.join(\"mydir\",\"bin\")\n",
    "path2 = os.path.join(\"utils\",\"disktools\",\"chkdisk\")\n",
    "print(os.path.join(path1,path2))"
   ]
  },
  {
   "cell_type": "code",
   "execution_count": 11,
   "id": "e4f93aa1",
   "metadata": {},
   "outputs": [
    {
     "data": {
      "text/plain": [
       "('some\\\\directory', 'path.jpg')"
      ]
     },
     "execution_count": 11,
     "metadata": {},
     "output_type": "execute_result"
    }
   ],
   "source": [
    "import os\n",
    "os.path.split(os.path.join(\"some\",\"directory\",\"path.jpg\"))"
   ]
  },
  {
   "cell_type": "code",
   "execution_count": 12,
   "id": "2b258784",
   "metadata": {},
   "outputs": [
    {
     "data": {
      "text/plain": [
       "'path.jpg'"
      ]
     },
     "execution_count": 12,
     "metadata": {},
     "output_type": "execute_result"
    }
   ],
   "source": [
    "import os\n",
    "os.path.basename(os.path.join(\"some\",\"directory\",\"path.jpg\"))"
   ]
  },
  {
   "cell_type": "code",
   "execution_count": 13,
   "id": "d4cd3efe",
   "metadata": {},
   "outputs": [
    {
     "data": {
      "text/plain": [
       "'some\\\\directory'"
      ]
     },
     "execution_count": 13,
     "metadata": {},
     "output_type": "execute_result"
    }
   ],
   "source": [
    "import os\n",
    "os.path.dirname(os.path.join(\"some\",\"directory\",\"path.jpg\"))"
   ]
  },
  {
   "cell_type": "code",
   "execution_count": 14,
   "id": "c839ab6f",
   "metadata": {},
   "outputs": [
    {
     "data": {
      "text/plain": [
       "('some\\\\directory\\\\path', '.jpg')"
      ]
     },
     "execution_count": 14,
     "metadata": {},
     "output_type": "execute_result"
    }
   ],
   "source": [
    "import os\n",
    "os.path.splitext(os.path.join(\"some\",\"directory\",\"path.jpg\"))"
   ]
  },
  {
   "cell_type": "code",
   "execution_count": 15,
   "id": "57775380",
   "metadata": {},
   "outputs": [
    {
     "data": {
      "text/plain": [
       "'C:\\\\Windows\\\\temp\\\\path.jpg'"
      ]
     },
     "execution_count": 15,
     "metadata": {},
     "output_type": "execute_result"
    }
   ],
   "source": [
    "import os\n",
    "os.path.abspath(\"path.jpg\")"
   ]
  },
  {
   "cell_type": "code",
   "execution_count": 16,
   "id": "26abbb25",
   "metadata": {},
   "outputs": [
    {
     "data": {
      "text/plain": [
       "'C:\\\\temp\\\\'"
      ]
     },
     "execution_count": 16,
     "metadata": {},
     "output_type": "execute_result"
    }
   ],
   "source": [
    "import os\n",
    "os.path.commonprefix([\"C:\\\\temp\\\\a.jpg\",\"C:\\\\temp\\\\b.jpg\"])"
   ]
  },
  {
   "cell_type": "code",
   "execution_count": 17,
   "id": "08c07c38",
   "metadata": {},
   "outputs": [
    {
     "data": {
      "text/plain": [
       "'C:\\\\Users\\\\Vick\\\\temp'"
      ]
     },
     "execution_count": 17,
     "metadata": {},
     "output_type": "execute_result"
    }
   ],
   "source": [
    "import os\n",
    "os.path.expanduser(\"~\\\\temp\")"
   ]
  },
  {
   "cell_type": "code",
   "execution_count": 18,
   "id": "7cb33e25",
   "metadata": {},
   "outputs": [
    {
     "data": {
      "text/plain": [
       "'$HOME\\\\temp'"
      ]
     },
     "execution_count": 18,
     "metadata": {},
     "output_type": "execute_result"
    }
   ],
   "source": [
    "import os\n",
    "os.path.expandvars(\"$HOME\\\\temp\")"
   ]
  },
  {
   "cell_type": "code",
   "execution_count": 19,
   "id": "70a0ebe6",
   "metadata": {},
   "outputs": [
    {
     "name": "stdout",
     "output_type": "stream",
     "text": [
      "bin\\utils\\disktools\n"
     ]
    }
   ],
   "source": [
    "from pathlib import Path\n",
    "cur_path = Path()\n",
    "print(cur_path.joinpath(\"bin\",\"utils\",\"disktools\"))"
   ]
  },
  {
   "cell_type": "code",
   "execution_count": 20,
   "id": "895875fc",
   "metadata": {},
   "outputs": [
    {
     "name": "stdout",
     "output_type": "stream",
     "text": [
      "bin\\utils\\disktools\n"
     ]
    }
   ],
   "source": [
    "print(cur_path/\"bin\"/\"utils\"/\"disktools\")"
   ]
  },
  {
   "cell_type": "code",
   "execution_count": 36,
   "id": "97cddf57",
   "metadata": {},
   "outputs": [
    {
     "name": "stdout",
     "output_type": "stream",
     "text": [
      "('bin', 'utils', 'disktools')\n"
     ]
    }
   ],
   "source": [
    "a_path = Path(\"bin/utils/disktools\")\n",
    "print(a_path.parts)"
   ]
  },
  {
   "cell_type": "code",
   "execution_count": 22,
   "id": "edf8d711",
   "metadata": {},
   "outputs": [
    {
     "data": {
      "text/plain": [
       "WindowsPath('C:/Windows/Temp')"
      ]
     },
     "execution_count": 22,
     "metadata": {},
     "output_type": "execute_result"
    }
   ],
   "source": [
    "a_path = Path(\".\")\n",
    "a_path.resolve()"
   ]
  },
  {
   "cell_type": "code",
   "execution_count": 23,
   "id": "77f09334",
   "metadata": {},
   "outputs": [
    {
     "data": {
      "text/plain": [
       "'path.jpg'"
      ]
     },
     "metadata": {},
     "output_type": "display_data"
    },
    {
     "name": "stdout",
     "output_type": "stream",
     "text": [
      "some\\directory\n"
     ]
    },
    {
     "data": {
      "text/plain": [
       "'.jpg'"
      ]
     },
     "execution_count": 23,
     "metadata": {},
     "output_type": "execute_result"
    }
   ],
   "source": [
    "a_path = Path(\"some\",\"directory\",\"path.jpg\")\n",
    "display(a_path.name)\n",
    "print(a_path.parent)\n",
    "a_path.suffix"
   ]
  },
  {
   "cell_type": "code",
   "execution_count": 24,
   "id": "da1faa07",
   "metadata": {},
   "outputs": [
    {
     "data": {
      "text/plain": [
       "'C:\\\\Windows\\\\temp\\\\..\\\\.'"
      ]
     },
     "execution_count": 24,
     "metadata": {},
     "output_type": "execute_result"
    }
   ],
   "source": [
    "import os\n",
    "os.path.join(\"C:\\\\Windows\\\\temp\",os.pardir,os.curdir)"
   ]
  },
  {
   "cell_type": "code",
   "execution_count": 25,
   "id": "c14801e9",
   "metadata": {},
   "outputs": [
    {
     "data": {
      "text/plain": [
       "True"
      ]
     },
     "execution_count": 25,
     "metadata": {},
     "output_type": "execute_result"
    }
   ],
   "source": [
    "os.path.isdir(os.path.join(\"C:\\\\Windows\\\\temp\",os.pardir,os.curdir))"
   ]
  },
  {
   "cell_type": "code",
   "execution_count": 26,
   "id": "48b0d6c6",
   "metadata": {},
   "outputs": [
    {
     "data": {
      "text/plain": [
       "'nt'"
      ]
     },
     "execution_count": 26,
     "metadata": {},
     "output_type": "execute_result"
    }
   ],
   "source": [
    "os.name"
   ]
  },
  {
   "cell_type": "code",
   "execution_count": 38,
   "id": "de5975c4",
   "metadata": {},
   "outputs": [
    {
     "name": "stdout",
     "output_type": "stream",
     "text": [
      "C:\\\n"
     ]
    }
   ],
   "source": [
    "import os\n",
    "if os.name == \"posix\":\n",
    "    root_dir = \"/\"\n",
    "elif os.name == \"nt\":\n",
    "    root_dir = \"C:\\\\\"\n",
    "else:\n",
    "    print(\"無法判定目前所處的作業系統!\")\n",
    "print(root_dir)"
   ]
  },
  {
   "cell_type": "code",
   "execution_count": 28,
   "id": "2b6e7f56",
   "metadata": {},
   "outputs": [
    {
     "data": {
      "text/plain": [
       "'win32'"
      ]
     },
     "execution_count": 28,
     "metadata": {},
     "output_type": "execute_result"
    }
   ],
   "source": [
    "import sys\n",
    "sys.platform"
   ]
  },
  {
   "cell_type": "code",
   "execution_count": 29,
   "id": "ba08dcc4",
   "metadata": {},
   "outputs": [
    {
     "data": {
      "text/plain": [
       "'C:\\\\Users\\\\Vick\\\\anaconda3;C:\\\\Users\\\\Vick\\\\anaconda3\\\\Library\\\\mingw-w64\\\\bin;C:\\\\Users\\\\Vick\\\\anaconda3\\\\Library\\\\usr\\\\bin;C:\\\\Users\\\\Vick\\\\anaconda3\\\\Library\\\\bin;C:\\\\Users\\\\Vick\\\\anaconda3\\\\Scripts;C:\\\\Program Files\\\\Common Files\\\\Oracle\\\\Java\\\\javapath;C:\\\\windows\\\\system32;C:\\\\windows;C:\\\\windows\\\\System32\\\\Wbem;C:\\\\windows\\\\System32\\\\WindowsPowerShell\\\\v1.0\\\\;C:\\\\windows\\\\System32\\\\OpenSSH\\\\;C:\\\\Program Files (x86)\\\\NVIDIA Corporation\\\\PhysX\\\\Common;C:\\\\Users\\\\Vick\\\\bin;C:\\\\Users\\\\Vick\\\\AppData\\\\Local\\\\Microsoft\\\\WindowsApps;'"
      ]
     },
     "execution_count": 29,
     "metadata": {},
     "output_type": "execute_result"
    }
   ],
   "source": [
    "import os\n",
    "os.environ[\"PATH\"]"
   ]
  },
  {
   "cell_type": "code",
   "execution_count": 30,
   "id": "a420fdaa",
   "metadata": {},
   "outputs": [
    {
     "name": "stdout",
     "output_type": "stream",
     "text": [
      "C:\\Users\\Vick\\Python3\\Ch12\\test.log\n",
      "C:\\Users\\Vick\\Python3\\Ch12\\test.log.old\n"
     ]
    }
   ],
   "source": [
    "import os\n",
    "os.chdir('C:\\\\Users\\\\Vick\\\\Python3\\\\Ch12')\n",
    "old_path = os.path.abspath(\"test.log\")\n",
    "print(old_path)\n",
    "new_path = \"{}.{}\".format(old_path,\"old\")\n",
    "print(new_path)"
   ]
  },
  {
   "cell_type": "code",
   "execution_count": 40,
   "id": "8a4d68ce",
   "metadata": {},
   "outputs": [
    {
     "name": "stdout",
     "output_type": "stream",
     "text": [
      "test.log\n"
     ]
    },
    {
     "data": {
      "text/plain": [
       "'test.log.old'"
      ]
     },
     "execution_count": 40,
     "metadata": {},
     "output_type": "execute_result"
    }
   ],
   "source": [
    "import pathlib\n",
    "# old_path = pathlib.Path()\n",
    "# new_path = old_path.cwd()\n",
    "# print(old_path.joinpath(new_path,\"test.log\"))\n",
    "os.chdir('C:\\\\Users\\\\Vick\\\\Python3\\\\Ch12')\n",
    "path = pathlib.Path(\"test.log\")\n",
    "abs_path = path.resolve()\n",
    "print(abs_path)\n",
    "new_path = str(abs_path) + \".old\"\n",
    "new_path"
   ]
  },
  {
   "cell_type": "code",
   "execution_count": 32,
   "id": "2db8f6c9",
   "metadata": {},
   "outputs": [
    {
     "name": "stdout",
     "output_type": "stream",
     "text": [
      "..\n",
      "C:\\Users\\Vick\\Python3\n"
     ]
    }
   ],
   "source": [
    "import pathlib\n",
    "test_path = pathlib.Path(os.pardir)\n",
    "print(test_path)\n",
    "print(test_path.resolve())"
   ]
  }
 ],
 "metadata": {
  "kernelspec": {
   "display_name": "Python 3 (ipykernel)",
   "language": "python",
   "name": "python3"
  },
  "language_info": {
   "codemirror_mode": {
    "name": "ipython",
    "version": 3
   },
   "file_extension": ".py",
   "mimetype": "text/x-python",
   "name": "python",
   "nbconvert_exporter": "python",
   "pygments_lexer": "ipython3",
   "version": "3.9.7"
  }
 },
 "nbformat": 4,
 "nbformat_minor": 5
}
