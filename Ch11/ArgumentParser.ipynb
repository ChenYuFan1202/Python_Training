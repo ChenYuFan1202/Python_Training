{
 "cells": [
  {
   "cell_type": "code",
   "execution_count": 3,
   "id": "9b162719",
   "metadata": {},
   "outputs": [
    {
     "data": {
      "text/plain": [
       "ArgumentParser(prog='ipykernel_launcher.py', usage=None, description=None, formatter_class=<class 'argparse.HelpFormatter'>, conflict_handler='error', add_help=True)"
      ]
     },
     "execution_count": 3,
     "metadata": {},
     "output_type": "execute_result"
    }
   ],
   "source": [
    "from argparse import ArgumentParser\n",
    "parser = ArgumentParser()\n",
    "parser"
   ]
  },
  {
   "cell_type": "code",
   "execution_count": 4,
   "id": "2107094b",
   "metadata": {},
   "outputs": [
    {
     "data": {
      "text/plain": [
       "_StoreAction(option_strings=['-x', '--xray'], dest='xray', nargs=None, const=None, default=None, type=None, choices=None, help='specify xray strength factor', metavar=None)"
      ]
     },
     "execution_count": 4,
     "metadata": {},
     "output_type": "execute_result"
    }
   ],
   "source": [
    "parser.add_argument(\"input_file\",help=\"read data from this file\")\n",
    "parser.add_argument(\"-x\",\"--xray\",help=\"specify xray strength factor\")"
   ]
  },
  {
   "cell_type": "code",
   "execution_count": 10,
   "id": "2fd23658",
   "metadata": {},
   "outputs": [
    {
     "data": {
      "text/plain": [
       "'2'"
      ]
     },
     "execution_count": 10,
     "metadata": {},
     "output_type": "execute_result"
    }
   ],
   "source": [
    "args = parser.parse_args([\"-x\",\"2\",\"filename\"])\n",
    "args.input_file\n",
    "args.xray"
   ]
  },
  {
   "cell_type": "code",
   "execution_count": 18,
   "id": "69f72ef5",
   "metadata": {},
   "outputs": [
    {
     "name": "stdout",
     "output_type": "stream",
     "text": [
      "usage: ipykernel_launcher.py [-h] [-x XRAY] input_file\n",
      "\n",
      "positional arguments:\n",
      "  input_file            read data from this file\n",
      "\n",
      "optional arguments:\n",
      "  -h, --help            show this help message and exit\n",
      "  -x XRAY, --xray XRAY  specify xray strength factor\n"
     ]
    },
    {
     "ename": "SystemExit",
     "evalue": "0",
     "output_type": "error",
     "traceback": [
      "An exception has occurred, use %tb to see the full traceback.\n",
      "\u001b[1;31mSystemExit\u001b[0m\u001b[1;31m:\u001b[0m 0\n"
     ]
    }
   ],
   "source": [
    "args = parser.parse_args([\"filename\"])\n",
    "args = parser.parse_args([\"-x\",\"2\",\"filename\"])\n",
    "parser.parse_args([\"-h\"])"
   ]
  },
  {
   "cell_type": "code",
   "execution_count": 19,
   "id": "7c524621",
   "metadata": {},
   "outputs": [
    {
     "data": {
      "text/plain": [
       "_StoreAction(option_strings=[], dest='indent', nargs=None, const=None, default=None, type=<class 'int'>, choices=None, help='indent for report', metavar=None)"
      ]
     },
     "execution_count": 19,
     "metadata": {},
     "output_type": "execute_result"
    }
   ],
   "source": [
    "parser.add_argument(\"indent\",type=int,help=\"indent for report\")"
   ]
  },
  {
   "cell_type": "code",
   "execution_count": 20,
   "id": "0d63898d",
   "metadata": {},
   "outputs": [
    {
     "data": {
      "text/plain": [
       "_StoreFalseAction(option_strings=['-q', '--quiet'], dest='verbose', nargs=0, const=False, default=True, type=None, choices=None, help=\"don't print status messages to stdout\", metavar=None)"
      ]
     },
     "execution_count": 20,
     "metadata": {},
     "output_type": "execute_result"
    }
   ],
   "source": [
    "parser.add_argument(\"-q\",\"--quiet\",action=\"store_false\",dest=\"verbose\",default=True,\n",
    "                   help = \"don't print status messages to stdout\")"
   ]
  }
 ],
 "metadata": {
  "kernelspec": {
   "display_name": "Python 3 (ipykernel)",
   "language": "python",
   "name": "python3"
  },
  "language_info": {
   "codemirror_mode": {
    "name": "ipython",
    "version": 3
   },
   "file_extension": ".py",
   "mimetype": "text/x-python",
   "name": "python",
   "nbconvert_exporter": "python",
   "pygments_lexer": "ipython3",
   "version": "3.9.7"
  }
 },
 "nbformat": 4,
 "nbformat_minor": 5
}
