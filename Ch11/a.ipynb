{
 "cells": [
  {
   "cell_type": "code",
   "execution_count": 4,
   "id": "3a3d822a",
   "metadata": {},
   "outputs": [
    {
     "data": {
      "text/plain": [
       "['Python', 'Coding']"
      ]
     },
     "execution_count": 4,
     "metadata": {},
     "output_type": "execute_result"
    }
   ],
   "source": [
    "def compare_num_of_chars(string1):\n",
    "    return len(string1)\n",
    "\n",
    "word_list = [\"Python\",\"Coding\"]\n",
    "word_list.sort(key = compare_num_of_chars)\n",
    "word_list"
   ]
  },
  {
   "cell_type": "code",
   "execution_count": 5,
   "id": "dcf41c00",
   "metadata": {},
   "outputs": [
    {
     "data": {
      "text/plain": [
       "['Python', 'Coding']"
      ]
     },
     "execution_count": 5,
     "metadata": {},
     "output_type": "execute_result"
    }
   ],
   "source": [
    "# def compare_num_of_chars(string1):\n",
    "#     return len(string1)\n",
    "\n",
    "word_list = [\"Python\",\"Coding\"]\n",
    "word_list.sort(key = lambda x: len(x))\n",
    "word_list"
   ]
  },
  {
   "cell_type": "code",
   "execution_count": 6,
   "id": "94801da3",
   "metadata": {},
   "outputs": [
    {
     "name": "stdout",
     "output_type": "stream",
     "text": [
      "['Python', 'Coding']\n"
     ]
    }
   ],
   "source": [
    "def compare_num_of_chars(string1):\n",
    "    return len(string1)\n",
    "\n",
    "def main():\n",
    "    word_list = [\"Python\",\"Coding\"]\n",
    "    word_list.sort(key = compare_num_of_chars)\n",
    "    print(word_list)\n",
    "    \n",
    "main()"
   ]
  }
 ],
 "metadata": {
  "kernelspec": {
   "display_name": "Python 3 (ipykernel)",
   "language": "python",
   "name": "python3"
  },
  "language_info": {
   "codemirror_mode": {
    "name": "ipython",
    "version": 3
   },
   "file_extension": ".py",
   "mimetype": "text/x-python",
   "name": "python",
   "nbconvert_exporter": "python",
   "pygments_lexer": "ipython3",
   "version": "3.9.7"
  }
 },
 "nbformat": 4,
 "nbformat_minor": 5
}
