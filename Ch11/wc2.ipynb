{
 "cells": [
  {
   "cell_type": "code",
   "execution_count": null,
   "id": "bfe9a4b3",
   "metadata": {},
   "outputs": [],
   "source": [
    "# File: word_count_program_stdin.py\n",
    "\"\"\" Reads a file and returns the number of lines, words,\n",
    "    and characters - similar to the UNIX wc utility\n",
    "\"\"\"\n",
    "\n",
    "import sys\n",
    "\n",
    "def main():\n",
    "    # initialze counts\n",
    "    line_count = 0\n",
    "    word_count = 0\n",
    "    char_count = 0\n",
    "    filename = None\n",
    "    \n",
    "    option = None\n",
    "    if len(sys.argv) > 1:\n",
    "        params = sys.argv[1:]\n",
    "        if params[0].startswith(\"-\"):\n",
    "        # if more than one param, pop the first one as the option\n",
    "            option = params.pop(0).lower().strip()\n",
    "        if params:\n",
    "            filename = params[0]    # open the file\n",
    "    file_mode = \"r\"\n",
    "    if option == \"-c\":\n",
    "        file_mode = \"rb\"\n",
    "    if filename:\n",
    "        infile =  open(filename, file_mode)\n",
    "    else:\n",
    "        infile = sys.stdin\n",
    "    with infile:\n",
    "        for line in infile:\n",
    "            line_count += 1\n",
    "            char_count += len(line)\n",
    "            words = line.split()\n",
    "            word_count += len(words)\n",
    "    \n",
    "    if option in (\"-c\", \"-m\"):\n",
    "        print(\"File has {} characters\".format(char_count))\n",
    "    elif option == \"-w\":\n",
    "        print(\"File has {} words\".format(word_count))\n",
    "    elif option == \"-l\":\n",
    "        print(\"File has {} lines\".format(line_count))\n",
    "    else:\n",
    "        # print the answers using the format() method\n",
    "        print(\"File has {0} lines, {1} words, {2} characters\".format(line_count, word_count, char_count))\n",
    "\n",
    "if __name__ == '__main__':\n",
    "    main() \n"
   ]
  }
 ],
 "metadata": {
  "kernelspec": {
   "display_name": "Python 3 (ipykernel)",
   "language": "python",
   "name": "python3"
  },
  "language_info": {
   "codemirror_mode": {
    "name": "ipython",
    "version": 3
   },
   "file_extension": ".py",
   "mimetype": "text/x-python",
   "name": "python",
   "nbconvert_exporter": "python",
   "pygments_lexer": "ipython3",
   "version": "3.9.7"
  }
 },
 "nbformat": 4,
 "nbformat_minor": 5
}
