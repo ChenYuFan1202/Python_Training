{
 "cells": [
  {
   "cell_type": "code",
   "execution_count": 1,
   "id": "b89c8bd3",
   "metadata": {},
   "outputs": [
    {
     "name": "stderr",
     "output_type": "stream",
     "text": [
      "usage: ipykernel_launcher.py [-h] [-f FILE] [-x XRAY] [-q] indent input_file\n",
      "ipykernel_launcher.py: error: the following arguments are required: indent, input_file\n"
     ]
    },
    {
     "ename": "SystemExit",
     "evalue": "2",
     "output_type": "error",
     "traceback": [
      "An exception has occurred, use %tb to see the full traceback.\n",
      "\u001b[1;31mSystemExit\u001b[0m\u001b[1;31m:\u001b[0m 2\n"
     ]
    },
    {
     "name": "stderr",
     "output_type": "stream",
     "text": [
      "C:\\Users\\Vick\\anaconda3\\lib\\site-packages\\IPython\\core\\interactiveshell.py:3452: UserWarning: To exit: use 'exit', 'quit', or Ctrl-D.\n",
      "  warn(\"To exit: use 'exit', 'quit', or Ctrl-D.\", stacklevel=1)\n"
     ]
    }
   ],
   "source": [
    "from argparse import ArgumentParser\n",
    "\n",
    "def main():\n",
    "    parser = ArgumentParser()\n",
    "    parser.add_argument(\"indent\",type=int,help=\"indent for report\")\n",
    "    parser.add_argument(\"input_file\",help=\"read data form this file\")\n",
    "    parser.add_argument(\"-f\",\"--file\",dest=\"filename\",\n",
    "                       help = \"write report to File\",metavar = \"FILE\")\n",
    "    parser.add_argument(\"-x\",\"--xray\",\n",
    "                       help=\"specify xray strength factor\")\n",
    "    parser.add_argument(\"-q\",\"--quiet\",\n",
    "                       action = \"store_false\",dest=\"verbose\",default=True,\n",
    "                       help = \"don't print status messages to stdout\")\n",
    "    args = parser.parse_args()\n",
    "    print(\"arguments:\",args)\n",
    "    \n",
    "    \n",
    "main()"
   ]
  }
 ],
 "metadata": {
  "kernelspec": {
   "display_name": "Python 3 (ipykernel)",
   "language": "python",
   "name": "python3"
  },
  "language_info": {
   "codemirror_mode": {
    "name": "ipython",
    "version": 3
   },
   "file_extension": ".py",
   "mimetype": "text/x-python",
   "name": "python",
   "nbconvert_exporter": "python",
   "pygments_lexer": "ipython3",
   "version": "3.9.7"
  }
 },
 "nbformat": 4,
 "nbformat_minor": 5
}
