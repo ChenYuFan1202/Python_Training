{
 "cells": [
  {
   "cell_type": "code",
   "execution_count": 4,
   "id": "05771869",
   "metadata": {},
   "outputs": [
    {
     "name": "stdout",
     "output_type": "stream",
     "text": [
      "行數為12,字數為22,字元數為263\n"
     ]
    }
   ],
   "source": [
    "import sys\n",
    "\n",
    "def main():\n",
    "    count_line = 0\n",
    "    count_word = 0\n",
    "    count_character = 0\n",
    "    \n",
    "    option = None\n",
    "    param = sys.argv[1:]\n",
    "    if len(param) > 1:\n",
    "        option = param.pop(0).lower().strip()\n",
    "    filename = param[0]\n",
    "    \n",
    "    with open(filename) as infile:\n",
    "        for line in infile:\n",
    "            count_line += 1\n",
    "            word = line.split()\n",
    "            count_word += len(word)\n",
    "            count_character += len(line)\n",
    "        \n",
    "    if option == \"-l\":\n",
    "        print(\"行數是{}\".format(count_line))\n",
    "    elif option == \"-w\":\n",
    "        print(\"字數是{}\".format(count_word))\n",
    "    elif option == \"-c\":\n",
    "        print(\"字元數是{}\".format(count_character))\n",
    "    else:\n",
    "        print(\"行數為{0},字數為{1},字元數為{2}\".format\\\n",
    "              (count_line,count_word,count_character))\n",
    "    \n",
    "    \n",
    "    \n",
    "if __name__ == \"__main__\":\n",
    "    main()"
   ]
  },
  {
   "cell_type": "code",
   "execution_count": 4,
   "id": "955102db",
   "metadata": {},
   "outputs": [
    {
     "data": {
      "text/plain": [
       "['an', 'apple']"
      ]
     },
     "execution_count": 4,
     "metadata": {},
     "output_type": "execute_result"
    }
   ],
   "source": [
    "# a = \"an apple\"\n",
    "# b = a.split()\n",
    "# b"
   ]
  }
 ],
 "metadata": {
  "kernelspec": {
   "display_name": "Python 3 (ipykernel)",
   "language": "python",
   "name": "python3"
  },
  "language_info": {
   "codemirror_mode": {
    "name": "ipython",
    "version": 3
   },
   "file_extension": ".py",
   "mimetype": "text/x-python",
   "name": "python",
   "nbconvert_exporter": "python",
   "pygments_lexer": "ipython3",
   "version": "3.9.7"
  }
 },
 "nbformat": 4,
 "nbformat_minor": 5
}
