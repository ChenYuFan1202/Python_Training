{
 "cells": [
  {
   "cell_type": "code",
   "execution_count": 2,
   "id": "0f791aa8",
   "metadata": {},
   "outputs": [
    {
     "data": {
      "text/plain": [
       "[1, 2, 3, 4, 5, 6, 7, 8, 9]"
      ]
     },
     "execution_count": 2,
     "metadata": {},
     "output_type": "execute_result"
    }
   ],
   "source": [
    "list(range(1,10))"
   ]
  },
  {
   "cell_type": "code",
   "execution_count": 3,
   "id": "7cdf5c43",
   "metadata": {},
   "outputs": [
    {
     "name": "stdout",
     "output_type": "stream",
     "text": [
      "位置[0]: a\n",
      "位置[1]: b\n",
      "位置[2]: c\n",
      "位置[3]: d\n"
     ]
    }
   ],
   "source": [
    "string1 = 'abcd'\n",
    "for i in range(len(string1)): \n",
    "    print(f'位置[{i}]: {string1[i]}')"
   ]
  },
  {
   "cell_type": "code",
   "execution_count": 7,
   "id": "2e4180b7",
   "metadata": {},
   "outputs": [
    {
     "data": {
      "text/plain": [
       "[(0, 'a'), (1, 'b'), (2, 'c'), (3, 'd')]"
      ]
     },
     "execution_count": 7,
     "metadata": {},
     "output_type": "execute_result"
    }
   ],
   "source": [
    "list1 = [0,1,2,3]\n",
    "o = range(4)\n",
    "string1 = 'abcd'\n",
    "list(zip(list1,string1))"
   ]
  },
  {
   "cell_type": "code",
   "execution_count": 10,
   "id": "32e009df",
   "metadata": {},
   "outputs": [
    {
     "data": {
      "text/plain": [
       "'ABCDE'"
      ]
     },
     "execution_count": 10,
     "metadata": {},
     "output_type": "execute_result"
    }
   ],
   "source": [
    "string1 = 'abcde'\n",
    "s = ''\n",
    "for i in string1:\n",
    "  s += i.upper()\n",
    "s"
   ]
  },
  {
   "cell_type": "code",
   "execution_count": 11,
   "id": "297d1d0b",
   "metadata": {},
   "outputs": [
    {
     "name": "stdout",
     "output_type": "stream",
     "text": [
      "0\n",
      "1\n",
      "2\n"
     ]
    }
   ],
   "source": [
    "i = 0\n",
    "while True:\n",
    "  print(i)\n",
    "  if i==2:\n",
    "    break\n",
    "  i=i+1"
   ]
  },
  {
   "cell_type": "code",
   "execution_count": 14,
   "id": "7f3f1941",
   "metadata": {},
   "outputs": [
    {
     "data": {
      "text/plain": [
       "{'a': 0, 'b': 0}"
      ]
     },
     "execution_count": 14,
     "metadata": {},
     "output_type": "execute_result"
    }
   ],
   "source": [
    "#list1 = [('a',0),('b',0)]\n",
    "list1 = [['a',0],['b',0]]\n",
    "dict1 = dict(list1)\n",
    "dict1"
   ]
  },
  {
   "cell_type": "code",
   "execution_count": 18,
   "id": "3abfdd07",
   "metadata": {},
   "outputs": [
    {
     "data": {
      "text/plain": [
       "{'a': 1, 'b': 2, 'c': 3, 'd': 4}"
      ]
     },
     "execution_count": 18,
     "metadata": {},
     "output_type": "execute_result"
    }
   ],
   "source": [
    "keys='abcd'\n",
    "values=[1,2,3,4]\n",
    "d = {key: value for key, value in zip(keys,values)}\n",
    "d"
   ]
  },
  {
   "cell_type": "code",
   "execution_count": 7,
   "id": "2e5c2274",
   "metadata": {},
   "outputs": [
    {
     "data": {
      "text/plain": [
       "[('Billy', 165), ('Bob', 167), ('Joe', 168), ('Mary', 170), ('徐小訓', 172)]"
      ]
     },
     "execution_count": 7,
     "metadata": {},
     "output_type": "execute_result"
    }
   ],
   "source": [
    "name2 = {'Billy': 165, 'Bob': 167, 'Joe': 168, 'Mary': 170, '徐小訓': 172}\n",
    "list(name2.items())"
   ]
  },
  {
   "cell_type": "code",
   "execution_count": 8,
   "id": "2cbe4c1c",
   "metadata": {},
   "outputs": [
    {
     "name": "stdout",
     "output_type": "stream",
     "text": [
      "Billy 165\n",
      "Bob 167\n",
      "Joe 168\n",
      "Mary 170\n",
      "徐小訓 172\n"
     ]
    }
   ],
   "source": [
    "for k in name2:# 有沒有keys都是取鍵\n",
    "    print(k,name2[k]) "
   ]
  },
  {
   "cell_type": "code",
   "execution_count": 9,
   "id": "564e91b3",
   "metadata": {},
   "outputs": [
    {
     "name": "stdout",
     "output_type": "stream",
     "text": [
      "徐小訓 172\n",
      "Mary 170\n",
      "Joe 168\n",
      "Bob 167\n",
      "Billy 165\n"
     ]
    }
   ],
   "source": [
    "for k in sorted(name2.keys(), reverse=True):\n",
    "    print(k,name2[k])"
   ]
  },
  {
   "cell_type": "code",
   "execution_count": 32,
   "id": "bb201868",
   "metadata": {},
   "outputs": [
    {
     "data": {
      "text/plain": [
       "{'a', 'b', 'c'}"
      ]
     },
     "execution_count": 32,
     "metadata": {},
     "output_type": "execute_result"
    }
   ],
   "source": [
    "list1 = ['a','b','c','b','b','a']\n",
    "set(list1)"
   ]
  },
  {
   "cell_type": "code",
   "execution_count": 40,
   "id": "e916fe84",
   "metadata": {},
   "outputs": [
    {
     "data": {
      "text/plain": [
       "[1, 2, 3, 4, 5]"
      ]
     },
     "execution_count": 40,
     "metadata": {},
     "output_type": "execute_result"
    }
   ],
   "source": [
    "x = [1,3,5,2,4]\n",
    "sorted(x)"
   ]
  }
 ],
 "metadata": {
  "kernelspec": {
   "display_name": "Python 3 (ipykernel)",
   "language": "python",
   "name": "python3"
  },
  "language_info": {
   "codemirror_mode": {
    "name": "ipython",
    "version": 3
   },
   "file_extension": ".py",
   "mimetype": "text/x-python",
   "name": "python",
   "nbconvert_exporter": "python",
   "pygments_lexer": "ipython3",
   "version": "3.9.7"
  }
 },
 "nbformat": 4,
 "nbformat_minor": 5
}
