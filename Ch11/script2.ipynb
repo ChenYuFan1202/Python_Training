{
 "cells": [
  {
   "cell_type": "code",
   "execution_count": 1,
   "id": "50bdf655",
   "metadata": {},
   "outputs": [
    {
     "name": "stdout",
     "output_type": "stream",
     "text": [
      "這是第二個程式測試\n",
      "['C:\\\\Users\\\\Vick\\\\anaconda3\\\\lib\\\\site-packages\\\\ipykernel_launcher.py', '-f', 'C:\\\\Users\\\\Vick\\\\AppData\\\\Roaming\\\\jupyter\\\\runtime\\\\kernel-59e8fa30-7408-4be5-ac8a-3b24016e600f.json']\n"
     ]
    }
   ],
   "source": [
    "import sys\n",
    "def main():\n",
    "    print(\"這是第二個程式測試\")\n",
    "    print(sys.argv)\n",
    "    \n",
    "main()"
   ]
  }
 ],
 "metadata": {
  "kernelspec": {
   "display_name": "Python 3 (ipykernel)",
   "language": "python",
   "name": "python3"
  },
  "language_info": {
   "codemirror_mode": {
    "name": "ipython",
    "version": 3
   },
   "file_extension": ".py",
   "mimetype": "text/x-python",
   "name": "python",
   "nbconvert_exporter": "python",
   "pygments_lexer": "ipython3",
   "version": "3.9.7"
  }
 },
 "nbformat": 4,
 "nbformat_minor": 5
}
