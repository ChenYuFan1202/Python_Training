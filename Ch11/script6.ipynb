{
 "cells": [
  {
   "cell_type": "code",
   "execution_count": 2,
   "id": "ecc29242",
   "metadata": {},
   "outputs": [],
   "source": [
    "import sys\n",
    "_1to9dict = {\"0\":\"\",\"1\":\"one\",\"2\":\"two\",\"3\":\"three\",\n",
    "             \"4\":\"four\",\"5\":\"five\",\"6\":\"six\",\"7\":\"seven\",\n",
    "             \"8\":\"eight\",\"9\":\"nine\"}\n",
    "_10to19dict = {\"0\":\"ten\",\"1\":\"eleven\",\"2\":\"twelve\",\n",
    "               \"3\":\"thirteen\",\"4\":\"fourteen\",\"5\":\"fifteen\",\n",
    "               \"6\":\"sixteen\",\"7\":\"seventeen\",\"8\":\"eighteen\",\n",
    "               \"9\": \"nineteen\"}\n",
    "_20to90dict = {\"2\":\"twenty\",\"3\":\"thirty\",\"4\":\"forty\",\n",
    "               \"5\":\"fifty\",\"6\":\"sixty\",\"7\":\"seventy\",\n",
    "               \"8\":\"eighty\",\"9\":\"ninety\"}\n",
    "\n",
    "def num2words(num_string):\n",
    "    if num_string == 0:\n",
    "        return \"zero\"\n",
    "    if len(num_string) > 2:\n",
    "        return \"抱歉，此程式只能處理0~99的2位整數\"\n",
    "    num_string = \"0\" + num_string\n",
    "    tens,ones = num_string[-2],num_string[-1]\n",
    "    if tens == \"0\":\n",
    "        return _1to9dict[ones]\n",
    "    elif tens == 1:\n",
    "        return _10to19dict[ones]\n",
    "    else:\n",
    "        return _20to90dict[tens] + \"\" + _1to9dict[ones]\n",
    "\n",
    "def main():\n",
    "    print(num2words(sys.argv[1]))\n",
    "    \n",
    "main()"
   ]
  },
  {
   "cell_type": "code",
   "execution_count": null,
   "id": "20248dd3",
   "metadata": {},
   "outputs": [],
   "source": []
  }
 ],
 "metadata": {
  "kernelspec": {
   "display_name": "Python 3 (ipykernel)",
   "language": "python",
   "name": "python3"
  },
  "language_info": {
   "codemirror_mode": {
    "name": "ipython",
    "version": 3
   },
   "file_extension": ".py",
   "mimetype": "text/x-python",
   "name": "python",
   "nbconvert_exporter": "python",
   "pygments_lexer": "ipython3",
   "version": "3.9.7"
  }
 },
 "nbformat": 4,
 "nbformat_minor": 5
}
