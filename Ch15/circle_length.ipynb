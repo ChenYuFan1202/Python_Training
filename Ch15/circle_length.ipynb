{
 "cells": [
  {
   "cell_type": "code",
   "execution_count": null,
   "id": "8d395bac",
   "metadata": {},
   "outputs": [],
   "source": [
    "class Circle:\n",
    "    all_circles = []\n",
    "    pi = 3.14159\n",
    "    \n",
    "    def __init__(self,r = 1):\n",
    "        self.radius = r\n",
    "        self.__class__.all_circles.append(self)\n",
    "    def area(self):\n",
    "        return self.radius * self.radius * self.__class__.pi\n",
    "    def length(self):\n",
    "        return self.radius * 2 * self.__class__.pi\n",
    "    \n",
    "    @classmethod\n",
    "    def total_length(cls):\n",
    "        total = 0\n",
    "        for c in cls.all_circles:\n",
    "            total += c.length()\n",
    "        return total"
   ]
  },
  {
   "cell_type": "code",
   "execution_count": null,
   "id": "9a586db4",
   "metadata": {},
   "outputs": [],
   "source": [
    "class Circle:\n",
    "    pi = 3.14159\n",
    "    all_circles = []\n",
    "\n",
    "    def __init__(self, radius):\n",
    "        self.radius = radius\n",
    "        self.__class__.all_circles.append(self)    \n",
    "        \n",
    "    def area(self):\n",
    "        return self.radius * self.radius * Circle.pi\n",
    "    \n",
    "    def circumference(self):\n",
    "        return 2 * self.radius * Circle.pi\n",
    "    \n",
    "    @classmethod\n",
    "    def total_circumference(cls):\n",
    "        \"\"\"class method to total the circumference of all Circles \"\"\"\n",
    "        total = 0\n",
    "        for c in cls.all_circles:\n",
    "            total = total + c.circumference()\n",
    "        return total"
   ]
  }
 ],
 "metadata": {
  "kernelspec": {
   "display_name": "Python 3 (ipykernel)",
   "language": "python",
   "name": "python3"
  },
  "language_info": {
   "codemirror_mode": {
    "name": "ipython",
    "version": 3
   },
   "file_extension": ".py",
   "mimetype": "text/x-python",
   "name": "python",
   "nbconvert_exporter": "python",
   "pygments_lexer": "ipython3",
   "version": "3.9.7"
  }
 },
 "nbformat": 4,
 "nbformat_minor": 5
}
