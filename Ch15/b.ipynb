{
 "cells": [
  {
   "cell_type": "code",
   "execution_count": 10,
   "id": "f2712a76",
   "metadata": {},
   "outputs": [
    {
     "name": "stdout",
     "output_type": "stream",
     "text": [
      "Class P\n",
      "Class P\n",
      "Class C\n",
      "Class C\n",
      "Hello Hello Hello\n",
      "Bonjour Bonjour Hello\n",
      "Ciao Bonjour Hello\n"
     ]
    }
   ],
   "source": [
    "class P:\n",
    "    z = \"Hello\"\n",
    "    def set_p(self):\n",
    "        self.x = \"Class P\"\n",
    "    def print_p(self):\n",
    "        print(self.x)\n",
    "class C(P):\n",
    "    def set_c(self):\n",
    "        self.x = \"Class C\"\n",
    "    def print_c(self):\n",
    "        print(self.x)\n",
    "        \n",
    "c = C()\n",
    "c.set_p()\n",
    "c.print_p()\n",
    "c.print_c()\n",
    "c.set_c()\n",
    "c.print_c()\n",
    "c.print_p()\n",
    "print(c.z,C.z,P.z)\n",
    "C.z = \"Bonjour\"\n",
    "print(c.z,C.z,P.z)\n",
    "c.z = \"Ciao\"\n",
    "print(c.z,C.z,P.z)"
   ]
  },
  {
   "cell_type": "code",
   "execution_count": 2,
   "id": "c7a91bd4",
   "metadata": {},
   "outputs": [
    {
     "name": "stdout",
     "output_type": "stream",
     "text": [
      "1 0 0\n",
      "2 1 1\n",
      "2 3 3\n",
      "[<__main__.Circle object at 0x0000022E3D8011C0>, <__main__.Circle object at 0x0000022E3D801220>]\n",
      "[<__main__.Circle object at 0x0000022E3D8011C0>, <__main__.Circle object at 0x0000022E3D801220>]\n",
      "15.70795\n",
      "15.70795\n",
      "12.56636 3.14159\n"
     ]
    }
   ],
   "source": [
    "class Shape:\n",
    "    def __init__(self,x,y):\n",
    "        self.x = x\n",
    "        self.y = y\n",
    "    def move(self,delta_x,delta_y):\n",
    "        self.x = self.x + delta_x\n",
    "        self.y = self.y + delta_y\n",
    "        \n",
    "class Circle(Shape):\n",
    "    pi = 3.14159\n",
    "    all_circles = []\n",
    "    def __init__(self,r = 1,x = 0,y = 0):\n",
    "        super().__init__(x,y)\n",
    "        self.radius = r\n",
    "        self.__class__.all_circles.append(self)\n",
    "        #all_circles.append(self)\n",
    "    @classmethod\n",
    "    def total_area(cls):\n",
    "        area = 0\n",
    "        for circle in cls.all_circles:\n",
    "            area += cls.circle_area(circle.radius)\n",
    "        return area\n",
    "    @staticmethod\n",
    "    def circle_area(radius):\n",
    "        return Circle.pi * radius * radius\n",
    "    \n",
    "c1 = Circle()\n",
    "print(c1.radius,c1.x,c1.y)\n",
    "c2 = Circle(2,1,1)\n",
    "print(c2.radius,c2.x,c2.y)\n",
    "c2.move(2,2)\n",
    "print(c2.radius,c2.x,c2.y)\n",
    "print(Circle.all_circles)\n",
    "print([c1,c2])\n",
    "print(Circle.total_area())\n",
    "print(c2.total_area())\n",
    "print(Circle.circle_area(c2.radius),c1.circle_area(c1.radius))"
   ]
  },
  {
   "cell_type": "code",
   "execution_count": 6,
   "id": "58f9687b",
   "metadata": {},
   "outputs": [
    {
     "name": "stdout",
     "output_type": "stream",
     "text": [
      "2\n",
      "3\n"
     ]
    },
    {
     "data": {
      "text/plain": [
       "['_Mine__y',\n",
       " '__class__',\n",
       " '__delattr__',\n",
       " '__dict__',\n",
       " '__dir__',\n",
       " '__doc__',\n",
       " '__eq__',\n",
       " '__format__',\n",
       " '__ge__',\n",
       " '__getattribute__',\n",
       " '__gt__',\n",
       " '__hash__',\n",
       " '__init__',\n",
       " '__init_subclass__',\n",
       " '__le__',\n",
       " '__lt__',\n",
       " '__module__',\n",
       " '__ne__',\n",
       " '__new__',\n",
       " '__reduce__',\n",
       " '__reduce_ex__',\n",
       " '__repr__',\n",
       " '__setattr__',\n",
       " '__sizeof__',\n",
       " '__str__',\n",
       " '__subclasshook__',\n",
       " '__weakref__',\n",
       " 'print_y',\n",
       " 'x']"
      ]
     },
     "execution_count": 6,
     "metadata": {},
     "output_type": "execute_result"
    }
   ],
   "source": [
    "class Mine:\n",
    "    def __init__(self):\n",
    "        self.x = 2\n",
    "        self.__y = 3\n",
    "    def print_y(self):\n",
    "        print(self.__y)\n",
    "        \n",
    "m = Mine()\n",
    "print(m.x)\n",
    "#print(m.__y)\n",
    "m.print_y()\n",
    "# _Mine__y\n",
    "dir(m)"
   ]
  },
  {
   "cell_type": "code",
   "execution_count": 8,
   "id": "8a4198b3",
   "metadata": {},
   "outputs": [
    {
     "name": "stdout",
     "output_type": "stream",
     "text": [
      "5\n"
     ]
    },
    {
     "ename": "AttributeError",
     "evalue": "'Rectangle' object has no attribute '_width'",
     "output_type": "error",
     "traceback": [
      "\u001b[1;31m---------------------------------------------------------------------------\u001b[0m",
      "\u001b[1;31mAttributeError\u001b[0m                            Traceback (most recent call last)",
      "\u001b[1;32m~\\AppData\\Local\\Temp/ipykernel_22052/1511735731.py\u001b[0m in \u001b[0;36m<module>\u001b[1;34m\u001b[0m\n\u001b[0;32m      6\u001b[0m \u001b[0mr1\u001b[0m \u001b[1;33m=\u001b[0m \u001b[0mRectangle\u001b[0m\u001b[1;33m(\u001b[0m\u001b[1;33m)\u001b[0m\u001b[1;33m\u001b[0m\u001b[1;33m\u001b[0m\u001b[0m\n\u001b[0;32m      7\u001b[0m \u001b[0mprint\u001b[0m\u001b[1;33m(\u001b[0m\u001b[0mr1\u001b[0m\u001b[1;33m.\u001b[0m\u001b[0mheight\u001b[0m\u001b[1;33m)\u001b[0m\u001b[1;33m\u001b[0m\u001b[1;33m\u001b[0m\u001b[0m\n\u001b[1;32m----> 8\u001b[1;33m \u001b[0mr1\u001b[0m\u001b[1;33m.\u001b[0m\u001b[0m_width\u001b[0m\u001b[1;33m\u001b[0m\u001b[1;33m\u001b[0m\u001b[0m\n\u001b[0m\u001b[0;32m      9\u001b[0m \u001b[0mRectangle\u001b[0m\u001b[1;33m.\u001b[0m\u001b[0m__width\u001b[0m\u001b[1;33m\u001b[0m\u001b[1;33m\u001b[0m\u001b[0m\n\u001b[0;32m     10\u001b[0m \u001b[1;33m\u001b[0m\u001b[0m\n",
      "\u001b[1;31mAttributeError\u001b[0m: 'Rectangle' object has no attribute '_width'"
     ]
    }
   ],
   "source": [
    "class Rectangle:\n",
    "    def __init__(self):\n",
    "        self.height = 5\n",
    "        self.__width = 4\n",
    "        \n",
    "r1 = Rectangle()\n",
    "print(r1.height)\n",
    "r1._width\n",
    "Rectangle.__width\n",
    "\n",
    "# class Rectangle():\n",
    "#     def __init__(self, x, y):\n",
    "#         self.__x = x\n",
    "#         self.__y = y\n",
    "\n",
    "# 類別外部將無法再以 .x 和 .y 來存取維度變數。"
   ]
  },
  {
   "cell_type": "code",
   "execution_count": 25,
   "id": "4ab0fed7",
   "metadata": {},
   "outputs": [
    {
     "name": "stdout",
     "output_type": "stream",
     "text": [
      "0\n",
      "-17.77777777777778\n",
      "93.2\n"
     ]
    },
    {
     "data": {
      "text/plain": [
       "34.0"
      ]
     },
     "execution_count": 25,
     "metadata": {},
     "output_type": "execute_result"
    }
   ],
   "source": [
    "class Temperature:\n",
    "    def __init__(self):\n",
    "        self._temp_fahr = 0\n",
    "    \n",
    "    @property\n",
    "    def temp(self):\n",
    "        return (self._temp_fahr - 32) * 5 / 9\n",
    "    \n",
    "    @temp.setter\n",
    "    def temp(self,new_temp):\n",
    "        self._temp_fahr = new_temp * 9 / 5 + 32\n",
    "    \n",
    "t = Temperature()\n",
    "print(t._temp_fahr)#fahrenheit\n",
    "print(t.temp)\n",
    "t.temp = 34\n",
    "print(t._temp_fahr)\n",
    "t.temp"
   ]
  },
  {
   "cell_type": "code",
   "execution_count": 12,
   "id": "7ecb57a2",
   "metadata": {},
   "outputs": [
    {
     "name": "stdout",
     "output_type": "stream",
     "text": [
      "1 2\n",
      "3 4\n"
     ]
    }
   ],
   "source": [
    "class Rectangle(Exception):\n",
    "    def __init__(self,x,y):\n",
    "        self.__x = x\n",
    "        self.__y = y\n",
    "    @property\n",
    "    def get_x(self):\n",
    "        if self.__x >= 0:\n",
    "            return self.__x\n",
    "        else:\n",
    "            raise KeyError(\"數字不能小於0\")\n",
    "    @get_x.setter\n",
    "    def set_x(self,new_x):\n",
    "        if new_x >= 0:\n",
    "            self.__x = new_x\n",
    "        else:\n",
    "            raise KeyError(\"數字不能小於0\")\n",
    "    @property\n",
    "    def get_y(self):\n",
    "        if self.__y >= 0:\n",
    "            return self.__y\n",
    "        else:\n",
    "            raise KeyError(\"數字不能小於0\")\n",
    "    @get_y.setter\n",
    "    def set_y(self,new_y):\n",
    "        if new_y >= 0:\n",
    "            self.__y = new_y\n",
    "        else:\n",
    "            raise KeyError(\"數字不能小於0\")\n",
    "        \n",
    "r = Rectangle(1,2)\n",
    "print(r.get_x,r.get_y)\n",
    "r.set_x = 3\n",
    "r.set_y = 4\n",
    "print(r.get_x,r.get_y)"
   ]
  },
  {
   "cell_type": "code",
   "execution_count": 9,
   "id": "cd876348",
   "metadata": {},
   "outputs": [
    {
     "name": "stdout",
     "output_type": "stream",
     "text": [
      "1 2\n",
      "4 5\n"
     ]
    }
   ],
   "source": [
    "class Rectangle():\n",
    "    def __init__(self, x, y):\n",
    "        self.__x = x\n",
    "        self.__y = y\n",
    "    \n",
    "    @property\n",
    "    def x(self):\n",
    "        return self.__x\n",
    "            \n",
    "    @x.setter\n",
    "    def x(self, new_x):\n",
    "        if new_x >= 0:\n",
    "            self.__x = new_x\n",
    "            \n",
    "    @property\n",
    "    def y(self):\n",
    "        return self.__y\n",
    "            \n",
    "    @y.setter\n",
    "    def y(self, new_y):\n",
    "        if new_y >= 0:\n",
    "            self.__y = new_y\n",
    "            \n",
    "my_rect = Rectangle(1,2)\n",
    "print(my_rect.x, my_rect.y)\n",
    "# 1 2\n",
    "my_rect.x = 4\n",
    "my_rect.y = 5\n",
    "print(my_rect.x, my_rect.y)\n",
    "# 4 5\n"
   ]
  },
  {
   "cell_type": "code",
   "execution_count": 2,
   "id": "d3e6f678",
   "metadata": {},
   "outputs": [
    {
     "name": "stdout",
     "output_type": "stream",
     "text": [
      "直接存取區域、全域、和內建命名空間\n"
     ]
    },
    {
     "ename": "TypeError",
     "evalue": "'builtin_function_or_method' object is not iterable",
     "output_type": "error",
     "traceback": [
      "\u001b[1;31m---------------------------------------------------------------------------\u001b[0m",
      "\u001b[1;31mTypeError\u001b[0m                                 Traceback (most recent call last)",
      "\u001b[1;32m~\\AppData\\Local\\Temp/ipykernel_16336/2470776338.py\u001b[0m in \u001b[0;36m<module>\u001b[1;34m\u001b[0m\n\u001b[0;32m      1\u001b[0m \u001b[1;32mimport\u001b[0m \u001b[0mcs\u001b[0m\u001b[1;33m\u001b[0m\u001b[1;33m\u001b[0m\u001b[0m\n\u001b[0;32m      2\u001b[0m \u001b[0mc\u001b[0m \u001b[1;33m=\u001b[0m \u001b[0mcs\u001b[0m\u001b[1;33m.\u001b[0m\u001b[0mC\u001b[0m\u001b[1;33m(\u001b[0m\u001b[1;33m)\u001b[0m\u001b[1;33m\u001b[0m\u001b[1;33m\u001b[0m\u001b[0m\n\u001b[1;32m----> 3\u001b[1;33m \u001b[0mc\u001b[0m\u001b[1;33m.\u001b[0m\u001b[0mm\u001b[0m\u001b[1;33m(\u001b[0m\u001b[1;33m)\u001b[0m\u001b[1;33m\u001b[0m\u001b[1;33m\u001b[0m\u001b[0m\n\u001b[0m",
      "\u001b[1;32m~\\Python3\\Ch15\\cs.py\u001b[0m in \u001b[0;36mm\u001b[1;34m(self, p)\u001b[0m\n\u001b[0;32m     38\u001b[0m         \u001b[0mself\u001b[0m\u001b[1;33m.\u001b[0m\u001b[0miv\u001b[0m \u001b[1;33m=\u001b[0m \u001b[1;34m\"物件變數: self.xi\"\u001b[0m\u001b[1;33m\u001b[0m\u001b[1;33m\u001b[0m\u001b[0m\n\u001b[0;32m     39\u001b[0m         \u001b[0mprint\u001b[0m\u001b[1;33m(\u001b[0m\u001b[1;34m\"直接存取區域、全域、和內建命名空間\"\u001b[0m\u001b[1;33m)\u001b[0m\u001b[1;33m\u001b[0m\u001b[1;33m\u001b[0m\u001b[0m\n\u001b[1;32m---> 40\u001b[1;33m         \u001b[0mprint\u001b[0m\u001b[1;33m(\u001b[0m\u001b[1;34m\"區域命名空間:\"\u001b[0m\u001b[1;33m,\u001b[0m\u001b[0mlist\u001b[0m\u001b[1;33m(\u001b[0m\u001b[0mlocals\u001b[0m\u001b[1;33m(\u001b[0m\u001b[1;33m)\u001b[0m\u001b[1;33m.\u001b[0m\u001b[0mkeys\u001b[0m\u001b[1;33m(\u001b[0m\u001b[1;33m)\u001b[0m\u001b[1;33m)\u001b[0m\u001b[1;33m)\u001b[0m\u001b[1;33m\u001b[0m\u001b[1;33m\u001b[0m\u001b[0m\n\u001b[0m\u001b[0;32m     41\u001b[0m         \u001b[0mprint\u001b[0m\u001b[1;33m(\u001b[0m\u001b[0mp\u001b[0m\u001b[1;33m)\u001b[0m\u001b[1;33m\u001b[0m\u001b[1;33m\u001b[0m\u001b[0m\n\u001b[0;32m     42\u001b[0m         \u001b[0mprint\u001b[0m\u001b[1;33m(\u001b[0m\u001b[0mlv\u001b[0m\u001b[1;33m)\u001b[0m\u001b[1;33m\u001b[0m\u001b[1;33m\u001b[0m\u001b[0m\n",
      "\u001b[1;31mTypeError\u001b[0m: 'builtin_function_or_method' object is not iterable"
     ]
    }
   ],
   "source": [
    "import cs\n",
    "c = cs.C()\n",
    "c.m()"
   ]
  },
  {
   "cell_type": "code",
   "execution_count": 4,
   "id": "6c1a6773",
   "metadata": {},
   "outputs": [
    {
     "name": "stdout",
     "output_type": "stream",
     "text": [
      "<html>\n",
      "<body>\n",
      "This is the body\n",
      "<p>\n",
      "this is some body text\n",
      "</p>\n",
      "</body>\n",
      "</html>\n",
      "\n"
     ]
    }
   ],
   "source": [
    "class Element:\n",
    "    def __init__(self,text = None,subelement = None):\n",
    "        self.text = text\n",
    "        self.subelement = subelement\n",
    "        \n",
    "    def __str__(self):\n",
    "        value = \"<{}>\\n\".format(self.__class__.__name__)\n",
    "        if self.text:\n",
    "            value += \"{}\\n\".format(self.text)\n",
    "        if self.subelement:\n",
    "            value += str(self.subelement)#\"{}\\n\".format(self.subelement)\n",
    "        value += \"</{}>\\n\".format(self.__class__.__name__)\n",
    "        return value\n",
    "      \n",
    "class html(Element):\n",
    "    def __init__(self,text = None,subelement = None):\n",
    "        super().__init__(text,subelement)\n",
    "    def __str__(self):\n",
    "        return super().__str__()\n",
    "class body(Element):\n",
    "    def __init__(self,text = None,subelement = None):\n",
    "        super().__init__(text,subelement)\n",
    "    def __str__(self):\n",
    "        return super().__str__()\n",
    "class p(Element):\n",
    "    def __init__(self,text = None,subelement = None):\n",
    "        super().__init__(text,subelement)\n",
    "    def __str__(self):\n",
    "        return super().__str__()\n",
    "    \n",
    "para = p(text = \"this is some body text\")\n",
    "doc_body = body(text = \"This is the body\",subelement = para)\n",
    "doc = html(subelement = doc_body)\n",
    "print(doc.__str__())"
   ]
  },
  {
   "cell_type": "code",
   "execution_count": 9,
   "id": "57b74fe3",
   "metadata": {},
   "outputs": [
    {
     "name": "stdout",
     "output_type": "stream",
     "text": [
      "<__main__.Square object at 0x000002A9B0E28DF0>\n"
     ]
    }
   ],
   "source": [
    "class Square:\n",
    "    def __init__(self,side = 1):\n",
    "        self.side = side\n",
    "    def area(self):\n",
    "        return self.side**2\n",
    "\n",
    "s = Square(5)\n",
    "print(s)"
   ]
  },
  {
   "cell_type": "code",
   "execution_count": 4,
   "id": "933a5ba7",
   "metadata": {},
   "outputs": [
    {
     "name": "stdout",
     "output_type": "stream",
     "text": [
      "<html>\n",
      "<body>\n",
      "This is the body\n",
      "<p>\n",
      "this is some body text\n",
      "</p>\n",
      "</body>\n",
      "</html>\n",
      "\n"
     ]
    }
   ],
   "source": [
    "class element:\n",
    "    def __init__(self, text=None, subelement=None):\n",
    "        self.subelement = subelement\n",
    "        self.text = text\n",
    "        \n",
    "    def __str__(self):\n",
    "        value = \"<{}>\\n\".format(self.__class__.__name__)\n",
    "        if self.text:\n",
    "            value += \"{}\\n\".format(self.text)\n",
    "        if self.subelement:\n",
    "            value += str(self.subelement)\n",
    "        value += \"</{}>\\n\".format(self.__class__.__name__)\n",
    "        return value\n",
    "\n",
    "class html(element):\n",
    "    def __init__ (self, text=None, subelement=None):\n",
    "        super().__init__(text, subelement)\n",
    "    def __str__(self):\n",
    "        return super().__str__()\n",
    "        \n",
    "class body(element):\n",
    "    def __init__ (self, text=None, subelement=None):\n",
    "        super().__init__(text, subelement)\n",
    "    def __str__(self):\n",
    "        return super().__str__()\n",
    "        \n",
    "class p(element):\n",
    "    def __init__(self, text=None, subelement=None):\n",
    "        super().__init__(text, subelement)\n",
    "    def __str__(self):\n",
    "        return super().__str__()\n",
    "        \n",
    "        \n",
    "para = p(text=\"this is some body text\")\n",
    "doc_body = body(text=\"This is the body\", subelement=para)\n",
    "doc = html(subelement=doc_body)\n",
    "print(doc) \n",
    "\n"
   ]
  }
 ],
 "metadata": {
  "kernelspec": {
   "display_name": "Python 3 (ipykernel)",
   "language": "python",
   "name": "python3"
  },
  "language_info": {
   "codemirror_mode": {
    "name": "ipython",
    "version": 3
   },
   "file_extension": ".py",
   "mimetype": "text/x-python",
   "name": "python",
   "nbconvert_exporter": "python",
   "pygments_lexer": "ipython3",
   "version": "3.9.7"
  }
 },
 "nbformat": 4,
 "nbformat_minor": 5
}
