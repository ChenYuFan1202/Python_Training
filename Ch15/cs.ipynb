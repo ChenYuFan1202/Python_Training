{
 "cells": [
  {
   "cell_type": "code",
   "execution_count": 1,
   "id": "b18fa54a",
   "metadata": {},
   "outputs": [],
   "source": [
    "\"\"\"cs模組: 物件變數視野與命名空間展示模組\"\"\"\n",
    "mv = \"模組變數: mv\"\n",
    "\n",
    "def mf():\n",
    "    return \"模組函式: mf()\"\n",
    "\n",
    "class SC:\n",
    "    scv = \"父類別的類別變數: self.scv\"\n",
    "    __pscv = \"父類別的私有類別變數: 無法從外部存取\"\n",
    "    def __init__(self):\n",
    "        self.siv = \"父類別定義的物件變數: self.siv\" \\\n",
    "                   \"(但必須透過 SC.siv 才能賦職)\"\n",
    "        self.__psiv = \"父類別定義的私有物件變數: \" \\\n",
    "                      \"無法從外部存取\"\n",
    "        \n",
    "    def sm(self):\n",
    "        return \"父類別的方法: self.sm()\"\n",
    "    def __spm(self):\n",
    "        return \"父類別的私有方法: 無法從外部存取\"\n",
    "    \n",
    "class C(SC):\n",
    "    cv = \"類別變數: self.cv (但必須透過 C.cv才能賦值)\"\n",
    "    __pcv = \"私有類別變數: self.__pcv \" \\\n",
    "            \"(但必須透過C.__pcv才能賦值)\"\n",
    "    \n",
    "    def __init__(self):\n",
    "        SC.__init__(self)\n",
    "        self.__piv = \"私有物件變數: self.__piv\"\n",
    "    def m2(self):\n",
    "        return \"方法: self.m2()\"\n",
    "    def __pm(self):\n",
    "        return \"私有方法: self.__pm\"\n",
    "    def m(self, p =\"參數: p\"):\n",
    "        lv = \"區域變數: lv\"\n",
    "        self.iv = \"物件變數: self.xi\"\n",
    "        print(\"直接存取區域、全域、和內建命名空間\")\n",
    "        print(\"區域命名空間:\",list(locals.keys()))\n",
    "        print(p)\n",
    "        print(lv)\n",
    "        print(\"全域命名空間:\",list(globals.keys()))\n",
    "        print(mv)\n",
    "        print(mf())\n",
    "        print(\"透過 'self' 存取物件,類別,父類別命名空間\")\n",
    "        print(\"物件命名空間:\",dir(self))\n",
    "        print(self.iv)\n",
    "        print(self.__piv)\n",
    "        print(self.siv)\n",
    "        print(\"類別命名空間:\",dir(C))\n",
    "        print(self.cv)\n",
    "        print(self.m2())\n",
    "        print(self.__pcv)\n",
    "        print(self.__pm())\n",
    "        print(\"父類別命名空間:\",dir(SC))\n",
    "        print(self.sm())\n",
    "        print(self.scv)"
   ]
  }
 ],
 "metadata": {
  "kernelspec": {
   "display_name": "Python 3 (ipykernel)",
   "language": "python",
   "name": "python3"
  },
  "language_info": {
   "codemirror_mode": {
    "name": "ipython",
    "version": 3
   },
   "file_extension": ".py",
   "mimetype": "text/x-python",
   "name": "python",
   "nbconvert_exporter": "python",
   "pygments_lexer": "ipython3",
   "version": "3.9.7"
  }
 },
 "nbformat": 4,
 "nbformat_minor": 5
}
