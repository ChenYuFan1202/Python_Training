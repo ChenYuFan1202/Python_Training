{
 "cells": [
  {
   "cell_type": "code",
   "execution_count": 1,
   "id": "2ea944a4",
   "metadata": {},
   "outputs": [],
   "source": [
    "\"\"\"circle_cm 模組: 包含 Circle 類別.\"\"\"\n",
    "class Circle:\n",
    "    \"\"\"circle類別\"\"\"\n",
    "    all_circles = []\n",
    "    pi = 3.14159\n",
    "    \n",
    "    def __init__(self,r=1):\n",
    "        \"\"\"以給定的半徑建立圓物件\"\"\"\n",
    "        self.radius = r\n",
    "        self.__class__.all_circles.append(self)\n",
    "        \n",
    "    def area(self):\n",
    "        \"\"\"計算此物件的圓面積\"\"\"\n",
    "        return self.radius * self.radius * self.__class__.pi\n",
    "    \n",
    "    @classmethod\n",
    "    def total_area(cls):\n",
    "        \"\"\"用來計算所有物件總面積的類別方法\"\"\"\n",
    "        total = 0\n",
    "        for c in cls.all_circles:\n",
    "            total = total + c.area()\n",
    "        return total"
   ]
  }
 ],
 "metadata": {
  "kernelspec": {
   "display_name": "Python 3 (ipykernel)",
   "language": "python",
   "name": "python3"
  },
  "language_info": {
   "codemirror_mode": {
    "name": "ipython",
    "version": 3
   },
   "file_extension": ".py",
   "mimetype": "text/x-python",
   "name": "python",
   "nbconvert_exporter": "python",
   "pygments_lexer": "ipython3",
   "version": "3.9.7"
  }
 },
 "nbformat": 4,
 "nbformat_minor": 5
}
