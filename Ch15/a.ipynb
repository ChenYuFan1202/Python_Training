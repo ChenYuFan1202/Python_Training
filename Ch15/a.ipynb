{
 "cells": [
  {
   "cell_type": "code",
   "execution_count": 3,
   "id": "43b2f211",
   "metadata": {},
   "outputs": [],
   "source": [
    "class MyClass:\n",
    "    pass"
   ]
  },
  {
   "cell_type": "code",
   "execution_count": 2,
   "id": "dadba8d2",
   "metadata": {},
   "outputs": [],
   "source": [
    "instance1 = MyClass()\n",
    "instance2 = MyClass()"
   ]
  },
  {
   "cell_type": "code",
   "execution_count": 7,
   "id": "a2c58982",
   "metadata": {},
   "outputs": [
    {
     "name": "stdout",
     "output_type": "stream",
     "text": [
      "31.400000000000002\n",
      "18.84\n"
     ]
    }
   ],
   "source": [
    "class Circle:\n",
    "    \"\"\"一個空類別\"\"\"\n",
    "    pass\n",
    "\n",
    "my_circle1 = Circle()\n",
    "my_circle1.radius = 5\n",
    "print(2 * 3.14 * my_circle1.radius)#float無法精確描述，所以會是double到後面有2結尾\n",
    "\n",
    "my_circle2 = Circle()\n",
    "my_circle2.radius = 3\n",
    "print(2 * 3.14 * my_circle2.radius)"
   ]
  },
  {
   "cell_type": "code",
   "execution_count": 8,
   "id": "062cb4c1",
   "metadata": {},
   "outputs": [
    {
     "data": {
      "text/plain": [
       "'一個空類別'"
      ]
     },
     "execution_count": 8,
     "metadata": {},
     "output_type": "execute_result"
    }
   ],
   "source": [
    "Circle.__doc__\n",
    "#my_circle1和my_circle2的結果都是一樣的"
   ]
  },
  {
   "cell_type": "code",
   "execution_count": 11,
   "id": "8bed6316",
   "metadata": {},
   "outputs": [
    {
     "name": "stdout",
     "output_type": "stream",
     "text": [
      "6.28\n",
      "31.400000000000002\n"
     ]
    }
   ],
   "source": [
    "class Circle:\n",
    "    def __init__(self):\n",
    "        self.radius = 1\n",
    "\n",
    "mycircle = Circle()\n",
    "print(2 * 3.14 * mycircle.radius)\n",
    "mycircle.radius = 5\n",
    "print(2 * 3.14 * mycircle.radius)"
   ]
  },
  {
   "cell_type": "code",
   "execution_count": 15,
   "id": "4f5090a5",
   "metadata": {},
   "outputs": [
    {
     "data": {
      "text/plain": [
       "1"
      ]
     },
     "execution_count": 15,
     "metadata": {},
     "output_type": "execute_result"
    }
   ],
   "source": [
    "class Circle:\n",
    "    def __init__(self):\n",
    "        self.radius = 1\n",
    "        radius = 2\n",
    "        #print(radius)\n",
    "\n",
    "my_circle = Circle()\n",
    "my_circle.radius"
   ]
  },
  {
   "cell_type": "code",
   "execution_count": 20,
   "id": "76faa83f",
   "metadata": {},
   "outputs": [
    {
     "name": "stdout",
     "output_type": "stream",
     "text": [
      "48\n"
     ]
    }
   ],
   "source": [
    "class Rectangle:\n",
    "    def __init__(self):\n",
    "        self.width = 6\n",
    "        self.length = 8\n",
    "\n",
    "my_rectangle = Rectangle()\n",
    "#my_rectangle.length = 4\n",
    "print(my_rectangle.width * my_rectangle.length)"
   ]
  },
  {
   "cell_type": "code",
   "execution_count": 21,
   "id": "e4b7196f",
   "metadata": {},
   "outputs": [],
   "source": [
    "class Rectangle:\n",
    "    def __init__(self): \n",
    "        self.height = 1\n",
    "        self.width = 2"
   ]
  },
  {
   "cell_type": "code",
   "execution_count": 6,
   "id": "2d40be3d",
   "metadata": {},
   "outputs": [
    {
     "name": "stdout",
     "output_type": "stream",
     "text": [
      "3.14159\n",
      "28.27431\n",
      "28.27431\n"
     ]
    }
   ],
   "source": [
    "class Circle:\n",
    "    def __init__(self):\n",
    "        self.radius = 1\n",
    "    def area(self):\n",
    "        return self.radius * self.radius * 3.14159\n",
    "    \n",
    "c = Circle()\n",
    "print(c.area())\n",
    "c.radius = 3\n",
    "print(c.area())\n",
    "print(Circle.area(c))"
   ]
  },
  {
   "cell_type": "code",
   "execution_count": 6,
   "id": "7a9becd0",
   "metadata": {},
   "outputs": [
    {
     "data": {
      "text/plain": [
       "78.53975"
      ]
     },
     "execution_count": 6,
     "metadata": {},
     "output_type": "execute_result"
    }
   ],
   "source": [
    "class Circle:\n",
    "    def __init__(self,radius = 1):\n",
    "        self.radius = radius\n",
    "    def area(self):\n",
    "        return self.radius * self.radius * 3.14159# 建議寫成self.radius = r or rad\n",
    "                                                  # self.name = n\n",
    "c = Circle(5)\n",
    "c.area()"
   ]
  },
  {
   "cell_type": "code",
   "execution_count": 9,
   "id": "a88a5534",
   "metadata": {},
   "outputs": [
    {
     "data": {
      "text/plain": [
       "2"
      ]
     },
     "execution_count": 9,
     "metadata": {},
     "output_type": "execute_result"
    }
   ],
   "source": [
    "class Rectangle:\n",
    "    def __init__(self,h,w): \n",
    "        self.height = h\n",
    "        self.width = w\n",
    "    def area(self):\n",
    "        return self.height * self.width\n",
    "#         self.height = 1\n",
    "#         self.width = 2\n",
    "r = Rectangle(1,2)\n",
    "r.area()"
   ]
  },
  {
   "cell_type": "code",
   "execution_count": 11,
   "id": "144743ff",
   "metadata": {},
   "outputs": [],
   "source": [
    "class Rectangle:\n",
    "    def __init__(self, width, height): \n",
    "        self.height = height\n",
    "        self.width = width\n",
    "        \n",
    "    def area(self):\n",
    "        return self.height * self.width"
   ]
  },
  {
   "cell_type": "code",
   "execution_count": 17,
   "id": "988bb991",
   "metadata": {},
   "outputs": [
    {
     "name": "stdout",
     "output_type": "stream",
     "text": [
      "<class '__main__.Circle'>\n",
      "<class '__main__.Circle'>\n"
     ]
    },
    {
     "data": {
      "text/plain": [
       "3.14159"
      ]
     },
     "execution_count": 17,
     "metadata": {},
     "output_type": "execute_result"
    }
   ],
   "source": [
    "class Circle:\n",
    "    pi = 3.14159\n",
    "    def __init__(self,r):\n",
    "        self.radius = r\n",
    "    def area(self):\n",
    "        return self.radius * self.radius * self.__class__.pi#Circle.pi\n",
    "    \n",
    "Circle.pi# = 4\n",
    "# Circle.pi\n",
    "c = Circle(3)\n",
    "c.area()\n",
    "print(Circle)\n",
    "print(c.__class__)\n",
    "c.__class__.pi"
   ]
  },
  {
   "cell_type": "code",
   "execution_count": 18,
   "id": "eae98182",
   "metadata": {},
   "outputs": [
    {
     "data": {
      "text/plain": [
       "3.14159"
      ]
     },
     "execution_count": 18,
     "metadata": {},
     "output_type": "execute_result"
    }
   ],
   "source": [
    "c = Circle(3)\n",
    "c.pi"
   ]
  },
  {
   "cell_type": "code",
   "execution_count": 24,
   "id": "a1c4fd87",
   "metadata": {},
   "outputs": [
    {
     "name": "stdout",
     "output_type": "stream",
     "text": [
      "2032043353296 2032043353264\n"
     ]
    }
   ],
   "source": [
    "c1 = Circle(1)\n",
    "c2 = Circle(2)\n",
    "c1.pi = 3.14\n",
    "c1.pi\n",
    "c2.pi\n",
    "Circle.pi\n",
    "print(id(c1.pi),id(c2.pi))"
   ]
  },
  {
   "cell_type": "code",
   "execution_count": 16,
   "id": "5b757620",
   "metadata": {},
   "outputs": [
    {
     "name": "stdout",
     "output_type": "stream",
     "text": [
      "31.415899999999997\n"
     ]
    }
   ],
   "source": [
    "import circle\n",
    "c1 = circle.Circle(1)\n",
    "c2 = circle.Circle(2)\n",
    "# print(circle.Circle.total_area())\n",
    "# print(circle.Circle.all_circles)\n",
    "circle.Circle.total_area()\n",
    "c2.radius = 3\n",
    "print(c2.total_area())\n",
    "circle.Circle.all_circles.clear()"
   ]
  },
  {
   "cell_type": "code",
   "execution_count": 29,
   "id": "7c9faab5",
   "metadata": {},
   "outputs": [
    {
     "name": "stdout",
     "output_type": "stream",
     "text": [
      "15.70795\n",
      "31.4159\n"
     ]
    }
   ],
   "source": [
    "import circle_cm\n",
    "c1 = circle_cm.Circle(1)\n",
    "c2 = circle_cm.Circle(2)\n",
    "print(circle_cm.Circle.total_area())\n",
    "#print(circle.Circle)\n",
    "c2.radius = 3\n",
    "print(circle_cm.Circle.total_area())\n",
    "circle_cm.Circle.all_circles.clear()"
   ]
  },
  {
   "cell_type": "code",
   "execution_count": 36,
   "id": "6d0dc0a7",
   "metadata": {},
   "outputs": [
    {
     "name": "stdout",
     "output_type": "stream",
     "text": [
      "18.849539999999998\n"
     ]
    }
   ],
   "source": [
    "import circle_length\n",
    "c1 = circle_length.Circle(1)\n",
    "c2 = circle_length.Circle(2)\n",
    "print(circle_length.Circle.total_length())\n",
    "circle_length.Circle.all_circles.clear()"
   ]
  },
  {
   "cell_type": "code",
   "execution_count": null,
   "id": "4406b4e2",
   "metadata": {},
   "outputs": [],
   "source": [
    "class Square:\n",
    "    def __init__(self,side = 1):\n",
    "        self.side = side"
   ]
  },
  {
   "cell_type": "code",
   "execution_count": null,
   "id": "e872741d",
   "metadata": {},
   "outputs": [],
   "source": [
    "class Square:\n",
    "    def __init__(self, side = 1, x = 0, y = 0):\n",
    "        self.side = side\n",
    "        self.x = x\n",
    "        self.y = y\n",
    "class Circle:\n",
    "    def __init__(self, radius = 1, x = 0,y = 0)\n",
    "    self.radius = radius\n",
    "    self.x = x\n",
    "    self.y = y"
   ]
  },
  {
   "cell_type": "code",
   "execution_count": 6,
   "id": "799df117",
   "metadata": {},
   "outputs": [],
   "source": [
    "class Shape:\n",
    "    def __init__(self, x, y):\n",
    "        self.x = x\n",
    "        self.y = y\n",
    "class Square(Shape):\n",
    "    def __init__(self, side = 1, x = 0, y = 0):\n",
    "        super().__init__(x,y)\n",
    "        self.side = side\n",
    "class Circle(Shape):\n",
    "    def __init__(self,r = 1,x = 0,y = 0):\n",
    "        super().__init__(x,y)\n",
    "        self.radius = r"
   ]
  },
  {
   "cell_type": "code",
   "execution_count": 6,
   "id": "206c2cf9",
   "metadata": {},
   "outputs": [
    {
     "name": "stdout",
     "output_type": "stream",
     "text": [
      "3\n"
     ]
    },
    {
     "data": {
      "text/plain": [
       "4"
      ]
     },
     "execution_count": 6,
     "metadata": {},
     "output_type": "execute_result"
    }
   ],
   "source": [
    "class Shape:\n",
    "    def __init__(self, x, y):\n",
    "        self.x = x\n",
    "        self.y = y\n",
    "    def move(self, delta_x, delta_y):\n",
    "        self.x = self.x + delta_x\n",
    "        self.y = self.y + delta_y\n",
    "class Square(Shape):\n",
    "    def __init__(self, side = 1, x = 0, y = 0):\n",
    "        super().__init__(x,y)\n",
    "        self.side = side\n",
    "class Circle(Shape):\n",
    "    def __init__(self,r = 1,x = 0,y = 0):\n",
    "        super().__init__(x,y)\n",
    "        self.radius = r\n",
    "        \n",
    "c = Circle(1)\n",
    "c.move(3,4)\n",
    "print(c.x)\n",
    "c.y"
   ]
  },
  {
   "cell_type": "code",
   "execution_count": 10,
   "id": "cdb94f5b",
   "metadata": {},
   "outputs": [
    {
     "data": {
      "text/plain": [
       "25"
      ]
     },
     "execution_count": 10,
     "metadata": {},
     "output_type": "execute_result"
    }
   ],
   "source": [
    "class Shape:\n",
    "    def __init__(self,x,y):\n",
    "        self.x = x\n",
    "        self.y = y\n",
    "        \n",
    "class Rectangle(Shape):\n",
    "    def __init__(self,x,y):\n",
    "        super().__init__(x,y)\n",
    "\n",
    "class Square(Rectangle):\n",
    "    def __init__(self,x,y = 0):\n",
    "        super().__init__(x,y)\n",
    "    def area(self):\n",
    "        return self.x * self.x\n",
    "\n",
    "s = Square(5)\n",
    "s.area()"
   ]
  }
 ],
 "metadata": {
  "kernelspec": {
   "display_name": "Python 3 (ipykernel)",
   "language": "python",
   "name": "python3"
  },
  "language_info": {
   "codemirror_mode": {
    "name": "ipython",
    "version": 3
   },
   "file_extension": ".py",
   "mimetype": "text/x-python",
   "name": "python",
   "nbconvert_exporter": "python",
   "pygments_lexer": "ipython3",
   "version": "3.9.7"
  }
 },
 "nbformat": 4,
 "nbformat_minor": 5
}
