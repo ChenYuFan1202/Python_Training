{
 "cells": [
  {
   "cell_type": "code",
   "execution_count": 1,
   "id": "53b06fed",
   "metadata": {},
   "outputs": [
    {
     "name": "stdout",
     "output_type": "stream",
     "text": [
      "362880\n"
     ]
    }
   ],
   "source": [
    "n = 9\n",
    "r = 1\n",
    "while n > 0:\n",
    "    r = r * n\n",
    "    n = n - 1\n",
    "print(r)"
   ]
  },
  {
   "cell_type": "code",
   "execution_count": 3,
   "id": "e5936a7c",
   "metadata": {},
   "outputs": [],
   "source": [
    "x = 1\n",
    "if x == 0:\n",
    "    print(x)\n",
    "elif x == 2:\n",
    "    print(x)\n",
    "# else:\n",
    "#     print(0)"
   ]
  },
  {
   "cell_type": "code",
   "execution_count": 4,
   "id": "fdc81200",
   "metadata": {},
   "outputs": [
    {
     "name": "stdout",
     "output_type": "stream",
     "text": [
      "failed\n"
     ]
    }
   ],
   "source": [
    "n = 99\n",
    "# if n > 100:\n",
    "#     result = \"success\"\n",
    "# else:\n",
    "#     result = \"failed\"\n",
    "# print(result)\n",
    "#result = \"sccuess\" if n > 100 else \"failed\"\n",
    "#print(result)\n",
    "print(\"success\" if n > 100 else \"failed\")"
   ]
  },
  {
   "cell_type": "code",
   "execution_count": 22,
   "id": "549e3587",
   "metadata": {},
   "outputs": [
    {
     "name": "stdout",
     "output_type": "stream",
     "text": [
      "0\n"
     ]
    }
   ],
   "source": [
    "x = []\n",
    "for i in x:\n",
    "    print(i)\n",
    "else:\n",
    "    print(0)"
   ]
  },
  {
   "cell_type": "code",
   "execution_count": 21,
   "id": "4b2d15e1",
   "metadata": {},
   "outputs": [
    {
     "name": "stdout",
     "output_type": "stream",
     "text": [
      "1.0\n",
      "0.5\n",
      "0.3333333333333333\n"
     ]
    }
   ],
   "source": [
    "x = [1,2,3]\n",
    "for i in x:\n",
    "    print(1/i)"
   ]
  },
  {
   "cell_type": "code",
   "execution_count": 5,
   "id": "20b42541",
   "metadata": {},
   "outputs": [
    {
     "name": "stdout",
     "output_type": "stream",
     "text": [
      "找到負數，其索引值為 2\n",
      "找到負數，其索引值為 5\n"
     ]
    }
   ],
   "source": [
    "x = [1,3,-7,4,9,-5,4]\n",
    "for i in range(len(x)):\n",
    "    if x[i] < 0:\n",
    "        print(\"找到負數，其索引值為\", i)\n",
    "# for i in x:\n",
    "#     if i < 0:\n",
    "#         print(\"找到負數，其值為\",i)\n",
    "       "
   ]
  },
  {
   "cell_type": "code",
   "execution_count": 31,
   "id": "c0cb1dba",
   "metadata": {},
   "outputs": [
    {
     "data": {
      "text/plain": [
       "[]"
      ]
     },
     "execution_count": 31,
     "metadata": {},
     "output_type": "execute_result"
    }
   ],
   "source": [
    "range(3,7)\n",
    "list(range(3,7))\n",
    "list(range(2,10))\n",
    "list(range(5,3))"
   ]
  },
  {
   "cell_type": "code",
   "execution_count": 34,
   "id": "2bf5cefb",
   "metadata": {},
   "outputs": [
    {
     "data": {
      "text/plain": [
       "[5, 4, 3, 2, 1]"
      ]
     },
     "execution_count": 34,
     "metadata": {},
     "output_type": "execute_result"
    }
   ],
   "source": [
    "list(range(0,10,2))\n",
    "list(range(5,0,-1))"
   ]
  },
  {
   "cell_type": "code",
   "execution_count": 13,
   "id": "79eda40c",
   "metadata": {},
   "outputs": [
    {
     "name": "stdout",
     "output_type": "stream",
     "text": [
      "68\n"
     ]
    }
   ],
   "source": [
    "list = [(1,2),(3,7),(9,5)]\n",
    "result = 0\n",
    "for t in list:\n",
    "    result = result + (t[0] * t[1])\n",
    "print(result)"
   ]
  },
  {
   "cell_type": "code",
   "execution_count": 14,
   "id": "cf73d306",
   "metadata": {},
   "outputs": [
    {
     "name": "stdout",
     "output_type": "stream",
     "text": [
      "68\n"
     ]
    }
   ],
   "source": [
    "list = [(1,2),(3,7),(9,5)]\n",
    "result = 0\n",
    "for num1,num2 in list:\n",
    "    result = result + (num1 * num2)\n",
    "print(result)"
   ]
  },
  {
   "cell_type": "code",
   "execution_count": 2,
   "id": "8cb83a56",
   "metadata": {},
   "outputs": [
    {
     "data": {
      "text/plain": [
       "[(0, 'a'), (1, 'b'), (2, 'c')]"
      ]
     },
     "execution_count": 2,
     "metadata": {},
     "output_type": "execute_result"
    }
   ],
   "source": [
    "x = [\"a\",\"b\",\"c\"]\n",
    "#list((1,2,3,4))\n",
    "list(enumerate(x))"
   ]
  },
  {
   "cell_type": "code",
   "execution_count": 4,
   "id": "fafc4241",
   "metadata": {},
   "outputs": [
    {
     "name": "stdout",
     "output_type": "stream",
     "text": [
      "找到負數，其索引值為 2\n",
      "找到負數，其索引值為 5\n"
     ]
    }
   ],
   "source": [
    "x = [1,3,-7,4,9,-5,4]\n",
    "for i,n in enumerate(x):\n",
    "    if n < 0:\n",
    "        print(\"找到負數，其索引值為\",i)\n",
    "       # print(n,x[i])"
   ]
  },
  {
   "cell_type": "code",
   "execution_count": 6,
   "id": "8a73181b",
   "metadata": {},
   "outputs": [
    {
     "data": {
      "text/plain": [
       "[(1, 'a'), (2, 'b'), (3, 'c')]"
      ]
     },
     "execution_count": 6,
     "metadata": {},
     "output_type": "execute_result"
    }
   ],
   "source": [
    "x = [1,2,3,4]\n",
    "y = (\"a\",\"b\",\"c\")\n",
    "#list(zip(x,y))\n",
    "z = zip(x,y)\n",
    "list(z)"
   ]
  },
  {
   "cell_type": "code",
   "execution_count": 22,
   "id": "b176ff9f",
   "metadata": {},
   "outputs": [
    {
     "name": "stdout",
     "output_type": "stream",
     "text": [
      "[1, 3, 5, 0, 3]\n"
     ]
    }
   ],
   "source": [
    "x = [1,3,5,0,-1,3,-2]\n",
    "for n,i in enumerate(x):\n",
    "    if i < 0:\n",
    "        del(x[n])\n",
    "x\n",
    "\n",
    "x = [1, 3, 5, 0, -1, 3, -2]\n",
    "for i in x:\n",
    "    if i < 0:\n",
    "        x.remove(i)\n",
    "print(x)"
   ]
  },
  {
   "cell_type": "code",
   "execution_count": 23,
   "id": "feddef43",
   "metadata": {},
   "outputs": [
    {
     "name": "stdout",
     "output_type": "stream",
     "text": [
      "4\n",
      "4\n"
     ]
    }
   ],
   "source": [
    "y = [[1,-1,0],[2,5,-9],[-2,-3,0]]\n",
    "count = 0\n",
    "for a,b,c in y:\n",
    "    if a < 0:\n",
    "        count = count + 1\n",
    "    if b < 0:\n",
    "        count = count + 1\n",
    "    if c < 0:\n",
    "        count = count + 1\n",
    "print(count)\n",
    "\n",
    "count = 0\n",
    "y = [[1, -1, 0], [2, 5, -9], [-2, -3, 0]]\n",
    "for row in y:\n",
    "    for col in row:\n",
    "        if col < 0:\n",
    "            count += 1\n",
    "print(count)"
   ]
  },
  {
   "cell_type": "code",
   "execution_count": 7,
   "id": "be3011b4",
   "metadata": {},
   "outputs": [
    {
     "name": "stdout",
     "output_type": "stream",
     "text": [
      "請輸入一個整數? 5\n",
      "very high\n"
     ]
    }
   ],
   "source": [
    "x = int(input(\"請輸入一個整數? \"))\n",
    "if x < -5:\n",
    "    print(\"very low\")\n",
    "elif x < 0: #-5 <= x\n",
    "    print(\"low\")\n",
    "elif x == 0:# 記得是==0\n",
    "    print(\"neutral\")\n",
    "elif x < 5:# 0 < x\n",
    "    print(\"high\")\n",
    "else:\n",
    "    print(\"very high\")\n",
    "    \n",
    "# if x < -5:\n",
    "#     print(\"very low\")\n",
    "# elif x <= 0:\n",
    "#     print(\"low\")\n",
    "# elif x <= 5:\n",
    "#     print(\"high\")\n",
    "# else:\n",
    "#     print(\"very high\")"
   ]
  }
 ],
 "metadata": {
  "kernelspec": {
   "display_name": "Python 3 (ipykernel)",
   "language": "python",
   "name": "python3"
  },
  "language_info": {
   "codemirror_mode": {
    "name": "ipython",
    "version": 3
   },
   "file_extension": ".py",
   "mimetype": "text/x-python",
   "name": "python",
   "nbconvert_exporter": "python",
   "pygments_lexer": "ipython3",
   "version": "3.9.7"
  }
 },
 "nbformat": 4,
 "nbformat_minor": 5
}
