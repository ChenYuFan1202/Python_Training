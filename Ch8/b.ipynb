{
 "cells": [
  {
   "cell_type": "code",
   "execution_count": 125,
   "id": "5aac0ce5",
   "metadata": {},
   "outputs": [
    {
     "data": {
      "text/plain": [
       "[1, 4, 9, 16]"
      ]
     },
     "execution_count": 125,
     "metadata": {},
     "output_type": "execute_result"
    }
   ],
   "source": [
    "x = [1,2,3,4]\n",
    "x_squared = []\n",
    "for item in x:\n",
    "    x_squared.append(item * item)\n",
    "x_squared"
   ]
  },
  {
   "cell_type": "code",
   "execution_count": 2,
   "id": "1d4de468",
   "metadata": {},
   "outputs": [
    {
     "data": {
      "text/plain": [
       "[1, 4, 9, 16]"
      ]
     },
     "execution_count": 2,
     "metadata": {},
     "output_type": "execute_result"
    }
   ],
   "source": [
    "x = [1,2,3,4]\n",
    "x_squared = [item * item for item in x]\n",
    "x_squared"
   ]
  },
  {
   "cell_type": "code",
   "execution_count": 4,
   "id": "2257f6dc",
   "metadata": {},
   "outputs": [
    {
     "data": {
      "text/plain": [
       "[9, 16]"
      ]
     },
     "execution_count": 4,
     "metadata": {},
     "output_type": "execute_result"
    }
   ],
   "source": [
    "x = [1,2,3,4]\n",
    "x_squared = [item * item for item in x if item > 2]\n",
    "x_squared"
   ]
  },
  {
   "cell_type": "code",
   "execution_count": 8,
   "id": "2d636413",
   "metadata": {},
   "outputs": [
    {
     "data": {
      "text/plain": [
       "{1: 1, 2: 4, 3: 9, 4: 16}"
      ]
     },
     "execution_count": 8,
     "metadata": {},
     "output_type": "execute_result"
    }
   ],
   "source": [
    "x = [1,2,3,4]\n",
    "x_squared_dict = {item:item * item for item in x}\n",
    "x_squared_dict"
   ]
  },
  {
   "cell_type": "code",
   "execution_count": 2,
   "id": "4a9593a0",
   "metadata": {},
   "outputs": [
    {
     "data": {
      "text/plain": [
       "[0, 2, 3, 5, 6]"
      ]
     },
     "execution_count": 2,
     "metadata": {},
     "output_type": "execute_result"
    }
   ],
   "source": [
    "x = [0,1,2,3,4,5,6,7]\n",
    "for i,n in enumerate(x):\n",
    "    if i%2 == 1:\n",
    "        del(x[i])\n",
    "# for i in x:\n",
    "#     if i%2 == 1:\n",
    "#         x.remove(i)\n",
    "x"
   ]
  },
  {
   "cell_type": "code",
   "execution_count": 12,
   "id": "72a9e509",
   "metadata": {},
   "outputs": [
    {
     "data": {
      "text/plain": [
       "[0, 2, 4, 6]"
      ]
     },
     "execution_count": 12,
     "metadata": {},
     "output_type": "execute_result"
    }
   ],
   "source": [
    "x = [0,1,2,3,4,5,6,7]\n",
    "y = list(range(len(x)-1,-1,-1))   \n",
    "for i in y:\n",
    "    if i % 2 == 1:\n",
    "        del(x[i])\n",
    "x"
   ]
  },
  {
   "cell_type": "code",
   "execution_count": 19,
   "id": "ff48fc48",
   "metadata": {},
   "outputs": [
    {
     "data": {
      "text/plain": [
       "[0, 2, 4, 6]"
      ]
     },
     "execution_count": 19,
     "metadata": {},
     "output_type": "execute_result"
    }
   ],
   "source": [
    "x = [0,1,2,3,4,5,6,7]\n",
    "y = [n for i,n in enumerate(x) if not i%2 == 1]\n",
    "y"
   ]
  },
  {
   "cell_type": "code",
   "execution_count": 22,
   "id": "8002e85c",
   "metadata": {},
   "outputs": [
    {
     "name": "stdout",
     "output_type": "stream",
     "text": [
      "1 4 9 16 "
     ]
    }
   ],
   "source": [
    "x = [1,2,3,4]\n",
    "x_squared = (item * item for item in x)\n",
    "x_squared\n",
    "\n",
    "for square in x_squared:\n",
    "    print(square,end = \" \")"
   ]
  },
  {
   "cell_type": "code",
   "execution_count": 30,
   "id": "fff488bc",
   "metadata": {},
   "outputs": [
    {
     "data": {
      "text/plain": [
       "[1, 3, 5, 0, 3]"
      ]
     },
     "execution_count": 30,
     "metadata": {},
     "output_type": "execute_result"
    }
   ],
   "source": [
    "x = [1, 3, 5, 0, -1, 3, -2]\n",
    "new_x = [item for item in x if item >= 0]\n",
    "new_x"
   ]
  },
  {
   "cell_type": "code",
   "execution_count": 35,
   "id": "76800a98",
   "metadata": {},
   "outputs": [
    {
     "name": "stdout",
     "output_type": "stream",
     "text": [
      "1 3 5 7 9 11 13 15 17 19 21 23 25 27 29 31 33 35 37 39 41 43 45 47 49 51 53 55 57 59 61 63 65 67 69 71 73 75 77 79 81 83 85 87 89 91 93 95 97 99 "
     ]
    }
   ],
   "source": [
    "odd = (num for num in range(1,100) if num % 2 == 1)#可以不用 == 1\n",
    "odd\n",
    "\n",
    "for num in odd:\n",
    "    print(num,end = \" \")\n",
    "    \n",
    "# odd_100 = (x for x in range(100) if x % 2)            \n",
    "# for i in odd_100:\n",
    "#     print(i)"
   ]
  },
  {
   "cell_type": "code",
   "execution_count": 39,
   "id": "28ca274b",
   "metadata": {},
   "outputs": [
    {
     "name": "stdout",
     "output_type": "stream",
     "text": [
      "{11: 1331, 12: 1728, 13: 2197, 14: 2744, 15: 3375}\n"
     ]
    }
   ],
   "source": [
    "x = [11,12,13,14,15]\n",
    "triple = {num:num*num*num for num in x}\n",
    "triple\n",
    "\n",
    "cubes = {x: x**3 for x in range(11, 16)}\n",
    "print(cubes)"
   ]
  },
  {
   "cell_type": "code",
   "execution_count": 42,
   "id": "d676c1cb",
   "metadata": {},
   "outputs": [
    {
     "name": "stdout",
     "output_type": "stream",
     "text": [
      "1 1 10\n"
     ]
    }
   ],
   "source": [
    "x = 1; y = 0; z = 0\n",
    "if x > 0: y = 1; z = 10\n",
    "else: y = -1\n",
    "print(x,y,z)"
   ]
  },
  {
   "cell_type": "code",
   "execution_count": 57,
   "id": "149c3e25",
   "metadata": {},
   "outputs": [
    {
     "name": "stdout",
     "output_type": "stream",
     "text": [
      "string1 string2 string3\n"
     ]
    },
    {
     "data": {
      "text/plain": [
       "{1200}"
      ]
     },
     "execution_count": 57,
     "metadata": {},
     "output_type": "execute_result"
    }
   ],
   "source": [
    " print(\"string1\",\"string2\"\\\n",
    "      ,\"string3\")\n",
    "x = 100 +200\\\n",
    "    +300\n",
    "x\n",
    "v = [100,300,500\n",
    "    ,700]\n",
    "v\n",
    "max(100,300,700\n",
    "   ,1000)\n",
    "x = {100 + 500 + \n",
    "    600}\n",
    "x"
   ]
  },
  {
   "cell_type": "code",
   "execution_count": 63,
   "id": "aa0c4284",
   "metadata": {},
   "outputs": [
    {
     "data": {
      "text/plain": [
       "5"
      ]
     },
     "execution_count": 63,
     "metadata": {},
     "output_type": "execute_result"
    }
   ],
   "source": [
    "[2] and [3,4]\n",
    "[] and 5\n",
    "[2] or [3,4]\n",
    "[] or 5"
   ]
  },
  {
   "cell_type": "code",
   "execution_count": 6,
   "id": "84bf85fa",
   "metadata": {},
   "outputs": [
    {
     "name": "stdout",
     "output_type": "stream",
     "text": [
      "x <= 0\n"
     ]
    },
    {
     "data": {
      "text/plain": [
       "0"
      ]
     },
     "execution_count": 6,
     "metadata": {},
     "output_type": "execute_result"
    }
   ],
   "source": [
    "x = 0\n",
    "x <= 0 and print(\"x <= 0\")\n",
    "#1/x\n",
    "x and 1/x"
   ]
  },
  {
   "cell_type": "code",
   "execution_count": 69,
   "id": "f4cc5ec4",
   "metadata": {},
   "outputs": [
    {
     "data": {
      "text/plain": [
       "True"
      ]
     },
     "execution_count": 69,
     "metadata": {},
     "output_type": "execute_result"
    }
   ],
   "source": [
    "x = [0]\n",
    "y = [x,1]\n",
    "x is y[0]\n",
    "x = [0]\n",
    "x is y[0]\n",
    "x == y[0]"
   ]
  },
  {
   "cell_type": "code",
   "execution_count": 74,
   "id": "0e7f9392",
   "metadata": {},
   "outputs": [
    {
     "name": "stdout",
     "output_type": "stream",
     "text": [
      "0\n",
      "True\n"
     ]
    },
    {
     "data": {
      "text/plain": [
       "'1 > 0'"
      ]
     },
     "execution_count": 74,
     "metadata": {},
     "output_type": "execute_result"
    }
   ],
   "source": [
    "print(1 and 0)\n",
    "print(1 > 0 or [])\n",
    "\"1 > 0\" or []"
   ]
  },
  {
   "cell_type": "code",
   "execution_count": 9,
   "id": "29093d85",
   "metadata": {},
   "outputs": [
    {
     "data": {
      "text/plain": [
       "'行數有4,字數有30,字元數有189'"
      ]
     },
     "execution_count": 9,
     "metadata": {},
     "output_type": "execute_result"
    }
   ],
   "source": [
    "infile = open(\"word_count.tst\")\n",
    "\n",
    "lines = infile.read().split(\"\\n\")\n",
    "#print(lines,end = \"\\n\\n\")\n",
    "line_count = len(lines)\n",
    "\n",
    "word_count = 0\n",
    "char_count = 0\n",
    "\n",
    "for line in lines:\n",
    "    words = line.split()\n",
    "    #print(words)\n",
    "    word_count += len(words)\n",
    "    #print(list(line))\n",
    "    char_count += len(line)\n",
    "    \n",
    "\"行數有{},字數有{},字元數有{}\".format(line_count,word_count,char_count)"
   ]
  },
  {
   "cell_type": "code",
   "execution_count": 153,
   "id": "e11c6f13",
   "metadata": {},
   "outputs": [
    {
     "name": "stdout",
     "output_type": "stream",
     "text": [
      "File has 4 lines, 30 words, 189 characters\n"
     ]
    }
   ],
   "source": [
    "infile = open('word_count.tst')  \n",
    "lines = infile.read().split(\"\\n\")\n",
    "#print(lines)\n",
    "line_count = len(lines)\n",
    "word_count = 0\n",
    "char_count = 0\n",
    "\n",
    "for line in lines:\n",
    "    words = line.split()\n",
    "    #print(words)\n",
    "    word_count += len(words)\n",
    "    char_count += len(line)\n",
    "\n",
    "print(\"File has {0} lines, {1} words, {2} characters\".format(    \n",
    "      line_count, word_count, char_count))\n"
   ]
  },
  {
   "cell_type": "code",
   "execution_count": 13,
   "id": "a45be57d",
   "metadata": {},
   "outputs": [
    {
     "name": "stdout",
     "output_type": "stream",
     "text": [
      "['P', 'y', 't', 'h', 'o', 'n', ' ', 'p', 'r', 'o', 'v', 'i', 'd', 'e', 's', ' ', 'a', ' ', 'c', 'o', 'm', 'p', 'l', 'e', 't', 'e', ' ', 's', 'e', 't', ' ', 'o', 'f', ' ', 'c', 'o', 'n', 't', 'r', 'o', 'l', ' ', 'f', 'l', 'o', 'w', ' ', 'e', 'l', 'e', 'm', 'e', 'n', 't', 's', ' ', ' ']\n",
      "['i', 'n', 'c', 'l', 'u', 'd', 'i', 'n', 'g', ' ', 'w', 'h', 'i', 'l', 'e', ' ', 'a', 'n', 'd', ' ', 'f', 'o', 'r', ' ', 'l', 'o', 'o', 'p', 's', ' ', ' ', 'a', 'n', 'd', ' ', 'c', 'o', 'n', 'd', 'i', 't', 'i', 'o', 'n', 'a', 'l', 's', ' ', ' ']\n",
      "['P', 'y', 't', 'h', 'o', 'n', ' ', 'u', 's', 'e', 's', ' ', 't', 'h', 'e', ' ', 'l', 'e', 'v', 'e', 'l', ' ', 'o', 'f', ' ', 'i', 'n', 'd', 'e', 'n', 't', 'a', 't', 'i', 'o', 'n', ' ', 't', 'o', ' ', 'g', 'r', 'o', 'u', 'p', ' ', 'b', 'l', 'o', 'c', 'k', 's', ' ']\n",
      "['o', 'f', ' ', 'c', 'o', 'd', 'e', ' ', 'w', 'i', 't', 'h', ' ', 'c', 'o', 'n', 't', 'r', 'o', 'l', ' ', 'e', 'l', 'e', 'm', 'e', 'n', 't', 's', ' ']\n",
      "Files has 4 lines, 30 words, 189 characters\n"
     ]
    }
   ],
   "source": [
    "word_count = 0\n",
    "char_count = 0\n",
    "infile = open(\"word_count.tst\")\n",
    "lines = infile.read()\n",
    "table = str.maketrans(\",.\",\"  \")\n",
    "clean_lines = lines.translate(table)\n",
    "lines = clean_lines.split(\"\\n\")\n",
    "line_count = len(lines)\n",
    "for line in lines:\n",
    "    words = line.split()\n",
    "    #print(words)\n",
    "    word_count += len(words)\n",
    "    #print(list(line.strip()))\n",
    "    print(list(line))\n",
    "    char_count += len(line)\n",
    "print(\"Files has {0} lines, {1} words, {2} characters\".format(\n",
    "    line_count,word_count,char_count))"
   ]
  },
  {
   "cell_type": "code",
   "execution_count": 16,
   "id": "6d03ab80",
   "metadata": {},
   "outputs": [
    {
     "name": "stdout",
     "output_type": "stream",
     "text": [
      "['P', 'y', 't', 'h', 'o', 'n', ' ', 'p', 'r', 'o', 'v', 'i', 'd', 'e', 's', ' ', 'a', ' ', 'c', 'o', 'm', 'p', 'l', 'e', 't', 'e', ' ', 's', 'e', 't', ' ', 'o', 'f', ' ', 'c', 'o', 'n', 't', 'r', 'o', 'l', ' ', 'f', 'l', 'o', 'w', ' ', 'e', 'l', 'e', 'm', 'e', 'n', 't', 's', ',', ' ', '\\n']\n",
      "['i', 'n', 'c', 'l', 'u', 'd', 'i', 'n', 'g', ' ', 'w', 'h', 'i', 'l', 'e', ' ', 'a', 'n', 'd', ' ', 'f', 'o', 'r', ' ', 'l', 'o', 'o', 'p', 's', ',', ' ', 'a', 'n', 'd', ' ', 'c', 'o', 'n', 'd', 'i', 't', 'i', 'o', 'n', 'a', 'l', 's', '.', ' ', '\\n']\n",
      "['P', 'y', 't', 'h', 'o', 'n', ' ', 'u', 's', 'e', 's', ' ', 't', 'h', 'e', ' ', 'l', 'e', 'v', 'e', 'l', ' ', 'o', 'f', ' ', 'i', 'n', 'd', 'e', 'n', 't', 'a', 't', 'i', 'o', 'n', ' ', 't', 'o', ' ', 'g', 'r', 'o', 'u', 'p', ' ', 'b', 'l', 'o', 'c', 'k', 's', ' ', '\\n']\n",
      "['o', 'f', ' ', 'c', 'o', 'd', 'e', ' ', 'w', 'i', 't', 'h', ' ', 'c', 'o', 'n', 't', 'r', 'o', 'l', ' ', 'e', 'l', 'e', 'm', 'e', 'n', 't', 's', '.']\n",
      "File has 4 lines, 30 words, 192 characters\n"
     ]
    }
   ],
   "source": [
    "line_count = 0\n",
    "word_count = 0\n",
    "char_count = 0\n",
    "\n",
    "with  open('word_count.tst') as infile:\n",
    "    for line in infile:\n",
    "        line_count += 1\n",
    "        print(list(line))\n",
    "        char_count += len(line)\n",
    "        words = line.split()\n",
    "        word_count += len(words)\n",
    "\n",
    "print(\"File has {0} lines, {1} words, {2} characters\".format(line_count, \n",
    "      word_count, char_count))"
   ]
  },
  {
   "cell_type": "code",
   "execution_count": 159,
   "id": "100b1604",
   "metadata": {},
   "outputs": [
    {
     "name": "stdout",
     "output_type": "stream",
     "text": [
      "['h', 'e', 'l', 'l', 'o']\n"
     ]
    },
    {
     "data": {
      "text/plain": [
       "5"
      ]
     },
     "execution_count": 159,
     "metadata": {},
     "output_type": "execute_result"
    }
   ],
   "source": [
    "x = \"hello\"\n",
    "print(list(x))\n",
    "len(x)"
   ]
  },
  {
   "cell_type": "code",
   "execution_count": 15,
   "id": "66648d0a",
   "metadata": {},
   "outputs": [
    {
     "name": "stdout",
     "output_type": "stream",
     "text": [
      "{'Python': 2, 'provides': 1, 'a': 1, 'complete': 1, 'set': 1, 'of': 3, 'control': 2, 'flow': 1, 'elements': 2, 'including': 1, 'while': 1, 'and': 2, 'for': 1, 'loops': 1, 'conditionals': 1, 'uses': 1, 'the': 1, 'level': 1, 'indentation': 1, 'to': 1, 'group': 1, 'blocks': 1, 'code': 1, 'with': 1}\n"
     ]
    }
   ],
   "source": [
    "infile = open(\"word_count.tst\")\n",
    "lines = infile.read()\n",
    "table = str.maketrans(\",.\",\"  \")\n",
    "cleaned_lines = lines.translate(table)\n",
    "words = cleaned_lines.split()\n",
    "#print(words)\n",
    "dic = {}\n",
    "for word in words:\n",
    "    dic[word] = dic.get(word,0) + 1\n",
    "print(dic)"
   ]
  }
 ],
 "metadata": {
  "kernelspec": {
   "display_name": "Python 3 (ipykernel)",
   "language": "python",
   "name": "python3"
  },
  "language_info": {
   "codemirror_mode": {
    "name": "ipython",
    "version": 3
   },
   "file_extension": ".py",
   "mimetype": "text/x-python",
   "name": "python",
   "nbconvert_exporter": "python",
   "pygments_lexer": "ipython3",
   "version": "3.9.7"
  }
 },
 "nbformat": 4,
 "nbformat_minor": 5
}
