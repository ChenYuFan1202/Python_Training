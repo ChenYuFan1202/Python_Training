{
 "cells": [
  {
   "cell_type": "code",
   "execution_count": null,
   "id": "cb970577",
   "metadata": {},
   "outputs": [],
   "source": [
    "from mathproj import version\n",
    "from mathproj.comp import c1\n",
    "#from mathproj.comp.numeric.n2 import  h\n",
    "from .n2 import h\n",
    "def g():\n",
    "    print(\"version is\",version)\n",
    "    print(h())"
   ]
  }
 ],
 "metadata": {
  "kernelspec": {
   "display_name": "Python 3 (ipykernel)",
   "language": "python",
   "name": "python3"
  },
  "language_info": {
   "codemirror_mode": {
    "name": "ipython",
    "version": 3
   },
   "file_extension": ".py",
   "mimetype": "text/x-python",
   "name": "python",
   "nbconvert_exporter": "python",
   "pygments_lexer": "ipython3",
   "version": "3.10.9"
  }
 },
 "nbformat": 4,
 "nbformat_minor": 5
}
