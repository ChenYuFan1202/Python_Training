{
 "cells": [
  {
   "cell_type": "code",
   "execution_count": null,
   "id": "085a619b",
   "metadata": {},
   "outputs": [],
   "source": [
    "__all__ = [\"c1\"]\n",
    "print(\"Hello from mathproj.comp init\")"
   ]
  }
 ],
 "metadata": {
  "kernelspec": {
   "display_name": "Python 3 (ipykernel)",
   "language": "python",
   "name": "python3"
  },
  "language_info": {
   "codemirror_mode": {
    "name": "ipython",
    "version": 3
   },
   "file_extension": ".py",
   "mimetype": "text/x-python",
   "name": "python",
   "nbconvert_exporter": "python",
   "pygments_lexer": "ipython3",
   "version": "3.10.9"
  }
 },
 "nbformat": 4,
 "nbformat_minor": 5
}
