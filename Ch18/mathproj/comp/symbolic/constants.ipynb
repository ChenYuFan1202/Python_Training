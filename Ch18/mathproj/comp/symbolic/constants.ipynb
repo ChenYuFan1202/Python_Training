{
 "cells": [
  {
   "cell_type": "code",
   "execution_count": 4,
   "id": "e840f73e",
   "metadata": {},
   "outputs": [],
   "source": [
    "class PiClass:\n",
    "    def __str__(self):\n",
    "        return \"PI\"\n",
    "    \n",
    "#     def test(self,a,b):\n",
    "#         return a * b\n",
    "    \n",
    "pi = PiClass()\n",
    "#pi.test(1,2)\n",
    "# print(pi)"
   ]
  }
 ],
 "metadata": {
  "kernelspec": {
   "display_name": "Python 3 (ipykernel)",
   "language": "python",
   "name": "python3"
  },
  "language_info": {
   "codemirror_mode": {
    "name": "ipython",
    "version": 3
   },
   "file_extension": ".py",
   "mimetype": "text/x-python",
   "name": "python",
   "nbconvert_exporter": "python",
   "pygments_lexer": "ipython3",
   "version": "3.10.9"
  }
 },
 "nbformat": 4,
 "nbformat_minor": 5
}
