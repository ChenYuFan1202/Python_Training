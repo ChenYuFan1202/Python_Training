{
 "cells": [
  {
   "cell_type": "code",
   "execution_count": null,
   "id": "ea509b69",
   "metadata": {},
   "outputs": [],
   "source": [
    "def count_words(words):\n",
    "    \"\"\"takes list of cleaned words, returns count dictionary\"\"\"\n",
    "    word_count = {}\n",
    "\n",
    "    for word in words:\n",
    "        count = word_count.setdefault(word, 0)\n",
    "        word_count[word] += 1\n",
    "    return word_count\n",
    "\n",
    "def word_stats(word_count):\n",
    "    \"\"\"Takes word count dictionary and returns top and bottom five entries\"\"\"\n",
    "\n",
    "    word_list = list(word_count.items())\n",
    "    word_list.sort(key=lambda x: x[1])\n",
    "\n",
    "    least_common = word_list[:5]\n",
    "    most_common = word_list[-1:-6:-1]\n",
    "    \n",
    "    return most_common, least_common"
   ]
  }
 ],
 "metadata": {
  "kernelspec": {
   "display_name": "Python 3 (ipykernel)",
   "language": "python",
   "name": "python3"
  },
  "language_info": {
   "codemirror_mode": {
    "name": "ipython",
    "version": 3
   },
   "file_extension": ".py",
   "mimetype": "text/x-python",
   "name": "python",
   "nbconvert_exporter": "python",
   "pygments_lexer": "ipython3",
   "version": "3.10.9"
  }
 },
 "nbformat": 4,
 "nbformat_minor": 5
}
