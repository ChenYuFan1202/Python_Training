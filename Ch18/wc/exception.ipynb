{
 "cells": [
  {
   "cell_type": "code",
   "execution_count": null,
   "id": "c4b7bfa8",
   "metadata": {},
   "outputs": [],
   "source": [
    "class EmptyStringError(Exception):\n",
    "    pass\n",
    "\n",
    "def check_empty(line):\n",
    "    # raise exception if line is empty\n",
    "    if not line.strip():\n",
    "        raise EmptyStringError()\n",
    "\n",
    "def check_words(words):\n",
    "    for word in words:\n",
    "        try:\n",
    "            count = word_count.setdefault(word, 0)\n",
    "        except TypeError:\n",
    "            #if 'word' is not hashable, skip to next word.\n",
    "            pass\n",
    "        word_count[word] += 1\n",
    "\n",
    "def check_result(word_count):\n",
    "    try:\n",
    "        least_common = word_list[:5]\n",
    "        most_common = word_list[-1:-6:-1]\n",
    "    except IndexError as e:\n",
    "        # if list is empty or too short, just return list\n",
    "        least_common = word_list\n",
    "        most_common = list(reversed(word_list))"
   ]
  }
 ],
 "metadata": {
  "kernelspec": {
   "display_name": "Python 3 (ipykernel)",
   "language": "python",
   "name": "python3"
  },
  "language_info": {
   "codemirror_mode": {
    "name": "ipython",
    "version": 3
   },
   "file_extension": ".py",
   "mimetype": "text/x-python",
   "name": "python",
   "nbconvert_exporter": "python",
   "pygments_lexer": "ipython3",
   "version": "3.10.9"
  }
 },
 "nbformat": 4,
 "nbformat_minor": 5
}
