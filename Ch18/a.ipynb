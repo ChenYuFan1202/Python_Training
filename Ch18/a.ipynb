{
 "cells": [
  {
   "cell_type": "code",
   "execution_count": 1,
   "id": "a7332034",
   "metadata": {},
   "outputs": [
    {
     "data": {
      "text/plain": [
       "['C:\\\\Users\\\\user\\\\Python3\\\\Ch18',\n",
       " 'C:\\\\Users\\\\user\\\\AppData\\\\Local\\\\anaconda3\\\\python310.zip',\n",
       " 'C:\\\\Users\\\\user\\\\AppData\\\\Local\\\\anaconda3\\\\DLLs',\n",
       " 'C:\\\\Users\\\\user\\\\AppData\\\\Local\\\\anaconda3\\\\lib',\n",
       " 'C:\\\\Users\\\\user\\\\AppData\\\\Local\\\\anaconda3',\n",
       " '',\n",
       " 'C:\\\\Users\\\\user\\\\AppData\\\\Local\\\\anaconda3\\\\lib\\\\site-packages',\n",
       " 'C:\\\\Users\\\\user\\\\AppData\\\\Local\\\\anaconda3\\\\lib\\\\site-packages\\\\win32',\n",
       " 'C:\\\\Users\\\\user\\\\AppData\\\\Local\\\\anaconda3\\\\lib\\\\site-packages\\\\win32\\\\lib',\n",
       " 'C:\\\\Users\\\\user\\\\AppData\\\\Local\\\\anaconda3\\\\lib\\\\site-packages\\\\Pythonwin']"
      ]
     },
     "execution_count": 1,
     "metadata": {},
     "output_type": "execute_result"
    }
   ],
   "source": [
    "import sys\n",
    "sys.path"
   ]
  },
  {
   "cell_type": "code",
   "execution_count": 2,
   "id": "fbcf2213",
   "metadata": {},
   "outputs": [
    {
     "name": "stdout",
     "output_type": "stream",
     "text": [
      "Hello from mathproj init\n"
     ]
    }
   ],
   "source": [
    "import mathproj"
   ]
  },
  {
   "cell_type": "code",
   "execution_count": 3,
   "id": "5daab28a",
   "metadata": {},
   "outputs": [
    {
     "data": {
      "text/plain": [
       "1.03"
      ]
     },
     "execution_count": 3,
     "metadata": {},
     "output_type": "execute_result"
    }
   ],
   "source": [
    "mathproj.version"
   ]
  },
  {
   "cell_type": "code",
   "execution_count": 4,
   "id": "2bd0806d",
   "metadata": {},
   "outputs": [
    {
     "ename": "AttributeError",
     "evalue": "module 'mathproj' has no attribute 'comp'",
     "output_type": "error",
     "traceback": [
      "\u001b[1;31m---------------------------------------------------------------------------\u001b[0m",
      "\u001b[1;31mAttributeError\u001b[0m                            Traceback (most recent call last)",
      "Cell \u001b[1;32mIn[4], line 1\u001b[0m\n\u001b[1;32m----> 1\u001b[0m \u001b[43mmathproj\u001b[49m\u001b[38;5;241;43m.\u001b[39;49m\u001b[43mcomp\u001b[49m\u001b[38;5;241m.\u001b[39mnumeric\u001b[38;5;241m.\u001b[39mn1\n",
      "\u001b[1;31mAttributeError\u001b[0m: module 'mathproj' has no attribute 'comp'"
     ]
    }
   ],
   "source": [
    "mathproj.comp.numeric.n1"
   ]
  },
  {
   "cell_type": "code",
   "execution_count": 5,
   "id": "4f7f727f",
   "metadata": {},
   "outputs": [
    {
     "name": "stdout",
     "output_type": "stream",
     "text": [
      "Hello from mathproj.comp init\n",
      "Hello from numeric init\n"
     ]
    }
   ],
   "source": [
    "import mathproj.comp.numeric.n1"
   ]
  },
  {
   "cell_type": "code",
   "execution_count": 6,
   "id": "f5a60f33",
   "metadata": {},
   "outputs": [
    {
     "name": "stdout",
     "output_type": "stream",
     "text": [
      "version is 1.03\n",
      "Called function h in module n2\n"
     ]
    }
   ],
   "source": [
    "mathproj.comp.numeric.n1.g() "
   ]
  },
  {
   "cell_type": "code",
   "execution_count": 8,
   "id": "49c18c13",
   "metadata": {},
   "outputs": [
    {
     "name": "stdout",
     "output_type": "stream",
     "text": [
      "<module 'mathproj.comp' from 'C:\\\\Users\\\\user\\\\Python3\\\\Ch18\\\\mathproj\\\\comp\\\\__init__.py'>\n"
     ]
    },
    {
     "data": {
      "text/plain": [
       "<module 'mathproj.comp.numeric' from 'C:\\\\Users\\\\user\\\\Python3\\\\Ch18\\\\mathproj\\\\comp\\\\numeric\\\\__init__.py'>"
      ]
     },
     "execution_count": 8,
     "metadata": {},
     "output_type": "execute_result"
    }
   ],
   "source": [
    "print(mathproj.comp)\n",
    "mathproj.comp.numeric"
   ]
  },
  {
   "cell_type": "code",
   "execution_count": 1,
   "id": "36c59a58",
   "metadata": {},
   "outputs": [
    {
     "name": "stdout",
     "output_type": "stream",
     "text": [
      "Hello from mathproj init\n",
      "Hello from mathproj.comp init\n"
     ]
    }
   ],
   "source": [
    "from mathproj import *"
   ]
  },
  {
   "cell_type": "code",
   "execution_count": 2,
   "id": "6857ab58",
   "metadata": {},
   "outputs": [
    {
     "data": {
      "text/plain": [
       "<module 'mathproj.comp' from 'C:\\\\Users\\\\user\\\\Python3\\\\Ch18\\\\mathproj\\\\comp\\\\__init__.py'>"
      ]
     },
     "execution_count": 2,
     "metadata": {},
     "output_type": "execute_result"
    }
   ],
   "source": [
    "comp"
   ]
  },
  {
   "cell_type": "code",
   "execution_count": 3,
   "id": "e06ae0ec",
   "metadata": {},
   "outputs": [
    {
     "data": {
      "text/plain": [
       "20"
      ]
     },
     "execution_count": 3,
     "metadata": {},
     "output_type": "execute_result"
    }
   ],
   "source": [
    "comp.Vick#只會執行執行檔的東西，而且變數也會有用"
   ]
  },
  {
   "cell_type": "code",
   "execution_count": 3,
   "id": "982535da",
   "metadata": {},
   "outputs": [
    {
     "ename": "NameError",
     "evalue": "name 'version' is not defined",
     "output_type": "error",
     "traceback": [
      "\u001b[1;31m---------------------------------------------------------------------------\u001b[0m",
      "\u001b[1;31mNameError\u001b[0m                                 Traceback (most recent call last)",
      "Cell \u001b[1;32mIn[3], line 1\u001b[0m\n\u001b[1;32m----> 1\u001b[0m \u001b[43mversion\u001b[49m\n",
      "\u001b[1;31mNameError\u001b[0m: name 'version' is not defined"
     ]
    }
   ],
   "source": [
    "version"
   ]
  },
  {
   "cell_type": "code",
   "execution_count": 4,
   "id": "4c35922f",
   "metadata": {},
   "outputs": [
    {
     "data": {
      "text/plain": [
       "1.03"
      ]
     },
     "execution_count": 4,
     "metadata": {},
     "output_type": "execute_result"
    }
   ],
   "source": [
    "from mathproj import version\n",
    "version"
   ]
  },
  {
   "cell_type": "code",
   "execution_count": 5,
   "id": "177760b6",
   "metadata": {},
   "outputs": [
    {
     "data": {
      "text/plain": [
       "1.03"
      ]
     },
     "execution_count": 5,
     "metadata": {},
     "output_type": "execute_result"
    }
   ],
   "source": [
    "import mathproj\n",
    "mathproj.version"
   ]
  },
  {
   "cell_type": "code",
   "execution_count": 9,
   "id": "5536cb55",
   "metadata": {},
   "outputs": [
    {
     "ename": "NameError",
     "evalue": "name 'c1' is not defined",
     "output_type": "error",
     "traceback": [
      "\u001b[1;31m---------------------------------------------------------------------------\u001b[0m",
      "\u001b[1;31mNameError\u001b[0m                                 Traceback (most recent call last)",
      "Cell \u001b[1;32mIn[9], line 1\u001b[0m\n\u001b[1;32m----> 1\u001b[0m \u001b[43mc1\u001b[49m\n",
      "\u001b[1;31mNameError\u001b[0m: name 'c1' is not defined"
     ]
    }
   ],
   "source": [
    "c1"
   ]
  },
  {
   "cell_type": "code",
   "execution_count": 4,
   "id": "934776b3",
   "metadata": {},
   "outputs": [
    {
     "data": {
      "text/plain": [
       "<module 'mathproj.comp.c1' from 'C:\\\\Users\\\\user\\\\Python3\\\\Ch18\\\\mathproj\\\\comp\\\\c1.py'>"
      ]
     },
     "execution_count": 4,
     "metadata": {},
     "output_type": "execute_result"
    }
   ],
   "source": [
    "from mathproj.comp import *\n",
    "c1#mathproj.comp.c1這兩個都可以，但最好用c1，因為第二個會成功是因為上面有import mathproj"
   ]
  }
 ],
 "metadata": {
  "kernelspec": {
   "display_name": "Python 3 (ipykernel)",
   "language": "python",
   "name": "python3"
  },
  "language_info": {
   "codemirror_mode": {
    "name": "ipython",
    "version": 3
   },
   "file_extension": ".py",
   "mimetype": "text/x-python",
   "name": "python",
   "nbconvert_exporter": "python",
   "pygments_lexer": "ipython3",
   "version": "3.10.9"
  }
 },
 "nbformat": 4,
 "nbformat_minor": 5
}
