{
 "cells": [
  {
   "cell_type": "code",
   "execution_count": 23,
   "id": "18b05e39",
   "metadata": {},
   "outputs": [
    {
     "name": "stdout",
     "output_type": "stream",
     "text": [
      "[('the', 14), ('i', 9), ('and', 9), ('of', 8), ('is', 7)]\n",
      "[('call', 1), ('ishmael', 1), ('years', 1), ('agonever', 1), ('mind', 1)]\n"
     ]
    }
   ],
   "source": [
    "from wc import process,count,exception\n",
    "\n",
    "with open(\"moby_01.txt\",\"r\") as infile, open(\"moby_01_clean.txt\",\"w\") as outfile:\n",
    "    for line in infile:\n",
    "#         exception.check_empty(line)\n",
    "        cleaned_line = process.clean_line(line)\n",
    "        words = cleaned_line.split()\n",
    "        outfile.write(\"\\n\".join(words) + \"\\n\")\n",
    "\n",
    "lis = []\n",
    "with open(\"moby_01_clean.txt\",\"r\") as infile:\n",
    "    for word in infile:\n",
    "        if word.strip():\n",
    "            lis.append(word.strip())\n",
    "\n",
    "#print(lis)       \n",
    "word_count = count.count_words(lis)\n",
    "most,least = count.word_stats(word_count)\n",
    "print(most)\n",
    "print(least)"
   ]
  }
 ],
 "metadata": {
  "kernelspec": {
   "display_name": "Python 3 (ipykernel)",
   "language": "python",
   "name": "python3"
  },
  "language_info": {
   "codemirror_mode": {
    "name": "ipython",
    "version": 3
   },
   "file_extension": ".py",
   "mimetype": "text/x-python",
   "name": "python",
   "nbconvert_exporter": "python",
   "pygments_lexer": "ipython3",
   "version": "3.10.9"
  }
 },
 "nbformat": 4,
 "nbformat_minor": 5
}
