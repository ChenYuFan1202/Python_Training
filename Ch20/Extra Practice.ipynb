{
 "cells": [
  {
   "cell_type": "code",
   "execution_count": 1,
   "id": "766f24e3",
   "metadata": {},
   "outputs": [
    {
     "data": {
      "text/plain": [
       "WindowsPath('752.txt')"
      ]
     },
     "execution_count": 1,
     "metadata": {},
     "output_type": "execute_result"
    }
   ],
   "source": [
    "import pathlib\n",
    "old_filename = pathlib.Path(\"751.txt\")\n",
    "new_filename = pathlib.Path(\"752.txt\")\n",
    "old_filename.rename(new_filename)"
   ]
  },
  {
   "cell_type": "code",
   "execution_count": 2,
   "id": "cbe06ce0",
   "metadata": {},
   "outputs": [
    {
     "ename": "FileNotFoundError",
     "evalue": "[WinError 3] 系統找不到指定的路徑。: 'w.txt' -> '2023-07-06\\\\w.txt'",
     "output_type": "error",
     "traceback": [
      "\u001b[1;31m---------------------------------------------------------------------------\u001b[0m",
      "\u001b[1;31mFileNotFoundError\u001b[0m                         Traceback (most recent call last)",
      "Cell \u001b[1;32mIn[2], line 10\u001b[0m\n\u001b[0;32m      8\u001b[0m \u001b[38;5;28;01mfor\u001b[39;00m path \u001b[38;5;129;01min\u001b[39;00m paths:\n\u001b[0;32m      9\u001b[0m     new_path \u001b[38;5;241m=\u001b[39m cur_path\u001b[38;5;241m.\u001b[39mjoinpath(today,path)\n\u001b[1;32m---> 10\u001b[0m     \u001b[43mpath\u001b[49m\u001b[38;5;241;43m.\u001b[39;49m\u001b[43mrename\u001b[49m\u001b[43m(\u001b[49m\u001b[43mnew_path\u001b[49m\u001b[43m)\u001b[49m\n",
      "File \u001b[1;32m~\\AppData\\Local\\anaconda3\\lib\\pathlib.py:1234\u001b[0m, in \u001b[0;36mPath.rename\u001b[1;34m(self, target)\u001b[0m\n\u001b[0;32m   1224\u001b[0m \u001b[38;5;28;01mdef\u001b[39;00m \u001b[38;5;21mrename\u001b[39m(\u001b[38;5;28mself\u001b[39m, target):\n\u001b[0;32m   1225\u001b[0m     \u001b[38;5;124;03m\"\"\"\u001b[39;00m\n\u001b[0;32m   1226\u001b[0m \u001b[38;5;124;03m    Rename this path to the target path.\u001b[39;00m\n\u001b[0;32m   1227\u001b[0m \n\u001b[1;32m   (...)\u001b[0m\n\u001b[0;32m   1232\u001b[0m \u001b[38;5;124;03m    Returns the new Path instance pointing to the target path.\u001b[39;00m\n\u001b[0;32m   1233\u001b[0m \u001b[38;5;124;03m    \"\"\"\u001b[39;00m\n\u001b[1;32m-> 1234\u001b[0m     \u001b[38;5;28;43mself\u001b[39;49m\u001b[38;5;241;43m.\u001b[39;49m\u001b[43m_accessor\u001b[49m\u001b[38;5;241;43m.\u001b[39;49m\u001b[43mrename\u001b[49m\u001b[43m(\u001b[49m\u001b[38;5;28;43mself\u001b[39;49m\u001b[43m,\u001b[49m\u001b[43m \u001b[49m\u001b[43mtarget\u001b[49m\u001b[43m)\u001b[49m\n\u001b[0;32m   1235\u001b[0m     \u001b[38;5;28;01mreturn\u001b[39;00m \u001b[38;5;28mself\u001b[39m\u001b[38;5;241m.\u001b[39m\u001b[38;5;18m__class__\u001b[39m(target)\n",
      "\u001b[1;31mFileNotFoundError\u001b[0m: [WinError 3] 系統找不到指定的路徑。: 'w.txt' -> '2023-07-06\\\\w.txt'"
     ]
    }
   ],
   "source": [
    "import pathlib,datetime\n",
    "\n",
    "PATTERN = \"*.txt\"\n",
    "cur_path = pathlib.Path(\".\")\n",
    "paths = cur_path.glob(PATTERN)\n",
    "today = datetime.date.today().strftime(\"%Y-%m-%d\")\n",
    "#today\n",
    "for path in paths:\n",
    "    new_path = cur_path.joinpath(today,path)\n",
    "    path.rename(new_path)"
   ]
  },
  {
   "cell_type": "code",
   "execution_count": 4,
   "id": "34bd2090",
   "metadata": {},
   "outputs": [
    {
     "data": {
      "text/plain": [
       "(2023, 10, 10)"
      ]
     },
     "execution_count": 4,
     "metadata": {},
     "output_type": "execute_result"
    }
   ],
   "source": [
    "#datetime當中就有date物件和time物件\n",
    "\"\"\"date先\"\"\"\n",
    "import datetime\n",
    "double_ten = datetime.date(2023,10,10)\n",
    "double_ten.year,double_ten.month,double_ten.day\n",
    "#double_ten"
   ]
  },
  {
   "cell_type": "code",
   "execution_count": 6,
   "id": "081fbbdb",
   "metadata": {},
   "outputs": [
    {
     "data": {
      "text/plain": [
       "('2023-10-10', '2023-10-10')"
      ]
     },
     "execution_count": 6,
     "metadata": {},
     "output_type": "execute_result"
    }
   ],
   "source": [
    "\"\"\"用isoformat()和str()都可以轉成用\"-\"連接的字串\"\"\"\n",
    "double_ten.isoformat(),str(double_ten)"
   ]
  },
  {
   "cell_type": "code",
   "execution_count": 6,
   "id": "ce7c89d4",
   "metadata": {},
   "outputs": [
    {
     "data": {
      "text/plain": [
       "('2023-07-06', '2023-07-06')"
      ]
     },
     "execution_count": 6,
     "metadata": {},
     "output_type": "execute_result"
    }
   ],
   "source": [
    "\"\"\"today()會取到今天\"\"\"\n",
    "from datetime import date\n",
    "now = date.today()\n",
    "str(now),now.isoformat()"
   ]
  },
  {
   "cell_type": "code",
   "execution_count": 7,
   "id": "fbf55eaa",
   "metadata": {},
   "outputs": [
    {
     "data": {
      "text/plain": [
       "(3, 4)"
      ]
     },
     "execution_count": 7,
     "metadata": {},
     "output_type": "execute_result"
    }
   ],
   "source": [
    "\"\"\"weekday的記法是0(星期一)~6(星期日)\"\"\"\n",
    "\"\"\"isoweekday的記法則是1(星期一)~7(星期日)\"\"\"\n",
    "now.weekday(),now.isoweekday()"
   ]
  },
  {
   "cell_type": "code",
   "execution_count": 8,
   "id": "27f4990f",
   "metadata": {},
   "outputs": [
    {
     "name": "stdout",
     "output_type": "stream",
     "text": [
      "2023-07-06,weekday:Thu\n"
     ]
    },
    {
     "data": {
      "text/plain": [
       "'2023-10-10,weekday:Tue'"
      ]
     },
     "execution_count": 8,
     "metadata": {},
     "output_type": "execute_result"
    }
   ],
   "source": [
    "\"\"\"%Y代表年，%m代表月，%d代表日，%a則代表星期幾的縮寫；\n",
    "   其他還有%H(小時)、%M(分)、%S(秒)等等\"\"\"\n",
    "\n",
    "print(now.strftime(\"%Y-%m-%d,weekday:%a\"))\n",
    "double_ten.strftime(\"%Y-%m-%d,weekday:%a\")"
   ]
  },
  {
   "cell_type": "code",
   "execution_count": 30,
   "id": "1f43ad78",
   "metadata": {},
   "outputs": [
    {
     "name": "stdout",
     "output_type": "stream",
     "text": [
      "00:00:00\n",
      "00:00:00\n",
      "38\n",
      "19:00:50\n"
     ]
    },
    {
     "data": {
      "text/plain": [
       "'19-00'"
      ]
     },
     "execution_count": 30,
     "metadata": {},
     "output_type": "execute_result"
    }
   ],
   "source": [
    "\"\"\"time\"\"\"\n",
    "from datetime import time\n",
    "print(time())#datetime的time.time()預設是從0開始\n",
    "now = time()\n",
    "print(now.isoformat())\n",
    "now = time(0,0,0,38)#最小單位到微秒(百萬分之一秒，也就是10e-6)\n",
    "print(now.microsecond)\n",
    "now = time(hour = 19,second = 50)\n",
    "print(str(now))\n",
    "now.strftime(\"%H-%M\")"
   ]
  },
  {
   "cell_type": "code",
   "execution_count": 37,
   "id": "8869aefc",
   "metadata": {},
   "outputs": [
    {
     "name": "stdout",
     "output_type": "stream",
     "text": [
      "2023-07-05 14:07:32.027606\n",
      "2023-07-05 14:07:32.028607\n",
      "2023-07-05T14:07:32.028607\n"
     ]
    }
   ],
   "source": [
    "\"\"\"兩者都要的話，可以直接使用datetime.datetime物件\"\"\"\n",
    "\n",
    "from datetime import datetime\n",
    "print(datetime.today())\n",
    "print(str(datetime.today()))\n",
    "print(datetime.today().isoformat())"
   ]
  },
  {
   "cell_type": "code",
   "execution_count": 10,
   "id": "c26a8937",
   "metadata": {},
   "outputs": [
    {
     "data": {
      "text/plain": [
       "datetime.timedelta(days=1238)"
      ]
     },
     "execution_count": 10,
     "metadata": {},
     "output_type": "execute_result"
    }
   ],
   "source": [
    "from datetime import date,time,datetime,timedelta\n",
    "valentine = date(2020,2,14)\n",
    "today = date.today()\n",
    "time_delta = today - valentine\n",
    "time_delta"
   ]
  },
  {
   "cell_type": "code",
   "execution_count": 15,
   "id": "4201345c",
   "metadata": {},
   "outputs": [
    {
     "name": "stdout",
     "output_type": "stream",
     "text": [
      "[datetime.date(2020, 5, 24), datetime.date(2020, 9, 1), datetime.date(2021, 7, 18), datetime.date(2022, 11, 10), datetime.date(2025, 8, 6)]\n"
     ]
    },
    {
     "data": {
      "text/plain": [
       "[datetime.timedelta(days=-1138),\n",
       " datetime.timedelta(days=-1038),\n",
       " datetime.timedelta(days=-718),\n",
       " datetime.timedelta(days=-238),\n",
       " datetime.timedelta(days=762)]"
      ]
     },
     "execution_count": 15,
     "metadata": {},
     "output_type": "execute_result"
    }
   ],
   "source": [
    "remember = [100,200,520,1000,2000]#要記得的幾個紀念日\n",
    "# 注意timedelta也可以用乘上數字來和定點日期相加減計算，相當有彈性\n",
    "memorialday = [valentine + timedelta(days = i) for i in remember]\n",
    "print(memorialday)\n",
    "\n",
    "diff = [day - today for day in memorialday]\n",
    "diff"
   ]
  },
  {
   "cell_type": "code",
   "execution_count": 52,
   "id": "63e7e720",
   "metadata": {},
   "outputs": [
    {
     "name": "stdout",
     "output_type": "stream",
     "text": [
      "1688538078.310332\n",
      "time.struct_time(tm_year=2023, tm_mon=7, tm_mday=5, tm_hour=14, tm_min=21, tm_sec=18, tm_wday=2, tm_yday=186, tm_isdst=0)\n",
      "Wed Jul  5 14:21:18 2023\n",
      "2023-07-05 Wed 14-21-18\n"
     ]
    }
   ],
   "source": [
    "\"\"\"time,不是datetime裡面的喔\"\"\"\n",
    "import time\n",
    "print(time.time())\n",
    "print(time.localtime())\n",
    "print(time.ctime())\n",
    "print(time.strftime(\"%Y-%m-%d %a %H-%M-%S\"))"
   ]
  }
 ],
 "metadata": {
  "kernelspec": {
   "display_name": "Python 3 (ipykernel)",
   "language": "python",
   "name": "python3"
  },
  "language_info": {
   "codemirror_mode": {
    "name": "ipython",
    "version": 3
   },
   "file_extension": ".py",
   "mimetype": "text/x-python",
   "name": "python",
   "nbconvert_exporter": "python",
   "pygments_lexer": "ipython3",
   "version": "3.10.9"
  }
 },
 "nbformat": 4,
 "nbformat_minor": 5
}
