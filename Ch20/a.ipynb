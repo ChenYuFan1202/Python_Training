{
 "cells": [
  {
   "cell_type": "code",
   "execution_count": 5,
   "id": "428a3c25",
   "metadata": {},
   "outputs": [
    {
     "name": "stdout",
     "output_type": "stream",
     "text": [
      "{'范': 2, '陳': 1, '黃': 2, '廖': 1}\n"
     ]
    }
   ],
   "source": [
    "string = \"范振宇 陳彥均 黃定弘 廖梓鈞 范振華 黃麗紅\"\n",
    "occurrences = {}\n",
    "for name in string.split():\n",
    "    occurrences[name[0]] = occurrences.get(name[0],0) + 1\n",
    "    \n",
    "print(occurrences)\n",
    "# for name in occurrences:\n",
    "#     print(name)"
   ]
  },
  {
   "cell_type": "code",
   "execution_count": 6,
   "id": "e4a35425",
   "metadata": {},
   "outputs": [
    {
     "name": "stdout",
     "output_type": "stream",
     "text": [
      ".\n",
      "<generator object Path.glob at 0x0000022E7D49DD20>\n",
      "[WindowsPath('item_attributes.txt'), WindowsPath('item_info.txt'), WindowsPath('related_items.txt')]\n"
     ]
    }
   ],
   "source": [
    "import pathlib\n",
    "cur_path = pathlib.Path(\".\")\n",
    "print(cur_path)\n",
    "FILE_PATTERN = \"*.txt\"\n",
    "path_list = cur_path.glob(FILE_PATTERN)\n",
    "print(path_list)\n",
    "print(list(path_list))"
   ]
  },
  {
   "cell_type": "code",
   "execution_count": 7,
   "id": "a1079d95",
   "metadata": {},
   "outputs": [],
   "source": [
    "for path in path_list:\n",
    "    print(path)#會有三個檔名"
   ]
  },
  {
   "cell_type": "code",
   "execution_count": 9,
   "id": "1fd9c27c",
   "metadata": {},
   "outputs": [],
   "source": [
    "import os\n",
    "os.mkdir(\"archive\")"
   ]
  },
  {
   "cell_type": "code",
   "execution_count": 61,
   "id": "2eb9cb08",
   "metadata": {},
   "outputs": [],
   "source": [
    "import pathlib\n",
    "cur_path = pathlib.Path(\"archive\")\n",
    "cur_path.mkdir(parents = False)"
   ]
  },
  {
   "cell_type": "code",
   "execution_count": 25,
   "id": "8ed2a04c",
   "metadata": {},
   "outputs": [
    {
     "name": "stdout",
     "output_type": "stream",
     "text": [
      "2023-07-04\n"
     ]
    },
    {
     "data": {
      "text/plain": [
       "datetime.date(2023, 7, 4)"
      ]
     },
     "execution_count": 25,
     "metadata": {},
     "output_type": "execute_result"
    }
   ],
   "source": [
    "import datetime\n",
    "print(datetime.date.today())\n",
    "datetime.date.today()"
   ]
  },
  {
   "cell_type": "code",
   "execution_count": 22,
   "id": "86c0eac2",
   "metadata": {},
   "outputs": [
    {
     "name": "stdout",
     "output_type": "stream",
     "text": [
      "2023 07 04\n"
     ]
    },
    {
     "data": {
      "text/plain": [
       "'2023-07-04'"
      ]
     },
     "execution_count": 22,
     "metadata": {},
     "output_type": "execute_result"
    }
   ],
   "source": [
    "import datetime\n",
    "print(datetime.date.today().strftime(\"%Y %m %d\"))\n",
    "data_string = datetime.date.today().strftime(\"%Y-%m-%d\")\n",
    "data_string"
   ]
  },
  {
   "cell_type": "code",
   "execution_count": 32,
   "id": "9fc9bf9d",
   "metadata": {},
   "outputs": [],
   "source": [
    "import datetime,pathlib\n",
    "\n",
    "ARCHIVE = \"archive1\"\n",
    "PATTERN = \"*.txt\"\n",
    "cur_path = pathlib.Path(\".\")\n",
    "paths = cur_path.glob(PATTERN)\n",
    "\n",
    "for path in paths:\n",
    "    today = datetime.date.today().strftime(\"%Y-%m-%d\")\n",
    "    new_filename = \"{}_{}{}\".format(path.stem,today,path.suffix)\n",
    "    new_path = cur_path.joinpath(ARCHIVE,new_filename)\n",
    "    path.rename(new_path)\n",
    "#     print(new_path)"
   ]
  },
  {
   "cell_type": "code",
   "execution_count": 33,
   "id": "cf1e0b5b",
   "metadata": {},
   "outputs": [],
   "source": [
    "import datetime\n",
    "import pathlib\n",
    "\n",
    "FILE_PATTERN = \"*.txt\"\n",
    "ARCHIVE = \"archive\"\n",
    "\n",
    "if __name__ == \"__main__\":\n",
    "    \n",
    "    date_string = datetime.date.today().strftime(\"%Y-%m-%d\")#小寫y只會有23而不是2023\n",
    "    cur_path = pathlib.Path(\".\")\n",
    "    paths = cur_path.glob(FILE_PATTERN)\n",
    "    \n",
    "    for path in paths:\n",
    "        new_filename = \"{}_{}{}\".format(path.stem,\n",
    "                    date_string,path.suffix)\n",
    "        new_path = cur_path.joinpath(ARCHIVE,new_filename)\n",
    "        path.rename(new_path)"
   ]
  },
  {
   "cell_type": "code",
   "execution_count": 49,
   "id": "3c1887d5",
   "metadata": {},
   "outputs": [
    {
     "name": "stdout",
     "output_type": "stream",
     "text": [
      ".\n",
      "b.txt\n"
     ]
    }
   ],
   "source": [
    "import pathlib\n",
    "\n",
    "pattern = \"*.txt\"\n",
    "cur_path = pathlib.Path(\".\")\n",
    "file_name = cur_path.glob(pattern)\n",
    "for filename in file_name:\n",
    "    print(filename.parent)\n",
    "    print(filename.name)\n",
    "#file_name.name"
   ]
  },
  {
   "cell_type": "code",
   "execution_count": 2,
   "id": "a7aadbe3",
   "metadata": {},
   "outputs": [],
   "source": [
    "import pathlib,datetime\n",
    "\n",
    "today = datetime.date.today().strftime(\"%Y-%m-%d\")\n",
    "cur_path = pathlib.Path(\".\")\n",
    "new_path = cur_path.joinpath(\"archive1\",today)\n",
    "new_path.mkdir()"
   ]
  },
  {
   "cell_type": "code",
   "execution_count": 6,
   "id": "69d4e50b",
   "metadata": {},
   "outputs": [],
   "source": [
    "import datetime,pathlib\n",
    "\n",
    "everyday = datetime.date.today().strftime(\"%Y-%m-%d\")\n",
    "#print(everyday)\n",
    "\n",
    "PATTERN = \"*.txt\"\n",
    "cur_path = pathlib.Path(\".\")\n",
    "paths = cur_path.glob(PATTERN)\n",
    "new_folder = pathlib.Path(everyday)\n",
    "new_folder.mkdir(parents = False)\n",
    "\n",
    "for path in paths:\n",
    "    new_path = cur_path.joinpath(new_folder,path)\n",
    "    path.rename(new_path)\n",
    "#     print(new_path)"
   ]
  },
  {
   "cell_type": "code",
   "execution_count": 52,
   "id": "5949dea0",
   "metadata": {},
   "outputs": [],
   "source": [
    "import datetime\n",
    "import pathlib\n",
    "\n",
    "FILE_PATTERN = \"*.txt\"\n",
    "ARCHIVE = \"archive\"\n",
    "if __name__ == '__main__':\n",
    "    \n",
    "    date_string = datetime.date.today().strftime(\"%Y-%m-%d\")\n",
    "    cur_path = pathlib.Path(\".\")\n",
    "    new_path = cur_path.joinpath(ARCHIVE, date_string)\n",
    "    new_path.mkdir()                                    \n",
    "    paths = cur_path.glob(FILE_PATTERN)\n",
    "    \n",
    "    for path in paths:\n",
    "        path.rename(new_path.joinpath(path.name))\n"
   ]
  },
  {
   "cell_type": "code",
   "execution_count": 68,
   "id": "3c53b1e1",
   "metadata": {},
   "outputs": [],
   "source": [
    "import pathlib,datetime,zipfile\n",
    "\n",
    "FILE_PATTERN = \"*.txt\"\n",
    "ARCHIEVE = \"archive\"\n",
    "\n",
    "if __name__ == \"__main__\":\n",
    "    \n",
    "    date_string = datetime.date.today().strftime(\"%Y-%m-%d\")\n",
    "    \n",
    "    cur_path = pathlib.Path(\".\")\n",
    "    paths = cur_path.glob(FILE_PATTERN)\n",
    "    \n",
    "    zip_file_path = cur_path.joinpath(ARCHIEVE,date_string + \".zip\")\n",
    "    zip_file = zipfile.ZipFile(str(zip_file_path),\"w\")\n",
    "    \n",
    "    for path in paths:\n",
    "        zip_file.write(str(path))\n",
    "        path.unlink()"
   ]
  },
  {
   "cell_type": "code",
   "execution_count": 93,
   "id": "eb77934c",
   "metadata": {},
   "outputs": [
    {
     "name": "stdout",
     "output_type": "stream",
     "text": [
      "2023-07-04 16:27:43.953397\n"
     ]
    },
    {
     "data": {
      "text/plain": [
       "7"
      ]
     },
     "execution_count": 93,
     "metadata": {},
     "output_type": "execute_result"
    }
   ],
   "source": [
    "import datetime\n",
    "now = datetime.datetime.today()#可以顯示日期、時間\n",
    "print(now)\n",
    "now.month#year、day都可以用"
   ]
  },
  {
   "cell_type": "code",
   "execution_count": 9,
   "id": "acef8862",
   "metadata": {},
   "outputs": [
    {
     "name": "stdout",
     "output_type": "stream",
     "text": [
      "2\n",
      "3\n"
     ]
    }
   ],
   "source": [
    "import datetime\n",
    "now  = datetime.datetime.today()\n",
    "print(now.weekday())#0~6代表著禮拜一到日\n",
    "print(now.isoweekday())#這個就是一般的一到日 1~7"
   ]
  },
  {
   "cell_type": "code",
   "execution_count": 14,
   "id": "525c9b7a",
   "metadata": {},
   "outputs": [],
   "source": [
    "from datetime import datetime,timedelta\n",
    "import pathlib\n",
    "import zipfile\n",
    "\n",
    "FILE_PATTERN = \"*.zip\"\n",
    "ARCHIVE = \"archive\"\n",
    "ARCHIVE_WEEKDAY = 1\n",
    "\n",
    "if __name__ == \"__main__\":\n",
    "    cur_path = pathlib.Path(\".\")\n",
    "    zip_file_path = cur_path.joinpath(ARCHIVE)\n",
    "    \n",
    "    paths = zip_file_path.glob(FILE_PATTERN)\n",
    "    current_date = datetime.today()\n",
    "    \n",
    "    for path in paths:\n",
    "        #print(path.stem)\n",
    "        name = path.stem\n",
    "        path_date = datetime.strptime(name,\"%Y-%m-%d\")\n",
    "        path_timedelta = current_date - path_date\n",
    "#         print(path_timedelta)\n",
    "        \n",
    "        if path_timedelta > timedelta(days = 30) and\\\n",
    "            path_date.weekday() != ARCHIVE_WEEKDAY:\n",
    "            path.unlink()"
   ]
  }
 ],
 "metadata": {
  "kernelspec": {
   "display_name": "Python 3 (ipykernel)",
   "language": "python",
   "name": "python3"
  },
  "language_info": {
   "codemirror_mode": {
    "name": "ipython",
    "version": 3
   },
   "file_extension": ".py",
   "mimetype": "text/x-python",
   "name": "python",
   "nbconvert_exporter": "python",
   "pygments_lexer": "ipython3",
   "version": "3.10.9"
  }
 },
 "nbformat": 4,
 "nbformat_minor": 5
}
