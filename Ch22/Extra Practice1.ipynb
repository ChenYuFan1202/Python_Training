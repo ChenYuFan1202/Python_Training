{
 "cells": [
  {
   "cell_type": "code",
   "execution_count": 1,
   "id": "19b08c31",
   "metadata": {},
   "outputs": [
    {
     "data": {
      "text/plain": [
       "\n",
       "<html><head><title>Hello World</title></head>\n",
       "<body><h2>Test Header</h2>\n",
       "<p>This is a test.</p>\n",
       "<a href=\"/my_link1\" id=\"link1\">Link 1</a>\n",
       "<a href=\"/my_link2\" id=\"link2\">Link 2</a>\n",
       "<p>Hello, <b class=\"boldtext\">Bold Text</b></p>\n",
       "</body></html>"
      ]
     },
     "execution_count": 1,
     "metadata": {},
     "output_type": "execute_result"
    }
   ],
   "source": [
    "from bs4 import BeautifulSoup\n",
    "html_doc = \"\"\"\n",
    "<html><head><title>Hello World</title></head>\n",
    "<body><h2>Test Header</h2>\n",
    "<p>This is a test.</p>\n",
    "<a id=\"link1\" href=\"/my_link1\">Link 1</a>\n",
    "<a id=\"link2\" href=\"/my_link2\">Link 2</a>\n",
    "<p>Hello, <b class=\"boldtext\">Bold Text</b></p>\n",
    "</body></html>\n",
    "\"\"\"\n",
    "bs = BeautifulSoup(html_doc,features = \"html.parser\")\n",
    "bs"
   ]
  },
  {
   "cell_type": "code",
   "execution_count": 7,
   "id": "b06ec808",
   "metadata": {},
   "outputs": [
    {
     "name": "stdout",
     "output_type": "stream",
     "text": [
      "<html>\n",
      " <head>\n",
      "  <title>\n",
      "   Hello World\n",
      "  </title>\n",
      " </head>\n",
      " <body>\n",
      "  <h2>\n",
      "   Test Header\n",
      "  </h2>\n",
      "  <p>\n",
      "   This is a test.\n",
      "  </p>\n",
      "  <a href=\"/my_link1\" id=\"link1\">\n",
      "   Link 1\n",
      "  </a>\n",
      "  <a href=\"/my_link2\" id=\"link2\">\n",
      "   Link 2\n",
      "  </a>\n",
      "  <p>\n",
      "   Hello,\n",
      "   <b class=\"boldtext\">\n",
      "    Bold Text\n",
      "   </b>\n",
      "  </p>\n",
      " </body>\n",
      "</html>\n",
      "\n"
     ]
    }
   ],
   "source": [
    "# 輸出排版後的 HTML 程式碼\n",
    "print(bs.prettify())"
   ]
  },
  {
   "cell_type": "code",
   "execution_count": 3,
   "id": "0f046ba0",
   "metadata": {},
   "outputs": [
    {
     "data": {
      "text/plain": [
       "<title>Hello World</title>"
      ]
     },
     "execution_count": 3,
     "metadata": {},
     "output_type": "execute_result"
    }
   ],
   "source": [
    "# 網頁標題 HTML 標籤\n",
    "bs.title"
   ]
  },
  {
   "cell_type": "code",
   "execution_count": 61,
   "id": "f6bde5d7",
   "metadata": {},
   "outputs": [
    {
     "name": "stdout",
     "output_type": "stream",
     "text": [
      "Hello World\n"
     ]
    }
   ],
   "source": [
    "# 網頁的標題文字\n",
    "print(bs.title.string)#text也可以"
   ]
  },
  {
   "cell_type": "code",
   "execution_count": 5,
   "id": "9a68c9b6",
   "metadata": {},
   "outputs": [
    {
     "name": "stdout",
     "output_type": "stream",
     "text": [
      "[<a href=\"/my_link1\" id=\"link1\">Link 1</a>, <a href=\"/my_link2\" id=\"link2\">Link 2</a>]\n",
      "Link 1\n",
      "Link 2\n"
     ]
    }
   ],
   "source": [
    "#我們可以使用 find_all 找出所有特定的 HTML 標籤節點\n",
    "#再以 Python 的迴圈來依序輸出每個超連結的文字\n",
    "\n",
    "a_tags = bs.find_all(\"a\")\n",
    "print(a_tags)\n",
    "for tag in a_tags:\n",
    "    print(tag.text)#string和text的結果一樣"
   ]
  },
  {
   "cell_type": "code",
   "execution_count": 24,
   "id": "53f3a08e",
   "metadata": {},
   "outputs": [
    {
     "name": "stdout",
     "output_type": "stream",
     "text": [
      "/my_link1\n",
      "/my_link2\n"
     ]
    }
   ],
   "source": [
    "#若要取出 HTML 節點的各種屬性\n",
    "#可以使用 get，例如輸出每個超連結的網址（href 屬性）\n",
    "\n",
    "for tag in a_tags:\n",
    "    print(tag.get(\"href\"))#也就是[\"href\"]"
   ]
  },
  {
   "cell_type": "code",
   "execution_count": 25,
   "id": "3bc72691",
   "metadata": {},
   "outputs": [
    {
     "data": {
      "text/plain": [
       "[<a href=\"/my_link1\" id=\"link1\">Link 1</a>,\n",
       " <a href=\"/my_link2\" id=\"link2\">Link 2</a>,\n",
       " <b class=\"boldtext\">Bold Text</b>]"
      ]
     },
     "execution_count": 25,
     "metadata": {},
     "output_type": "execute_result"
    }
   ],
   "source": [
    "#若要同時搜尋多種 HTML 標籤，可以使用 list 來指定所有的要列出的 HTML 標籤名稱\n",
    "\n",
    "tags = bs.find_all([\"a\",\"b\"])\n",
    "tags"
   ]
  },
  {
   "cell_type": "code",
   "execution_count": 27,
   "id": "26cb077f",
   "metadata": {},
   "outputs": [
    {
     "data": {
      "text/plain": [
       "[<a href=\"/my_link1\" id=\"link1\">Link 1</a>,\n",
       " <a href=\"/my_link2\" id=\"link2\">Link 2</a>]"
      ]
     },
     "execution_count": 27,
     "metadata": {},
     "output_type": "execute_result"
    }
   ],
   "source": [
    "#limit 參數指定搜尋節點數量的上限值，這樣它就只會找出前幾個符合條件的節點\n",
    "tags = bs.find_all([\"a\",\"b\"],limit = 2)\n",
    "tags"
   ]
  },
  {
   "cell_type": "code",
   "execution_count": 31,
   "id": "2bfae156",
   "metadata": {},
   "outputs": [
    {
     "data": {
      "text/plain": [
       "<a href=\"/my_link1\" id=\"link1\">Link 1</a>"
      ]
     },
     "execution_count": 31,
     "metadata": {},
     "output_type": "execute_result"
    }
   ],
   "source": [
    "#如果只需要抓出第一個符合條件的節點，可以直接使用 find\n",
    "a_tag = bs.find(\"a\")\n",
    "a_tag"
   ]
  },
  {
   "cell_type": "code",
   "execution_count": 38,
   "id": "f589184b",
   "metadata": {},
   "outputs": [
    {
     "data": {
      "text/plain": [
       "[<title>Hello World</title>]"
      ]
     },
     "execution_count": 38,
     "metadata": {},
     "output_type": "execute_result"
    }
   ],
   "source": [
    "#預設的狀況下，find_all 會以遞迴的方式尋找所有的子節點\n",
    "bs.find_all(\"title\")"
   ]
  },
  {
   "cell_type": "code",
   "execution_count": 39,
   "id": "17ce9516",
   "metadata": {},
   "outputs": [
    {
     "data": {
      "text/plain": [
       "[]"
      ]
     },
     "execution_count": 39,
     "metadata": {},
     "output_type": "execute_result"
    }
   ],
   "source": [
    "#如果想要限制 find_all 只找尋次一層的子節點\n",
    "#可以加上 recursive=False 關閉遞迴搜尋功能\n",
    "bs.find_all(\"title\",recursive = False)"
   ]
  },
  {
   "cell_type": "code",
   "execution_count": 7,
   "id": "645255b9",
   "metadata": {},
   "outputs": [
    {
     "data": {
      "text/plain": [
       "<a href=\"/my_link2\" id=\"link2\">Link 2</a>"
      ]
     },
     "execution_count": 7,
     "metadata": {},
     "output_type": "execute_result"
    }
   ],
   "source": [
    "#根據網頁 HTML 元素的屬性來萃取指定的 HTML 節點\n",
    "#例如搜尋 id 屬性為 link2 的節點\n",
    "\n",
    "link2_tag = bs.find(id = \"link2\")\n",
    "link2_tag"
   ]
  },
  {
   "cell_type": "code",
   "execution_count": 44,
   "id": "901b641c",
   "metadata": {},
   "outputs": [
    {
     "data": {
      "text/plain": [
       "[<a href=\"/my_link1\" id=\"link1\">Link 1</a>]"
      ]
     },
     "execution_count": 44,
     "metadata": {},
     "output_type": "execute_result"
    }
   ],
   "source": [
    "#結合 HTML 節點的名稱與屬性進行更精確的搜尋\n",
    "#例如搜尋 href 屬性為 /my_link1 的 a 節點\n",
    "a_tag = bs.find_all(\"a\",href = \"/my_link1\")\n",
    "a_tag"
   ]
  },
  {
   "cell_type": "code",
   "execution_count": 9,
   "id": "3245299e",
   "metadata": {},
   "outputs": [
    {
     "data": {
      "text/plain": [
       "[<a href=\"/my_link1\" id=\"link1\">Link 1</a>,\n",
       " <a href=\"/my_link2\" id=\"link2\">Link 2</a>]"
      ]
     },
     "execution_count": 9,
     "metadata": {},
     "output_type": "execute_result"
    }
   ],
   "source": [
    "#搜尋屬性時，也可以使用正規表示法\n",
    "import re\n",
    "links = bs.find_all(href=re.compile(\"^/my_link\\d\"))\n",
    "links"
   ]
  },
  {
   "cell_type": "code",
   "execution_count": 59,
   "id": "38c0991f",
   "metadata": {},
   "outputs": [
    {
     "data": {
      "text/plain": [
       "[<a href=\"/my_link1\" id=\"link1\">Link 1</a>]"
      ]
     },
     "execution_count": 59,
     "metadata": {},
     "output_type": "execute_result"
    }
   ],
   "source": [
    "link = bs.find_all(href = re.compile(r\"^/my_link\\d\"),\n",
    "                   id = re.compile(r\"link1\"))\n",
    "link"
   ]
  },
  {
   "cell_type": "code",
   "execution_count": 62,
   "id": "2ea357f1",
   "metadata": {},
   "outputs": [
    {
     "ename": "SyntaxError",
     "evalue": "expression cannot contain assignment, perhaps you meant \"==\"? (Temp/ipykernel_20560/1247491903.py, line 7)",
     "output_type": "error",
     "traceback": [
      "\u001b[1;36m  File \u001b[1;32m\"C:\\Users\\Vick\\AppData\\Local\\Temp/ipykernel_20560/1247491903.py\"\u001b[1;36m, line \u001b[1;32m7\u001b[0m\n\u001b[1;33m    data_soup.find_all(data-foo=\"value\")\u001b[0m\n\u001b[1;37m                       ^\u001b[0m\n\u001b[1;31mSyntaxError\u001b[0m\u001b[1;31m:\u001b[0m expression cannot contain assignment, perhaps you meant \"==\"?\n"
     ]
    }
   ],
   "source": [
    "#在 HTML5 中有一些屬性名稱若直接寫在 Python 的參數中會有一些問題\n",
    "#例如 data-* 這類的屬性直接寫的話，就會產生錯誤訊息\n",
    "\n",
    "data_soup = BeautifulSoup('<div data-foo=\"value\">foo!</div>', 'html.parser')\n",
    "\n",
    "# 錯誤的用法\n",
    "data_soup.find_all(data-foo=\"value\")"
   ]
  },
  {
   "cell_type": "code",
   "execution_count": 64,
   "id": "2554a457",
   "metadata": {},
   "outputs": [
    {
     "data": {
      "text/plain": [
       "[<div data-foo=\"value\">foo!</div>]"
      ]
     },
     "execution_count": 64,
     "metadata": {},
     "output_type": "execute_result"
    }
   ],
   "source": [
    "#把屬性的名稱與值放進一個 dictionary 中\n",
    "#再將此 dictionary 指定給 attrs 參數即可\n",
    "data_soup = BeautifulSoup('<div data-foo=\"value\">foo!</div>', 'html.parser')\n",
    "data_soup.find_all(attrs = {\"data-foo\":\"value\"})"
   ]
  },
  {
   "cell_type": "code",
   "execution_count": 65,
   "id": "363da506",
   "metadata": {},
   "outputs": [
    {
     "data": {
      "text/plain": [
       "[<b class=\"boldtext\">Bold Text</b>]"
      ]
     },
     "execution_count": 65,
     "metadata": {},
     "output_type": "execute_result"
    }
   ],
   "source": [
    "#class 是 Python 程式語言的保留字\n",
    "#所以 Beautiful Soup 改以 class_ 這個名稱代表 HTML 節點的 class 屬性\n",
    "b_tag = bs.find_all(\"b\",class_ = \"boldtext\")\n",
    "b_tag"
   ]
  },
  {
   "cell_type": "code",
   "execution_count": 67,
   "id": "51036e98",
   "metadata": {},
   "outputs": [
    {
     "data": {
      "text/plain": [
       "[<b class=\"boldtext\">Bold Text</b>]"
      ]
     },
     "execution_count": 67,
     "metadata": {},
     "output_type": "execute_result"
    }
   ],
   "source": [
    "#CSS 的 class 屬性也可以使用正規表示法搜尋\n",
    "b_tag = bs.find_all(\"b\",class_ = re.compile(r\"^bold\"))\n",
    "b_tag"
   ]
  },
  {
   "cell_type": "code",
   "execution_count": 14,
   "id": "7621f5e5",
   "metadata": {},
   "outputs": [
    {
     "name": "stdout",
     "output_type": "stream",
     "text": [
      "[<p class=\"body strikeout\"></p>]\n"
     ]
    },
    {
     "data": {
      "text/plain": [
       "[<p class=\"body strikeout\"></p>]"
      ]
     },
     "execution_count": 14,
     "metadata": {},
     "output_type": "execute_result"
    }
   ],
   "source": [
    "#一個 HTML 標籤元素可以同時有多個 CSS 的 class 屬性值\n",
    "#而我們在以 class_ 比對時，只要其中一個 class 符合就算比對成功\n",
    "css_soup = BeautifulSoup('<p class=\"body strikeout\"></p>', 'html.parser')\n",
    "p_tag = css_soup.find_all(\"p\",class_ = re.compile(r\"strikeout\"))\n",
    "print(p_tag)\n",
    "p_tag = css_soup.find_all(\"p\",class_ = re.compile(r\"body strikeout\"))\n",
    "p_tag"
   ]
  },
  {
   "cell_type": "code",
   "execution_count": 18,
   "id": "ee06ffcc",
   "metadata": {},
   "outputs": [
    {
     "data": {
      "text/plain": [
       "[]"
      ]
     },
     "execution_count": 18,
     "metadata": {},
     "output_type": "execute_result"
    }
   ],
   "source": [
    "#如果多個 class 名稱排列順序不同時，就會失敗\n",
    "p_tag = css_soup.find_all(\"p\",class_ = \"strikeout body\")\n",
    "p_tag"
   ]
  },
  {
   "cell_type": "code",
   "execution_count": 24,
   "id": "18d0c0b5",
   "metadata": {},
   "outputs": [
    {
     "name": "stdout",
     "output_type": "stream",
     "text": [
      "[<p class=\"body strikeout\"></p>]\n"
     ]
    },
    {
     "data": {
      "text/plain": [
       "['body', 'strikeout']"
      ]
     },
     "execution_count": 24,
     "metadata": {},
     "output_type": "execute_result"
    }
   ],
   "source": [
    "#遇到多個 CSS class 的狀況，建議改用 CSS 選擇器來篩選\n",
    "p_tag = css_soup.select(\"p.strikeout.body\")#有沒有p、strikeout都可以\n",
    "#但一定要有.\n",
    "print(p_tag)\n",
    "item = p_tag[0]\n",
    "item[\"class\"]#.get(\"class\")也可以"
   ]
  },
  {
   "cell_type": "code",
   "execution_count": 28,
   "id": "155986df",
   "metadata": {},
   "outputs": [
    {
     "data": {
      "text/plain": [
       "[<a href=\"/my_link1\" id=\"link1\">Link One</a>]"
      ]
     },
     "execution_count": 28,
     "metadata": {},
     "output_type": "execute_result"
    }
   ],
   "source": [
    "#依據文字內容來搜尋特定的節點，可以使用 find_all 配合 string 參數\n",
    "links_html = \"\"\"\n",
    "<a id=\"link1\" href=\"/my_link1\">Link One</a>\n",
    "<a id=\"link2\" href=\"/my_link2\">Link Two</a>\n",
    "<a id=\"link3\" href=\"/my_link3\">Link Three</a>\n",
    "\"\"\"\n",
    "bs = BeautifulSoup(links_html,\"html.parser\")\n",
    "bs.find_all(\"a\",string = \"Link One\")"
   ]
  },
  {
   "cell_type": "code",
   "execution_count": 30,
   "id": "1d88a7ac",
   "metadata": {},
   "outputs": [
    {
     "data": {
      "text/plain": [
       "[<a href=\"/my_link1\" id=\"link1\">Link One</a>,\n",
       " <a href=\"/my_link2\" id=\"link2\">Link Two</a>,\n",
       " <a href=\"/my_link3\" id=\"link3\">Link Three</a>]"
      ]
     },
     "execution_count": 30,
     "metadata": {},
     "output_type": "execute_result"
    }
   ],
   "source": [
    "#亦可使用正規表示法批配文字內容\n",
    "bs.find_all(\"a\",string = re.compile(\"^Link\"))"
   ]
  },
  {
   "cell_type": "code",
   "execution_count": 5,
   "id": "aadd3524",
   "metadata": {},
   "outputs": [
    {
     "data": {
      "text/plain": [
       "[<p class=\"my_par\">\n",
       " <a href=\"/my_link1\" id=\"link1\">Link 1</a>\n",
       " <a href=\"/my_link2\" id=\"link2\">Link 2</a>\n",
       " <a href=\"/my_link3\" id=\"link3\">Link 3</a>\n",
       " <a href=\"/my_link4\" id=\"link3\">Link 4</a>\n",
       " </p>]"
      ]
     },
     "execution_count": 5,
     "metadata": {},
     "output_type": "execute_result"
    }
   ],
   "source": [
    "# find_all 都是向下搜尋子節點，如果需要向上搜尋父節點的話\n",
    "#可以改用 find_parents 函數（或是 find_parent）\n",
    "from bs4 import BeautifulSoup as BS\n",
    "html_doc = \"\"\"\n",
    "<body><p class=\"my_par\">\n",
    "<a id=\"link1\" href=\"/my_link1\">Link 1</a>\n",
    "<a id=\"link2\" href=\"/my_link2\">Link 2</a>\n",
    "<a id=\"link3\" href=\"/my_link3\">Link 3</a>\n",
    "<a id=\"link3\" href=\"/my_link4\">Link 4</a>\n",
    "</p></body>\n",
    "\"\"\"\n",
    "bs = BS(html_doc,\"html.parser\")#預設為html.parser?\n",
    "link2_tag = bs.find(id = \"link2\")\n",
    "link2_tag.find_parents(\"p\")"
   ]
  },
  {
   "cell_type": "code",
   "execution_count": 8,
   "id": "1da831d6",
   "metadata": {},
   "outputs": [
    {
     "data": {
      "text/plain": [
       "[<a href=\"/my_link1\" id=\"link1\">Link 1</a>]"
      ]
     },
     "execution_count": 8,
     "metadata": {},
     "output_type": "execute_result"
    }
   ],
   "source": [
    "#在同一層往前尋找特定節點，\n",
    "#則可用 find_previous_siblings 函數（或是 find_previous_sibling）\n",
    "link_tag = link2_tag.find_previous_siblings(\"a\")#有s會有list\n",
    "link_tag"
   ]
  },
  {
   "cell_type": "code",
   "execution_count": 18,
   "id": "0407bc13",
   "metadata": {},
   "outputs": [
    {
     "data": {
      "text/plain": [
       "<a href=\"/my_link1\" id=\"link1\">Link 1</a>"
      ]
     },
     "execution_count": 18,
     "metadata": {},
     "output_type": "execute_result"
    }
   ],
   "source": [
    "link_tag = link2_tag.find_previous()\n",
    "link_tag"
   ]
  },
  {
   "cell_type": "code",
   "execution_count": 11,
   "id": "2b660336",
   "metadata": {},
   "outputs": [
    {
     "data": {
      "text/plain": [
       "[<a href=\"/my_link3\" id=\"link3\">Link 3</a>,\n",
       " <a href=\"/my_link4\" id=\"link3\">Link 4</a>]"
      ]
     },
     "execution_count": 11,
     "metadata": {},
     "output_type": "execute_result"
    }
   ],
   "source": [
    "#想要在在同一層往後尋找特定節點\n",
    "#則可用 find_next_siblings 函數（或是 find_next_sibling），前者可以超過一個，後者只會有一個\n",
    "link_tag = link2_tag.find_next_siblings(\"a\")\n",
    "link_tag"
   ]
  },
  {
   "cell_type": "code",
   "execution_count": 15,
   "id": "2f8a03d2",
   "metadata": {},
   "outputs": [
    {
     "data": {
      "text/plain": [
       "[<a href=\"/my_link3\" id=\"link3\">Link 3</a>,\n",
       " <a href=\"/my_link4\" id=\"link3\">Link 4</a>]"
      ]
     },
     "execution_count": 15,
     "metadata": {},
     "output_type": "execute_result"
    }
   ],
   "source": [
    "link_tag = link2_tag.find_all_next()\n",
    "link_tag"
   ]
  },
  {
   "cell_type": "code",
   "execution_count": null,
   "id": "5c1b0581",
   "metadata": {},
   "outputs": [],
   "source": [
    "# Beautiful Soup 解析已經下載的 HTML 檔案\n",
    "#可以直接將開啟的檔案交給 BeautifulSoup 處理\n",
    "#Beautiful Soup 本身只是一個 HTML 解析工具，它並不負責下載網頁\n",
    "#所以通常我們在開發爬蟲程式時，會搭配 requests 模組一同使用"
   ]
  },
  {
   "cell_type": "code",
   "execution_count": 5,
   "id": "139f1b49",
   "metadata": {},
   "outputs": [
    {
     "name": "stdout",
     "output_type": "stream",
     "text": [
      "標題:俄軍實際陣亡多少？報告揭曉\n",
      "網址:https://tw.news.yahoo.com/%E4%BF%84%E8%BB%8D%E5%AF%A6%E9%9A%9B%E9%99%A3%E4%BA%A1%E5%A4%9A%E5%B0%91%E4%BA%BA%EF%BC%9F%E4%BF%84%E7%8D%A8%E7%AB%8B%E5%AA%92%E9%AB%94%E6%9F%A5%E5%87%BA%E8%BF%915%E8%90%AC%E4%BA%BA-134038599.html\n",
      "標題:刀口下救美 父子3人身分曝光\n",
      "網址:https://tw.news.yahoo.com/%E7%BE%A9%E5%8B%87%E7%88%B6%E5%AD%90%E6%95%91%E7%BE%8E%E7%AB%9F%E6%98%AF%E9%80%99%E8%BA%AB%E5%88%86-%E5%8F%B0%E6%9D%B1%E8%AA%BF%E6%9F%A5%E7%AB%99%E5%8F%B8%E6%A9%9F%E8%82%89%E8%BA%AB%E6%93%8B%E6%85%98%E6%A1%88-045718401.html\n",
      "標題:關鍵落差⋯戳「民進黨警訊」\n",
      "網址:https://tw.news.yahoo.com/%E8%B3%B4%E6%B8%85%E5%BE%B7-%E6%B0%91%E9%80%B2%E9%BB%A8%E6%94%AF%E6%8C%81%E5%BA%A6-%E6%B8%B8%E7%9B%88%E9%9A%86-%E6%B0%91%E9%80%B2%E9%BB%A8-%E8%AD%A6%E8%A8%8A-064036046.html\n",
      "標題:陳凱倫涉性侵 中職永不錄用\n",
      "網址:https://tw.sports.yahoo.com/news/%E9%99%B3%E5%87%B1%E5%80%AB%E5%B0%8D%E9%9A%8A%E5%8F%8B%E8%80%81%E5%A9%86%E4%BC%B8%E7%8B%BC%E7%88%AA%E8%A2%AB%E5%88%A4%E5%88%91-%E5%89%8D%E6%9D%B1%E5%AE%B6%E5%AF%8C%E9%82%A6%E6%82%8D%E5%B0%87%E7%99%BC%E8%81%B2%E6%98%8E-%E4%B8%AD%E8%81%B7%E6%B0%B8%E4%B8%8D%E9%8C%84%E7%94%A8-105550486.html\n",
      "標題:遭撞飛30米外農地 男大生亡\n",
      "網址:https://tw.news.yahoo.com/%E5%98%89%E7%BE%A9%E7%94%B7%E5%A4%A7%E7%94%9F%E9%A8%8E%E8%BB%8A%E6%92%9E%E6%93%8A%E5%8F%B3%E8%BD%89%E8%BB%8A%E8%BC%9B-%E5%99%B4%E9%A3%9B30%E7%B1%B3%E5%A4%96%E8%BE%B2%E7%94%B0%E9%80%81%E9%86%AB%E4%B8%8D%E6%B2%BB-084346327.html\n",
      "標題:台大實驗爆意外 男大生急救\n",
      "網址:https://tw.news.yahoo.com/%E5%8F%B0%E5%A4%A7%E5%8C%96%E5%AD%B8%E5%AF%A6%E9%A9%97%E6%84%8F%E5%A4%96-%E7%94%B7%E5%A4%A7%E7%94%9F%E6%89%8B%E8%87%82%E7%87%99%E5%82%B7%E9%A0%AD%E9%AB%AE%E7%87%92%E7%84%A6%E9%80%81%E9%86%AB%E6%80%A5%E6%95%91-084415222.html\n",
      "標題:中常委：已給侯一個半月時間\n",
      "網址:https://tw.news.yahoo.com/%E6%8C%BA%E9%83%AD%E6%B4%BE%E4%B8%AD%E5%B8%B8%E5%A7%94%E9%A4%90%E6%95%98%E7%A0%B4%E5%B1%80-%E6%B2%88%E6%99%BA%E6%85%A7%EF%BC%9A%E4%BE%AF%E6%B0%91%E8%AA%BF%E4%BD%8E-%E6%8F%9B%E9%83%AD%E5%8F%AF%E8%A7%A3%E5%A5%97-072124047.html\n",
      "標題:票價8800 柯演唱會4分鐘完售\n",
      "網址:https://tw.news.yahoo.com/%E5%BF%AB%E8%A8%8A-%E6%9F%AF%E6%96%87%E5%93%B2%E6%BC%94%E5%94%B1%E6%9C%834%E5%88%86%E9%90%98%E7%A7%92%E9%80%9F%E5%AE%8C%E5%94%AE-8800%E5%85%83%E5%A4%A9%E5%83%B9%E7%B2%89%E7%B5%B2%E7%85%A7%E8%B2%B7%E5%96%AE-053300330.html\n",
      "標題:放棄旅外生涯 林子偉曝主因\n",
      "網址:https://tw.news.yahoo.com/%E5%B0%87%E5%8F%83%E5%8A%A0%E4%B8%AD%E8%81%B7%E9%81%B8%E7%A7%80-%E6%9E%97%E5%AD%90%E5%81%89-%E8%80%83%E9%87%8F%E5%B0%8F%E5%AD%A9%E6%95%99%E8%82%B2%E6%B1%BA%E5%AE%9A%E8%BF%94%E8%87%BA-130905519.html\n",
      "標題:愛了7年 唐契奇抱得美嬌娘\n",
      "網址:https://tw.sports.yahoo.com/news/doncic%E9%81%B8%E5%9C%A87%E6%9C%887%E6%97%A5%E5%90%91%E9%9D%92%E6%A2%85%E7%AB%B9%E9%A6%AC%E5%A5%B3%E5%8F%8B%E6%B1%82%E5%A9%9A%E6%88%90%E5%8A%9F-lebron%E7%95%99%E8%A8%80%E6%81%AD%E5%96%9C-010453646.html\n",
      "標題:5年25億簽約 波總續留馬刺\n",
      "網址:https://tw.news.yahoo.com/%E9%A6%AC%E5%88%BA%E6%8D%A75%E5%B9%B425%E5%84%84%E7%95%99%E4%BA%BA-%E6%B3%A2%E7%B8%BD%E6%88%90%E6%9C%80%E9%AB%98%E8%96%AA%E6%95%99%E9%A0%AD-%E8%A9%B9%E7%9A%87-%E6%99%9A%E9%A4%90%E4%BD%A0%E8%AB%8B-085324260.html\n",
      "標題:一周五次 黃偉晉狂跑健身房\n",
      "網址:https://style.yahoo.com.tw/news/%E9%BB%83%E5%81%89%E6%99%89-%E9%AB%94%E6%85%8B-%E8%82%8C%E8%86%9A-115348975.html\n",
      "標題:二軍烈日下比賽 洪總：不人道\n",
      "網址:https://tw.sports.yahoo.com/news/%E7%83%88%E6%97%A5%E7%95%B6%E7%A9%BA%E4%B8%8B%E6%AF%94%E8%B3%BD%E5%90%83%E4%B8%8D%E6%B6%88-%E4%BA%8C%E8%BB%8D%E6%AF%94%E8%B3%BD%E6%B2%92%E4%BA%BA%E7%90%86-084038223.html\n",
      "標題:陳凱倫判刑真相曝光 悍將發聲\n",
      "網址:https://tw.sports.yahoo.com/news/%E9%99%B3%E5%87%B1%E5%80%AB%E5%B0%8D%E9%9A%8A%E5%8F%8B%E8%80%81%E5%A9%86%E4%BC%B8%E7%8B%BC%E7%88%AA%E8%A2%AB%E5%88%A4%E5%88%91-%E5%89%8D%E6%9D%B1%E5%AE%B6%E5%AF%8C%E9%82%A6%E6%82%8D%E5%B0%87%E7%99%BC%E8%81%B2%E6%98%8E-%E4%B8%AD%E8%81%B7%E6%B0%B8%E4%B8%8D%E9%8C%84%E7%94%A8-105550486.html\n",
      "標題:美媒爆料 大谷可能被天使交易\n",
      "網址:https://tw.news.yahoo.com/mlb-%E5%A4%A7%E8%B0%B7%E7%BF%94%E5%B9%B3%E6%98%AF%E5%90%A6%E8%A2%AB%E4%BA%A4%E6%98%93-%E5%A4%A9%E4%BD%BF%E9%9A%8A%E6%84%8F%E9%A1%98%E6%88%90-%E9%97%9C%E9%8D%B5-025441684.html\n",
      "標題:掌握流行趨勢 運動套裝最優\n",
      "網址:https://tw.sports.yahoo.com/news/%E5%A4%9A%E5%B7%B4%E8%83%BA%E7%A9%BF%E6%90%AD-2023%E5%A4%8F%E5%AD%A3-%E6%B5%81%E8%A1%8C%E8%B6%A8%E5%8B%A2-%E7%A9%BF%E6%90%AD-%E9%81%8B%E5%8B%95%E5%A5%97%E8%A3%9D-134610809.html\n",
      "標題:「瘤莫名長大」張齡予急動刀\n",
      "網址:https://tw.news.yahoo.com/%E5%BC%B5%E9%BD%A1%E4%BA%88%E9%A9%9A%E7%88%86%E6%80%A5%E5%8B%95%E5%88%80-%E9%AB%94%E5%85%A7%E8%85%AB%E7%98%A4-%E8%8E%AB%E5%90%8D%E9%95%B7%E5%A4%A7-%E8%81%B2%E5%B8%B6%E5%8F%88%E6%BD%B0%E7%88%9B-%E8%BA%AB%E9%AB%94%E7%8F%BE%E6%B3%81%E6%9B%9D%E5%85%89-121503215.html\n",
      "標題:小豬新節目爆欠薪 製作方證實協調中\n",
      "網址:https://tw.news.yahoo.com/%E7%BE%85%E5%BF%97%E7%A5%A5%E6%96%B0%E7%AF%80%E7%9B%AE-%E6%8B%96%E6%AC%A0%E8%97%9D%E4%BA%BA%E9%85%AC%E5%8B%9E-%E8%A3%BD%E4%BD%9C%E6%96%B9%E5%8D%94%E5%95%86%E4%B8%AD-094200667.html\n",
      "標題:巴黎鐵塔怎麼變歪？baby認了修圖\n",
      "網址:https://tw.news.yahoo.com/p%E5%9C%96-%E7%99%BB%E4%B8%8A%E7%86%B1%E6%90%9C-angelababy%E7%AC%91%E8%AA%8D-%E6%88%91%E5%85%88%E8%B7%AA-055721228.html\n",
      "標題:年初才認愛 Joeman斷3年情\n",
      "網址:https://tw.news.yahoo.com/%E4%B8%8D%E5%86%8D%E8%80%BD%E8%AA%A4%E5%BD%BC%E6%AD%A4-joeman%E8%AA%8D%E4%BA%86%E5%88%86%E6%89%8B%E5%A6%AE%E5%A9%AD-111927331.html\n",
      "標題:費玉清「被賜死」恆述怒喊可惡\n",
      "網址:https://tw.news.yahoo.com/%E8%B2%BB%E7%8E%89%E6%B8%85%E7%83%8F%E9%BE%8D%E6%AD%BB%E8%A8%8A%E9%99%B8%E7%98%8B%E5%82%B3-%E6%81%86%E8%BF%B0%E6%B3%95%E5%B8%AB%E6%80%92%E5%8F%8D%E6%93%8A%E6%9B%9D%E5%BC%B5%E8%8F%B2%E5%8F%8D%E6%87%89-122446116.html\n",
      "標題:林靖恩賣房住飯店 許常德力挺\n",
      "網址:https://tw.news.yahoo.com/%E6%9D%8E%E5%9D%A4%E5%9F%8E%E5%85%92%E7%8C%9B%E6%89%B9%E6%9E%97%E9%9D%96%E6%81%A9%E8%B3%A3%E6%88%BF%E4%BD%8F%E9%A3%AF%E5%BA%97-%E8%A8%B1%E5%B8%B8%E5%BE%B7-%E4%B8%8D%E5%8F%AF%E4%BB%A5%E5%97%8E-092034333.html\n",
      "標題:《芭比》捲政治紛爭 華納滅火\n",
      "網址:https://movies.yahoo.com.tw/news/%E8%8F%AF%E7%B4%8D-%E8%8A%AD%E6%AF%94-%E5%9C%B0%E5%9C%96-%E4%B9%9D%E6%AE%B5%E7%B7%9A-%E6%83%B9%E8%AD%B0-%E5%8F%AA%E6%98%AF%E7%B4%94%E7%9C%9F%E8%A0%9F%E7%AD%86%E7%95%AB-%E5%8D%97%E6%B5%B7-%E8%B6%8A%E5%8D%97-%E8%8F%B2%E5%BE%8B%E8%B3%93-%E4%B8%AD%E5%9C%8B-002911153.html\n",
      "標題:阿湯哥寵女星嬤 搭直升機伴遊\n",
      "網址:https://movies.yahoo.com.tw/news/tom-cruise-043846422.html\n",
      "標題:藏天花板一腳踩爆 驚悚場面曝\n",
      "網址:https://tw.news.yahoo.com/%E5%A4%A9%E8%8A%B1%E6%9D%BF%E5%86%92%E8%A9%AD%E7%95%B04%E8%85%B3%E5%8D%B0-%E6%80%A5%E9%80%9F%E4%BA%82%E8%A1%9D%E4%B8%8B%E7%A7%92%E7%88%86%E8%A3%82-%E7%B6%B2%E5%9A%87%E5%82%BB-%E6%80%8E%E5%B0%81%E5%8D%B0%E5%9C%A8%E9%82%A3-112130189.html\n",
      "標題:登頂後不走了 13人輪流扛下山\n",
      "網址:https://tw.news.yahoo.com/%E7%A7%8B%E7%94%B0%E7%8A%AC%E7%99%BB%E9%A0%82%E5%BE%8C-%E7%B4%AF%E5%88%B0%E5%8B%95%E4%B8%8D%E4%BA%86-13%E5%90%8D%E6%95%91%E9%9B%A3%E9%9A%8A%E5%93%A1%E8%BC%AA%E6%B5%81%E6%89%9B%E4%B8%8B%E5%B1%B1-045015543.html\n",
      "標題:率後宮到處闖 免課金獲全英雄\n",
      "網址:https://yahoo.wakool.net/game/info/2000000332#0710\n",
      "標題:昏迷後奇蹟甦醒 妻忙還回77萬\n",
      "網址:https://tw.news.yahoo.com/%E6%A4%8D%E7%89%A9%E4%BA%BA%E8%80%81%E5%85%AC186%E5%A4%A9%E5%BE%8C%E5%A5%87%E8%B9%9F%E7%94%A6%E9%86%92-%E5%A6%BB-%E9%80%8077%E8%90%AC%E5%96%84%E6%AC%BE-%E6%84%9F%E5%8B%95%E7%99%BE%E8%90%AC%E4%BA%BA-002449347.html\n",
      "標題:存款近1億日幣 曬晚餐照眾傻眼\n",
      "網址:https://tw.news.yahoo.com/%E5%AD%98%E6%AC%BE%E8%BF%911%E5%84%84-%E4%BB%96%E4%BD%8F0%E5%86%B7%E6%B0%A3%E8%88%8A%E5%85%AC%E5%AF%93-%E6%A5%B5%E7%B0%A1%E6%99%9A%E9%A4%90-%E5%9A%87%E6%AD%AA%E7%B6%B2-052548229.html\n",
      "標題:排骨蓋滿看嘸飯 價格曝光愣了\n",
      "網址:https://tw.news.yahoo.com/%E5%B1%8F%E6%9D%B1%E8%B6%85%E4%BD%9B%E5%B0%8F%E5%90%83-%E6%8E%92%E9%AA%A8%E9%A3%AF-%E8%8D%B7%E5%8C%85%E8%9B%8B%E5%8F%AA%E8%A6%8135%E5%85%83-043100788.html\n",
      "標題:平日照樣坐爆 吃到被炸雞打敗\n",
      "網址:https://travel.yahoo.com.tw/news/%E5%96%9C%E6%AD%A1%E9%9F%93%E5%BC%8F%E7%82%B8%E9%9B%9E-%E7%B5%95%E5%B0%8D%E4%B8%8D%E8%83%BD%E9%8C%AF%E9%81%8E%E9%80%99%E9%96%93%E9%9F%93%E5%8A%87%E5%B8%B8%E8%A6%8B%E7%88%BD%E5%BF%AB%E7%82%B8%E9%9B%9E-033826190.html\n",
      "標題:撲空5次才搶到 沒好料秒關門\n",
      "網址:https://travel.yahoo.com.tw/%E9%80%9A%E9%80%9A%E7%99%BE%E5%B9%B4%E8%80%81%E5%AD%97%E8%99%9F-%E5%8F%B0%E5%8D%97%E8%B6%85%E5%BC%B7-%E8%80%81%E5%BA%97%E7%BE%8E%E9%A3%9F-%E7%81%AB%E7%87%92%E8%9D%A6%E8%82%89%E5%9C%93-%E6%8B%9C%E5%AA%BD%E7%A5%96%E5%BF%85%E5%90%83-000000977.html\n",
      "標題:一周訂單破3千張 交車得等兩年\n",
      "網址:https://autos.yahoo.com.tw/news/%E5%A4%A7%E6%94%B9alphard%E4%B8%8A%E5%B8%82-%E9%80%B1%E7%B4%AF%E7%A9%8D%E8%A8%82%E5%96%AE%E5%B7%B2%E7%A0%B43%E5%8D%83%E5%BC%B5-%E5%92%8C%E6%B3%B0%E9%80%8F%E9%9C%B2%E7%8F%BE%E5%9C%A8%E4%B8%8B%E8%A8%82%E8%87%B3%E5%B0%91%E9%9C%80%E7%AD%89%E5%85%A9%E5%B9%B4-000000325.html\n",
      "標題:比在台灣更大膽 郭源元秀戰袍\n",
      "網址:https://style.yahoo.com.tw/news/%E9%83%AD%E6%BA%90%E5%85%83-%E6%AF%94%E5%9F%BA%E5%B0%BC-160011620.html\n",
      "標題:賣光成停產原因 小改款傳回歸\n",
      "網址:https://autos.yahoo.com.tw/news/honda-odyssey%E6%97%A5%E8%A6%8F%E5%81%9C%E7%94%A2%E7%BE%8E%E8%A6%8F%E6%9C%89%E6%9C%9B%E6%8E%A5%E6%89%8B%E7%99%BB%E5%8F%B0-%E5%8F%B0%E7%81%A3%E6%9C%AC%E7%94%B0-%E5%BC%95%E9%80%B2%E8%A9%95%E4%BC%B0%E4%B8%AD-000000957.html\n",
      "標題:第一名瘦身法 每天15分鐘有感\n",
      "網址:https://www.edh.tw/article/34208#0710ac\n",
      "標題:52歲無三高竟中風 元凶找到了\n",
      "網址:https://www.edh.tw/article/34165#0705ac\n",
      "標題:癌細胞愛吃冰 改吃4食物逆轉\n",
      "網址:https://www.edh.tw/article/12140#0710ac\n",
      "標題:電扇放對三位置 不開冷氣也涼\n",
      "網址:https://www.edh.tw/article/4919#0706ac\n",
      "標題:入山區穿純棉竟NG 當心6誤區\n",
      "網址:https://style.yahoo.com.tw/news/%E9%9C%B2%E7%87%9F-%E9%9C%B2%E7%87%9F%E6%9C%8D-%E5%B1%B1%E5%8D%80-%E9%9C%B2%E7%87%9F%E7%A9%BF%E6%90%AD-160042898.html\n",
      "標題:鎮長再度迎娶7歲夫人 全村狂歡\n",
      "網址:https://tw.tv.yahoo.com/global-videos/%E5%A2%A8%E8%A5%BF%E5%93%A5%E9%8E%AE%E9%95%B7%E5%86%8D%E5%BA%A6%E8%BF%8E%E5%A8%B6-%E9%B1%B7%E9%AD%9A%E6%96%B0%E5%A8%98-%E7%95%B6%E7%9C%BE%E7%8D%BB%E5%90%BB%E5%85%B1%E8%88%9E-%E7%99%BE%E5%B9%B4%E5%82%B3%E7%B5%B1%E6%B0%91%E7%9C%BE%E6%AD%A1%E6%85%B6%E6%B1%82%E5%A5%BD%E9%81%8B-085856440.html#0710ss\n",
      "標題:最驚險機場關25年⋯機長憶最後一飛\n",
      "網址:https://tw.tv.yahoo.com/bbcnews-tw/%E5%95%9F%E5%BE%B7%E6%A9%9F%E5%A0%B4%E9%97%9C%E9%96%8925%E9%80%B1%E5%B9%B4-%E6%9C%80%E5%BE%8C%E8%BC%89%E5%AE%A2%E8%88%AA%E7%8F%AD%E6%A9%9F%E9%95%B7%E5%9B%9E%E6%86%B6%E9%A6%99%E6%B8%AF%E9%82%A3%E9%A9%9A%E9%9A%AA%E8%90%AC%E5%88%86%E7%9A%84%E7%A9%BA%E6%B8%AF-091047752.html#0710ss\n",
      "標題:惡女們：淚訴真心話 不良女自認壞人\n",
      "網址:https://tw.tv.yahoo.com/rokudo-akujo/%E5%85%AD%E9%81%93%E7%9A%84%E6%83%A1%E5%A5%B3%E5%80%91-ep12-%E5%AE%8C%E6%95%B4%E7%89%88-164035425.html#0710ss\n",
      "標題:工具人卯起來出貨 正妹看呆了\n",
      "網址:https://tw.tv.yahoo.com/mimosago/%E9%80%99%E6%AC%A1%E4%B8%8D%E8%97%8F%E4%BA%86-%E7%9B%B4%E6%8E%A5%E5%8F%AB%E9%98%BF%E8%8D%89%E5%B7%A5%E5%85%B7%E4%BA%BA-%E6%8A%80%E8%A1%93%E8%BC%BE%E5%A3%93%E7%9B%B4%E6%8E%A5%E6%94%B6%E6%9C%8D%E8%AE%93%E5%A6%B9%E5%AD%90%E5%BF%B5%E5%BF%B5%E4%B8%8D%E5%BF%98-ft-%E7%86%99%E5%A8%9C-101042771.html#0710ss\n",
      "標題:街頭突降「鈔票雨」眾下車狂撿\n",
      "網址:https://tw.tv.yahoo.com/mnews/%E5%8F%B0%E4%B8%AD%E8%A1%97%E9%A0%AD%E9%99%8D-%E9%88%94%E7%A5%A8%E9%9B%A8-%E8%B7%AF%E4%BA%BA%E9%97%96%E9%A6%AC%E8%B7%AF%E7%8B%82%E6%92%BF%E7%8F%BE%E9%87%91-%E9%8F%A1%E6%96%B0%E8%81%9E-042120840.html#0710ss\n",
      "標題:消夜搶吃湯飯 人滿到隔天早上\n",
      "網址:https://tw.tv.yahoo.com/kiki_theblogger/%E9%87%9C%E5%B1%B1%E6%97%85%E9%81%8A-%E5%85%AD%E5%A4%A9%E4%BA%94%E5%A4%9C%E6%A9%9F%E5%8A%A0%E9%85%92%E7%9C%9F%E7%9A%84%E5%8F%AA%E8%A6%81-7500-visit-busan-020039009.html#0710ss\n",
      "標題:因故遭冷落「失寵王妃」陷宮鬥\n",
      "網址:https://www.litv.tv/vod/drama/content.do?content_id=VOD00292326&sponsorName=eWFob28=&autoPlay=1#0710ss\n",
      "標題:退休金怎存 國人僅1成超前部署\n",
      "網址:https://tw.tv.yahoo.com/investmentexperts/%E5%9C%8B%E4%BA%BA%E5%83%85-1-%E8%B6%85%E9%8C%A2%E9%83%A8%E7%BD%B2-%E9%80%80%E4%BC%91%E7%90%86%E8%B2%A1%E7%99%BD%E7%9A%AE%E6%9B%B8%E5%A4%A7%E8%A7%A3%E5%AF%86-093608080.html#0710ss\n"
     ]
    }
   ],
   "source": [
    "import requests\n",
    "from bs4 import BeautifulSoup\n",
    "# response = requests.get(\"https://tw.yahoo.com/\")\n",
    "# 確認是否下載成功\n",
    "if response.status_code == requests.codes.ok:\n",
    "    bs = BeautifulSoup(response.text,\"html.parser\")\n",
    "    #print(bs)\n",
    "    #print(bs.prettify())\n",
    "    stories = bs.find_all(\"a\",class_ = \"active_V(v)\")\n",
    "    #print(stories)\n",
    "    for s in stories:\n",
    "        print(\"標題:\" + s.text)\n",
    "        print(\"網址:\" + s.get(\"href\"))\n"
   ]
  },
  {
   "cell_type": "code",
   "execution_count": null,
   "id": "1cfec5df",
   "metadata": {},
   "outputs": [],
   "source": [
    "# Google 的網頁會因為瀏覽器（User-Agent）不同而產生不同的結果\n",
    "#所以在觀察程式碼的時候\n",
    "#最好是使用 Beautiful Soup 的 prettify \n",
    "#把抓回來的 HTML 原始碼排版後印出來，這樣看會比較準確。"
   ]
  },
  {
   "cell_type": "code",
   "execution_count": 1,
   "id": "62307340",
   "metadata": {},
   "outputs": [],
   "source": [
    "import requests\n",
    "from bs4 import BeautifulSoup\n",
    "\n",
    "google_url = \"https://www.google.com.tw/search\"\n",
    "#my_params = {\"q\":\"寒流\"}\n",
    "\n",
    "# response = requests.get(google_url,params = {\"q\":\"北科大\"})\n",
    "\n",
    "#print(response.text)\n",
    "\n",
    "\n",
    "if response.status_code == requests.codes.ok:\n",
    "    bs = BeautifulSoup(response.text,features = \"html.parser\")\n",
    "    #print(bs.prettify())\n",
    "#     items = bs.find_all(\"a\")#,class_ = \"BVG0Nb\")#,attrs = {\"class\" : \"WlydOe\"})\n",
    "    #print(items)\n",
    "#     for item in items:\n",
    "        #print(item.prettify())\n",
    "#         title = item\n",
    "        #print(item.text)\n",
    "    \n",
    "    \n",
    "    \n",
    "    \n",
    "#     items = bs.find_all(\"a\",class_ = \"DKV0Md\")\n",
    "#     print(items)\n",
    "#     for i in items:\n",
    "#         print(\"標題:\",i.text)\n",
    "#         print(\"網址:\",i.get(\"href\"))\n",
    "        #<h3 class=\"LC20lb MBeuO DKV0Md\">寒流</h3>\n",
    "  \n",
    "\n"
   ]
  },
  {
   "cell_type": "code",
   "execution_count": 2,
   "id": "c9186795",
   "metadata": {},
   "outputs": [
    {
     "name": "stdout",
     "output_type": "stream",
     "text": [
      "標題:影／北科大白飯之亂！資財營再列7點強調「用餐體驗差」：絕不是飯桶系\n",
      "連結:/url?q=https://tw.news.yahoo.com/%25E5%25BD%25B1-%25E5%258C%2597%25E7%25A7%2591%25E5%25A4%25A7%25E7%2599%25BD%25E9%25A3%25AF%25E4%25B9%258B%25E4%25BA%2582-%25E8%25B3%2587%25E8%25B2%25A1%25E7%2587%259F%25E5%2586%258D%25E5%2588%25977%25E9%25BB%259E%25E5%25BC%25B7%25E8%25AA%25BF-%25E7%2594%25A8%25E9%25A4%2590%25E9%25AB%2594%25E9%25A9%2597%25E5%25B7%25AE-%25E7%25B5%2595%25E4%25B8%258D%25E6%2598%25AF%25E9%25A3%25AF%25E6%25A1%25B6%25E7%25B3%25BB-225012825.html&sa=U&ved=2ahUKEwiKrI751IaAAxUMfN4KHZnfAN0Q0PADegQIBxAD&usg=AOvVaw1-u2MsgRrfuRVipyaWxyuq\n",
      "\n",
      "標題:熱炒店「白飯之亂」學生不想忍！北科大校方首發聲明：協助學生面對消費爭議\n",
      "連結:/url?q=https://www.storm.mg/lifestyle/4828418&sa=U&ved=2ahUKEwiKrI751IaAAxUMfN4KHZnfAN0Q0PADegQIBxAH&usg=AOvVaw1RMxViiUUiK6WbGrq7U6Lc\n",
      "\n",
      "標題:北科大別衝動！研究生「30秒吞2.5顆饅頭」 大胃王比賽奪第一後暴斃\n",
      "連結:/url?q=https://www.setn.com/News.aspx%3FNewsID%3D1321449&sa=U&ved=2ahUKEwiKrI751IaAAxUMfN4KHZnfAN0Q0PADegQIBxAL&usg=AOvVaw14xV2GBz6pxv_LdW_ngk0V\n",
      "\n",
      "標題:北科大別衝動！研究生「30秒吞2.5顆饅頭」 大胃王比賽奪第一後暴斃\n",
      "連結:/url?q=https://tw.news.yahoo.com/%25E5%258C%2597%25E7%25A7%2591%25E5%25A4%25A7%25E5%2588%25A5%25E8%25A1%259D%25E5%258B%2595-%25E7%25A0%2594%25E7%25A9%25B6%25E7%2594%259F-30%25E7%25A7%2592%25E5%2590%259E2-5%25E9%25A1%2586%25E9%25A5%2585%25E9%25A0%25AD-%25E5%25A4%25A7%25E8%2583%2583%25E7%258E%258B%25E6%25AF%2594%25E8%25B3%25BD%25E5%25A5%25AA%25E7%25AC%25AC-121009410.html&sa=U&ved=2ahUKEwiKrI751IaAAxUMfN4KHZnfAN0Q0PADegQIBxAP&usg=AOvVaw1134r0uBSWsB83sVqSUCa7\n",
      "\n",
      "標題:獨家／北科大白飯之亂！免爭輸贏 美女律師邱靖貽：我找一天吃吃看\n",
      "連結:/url?q=https://www.setn.com/News.aspx%3FNewsID%3D1321437&sa=U&ved=2ahUKEwiKrI751IaAAxUMfN4KHZnfAN0Q0PADegQIBxAT&usg=AOvVaw24y6FmcjY0Dykl7j39dqfs\n",
      "\n",
      "標題:北科大「飯桶王大賽」驚動教育部 曾有學生吞饅頭噎死\n",
      "連結:/url?q=https://www.chinatimes.com/realtimenews/20230711004549-260405&sa=U&ved=2ahUKEwiKrI751IaAAxUMfN4KHZnfAN0Q0PADegQIBxAX&usg=AOvVaw2Jmi6HWskyuSyN_AqlnPg1\n",
      "\n",
      "標題:北科大「白飯之亂」延燒 名醫挺學生：免費當然等於吃到飽\n",
      "連結:/url?q=https://www.mirrormedia.mg/story/20230711edi002/&sa=U&ved=2ahUKEwiKrI751IaAAxUMfN4KHZnfAN0Q0PADegQIBxAb&usg=AOvVaw0L0ZmCU6LoKTZ7qAFzH9je\n",
      "\n",
      "標題:「白飯爭議」沒燒完！北科大學生：道歉是校方逼的\n",
      "連結:/url?q=https://news.ltn.com.tw/news/life/breakingnews/4359600&sa=U&ved=2ahUKEwiKrI751IaAAxUMfN4KHZnfAN0Q0PADegQIBxAf&usg=AOvVaw1-dNZDx5FnG_X4Qp9lpL24\n",
      "\n",
      "標題:難忍北科大學生挨罵 醫重批「白飯之亂」：台灣沒競爭力原因\n",
      "連結:/url?q=https://udn.com/news/story/6929/7291962&sa=U&ved=2ahUKEwiKrI751IaAAxUMfN4KHZnfAN0Q0PADegQIBxAj&usg=AOvVaw2J8NQzZ-uLNY4vzbP-iteg\n",
      "\n",
      "標題:北科大白飯之亂延燒！綠議員用「柯粉」隱喻20歲世代 不懂解決問題投給「嘴砲人」\n",
      "連結:/url?q=https://newtalk.tw/news/view/2023-07-10/879028&sa=U&ved=2ahUKEwiKrI751IaAAxUMfN4KHZnfAN0Q0PADegQIBxAn&usg=AOvVaw38c0ajWjq1WDvrd4ySA55u\n",
      "\n",
      "沒有這個型別\n",
      "沒有這個型別\n",
      "沒有這個型別\n",
      "沒有這個型別\n",
      "沒有這個型別\n",
      "沒有這個型別\n",
      "沒有這個型別\n",
      "沒有這個型別\n",
      "沒有這個型別\n",
      "沒有這個型別\n",
      "沒有這個型別\n",
      "沒有這個型別\n",
      "沒有這個型別\n",
      "沒有這個型別\n",
      "沒有這個型別\n",
      "沒有這個型別\n"
     ]
    }
   ],
   "source": [
    "results = bs.find_all(\"a\",class_ = \"BVG0Nb\")\n",
    "for result in results:\n",
    "    title = result.find(\"span\",class_ = \"rQMQod\")\n",
    "    try:\n",
    "        print(\"標題:\" + title.text)\n",
    "        print(\"連結:\" + result.get(\"href\"))\n",
    "        print()\n",
    "    except AttributeError:\n",
    "        print(\"沒有這個型別\")"
   ]
  },
  {
   "cell_type": "code",
   "execution_count": 26,
   "id": "2dde6d39",
   "metadata": {},
   "outputs": [
    {
     "name": "stdout",
     "output_type": "stream",
     "text": [
      "國立臺北科技大學www.ntut.edu.tw\n"
     ]
    }
   ],
   "source": [
    "links = bs.find_all(\"a\",attrs = {\"data-ved\":\"2ahUKEwi4ppqqpYSAAxUEAYgKHdVKDvcQFnoECAcQAg\"})\n",
    "print(links[0].text)"
   ]
  },
  {
   "cell_type": "code",
   "execution_count": 20,
   "id": "34426c50",
   "metadata": {},
   "outputs": [
    {
     "name": "stdout",
     "output_type": "stream",
     "text": [
      "北科大校園入口\n",
      "北科大研究所\n",
      "北科大排名\n",
      "北科大行事曆\n",
      "北科大分數\n",
      "北科大校務系統\n",
      "北科大碩士\n",
      "北科大地址\n"
     ]
    }
   ],
   "source": [
    "elements = bs.select(\"a.Q71vJc\")\n",
    "for element in elements:\n",
    "    print(element.text)"
   ]
  }
 ],
 "metadata": {
  "kernelspec": {
   "display_name": "Python 3 (ipykernel)",
   "language": "python",
   "name": "python3"
  },
  "language_info": {
   "codemirror_mode": {
    "name": "ipython",
    "version": 3
   },
   "file_extension": ".py",
   "mimetype": "text/x-python",
   "name": "python",
   "nbconvert_exporter": "python",
   "pygments_lexer": "ipython3",
   "version": "3.9.7"
  }
 },
 "nbformat": 4,
 "nbformat_minor": 5
}
