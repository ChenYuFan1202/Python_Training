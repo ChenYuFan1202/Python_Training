{
 "cells": [
  {
   "cell_type": "code",
   "execution_count": 2,
   "id": "61196080",
   "metadata": {},
   "outputs": [
    {
     "name": "stdout",
     "output_type": "stream",
     "text": [
      "username: Chang Perry\n",
      "time: 5 個月前\n",
      "comment: 很喜歡這個乾淨的空間，雖然藏書或是店家都沒有很多，但逛起來很舒服。\n",
      "\n",
      "username: YaWen Hsu\n",
      "time: 4 個月前\n",
      "comment: 今天下午2-4點去逛裡面一家服飾店，店員態度極差。\n",
      "我看上了一件穿在模特身上的襯衫，問他是否只有這一件？還有沒有其他顏色？這位店員還沒有等我講完就直接很兇很兇的回我：就這一件，不然你是要買兩件嗎？\n",
      "我整個傻眼，我心裡想假如你真的很不想要做這一份工作可以讓給別人，你一直在那邊拿衣服出來掛要賣，可是人家只是問一句話而已你就用很差的態度對待客人，既使你拿出再好再優秀的東西要來賣別人人家也不會買的。\n",
      "我也看到其他人對這家服飾店的店員評價也是極差的⋯⋯\n",
      "希望老闆能看到能好好跟這位員工好好說一說，改善他的態度\n",
      "\n",
      "PS:相片裡的那一位是客人，不是當事者那位員工\n",
      "\n",
      "username: Sophia HO\n",
      "time: 4 個月前\n",
      "comment: 這邊誠品好多吃的，很可惜3/19要關了。\n",
      "這家店服飾女店員有點胖皮膚白染黃髮綁起來，態度很差，拿一件上面沒看到吊牌問店員，她就一副要找人吵架嗆我：\n",
      "吊牌要自己去找，不是每件都要店員告訴你。\n",
      "哇靠，我才拿一件問，她就兇巴巴雞歪嗆客人，我回:\n",
      "我找不到標簽才問你啊？怎麼那麼兇啊？\n",
      "她就惡狠狠的瞪我大聲兇:你才兇耶，笑死人。\n",
      "\n",
      "可能因3/19誠品站前要關了，所以她就開始態度囂張兇客人。\n",
      "這家店的老闆是她嗎？怎麼用那麼沒水準的壞店員呢？\n",
      "感覺不舒服 😡\n",
      "去服務台問，因這家外觀沒寫店名?服務台說這家:Marudoor\n",
      "google查，都是賣其他牌子服裝。\n",
      "我給4顆星是給整個誠品，本要5顆星，但因被這顧人怨的女太妹店員拉低分數，一副狗眼看人低，外表和穿著完全沒像一般服飾店的水準，很像賣路邊攤。\n",
      "那服飾店爛到爆，衣服每件都亂標好幾千，詐騙集團。\n",
      "\n",
      "username: WEN LIN SUN\n",
      "time: 3 個月前\n",
      "comment: 最常光顧的書店，可惜即將走入歷史，會永遠留存在我的記憶中。\n",
      "\n",
      "username: 趙智棊\n",
      "time: 4 個月前\n",
      "comment: 品味書香氣息的好地方，絕對是增進自己內涵的好選擇\n",
      "\n",
      "username: Brook Li\n",
      "time: 5 個月前\n",
      "comment: 與台北車站共構，不必走出站外、風吹日曬就可以直接逛是一大優勢，交通相當便利。\n",
      "除了一般商家與美食街外，還有書店及文具館。特別喜歡逛文具館，有許多新奇的玩意，很適合到此買禮品。店員態度普遍都不錯。\n",
      "\n",
      "username: TSRRR TSRRR\n",
      "time: 5 個月前\n",
      "comment: 這裏地點好 但椅子少 書櫃外凸從側面看不到書名,但也不重要 這裏馬上要寄了 就要關店了吧\n",
      "\n",
      "username: 逆迴16夜\n",
      "time: 3 個月前\n",
      "comment: 誠品站前店要結業了，所以幾乎全種類之書籍都有79折，不過車站少了一個可以消磨時間的去處、還挺可惜的😔\n",
      "\n",
      "username: honey kiss\n",
      "time: 8 個月前\n",
      "comment: 台北捷運站，出站就到。\n",
      "大熱天、冬天、雨天、颱風天，最好逛的誠品生活，吃喝逛買通通有👍\n",
      "男女老少都皆大歡喜的誠品生活，無障礙空間，設備完善！\n",
      "規劃很好，書店、服飾、鞋、飾品、餐飲、小吃、速食店、Starbucks ⋯^_^⋯會吸引大家來消費。\n",
      "\n",
      "username: 李競明\n",
      "time: 4 年前\n",
      "comment: 就算交通要道必經之處，如果時間剛好，不如逛逛，說不定會有意想不到的收穫，也不是沒有可能！\n",
      "\n"
     ]
    }
   ],
   "source": [
    "import requests,json\n",
    "\n",
    "# response = requests.get(\"https://www.google.com.tw/maps/preview/review/listentitiesreviews?authuser=0&hl=zh-TW&gl=tw&pb=!1m2!1y3765758546651144975!2y6093113884180453713!2m1!2i10!3e1!4m5!3b1!4b1!6b1!7b1!20b1!5m2!1sPkW1ZOH8OZihhwPC5JKQAw!7e81\")\n",
    "text = response.text\n",
    "pretext = \")]}'\"\n",
    "#取代掉特殊字元，這些字元是為了資安用的\n",
    "text = text.replace(pretext,\"\")\n",
    "soup = json.loads(text)\n",
    "\n",
    "conlist = soup[2]\n",
    "#conlist\n",
    "for i in conlist:\n",
    "    print(\"username: \" + str(i[0][1]))\n",
    "    print(\"time: \" + str(i[1]))\n",
    "    print(\"comment: \" + str(i[3]))\n",
    "    print()"
   ]
  },
  {
   "cell_type": "code",
   "execution_count": 4,
   "id": "8ad3d90a",
   "metadata": {},
   "outputs": [
    {
     "name": "stdout",
     "output_type": "stream",
     "text": [
      "name: Aii Seanx\n",
      "time: 6 個月前\n",
      "comment: 生意很好的熱炒店！老闆人很客氣~ 我們訂的是ktv包廂，很多新歌曲👏🏻\n",
      "\n",
      "name: 陳玉蘭\n",
      "time: 3 個月前\n",
      "comment: 【餐點】\n",
      "今天來聚餐\n",
      "點了一道蛤蜊魚片湯\n",
      "蛤蜊蔥薑蒜都是標配\n",
      "但搯起的魚肉竟然是片過的\n",
      "你可能覺得這樣沒什麼\n",
      "但片的竟然是魚肚肉\n",
      "你瞧那個油 你瞧那個組織切面\n",
      "哇鳴 真是太好吃了\n",
      "帶肥的魚肚肉沾上わさび醬油\n",
      "真是太~好~吃~了~吧~~\n",
      "你要原諒我沒拍好它\n",
      "因為想到時就快被撈完啦><\n",
      "【服務】就是一般沒特別的\n",
      "【環境】門口超多人抽菸，飄進來的煙味加上薄弱空調感覺是悶的\n",
      "\n",
      "name: Won Won\n",
      "time: 1 年前\n",
      "comment: 昨晚在大道創意料理快炒，過了一個\n",
      "愉快的夜晚，和朋友在這裏聚餐歡唱。\n",
      "老闆很好鬥陣，這個地點真方便，捷運\n",
      "新生站4號出口，走路6～7分鐘。\n",
      "我只想給4.5分，還是有改進空間，\n",
      "地下室vip 的麥克風效果不好，老闆說\n",
      "地震時音響摔倒了。\n",
      "老闆認真一點，多賺點錢，音響改善\n",
      "一下。\n",
      "\n",
      "name: EVA EVA\n",
      "time: 3 年前\n",
      "comment: 菜還不錯，服務可，老闆幽默風趣，此餐廳還有唱歌設備喔～白飯不用錢，吃到飽喔～\n",
      "包廂低消5000元，點菜時要算好喔～\n",
      "\n",
      "name: Selina Wei\n",
      "time: 3 年前\n",
      "comment: 整體味道不錯，份量不少但價格也比一般熱炒店高。炸物都很好吃，蝦醬空心菜很蝦⋯⋯要做心理準備。推薦金沙蛋豆腐\n",
      "\n",
      "name: princeallen\n",
      "time: 7 個月前\n",
      "comment: 餐點還不錯吃，老闆也十分和善熱情，除了地下室環境欠佳以外，其他都很不錯\n",
      "\n",
      "name: Tsungya\n",
      "time: 6 個月前\n",
      "comment: 菜色很豐富，入味很下飯，👍\n",
      "不會太鹹口乾想一直喝水的那種😋\n",
      "\n",
      "name: 李奇申\n",
      "time: 1 年前\n",
      "comment: 老闆阿中為人豪邁直爽，幾乎桌桌敬酒，酒量驚人😅\n",
      "店裡生意爆好，今天突然湧進40個客人，生意爆好\n",
      "店裡有卡拉ok，真新奇，包廂也有卡拉，地下室也有卡拉（老闆你是多愛卡拉ok啊？🤣）\n",
      "今天我跟朋友兩人談事情，坐包廂，點了一些小菜，\n",
      "結果一開始就拿兩隻大支啤酒..驚！\n",
      "這裡菜樣式多，好吃，性價比好。\n",
      "下次要多些人來，才能多點一些菜😁\n",
      "\n",
      "2022/2/22看到新聞，店內擺放的啤酒機居然被加盟總部惡性倒閉😱，希望阿中老闆平安無事🙏\n",
      "\n",
      "name: Lisa\n",
      "time: 1 年前\n",
      "comment: 食物沒有特別好吃，但是是聚會聊天的好地方，老闆也熱情。\n",
      "\n",
      "name: 5 806\n",
      "time: 4 年前\n",
      "comment: 店面在市民大道上，過了光華商場須再走一段路，座位比一般的熱炒店寬敞許多，不必捱擠著坐下，很適合下班小聚，除了基本菜色外價格比一般熱炒店高出一些，但用料跟份量皆有一定水準，服務人員也很親切。\n",
      "\n",
      "蔥爆牛柳：基本款，調味與其他店差不多，牛柳嫩口份量也蠻多的。\n",
      "\n",
      "鐵板豆腐：熱騰騰的上桌，蔬菜被鐵板的高溫逼出香甜，跟濃郁的醬汁一起是很下飯，份量一般\n",
      "\n",
      "椒鹽大腸：很不錯的一道菜，選用的大腸不是那種乾巴巴的，外皮脆口而內層肥厚帶有香氣，與蔥段椒鹽一同入口，越嚼越香。\n",
      "\n",
      "橙汁排骨：酸甜的醬汁扒附著排骨，排骨帶有嚼勁但不會到咬不爛，下飯或配酒都很適合，而且份量超多，人多還蠻值得點的一道菜\n",
      "\n"
     ]
    }
   ],
   "source": [
    "import requests,json\n",
    "\n",
    "# response = requests.get(\"https://www.google.com.tw/maps/preview/review/listentitiesreviews?authuser=0&hl=zh-TW&gl=tw&pb=!1m2!1y3765758480523450593!2y262346820016087866!2m1!2i10!3e1!4m5!3b1!4b1!6b1!7b1!20b1!5m2!1sPUq1ZJuPCsrFhwOCx5rADQ!7e81\")\n",
    "text = response.text\n",
    "pretext = \")]}'\"\n",
    "text = text.replace(pretext,\"\")\n",
    "soup = json.loads(text)\n",
    "conlist = soup[2]\n",
    "for i in conlist:\n",
    "    print(\"name: \" + str(i[0][1]))\n",
    "    print(\"time: \" + str(i[1]))\n",
    "    print(\"comment: \" + str(i[3]))\n",
    "    print()"
   ]
  },
  {
   "cell_type": "code",
   "execution_count": 10,
   "id": "41f0a073",
   "metadata": {},
   "outputs": [
    {
     "name": "stdout",
     "output_type": "stream",
     "text": [
      "name: Ko F\n",
      "time: 1 年前\n",
      "comment: 2/28早上去買咖啡，肉肉綁馬尾的女生態度有夠差 ，跟客人講話不耐煩就算了 ，還翻白眼？！？！ 如果這麼不屑的話建議妳回家吃自己，別做服務業吧，給妳服務到的客人只會很賭爛而已==\n",
      "\n",
      "name: 鄧智帆\n",
      "time: 2 年前\n",
      "comment: 6/29日 4:50-5:00的兩位員工態度極差\n",
      "請貴店好好管理員工素質\n",
      "請好好反省\n",
      "\n",
      "name: Ma ma\n",
      "time: 1 年前\n",
      "comment: 今天上午買咖啡遇到貴店一位很親切的妹妹～\n",
      "妹妹頭很高然後綁馬尾人很親切，很耐心教我用app兌換卷～\n",
      "\n",
      "name: 司凡\n",
      "time: 11 個月前\n",
      "comment: 服務態度很不好，手機會員條碼放在店員面前卻不理睬，詢問可以刷否，直接回答自己回去刷發票……\n",
      "\n",
      "name: CHuCHu\n",
      "time: 2 年前\n",
      "comment: 😉上班閒暇之餘的好去處～\n",
      "\n",
      "吃了甜點開心一整天😋\n",
      "\n",
      "name: 麻改凍系\n",
      "time: 4 個月前\n",
      "comment: 禁菸標示好像是假的\n",
      "\n",
      "name: Joe Hsieh\n",
      "time: 2 年前\n",
      "comment: 店員很親切、客氣，室內用餐空間較為老舊，時常會有桌面、地面不潔淨的情形，如果單純外帶是可以接受的，但內用的話… 會毫不猶豫選擇別的店家。\n",
      "\n",
      "name: 陳乃瑄\n",
      "time: 1 年前\n",
      "comment: 剛剛去 不知道態度在差什麼的\n",
      "要不是最低一顆  根本不想給\n",
      "\n",
      "name: 蔡惠君\n",
      "time: 4 年前\n",
      "comment: 蛋糕甜點還不錯，是個35好友聚會聊天的好地方，但……美中不足的是小黑蚊很多＞＜\n",
      "\n",
      "name: 葉銘珠\n",
      "time: 1 個月前\n",
      "comment: 讚！\n",
      "\n"
     ]
    }
   ],
   "source": [
    "import requests,json\n",
    "\n",
    "# response = requests.get(\"https://www.google.com/maps/preview/review/listentitiesreviews?authuser=0&hl=zh-TW&gl=tw&pb=!1m2!1y3776346797533953067!2y9564754475183820201!2m2!2i10!3sCAESBkVnSUlDZw%3D%3D!3e1!4m5!3b1!4b1!6b1!7b1!20b1!5m2!1smoi2ZMDKN_3Q1e8P3dek-Ak!7e81\")\n",
    "text = response.text\n",
    "pretext = \")]}'\"\n",
    "text = text.replace(pretext,\"\")\n",
    "soup = json.loads(text)\n",
    "conlist = soup[2]\n",
    "for i in conlist:\n",
    "    print(\"name: \" + str(i[0][1]))\n",
    "    print(\"time: \" + str(i[1]))\n",
    "    print(\"comment: \" + str(i[3]))\n",
    "    print()"
   ]
  },
  {
   "cell_type": "code",
   "execution_count": 2,
   "id": "6ce82415",
   "metadata": {
    "scrolled": true
   },
   "outputs": [
    {
     "data": {
      "text/plain": [
       "'<!DOCTYPE html><html xmlns=\"http://www.w3.org/1999/xhtml\" lang=\"zh-TW\"><head><meta property=\"og:title\" content=\"台灣水庫即時水情\"><meta http-equiv=\"Content-Type\" content=\"text/html; charset=utf-8\"><meta property=\"og:site_name\" content=\"台灣水庫即時水情\"><meta property=\"og:description\" content=\"台灣水庫即時水情-視覺化, 即時蓄水量、水位變化...\"><meta property=\"og:image\" content=\"http://i.imgur.com/04AFcnA.png\"><meta property=\"og:image:type\" content=\"image/png\"><meta name=\"author\" content=\"Chi-Hsuan Huang\"><meta name=\"citation_authors\" content=\"Po-An Yang\"><meta name=\"description\" content=\"台灣水庫即時水情-視覺化, 即時蓄水量、水位變化\"><title>台灣水庫即時水情</title><meta property=\"og:locale\" content=\"zh_TW\"><meta name=\"viewport\" content=\"width=device-width,initial-scale=1\"><link rel=\"icon\" type=\"image/png\" href=\"//static.taiwanstat.com/favicon.ico\"><link rel=\"shortcut icon\" href=\"//static.taiwanstat.com/favicon.ico\" type=\"image/x-icon\"><link rel=\"stylesheet\" href=\"//static.taiwanstat.com/css/style.min.css\"><link rel=\"stylesheet\" href=\"//storage.googleapis.com/code.getmdl.io/1.0.6/material.amber-orange.min.css\"><link rel=\"stylesheet\" href=\"//static.taiwanstat.com/bower_components/semantic/dist/semantic.min.css\"><link rel=\"stylesheet\" href=\"./css/main.css\" type=\"text/css\" media=\"all\"><link rel=\"stylesheet\" type=\"text/css\" href=\"css/style.css\"> <script src=\"//storage.googleapis.com/code.getmdl.io/1.0.6/material.min.js\" async=\"\"></script> <link rel=\"stylesheet\" href=\"https://fonts.googleapis.com/icon?family=Material+Icons\"></head><body><div class=\"mdl-layout mdl-js-layout mdl-layout--fixed-header\" id=\"layout-header\"> <header class=\"mdl-layout__header\"><div class=\"mdl-layout__header-row\"><span class=\"mdl-layout-title\"><a href=\"https://www.taiwanstat.com/realtime/\"><img src=\"https://static.taiwanstat.com/realtime/images/assert/round-logo.png\" class=\"round-logo\" alt=\"logo\">用數據看台灣</a></span><div class=\"mdl-layout-spacer\"></div> <nav class=\"mdl-navigation mdl-layout--large-screen-only\"><a class=\"mdl-navigation__link\" href=\"https://www.taiwanstat.com/realtime/\">台灣開放即時資料</a> <a class=\"mdl-navigation__link\" href=\"https://www.taiwanstat.com/statistics/\">台灣開放統計資料</a> <a class=\"mdl-navigation__link\" href=\"https://www.taiwanstat.com/global/r/\">世界即時資訊</a> <a class=\"mdl-navigation__link\" href=\"https://www.taiwanstat.com/global/l/\">世界統計資訊</a> <a class=\"mdl-navigation__link\" href=\"https://taiwanstat.com/blog/opendata/\">開放資料分析部落格</a> <a class=\"mdl-navigation__link\" href=\"https://www.taiwanstat.com/about/\">關於我們</a></nav><div></div></div> </header><div class=\"mdl-layout__drawer\"><span class=\"mdl-layout-title\"><a href=\"https://www.taiwanstat.com/realtime/\"><img src=\"https://static.taiwanstat.com/realtime/images/assert/round-logo.png\" class=\"round-logo\" alt=\"logo\">用數據看台灣</a></span> <nav class=\"mdl-navigation\"><a class=\"mdl-navigation__link\" href=\"https://www.taiwanstat.com/realtime/\">台灣開放即時資料</a> <a class=\"mdl-navigation__link\" href=\"https://www.taiwanstat.com/statistics/\">台灣開放統計資料</a> <a class=\"mdl-navigation__link\" href=\"https://www.taiwanstat.com/global/r/\">世界即時資訊</a> <a class=\"mdl-navigation__link\" href=\"https://www.taiwanstat.com/global/l/\">世界統計資訊</a> <a class=\"mdl-navigation__link\" href=\"https://taiwanstat.com/blog/opendata/\">開放資料分析部落格</a> <a class=\"mdl-navigation__link\" href=\"https://www.taiwanstat.com/about/\">關於我們</a></nav></div> <main class=\"mdl-layout__content\" id=\"main-content\"><div class=\"main\"><div class=\"title__wrapper\"><h1 id=\"title\">台灣水庫即時水情</h1><div class=\"fb-plugin\"><div class=\"fb-like\" data-href=\"http://water.taiwanstat.com/\" data-width=\"300px\" data-layout=\"standard\" data-action=\"like\" data-show-faces=\"true\" data-share=\"true\"></div></div></div><div class=\"links\"> <button class=\"go-to\" onclick=\"window.location.href=\\'#reservoir1\\'\">北部</button> <button class=\"go-to\" onclick=\"window.location.href=\\'#reservoir6\\'\">中部</button> <button class=\"go-to\" onclick=\"window.location.href=\\'#reservoir12\\'\">南部</button></div><ul class=\"note sml-hide\"><li class=\"data-src\">資料來源：<a href=\"http://www.wra.gov.tw/\">經濟部水利署</a></li><li>即時水情資料係自記儀器自動產生，未經人工完整檢驗，僅提供參考。</li><li>根據<a href=\"http://fhy.wra.gov.tw/ReservoirPage_2011/StorageCapacity.aspx\">水利署網頁</a>公布，各項水庫資料由各水庫管理單位在每日輸入，更新時間不一致。（部分水庫星期六、日之資料則在星期一統一輸入）</li><li class=\"red\">預測剩餘天數 = 即時有效蓄水量/昨日下降蓄水量。因降雨、用水量隨時間變化，預測結果僅提供參考。</li></ul><div class=\"reservoir-wrap\"><div class=\"reservoir\"><div class=\"name\"><h3>新山水庫(基隆)</h3></div> <svg id=\"reservoir0\" width=\"100%\" height=\"250\"></svg><div class=\"volumn\"><h5>7001.1萬立方公尺</h5></div><div class=\"state\"><h5>萬立方公尺</h5></div><div class=\"updateAt\">更新時間：0000-00-00 (0時)</div></div><div class=\"reservoir\"><div class=\"name\"><h3>翡翠水庫(台北、新北)</h3></div> <svg id=\"reservoir1\" width=\"100%\" height=\"250\"></svg><div class=\"volumn\"><h5>26722.51萬立方公尺</h5></div><div class=\"state\"><h5>萬立方公尺</h5></div><div class=\"updateAt\">更新時間：0000-00-00 (0時)</div></div><div class=\"reservoir\"><div class=\"name\"><h3>石門水庫(新北、桃園、新竹)</h3></div> <svg id=\"reservoir2\" width=\"100%\" height=\"250\"></svg><div class=\"volumn\"><h5>4025.63萬立方公尺</h5></div><div class=\"state\"><h5>萬立方公尺</h5></div><div class=\"updateAt\">更新時間：0000-00-00 (0時)</div></div><div class=\"reservoir\"><div class=\"name\"><h3>永和山水庫(新竹、苗栗)</h3></div> <svg id=\"reservoir3\" width=\"100%\" height=\"250\"></svg><div class=\"volumn\"><h5>685.598萬立方公尺</h5></div><div class=\"state\"><h5>萬立方公尺</h5></div><div class=\"updateAt\">更新時間：0000-00-00 (0時)</div></div><div class=\"reservoir\"><div class=\"name\"><h3>寶山水庫(新竹)</h3></div> <svg id=\"reservoir20\" width=\"100%\" height=\"250\"></svg><div class=\"volumn\"><h5>7001.1萬立方公尺</h5></div><div class=\"state\"><h5>萬立方公尺</h5></div><div class=\"updateAt\">更新時間：0000-00-00 (0時)</div></div><div class=\"reservoir\"><div class=\"name\"><h3>寶山第二水庫(新竹)</h3></div> <svg id=\"reservoir4\" width=\"100%\" height=\"250\"></svg><div class=\"volumn\"><h5>7001.1萬立方公尺</h5></div><div class=\"state\"><h5>萬立方公尺</h5></div><div class=\"updateAt\">更新時間：0000-00-00 (0時)</div></div><div class=\"reservoir\"><div class=\"name\"><h3>明德水庫(苗栗)</h3></div> <svg id=\"reservoir5\" width=\"100%\" height=\"250\"></svg><div class=\"volumn\"><h5>262.0316萬立方公尺</h5></div><div class=\"state\"><h5>萬立方公尺</h5></div><div class=\"updateAt\">更新時間：0000-00-00 (0時)</div></div><div class=\"reservoir\"><div class=\"name\"><h3>鯉魚潭水庫(苗栗、台中)</h3></div> <svg id=\"reservoir6\" width=\"100%\" height=\"250\"></svg><div class=\"volumn\"><h5>9857.34萬立方公尺</h5></div><div class=\"state\"><h5>萬立方公尺</h5></div><div class=\"updateAt\">更新時間：0000-00-00 (0時)</div></div><div class=\"reservoir\"><div class=\"name\"><h3>德基水庫(台中)</h3></div> <svg id=\"reservoir7\" width=\"100%\" height=\"250\"></svg><div class=\"volumn\"><h5>762.27萬立方公尺</h5></div><div class=\"state\"><h5>萬立方公尺</h5></div><div class=\"updateAt\">更新時間：0000-00-00 (0時)</div></div><div class=\"reservoir\"><div class=\"name\"><h3>石岡壩(台中)</h3></div> <svg id=\"reservoir8\" width=\"100%\" height=\"250\"></svg><div class=\"volumn\"><h5>11486萬立方公尺</h5></div><div class=\"state\"><h5>萬立方公尺</h5></div><div class=\"updateAt\">更新時間：0000-00-00 (0時)</div></div><div class=\"reservoir\"><div class=\"name\"><h3>日月潭水庫(南投)</h3></div> <svg id=\"reservoir9\" width=\"100%\" height=\"250\"></svg><div class=\"volumn\"><h5>5741萬立方公尺</h5></div><div class=\"state\"><h5>萬立方公尺</h5></div><div class=\"updateAt\">更新時間：0000-00-00 (0時)</div></div><div class=\"reservoir\"><div class=\"name\"><h3>霧社水庫(南投)</h3></div> <svg id=\"reservoir10\" width=\"100%\" height=\"250\"></svg><div class=\"volumn\"><h5>3269.4萬立方公尺</h5></div><div class=\"state\"><h5>萬立方公尺</h5></div><div class=\"updateAt\">更新時間：0000-00-00 (0時)</div></div><div class=\"reservoir\"><div class=\"name\"><h3>湖山水庫(雲林、彰化、嘉義)</h3></div> <svg id=\"reservoir19\" width=\"100%\" height=\"250\"></svg><div class=\"volumn\"><h5>820.884613萬立方公尺</h5></div><div class=\"state\"><h5>萬立方公尺</h5></div><div class=\"updateAt\">更新時間：0000-00-00 (0時)</div></div><div class=\"reservoir\"><div class=\"name\"><h3>仁義潭水庫(嘉義)</h3></div> <svg id=\"reservoir12\" width=\"100%\" height=\"250\"></svg><div class=\"volumn\"><h5>820.884613萬立方公尺</h5></div><div class=\"state\"><h5>萬立方公尺</h5></div><div class=\"updateAt\">更新時間：0000-00-00 (0時)</div></div><div class=\"reservoir\"><div class=\"name\"><h3>蘭潭水庫(嘉義)</h3></div> <svg id=\"reservoir21\" width=\"100%\" height=\"250\"></svg><div class=\"volumn\"><h5>1086.97萬立方公尺</h5></div><div class=\"state\"><h5>萬立方公尺</h5></div><div class=\"updateAt\">更新時間：0000-00-00 (0時)</div></div><div class=\"reservoir\"><div class=\"name\"><h3>白河水庫(台南)</h3></div> <svg id=\"reservoir13\" width=\"100%\" height=\"250\"></svg><div class=\"volumn\"><h5>1086.97萬立方公尺</h5></div><div class=\"state\"><h5>萬立方公尺</h5></div><div class=\"updateAt\">更新時間：0000-00-00 (0時)</div></div><div class=\"reservoir\"><div class=\"name\"><h3>曾文水庫(嘉義、台南)</h3></div> <svg id=\"reservoir14\" width=\"100%\" height=\"250\"></svg><div class=\"volumn\"><h5>1086.97萬立方公尺</h5></div><div class=\"state\"><h5>萬立方公尺</h5></div><div class=\"updateAt\">更新時間：0000-00-00 (0時)</div></div><div class=\"reservoir\"><div class=\"name\"><h3>烏山頭水庫(台南)</h3></div> <svg id=\"reservoir15\" width=\"100%\" height=\"250\"></svg><div class=\"volumn\"><h5>1086.97萬立方公尺</h5></div><div class=\"state\"><h5>萬立方公尺</h5></div><div class=\"updateAt\">更新時間：0000-00-00 (0時)</div></div><div class=\"reservoir\"><div class=\"name\"><h3>南化水庫(台南、高雄)</h3></div> <svg id=\"reservoir16\" width=\"100%\" height=\"250\"></svg><div class=\"volumn\"><h5>1086.97萬立方公尺</h5></div><div class=\"state\"><h5>萬立方公尺</h5></div><div class=\"updateAt\">更新時間：0000-00-00 (0時)</div></div><div class=\"reservoir\"><div class=\"name\"><h3>阿公店水庫(高雄)</h3></div> <svg id=\"reservoir17\" width=\"100%\" height=\"250\"></svg><div class=\"volumn\"><h5>1086.97萬立方公尺</h5></div><div class=\"state\"><h5>萬立方公尺</h5></div><div class=\"updateAt\">更新時間：0000-00-00 (0時)</div></div><div class=\"reservoir\"><div class=\"name\"><h3>牡丹水庫(屏東)</h3></div> <svg id=\"reservoir18\" width=\"100%\" height=\"250\"></svg><div class=\"volumn\"><h5>1086.97萬立方公尺</h5></div><div class=\"state\"><h5>萬立方公尺</h5></div><div class=\"updateAt\">更新時間：0000-00-00 (0時)</div></div></div></div><div class=\"mdl-card mdl-shadow--2dp author\"><h4><a href=\"http://taiwanstat_members.cannerapp.com/\">About Author</a></h4> <img class=\"ui circular image\" alt=\"logo\" src=\"https://static.taiwanstat.com/realtime/images/assert/round-logo.png\"><div class=\"author-info\"><h5>Chi-Hsuan Huang</h5></div></div><div class=\"license__wrapper\">\\n<a rel=\"license\" href=\"http://creativecommons.org/licenses/by-nc-sa/4.0/\">  \\n<img alt=\"創用 CC 授權條款\" style=\"border-width:0\" src=\"https://i.creativecommons.org/l/by-nc-sa/4.0/88x31.png\" /></a><br />本著作由<a xmlns:cc=\"http://creativecommons.org/ns#\" href=\"http://www.taiwanstat.com\" property=\"cc:attributionName\" rel=\"cc:attributionURL\">用數據看台灣團隊</a>製作，以<a rel=\"license\" href=\"http://creativecommons.org/licenses/by-nc-sa/4.0/\">創用CC 姓名標示-非商業性-相同方式分享 4.0 國際 授權條款</a>釋出。\\n</div></main></div><div class=\"footer-mobile\"> <button class=\"scrollup mdl-button mdl-js-button mdl-button--fab mdl-js-ripple-effect mdl-button--colored mdl-shadow--2dp\" id=\"set\"><i class=\"material-icons\">keyboard_arrow_up</i></button></div> <footer class=\"mdl-mini-footer\"><div class=\"mdl-mini-footer__left-section\">©2021 <a href=\"https://www.taiwanstat.com/about/\">用數據看台灣</a>· <a href=\"https://www.facebook.com/taiwanstat/?fref=ts\"><i class=\"facebook square icon\"></i></a> · <a href=\"https://github.com/TaiwanStat\"><i class=\"github square icon\"></i></a></div><div class=\"mdl-mini-footer__right-section\"><span class=\"footer_msg\"><a href=\"https://www.buymeacoffee.com/taiwanstat\">歡迎贊助我們一杯咖啡！</a>意見回饋 </span>歡迎來信: <a href=\"mailto:service@taiwanstat.com\">service@taiwanstat.com</a></div> </footer><div id=\"fb-root\"></div> <script src=\"//cdnjs.cloudflare.com/ajax/libs/d3/3.5.9/d3.min.js\"></script> <script src=\"//ajax.googleapis.com/ajax/libs/jquery/2.1.3/jquery.min.js\"></script> <script src=\"js/liquidFillGauge.js\"></script> <script src=\"js/index.js\"></script> <script>!function(e,a,t,n,c,o,s){e.GoogleAnalyticsObject=c,e[c]=e[c]||function(){(e[c].q=e[c].q||[]).push(arguments)},e[c].l=1*new Date,o=a.createElement(t),s=a.getElementsByTagName(t)[0],o.async=1,o.src=n,s.parentNode.insertBefore(o,s)}(window,document,\"script\",\"//www.google-analytics.com/analytics.js\",\"ga\"),ga(\"create\",\"UA-61023469-1\",\"auto\"),ga(\"send\",\"pageview\")</script> <script>!function(e,t,n){var o,c=e.getElementsByTagName(t)[0];e.getElementById(n)||(o=e.createElement(t),o.id=n,o.src=\"//connect.facebook.net/zh_TW/sdk.js#xfbml=1&version=v2.5\",c.parentNode.insertBefore(o,c))}(document,\"script\",\"facebook-jssdk\")</script> <script src=\"//static.taiwanstat.com/js/main.min.js\"></script> </body></html>'"
      ]
     },
     "execution_count": 2,
     "metadata": {},
     "output_type": "execute_result"
    }
   ],
   "source": [
    "import requests\n",
    "# response = requests.get(\"https://water.taiwanstat.com/\")\n",
    "response.encoding = \"utf-8\"\n",
    "response.text"
   ]
  },
  {
   "cell_type": "code",
   "execution_count": 11,
   "id": "a9f832e1",
   "metadata": {},
   "outputs": [
    {
     "data": {
      "text/plain": [
       "'你的名字是：vick，年紀：undefined 歲。'"
      ]
     },
     "execution_count": 11,
     "metadata": {},
     "output_type": "execute_result"
    }
   ],
   "source": [
    "import requests\n",
    "param = {\"name\":\"vick\",\"age\":\"20\"}\n",
    "response = requests.get(\"https://script.google.com/macros/s/AKfycbw5PnzwybI_VoZaHz65TpA5DYuLkxIF-HUGjJ6jRTOje0E6bVo/exec\",params = param)\n",
    "response.text"
   ]
  },
  {
   "cell_type": "code",
   "execution_count": 16,
   "id": "889531bf",
   "metadata": {},
   "outputs": [
    {
     "data": {
      "text/plain": [
       "'台灣水庫即時水情'"
      ]
     },
     "execution_count": 16,
     "metadata": {},
     "output_type": "execute_result"
    }
   ],
   "source": [
    "import requests\n",
    "from bs4 import BeautifulSoup as BS\n",
    "\n",
    "#response = requests.get(\"https://water.taiwanstat.com/\")\n",
    "bs = BS(response.text,features = \"html.parser\")\n",
    "\n",
    "title = bs.title\n",
    "title.text"
   ]
  },
  {
   "cell_type": "code",
   "execution_count": 31,
   "id": "7401e1d0",
   "metadata": {},
   "outputs": [
    {
     "name": "stdout",
     "output_type": "stream",
     "text": [
      "[<div id=\"logo\">\n",
      "<a href=\"/\"><img alt=\"Homepage\" src=\"/_img/2022/iana-logo-header.svg\"/></a>\n",
      "</div>]\n",
      "[<div id=\"logo\">\n",
      "<a href=\"/\"><img alt=\"Homepage\" src=\"/_img/2022/iana-logo-header.svg\"/></a>\n",
      "</div>]\n"
     ]
    }
   ],
   "source": [
    "import requests\n",
    "from bs4 import BeautifulSoup as BS\n",
    "\n",
    "# response = requests.get(\"https://www.iana.org/domains\")\n",
    "bs = BS(response.text,features = \"html.parser\")\n",
    "#print(bs.prettify())\n",
    "id_list = bs.select(\"#logo\")#(\"div.navigation\")# 搜尋 id 為 logo 的 tag 內容\n",
    "print(id_list)\n",
    "print(bs.find_all(\"div\",id = \"logo\"))"
   ]
  },
  {
   "cell_type": "code",
   "execution_count": 54,
   "id": "24d91ca9",
   "metadata": {},
   "outputs": [
    {
     "name": "stdout",
     "output_type": "stream",
     "text": [
      "<div id=\"logo\">\n",
      "<a href=\"/\"><img alt=\"Homepage\" src=\"/_img/2022/iana-logo-header.svg\"/></a>\n",
      "</div>\n",
      "[<li><a href=\"/domains\">Domains</a></li>, <li><a href=\"/protocols\">Protocols</a></li>, <li><a href=\"/numbers\">Numbers</a></li>, <li><a href=\"/about\">About</a></li>]\n",
      "[<li><a href=\"/about\">About</a></li>]\n",
      "[<li><a href=\"/protocols\">Protocols</a></li>, <li><a href=\"/domains\">Domains</a></li>]\n"
     ]
    }
   ],
   "source": [
    "divs = bs.find_all(\"div\")\n",
    "#print(divs)\n",
    "print(divs[1])\n",
    "#print(divs[1].find_parent())\n",
    "print(divs[1].find_parent().find_all(\"li\"))\n",
    "print(divs[1].find_parent().find_all(\"li\")[2].find_next_siblings())\n",
    "print(divs[1].find_parent().find_all(\"li\")[2].find_previous_siblings())"
   ]
  },
  {
   "cell_type": "code",
   "execution_count": 56,
   "id": "2b3f3527",
   "metadata": {},
   "outputs": [
    {
     "name": "stdout",
     "output_type": "stream",
     "text": [
      "[<a href=\"/\"><img alt=\"Homepage\" src=\"/_img/2022/iana-logo-header.svg\"/></a>, <a href=\"/domains\">Domains</a>, <a href=\"/protocols\">Protocols</a>, <a href=\"/numbers\">Numbers</a>, <a href=\"/about\">About</a>, <a href=\"/domains/root\">The DNS Root Zone</a>, <a href=\"/domains/int\">.INT</a>, <a href=\"/domains/arpa\">.ARPA</a>, <a href=\"/domains/idn-tables\">IDN Practices Repository</a>, <a href=\"/dnssec\">Root Key Signing Key</a>, <a href=\"/domains/special\">Special Purpose Domains</a>, <a href=\"/domains\">Overview</a>, <a href=\"/domains/root\">Root Zone Management</a>, <a href=\"/domains/root\">Overview</a>, <a href=\"/domains/root/db\">Root Database</a>, <a href=\"/domains/root/files\">Hint and Zone Files</a>, <a href=\"/domains/root/manage\">Change Requests</a>, <a href=\"/domains/root/help\">Instructions &amp; Guides</a>, <a href=\"/domains/root/servers\">Root Servers</a>, <a href=\"/domains/int\">.INT Registry</a>, <a href=\"/domains/int\">Overview</a>, <a href=\"/domains/int/manage\">Register/modify an .INT domain</a>, <a href=\"/domains/int/policy\">Eligibility</a>, <a href=\"/domains/arpa\">.ARPA Registry</a>, <a href=\"/domains/idn-tables\">IDN Practices Repository</a>, <a href=\"/domains/idn-tables\">Overview</a>, <a href=\"/procedures/idn-repository.html\">Submit a table</a>, <a href=\"/dnssec\">Root Key Signing Key (DNSSEC)</a>, <a href=\"/dnssec\">Overview</a>, <a href=\"/dnssec/files\">Trusts Anchors and Keys</a>, <a href=\"/dnssec/ceremonies\">Key Signing Ceremonies</a>, <a href=\"/dnssec/procedures\">Policies &amp; Procedures</a>, <a href=\"/dnssec/tcrs\">Community Representatives</a>, <a href=\"/dnssec/archive\">Project Archive</a>, <a href=\"/domains/reserved\">Reserved Domains</a>, <a href=\"/domains\">Domain Names</a>, <a href=\"/domains/root\">Root Zone Registry</a>, <a href=\"/domains/int\">.INT Registry</a>, <a href=\"/domains/arpa\">.ARPA Registry</a>, <a href=\"/domains/idn-tables\">IDN Repository</a>, <a href=\"/numbers\">Number Resources</a>, <a href=\"/abuse\">Abuse Information</a>, <a href=\"/protocols\">Protocols</a>, <a href=\"/protocols\">Protocol Registries</a>, <a href=\"/time-zones\">Time Zone Database</a>, <a href=\"/about\">About Us</a>, <a href=\"/performance\">Performance</a>, <a href=\"/reports\">Reports</a>, <a href=\"/reviews\">Reviews</a>, <a href=\"/about/excellence\">Excellence</a>, <a href=\"/contact\">Contact Us</a>, <a href=\"http://pti.icann.org\">Public Technical Identifiers</a>, <a href=\"http://www.icann.org/\">ICANN</a>, <a href=\"https://www.icann.org/privacy/policy\">Privacy Policy</a>, <a href=\"https://www.icann.org/privacy/tos\">Terms of Service</a>]\n"
     ]
    }
   ],
   "source": [
    "# print(bs.find_all(\"a\"))\n",
    "print(bs(\"a\"))#兩個是一樣的，但最好要可讀性"
   ]
  },
  {
   "cell_type": "code",
   "execution_count": 59,
   "id": "a7118dcd",
   "metadata": {},
   "outputs": [
    {
     "name": "stdout",
     "output_type": "stream",
     "text": [
      "[<a href=\"/domains\">Domains</a>]\n",
      "[<a href=\"/\"><img alt=\"Homepage\" src=\"/_img/2022/iana-logo-header.svg\"/></a>, <a href=\"/domains\">Domains</a>]\n"
     ]
    }
   ],
   "source": [
    "print(bs.find_all(\"a\",string = \"Domains\"))\n",
    "print(bs.find_all(\"a\",limit = 2))"
   ]
  },
  {
   "cell_type": "code",
   "execution_count": 68,
   "id": "b94bee14",
   "metadata": {},
   "outputs": [
    {
     "name": "stdout",
     "output_type": "stream",
     "text": [
      "\n",
      "/\n"
     ]
    }
   ],
   "source": [
    "print(bs.find(\"a\").get_text())#輸出第一個 a tag 的內容,和.text一樣\n",
    "print(bs.find(\"a\")[\"href\"])#.get(\"href\"))也可以"
   ]
  },
  {
   "cell_type": "code",
   "execution_count": 31,
   "id": "fc00b997",
   "metadata": {},
   "outputs": [
    {
     "name": "stdout",
     "output_type": "stream",
     "text": [
      "新山水庫(基隆) 7001.1萬立方公尺\n",
      "翡翠水庫(台北、新北) 26722.51萬立方公尺\n",
      "石門水庫(新北、桃園、新竹) 4025.63萬立方公尺\n",
      "永和山水庫(新竹、苗栗) 685.598萬立方公尺\n",
      "寶山水庫(新竹) 7001.1萬立方公尺\n",
      "寶山第二水庫(新竹) 7001.1萬立方公尺\n",
      "明德水庫(苗栗) 262.0316萬立方公尺\n",
      "鯉魚潭水庫(苗栗、台中) 9857.34萬立方公尺\n",
      "德基水庫(台中) 762.27萬立方公尺\n",
      "石岡壩(台中) 11486萬立方公尺\n",
      "日月潭水庫(南投) 5741萬立方公尺\n",
      "霧社水庫(南投) 3269.4萬立方公尺\n",
      "湖山水庫(雲林、彰化、嘉義) 820.884613萬立方公尺\n",
      "仁義潭水庫(嘉義) 820.884613萬立方公尺\n",
      "蘭潭水庫(嘉義) 1086.97萬立方公尺\n",
      "白河水庫(台南) 1086.97萬立方公尺\n",
      "曾文水庫(嘉義、台南) 1086.97萬立方公尺\n",
      "烏山頭水庫(台南) 1086.97萬立方公尺\n",
      "南化水庫(台南、高雄) 1086.97萬立方公尺\n",
      "阿公店水庫(高雄) 1086.97萬立方公尺\n",
      "牡丹水庫(屏東) 1086.97萬立方公尺\n"
     ]
    }
   ],
   "source": [
    "import requests\n",
    "from bs4 import BeautifulSoup as BS\n",
    "\n",
    "response = requests.get(\"https://water.taiwanstat.com/\")\n",
    "if response.status_code == requests.codes.ok:\n",
    "    bs = BS(response.text,features = \"html.parser\")\n",
    "    \n",
    "# print(bs.prettify()) #reservoir是水庫\n",
    "\n",
    "names = bs.find_all(\"div\",class_ = \"name\")\n",
    "volumes = bs.find_all(\"div\",class_ = \"volumn\")\n",
    "# print(volumes)\n",
    "\n",
    "for index,volume in enumerate(volumes):\n",
    "    print(names[index].text,volume.text)\n"
   ]
  },
  {
   "cell_type": "code",
   "execution_count": null,
   "id": "599fc9fe",
   "metadata": {},
   "outputs": [],
   "source": [
    "寶山第二水庫 2023-07-31(15時) 3150.78 100%\n",
    "日月潭水庫 2023-07-31(7時) 11524.78 89%\n",
    "南化水庫 2023-07-31(15時) 8949.02 100%\n",
    "翡翠水庫 2023-07-31(15時) 24964.76 74.4%\n",
    "湖山水庫 2023-07-31(16時) 5062.47 100%\n",
    "德基水庫 2023-07-31(7時) 17647.08 93.5%\n",
    "烏山頭水庫 2023-07-31(7時) 5761.00 72.7%\n",
    "石門水庫 2023-07-31(15時) 20064.73 97.7%\n",
    "蘭潭水庫 2023-07-31(7時) 869.58 94.3%\n",
    "霧社水庫 2023-07-31(7時) 3085.74 83.7%\n",
    "曾文水庫 2023-07-31(15時) 10401.00 20.5%\n",
    "白河水庫 2023-07-31(8時) 919.00 66.2%\n",
    "新山水庫 2023-07-31(7時) 737.55 74%\n",
    "仁義潭水庫 2023-07-31(7時) 2434.27 98.1%\n",
    "寶山水庫 2023-07-31(7時) 483.80 96.6%\n",
    "永和山水庫 2023-07-31(8時) 2911.40 97.2%\n",
    "阿公店水庫 2023-07-31(15時) 558.00 36.7%\n",
    "明德水庫 2023-07-31(8時) 1217.34 98.1%\n",
    "鯉魚潭水庫 2023-07-31(16時) 9792.21 84.7%\n",
    "石岡壩 2023-07-31(15時) 135.30 95.4%\n",
    "牡丹水庫 2023-07-31(16時) 1929.39 72.7%"
   ]
  },
  {
   "cell_type": "code",
   "execution_count": 1,
   "id": "a75608bf",
   "metadata": {},
   "outputs": [
    {
     "name": "stdout",
     "output_type": "stream",
     "text": [
      "寶山第二水庫 2023-08-19(10時) 3166.85 100%\n",
      "日月潭水庫 2023-08-19(7時) 12039.11 92.9%\n",
      "南化水庫 2023-08-19(7時) 8909.40 99.5%\n",
      "翡翠水庫 2023-08-19(10時) 25364.63 75.6%\n",
      "湖山水庫 2023-08-19(10時) 5062.47 100%\n",
      "德基水庫 2023-08-19(7時) 18464.15 97.8%\n",
      "烏山頭水庫 2023-08-19(7時) 5794.00 73.1%\n",
      "石門水庫 2023-08-19(10時) 20081.82 97.8%\n",
      "蘭潭水庫 2023-08-19(7時) 926.59 100%\n",
      "霧社水庫 2023-08-19(7時) 3316.05 90%\n",
      "曾文水庫 2023-08-19(10時) 33791.00 66.6%\n",
      "白河水庫 2023-08-19(8時) 1075.00 77.4%\n",
      "新山水庫 2023-08-19(7時) 899.39 90.3%\n",
      "仁義潭水庫 2023-08-19(7時) 2404.47 96.9%\n",
      "寶山水庫 2023-08-19(7時) 503.50 100%\n",
      "永和山水庫 2023-08-18(7時) 2972.50 99.3%\n",
      "阿公店水庫 2023-08-19(10時) 525.00 34.5%\n",
      "明德水庫 2023-08-19(7時) 1220.33 98.4264098593367%\n",
      "鯉魚潭水庫 2023-08-19(11時) 11604.04 100%\n",
      "石岡壩 2023-08-19(11時) 75.75 53.4%\n",
      "牡丹水庫 2023-08-19(10時) 1886.00 71.1%\n"
     ]
    }
   ],
   "source": [
    "import requests\n",
    "response = requests.get(\"https://www.taiwanstat.com/waters/latest\")\n",
    "json = response.json()\n",
    "for i in json[0]:\n",
    "    print(json[0][i][\"name\"],json[0][i][\"updateAt\"],json[0][i][\"volumn\"],str(json[0][i][\"percentage\"]) + \"%\")\n",
    "# json[0][\"寶山第二水庫\"]\n",
    "#json[0]"
   ]
  },
  {
   "cell_type": "code",
   "execution_count": 4,
   "id": "7cd7d039",
   "metadata": {},
   "outputs": [
    {
     "data": {
      "text/plain": [
       "[<div class=\"reservoir\"><div class=\"name\"><h3>新山水庫(基隆)</h3></div> <svg height=\"250\" id=\"reservoir0\" width=\"100%\"></svg><div class=\"volumn\"><h5>7001.1萬立方公尺</h5></div><div class=\"state\"><h5>萬立方公尺</h5></div><div class=\"updateAt\">更新時間：0000-00-00 (0時)</div></div>,\n",
       " <div class=\"reservoir\"><div class=\"name\"><h3>翡翠水庫(台北、新北)</h3></div> <svg height=\"250\" id=\"reservoir1\" width=\"100%\"></svg><div class=\"volumn\"><h5>26722.51萬立方公尺</h5></div><div class=\"state\"><h5>萬立方公尺</h5></div><div class=\"updateAt\">更新時間：0000-00-00 (0時)</div></div>,\n",
       " <div class=\"reservoir\"><div class=\"name\"><h3>石門水庫(新北、桃園、新竹)</h3></div> <svg height=\"250\" id=\"reservoir2\" width=\"100%\"></svg><div class=\"volumn\"><h5>4025.63萬立方公尺</h5></div><div class=\"state\"><h5>萬立方公尺</h5></div><div class=\"updateAt\">更新時間：0000-00-00 (0時)</div></div>,\n",
       " <div class=\"reservoir\"><div class=\"name\"><h3>永和山水庫(新竹、苗栗)</h3></div> <svg height=\"250\" id=\"reservoir3\" width=\"100%\"></svg><div class=\"volumn\"><h5>685.598萬立方公尺</h5></div><div class=\"state\"><h5>萬立方公尺</h5></div><div class=\"updateAt\">更新時間：0000-00-00 (0時)</div></div>,\n",
       " <div class=\"reservoir\"><div class=\"name\"><h3>寶山水庫(新竹)</h3></div> <svg height=\"250\" id=\"reservoir20\" width=\"100%\"></svg><div class=\"volumn\"><h5>7001.1萬立方公尺</h5></div><div class=\"state\"><h5>萬立方公尺</h5></div><div class=\"updateAt\">更新時間：0000-00-00 (0時)</div></div>,\n",
       " <div class=\"reservoir\"><div class=\"name\"><h3>寶山第二水庫(新竹)</h3></div> <svg height=\"250\" id=\"reservoir4\" width=\"100%\"></svg><div class=\"volumn\"><h5>7001.1萬立方公尺</h5></div><div class=\"state\"><h5>萬立方公尺</h5></div><div class=\"updateAt\">更新時間：0000-00-00 (0時)</div></div>,\n",
       " <div class=\"reservoir\"><div class=\"name\"><h3>明德水庫(苗栗)</h3></div> <svg height=\"250\" id=\"reservoir5\" width=\"100%\"></svg><div class=\"volumn\"><h5>262.0316萬立方公尺</h5></div><div class=\"state\"><h5>萬立方公尺</h5></div><div class=\"updateAt\">更新時間：0000-00-00 (0時)</div></div>,\n",
       " <div class=\"reservoir\"><div class=\"name\"><h3>鯉魚潭水庫(苗栗、台中)</h3></div> <svg height=\"250\" id=\"reservoir6\" width=\"100%\"></svg><div class=\"volumn\"><h5>9857.34萬立方公尺</h5></div><div class=\"state\"><h5>萬立方公尺</h5></div><div class=\"updateAt\">更新時間：0000-00-00 (0時)</div></div>,\n",
       " <div class=\"reservoir\"><div class=\"name\"><h3>德基水庫(台中)</h3></div> <svg height=\"250\" id=\"reservoir7\" width=\"100%\"></svg><div class=\"volumn\"><h5>762.27萬立方公尺</h5></div><div class=\"state\"><h5>萬立方公尺</h5></div><div class=\"updateAt\">更新時間：0000-00-00 (0時)</div></div>,\n",
       " <div class=\"reservoir\"><div class=\"name\"><h3>石岡壩(台中)</h3></div> <svg height=\"250\" id=\"reservoir8\" width=\"100%\"></svg><div class=\"volumn\"><h5>11486萬立方公尺</h5></div><div class=\"state\"><h5>萬立方公尺</h5></div><div class=\"updateAt\">更新時間：0000-00-00 (0時)</div></div>,\n",
       " <div class=\"reservoir\"><div class=\"name\"><h3>日月潭水庫(南投)</h3></div> <svg height=\"250\" id=\"reservoir9\" width=\"100%\"></svg><div class=\"volumn\"><h5>5741萬立方公尺</h5></div><div class=\"state\"><h5>萬立方公尺</h5></div><div class=\"updateAt\">更新時間：0000-00-00 (0時)</div></div>,\n",
       " <div class=\"reservoir\"><div class=\"name\"><h3>霧社水庫(南投)</h3></div> <svg height=\"250\" id=\"reservoir10\" width=\"100%\"></svg><div class=\"volumn\"><h5>3269.4萬立方公尺</h5></div><div class=\"state\"><h5>萬立方公尺</h5></div><div class=\"updateAt\">更新時間：0000-00-00 (0時)</div></div>,\n",
       " <div class=\"reservoir\"><div class=\"name\"><h3>湖山水庫(雲林、彰化、嘉義)</h3></div> <svg height=\"250\" id=\"reservoir19\" width=\"100%\"></svg><div class=\"volumn\"><h5>820.884613萬立方公尺</h5></div><div class=\"state\"><h5>萬立方公尺</h5></div><div class=\"updateAt\">更新時間：0000-00-00 (0時)</div></div>,\n",
       " <div class=\"reservoir\"><div class=\"name\"><h3>仁義潭水庫(嘉義)</h3></div> <svg height=\"250\" id=\"reservoir12\" width=\"100%\"></svg><div class=\"volumn\"><h5>820.884613萬立方公尺</h5></div><div class=\"state\"><h5>萬立方公尺</h5></div><div class=\"updateAt\">更新時間：0000-00-00 (0時)</div></div>,\n",
       " <div class=\"reservoir\"><div class=\"name\"><h3>蘭潭水庫(嘉義)</h3></div> <svg height=\"250\" id=\"reservoir21\" width=\"100%\"></svg><div class=\"volumn\"><h5>1086.97萬立方公尺</h5></div><div class=\"state\"><h5>萬立方公尺</h5></div><div class=\"updateAt\">更新時間：0000-00-00 (0時)</div></div>,\n",
       " <div class=\"reservoir\"><div class=\"name\"><h3>白河水庫(台南)</h3></div> <svg height=\"250\" id=\"reservoir13\" width=\"100%\"></svg><div class=\"volumn\"><h5>1086.97萬立方公尺</h5></div><div class=\"state\"><h5>萬立方公尺</h5></div><div class=\"updateAt\">更新時間：0000-00-00 (0時)</div></div>,\n",
       " <div class=\"reservoir\"><div class=\"name\"><h3>曾文水庫(嘉義、台南)</h3></div> <svg height=\"250\" id=\"reservoir14\" width=\"100%\"></svg><div class=\"volumn\"><h5>1086.97萬立方公尺</h5></div><div class=\"state\"><h5>萬立方公尺</h5></div><div class=\"updateAt\">更新時間：0000-00-00 (0時)</div></div>,\n",
       " <div class=\"reservoir\"><div class=\"name\"><h3>烏山頭水庫(台南)</h3></div> <svg height=\"250\" id=\"reservoir15\" width=\"100%\"></svg><div class=\"volumn\"><h5>1086.97萬立方公尺</h5></div><div class=\"state\"><h5>萬立方公尺</h5></div><div class=\"updateAt\">更新時間：0000-00-00 (0時)</div></div>,\n",
       " <div class=\"reservoir\"><div class=\"name\"><h3>南化水庫(台南、高雄)</h3></div> <svg height=\"250\" id=\"reservoir16\" width=\"100%\"></svg><div class=\"volumn\"><h5>1086.97萬立方公尺</h5></div><div class=\"state\"><h5>萬立方公尺</h5></div><div class=\"updateAt\">更新時間：0000-00-00 (0時)</div></div>,\n",
       " <div class=\"reservoir\"><div class=\"name\"><h3>阿公店水庫(高雄)</h3></div> <svg height=\"250\" id=\"reservoir17\" width=\"100%\"></svg><div class=\"volumn\"><h5>1086.97萬立方公尺</h5></div><div class=\"state\"><h5>萬立方公尺</h5></div><div class=\"updateAt\">更新時間：0000-00-00 (0時)</div></div>,\n",
       " <div class=\"reservoir\"><div class=\"name\"><h3>牡丹水庫(屏東)</h3></div> <svg height=\"250\" id=\"reservoir18\" width=\"100%\"></svg><div class=\"volumn\"><h5>1086.97萬立方公尺</h5></div><div class=\"state\"><h5>萬立方公尺</h5></div><div class=\"updateAt\">更新時間：0000-00-00 (0時)</div></div>]"
      ]
     },
     "execution_count": 4,
     "metadata": {},
     "output_type": "execute_result"
    }
   ],
   "source": [
    "soup = BS(response.text, \"html.parser\")\n",
    "reservoir = soup.select('.reservoir')     # 取得所有 class 為 reservoir 的 tag\n",
    "reservoir\n",
    "# for i in reservoir:\n",
    "#   print(i.find('div', class_='name').get_text(), end=' ')  # 取得內容的 class 為 name 的 div 文字\n",
    "#   print(i.find('h5').get_text(), end=' ')   # 取得內容 h5 tag 的文字\n",
    "#   print()"
   ]
  },
  {
   "cell_type": "code",
   "execution_count": 15,
   "id": "c52054ff",
   "metadata": {},
   "outputs": [
    {
     "name": "stdout",
     "output_type": "stream",
     "text": [
      "新山水庫(基隆) 7001.1萬立方公尺 \n",
      "翡翠水庫(台北、新北) 26722.51萬立方公尺 \n",
      "石門水庫(新北、桃園、新竹) 4025.63萬立方公尺 \n",
      "永和山水庫(新竹、苗栗) 685.598萬立方公尺 \n",
      "寶山水庫(新竹) 7001.1萬立方公尺 \n",
      "寶山第二水庫(新竹) 7001.1萬立方公尺 \n",
      "明德水庫(苗栗) 262.0316萬立方公尺 \n",
      "鯉魚潭水庫(苗栗、台中) 9857.34萬立方公尺 \n",
      "德基水庫(台中) 762.27萬立方公尺 \n",
      "石岡壩(台中) 11486萬立方公尺 \n",
      "日月潭水庫(南投) 5741萬立方公尺 \n",
      "霧社水庫(南投) 3269.4萬立方公尺 \n",
      "湖山水庫(雲林、彰化、嘉義) 820.884613萬立方公尺 \n",
      "仁義潭水庫(嘉義) 820.884613萬立方公尺 \n",
      "蘭潭水庫(嘉義) 1086.97萬立方公尺 \n",
      "白河水庫(台南) 1086.97萬立方公尺 \n",
      "曾文水庫(嘉義、台南) 1086.97萬立方公尺 \n",
      "烏山頭水庫(台南) 1086.97萬立方公尺 \n",
      "南化水庫(台南、高雄) 1086.97萬立方公尺 \n",
      "阿公店水庫(高雄) 1086.97萬立方公尺 \n",
      "牡丹水庫(屏東) 1086.97萬立方公尺 \n"
     ]
    }
   ],
   "source": [
    "import requests\n",
    "from bs4 import BeautifulSoup as BS\n",
    "\n",
    "#response = requests.get(\"https://water.taiwanstat.com/\")\n",
    "bs = BS(response.text,features = \"html.parser\")\n",
    "#print(bs.prettify())\n",
    "data_list = bs.find_all(\"div\",attrs = {\"class\":\"reservoir\"})\n",
    "# data_list\n",
    "for data in data_list:\n",
    "    print(data.find(\"div\",class_ = \"name\").text,end = \" \")\n",
    "    print(data.select(\".volumn\")[0].text,end = \" \")\n",
    "    print()"
   ]
  },
  {
   "cell_type": "code",
   "execution_count": 2,
   "id": "4d8124d7",
   "metadata": {},
   "outputs": [
    {
     "name": "stdout",
     "output_type": "stream",
     "text": [
      "新山水庫(基隆) 有效蓄水量：910.48萬立方公尺 更新時間：2023-11-04(7時)\n",
      "翡翠水庫(台北、新北) 有效蓄水量：28512.58萬立方公尺 更新時間：2023-11-04(19時)\n",
      "石門水庫(新北、桃園、新竹) 有效蓄水量：19979.31萬立方公尺 更新時間：2023-11-04(19時)\n",
      "永和山水庫(新竹、苗栗) 有效蓄水量：3013.10萬立方公尺 更新時間：2023-11-03(7時)\n",
      "寶山水庫(新竹) 有效蓄水量：459.08萬立方公尺 更新時間：2023-11-04(7時)\n",
      "寶山第二水庫(新竹) 有效蓄水量：2975.59萬立方公尺 更新時間：2023-11-04(19時)\n",
      "明德水庫(苗栗) 有效蓄水量：996.03萬立方公尺 更新時間：2023-11-04(7時)\n",
      "鯉魚潭水庫(苗栗、台中) 有效蓄水量：10762.59萬立方公尺 更新時間：2023-11-04(19時)\n",
      "德基水庫(台中) 有效蓄水量：18630.21萬立方公尺 更新時間：2023-11-04(7時)\n",
      "石岡壩(台中) 有效蓄水量：58.52萬立方公尺 更新時間：2023-11-04(19時)\n",
      "日月潭水庫(南投) 有效蓄水量：11919.74萬立方公尺 更新時間：2023-11-04(7時)\n",
      "霧社水庫(南投) 有效蓄水量：3062.24萬立方公尺 更新時間：2023-11-04(7時)\n",
      "湖山水庫(雲林、彰化、嘉義) 有效蓄水量：5054.20萬立方公尺 更新時間：2023-11-04(19時)\n",
      "仁義潭水庫(嘉義) 有效蓄水量：2342.79萬立方公尺 更新時間：2023-11-04(7時)\n",
      "蘭潭水庫(嘉義) 有效蓄水量：914.62萬立方公尺 更新時間：2023-11-04(7時)\n",
      "白河水庫(台南) 有效蓄水量：784.00萬立方公尺 更新時間：2023-11-04(8時)\n",
      "曾文水庫(嘉義、台南) 有效蓄水量：50572.00萬立方公尺 更新時間：2023-11-04(19時)\n",
      "烏山頭水庫(台南) 有效蓄水量：7205.00萬立方公尺 更新時間：2023-11-04(7時)\n",
      "南化水庫(台南、高雄) 有效蓄水量：8854.99萬立方公尺 更新時間：2023-11-04(7時)\n",
      "阿公店水庫(高雄) 有效蓄水量：1704.00萬立方公尺 更新時間：2023-11-04(19時)\n",
      "牡丹水庫(屏東) 有效蓄水量：2323.00萬立方公尺 更新時間：2023-11-04(19時)\n"
     ]
    }
   ],
   "source": [
    "from selenium import webdriver\n",
    "from selenium.webdriver.common.by import By\n",
    "\n",
    "driver = webdriver.Chrome()\n",
    "driver.get(\"https://water.taiwanstat.com/\")\n",
    "# driver.refresh()\n",
    "# driver.maximize_window()\n",
    "names = driver.find_elements(By.CSS_SELECTOR, \".name\")\n",
    "volumns = driver.find_elements(By.CLASS_NAME, \"volumn\")\n",
    "# percentages = driver.find_elements(By.XPATH, \"/body/g/text\")\n",
    "times = driver.find_elements(By.CLASS_NAME, \"updateAt\")\n",
    "\n",
    "# print(len(names), len(volumns), len(times))\n",
    "# print(len(percentages))\n",
    "for i in range(len(names)): \n",
    "    print(names[i].text, volumns[i].text, times[i].text, sep = \" \")\n",
    "\n",
    "# driver.close()"
   ]
  },
  {
   "cell_type": "code",
   "execution_count": null,
   "id": "5bf7373a",
   "metadata": {},
   "outputs": [],
   "source": [
    "新山水庫(基隆) 有效蓄水量：889.83萬立方公尺\n",
    "翡翠水庫(台北、新北) 有效蓄水量：25372.83萬立方公尺\n",
    "石門水庫(新北、桃園、新竹) 有效蓄水量：19928.06萬立方公尺\n",
    "永和山水庫(新竹、苗栗) 有效蓄水量：2972.50萬立方公尺\n",
    "寶山水庫(新竹) 有效蓄水量：503.50萬立方公尺\n",
    "寶山第二水庫(新竹) 有效蓄水量：3167.75萬立方公尺\n",
    "明德水庫(苗栗) 有效蓄水量：1197.96萬立方公尺\n",
    "鯉魚潭水庫(苗栗、台中) 有效蓄水量：11643.46萬立方公尺\n",
    "德基水庫(台中) 有效蓄水量：18523.63萬立方公尺\n",
    "石岡壩(台中) 有效蓄水量：91.18萬立方公尺\n",
    "日月潭水庫(南投) 有效蓄水量：12206.90萬立方公尺\n",
    "霧社水庫(南投) 有效蓄水量：3260.33萬立方公尺\n",
    "湖山水庫(雲林、彰化、嘉義) 有效蓄水量：5064.53萬立方公尺\n",
    "仁義潭水庫(嘉義) 有效蓄水量：2404.47萬立方公尺\n",
    "蘭潭水庫(嘉義) 有效蓄水量：926.59萬立方公尺\n",
    "白河水庫(台南) 有效蓄水量：1072.00萬立方公尺\n",
    "曾文水庫(嘉義、台南) 有效蓄水量：33582.00萬立方公尺\n",
    "烏山頭水庫(台南) 有效蓄水量：5828.00萬立方公尺\n",
    "南化水庫(台南、高雄) 有效蓄水量：8914.38萬立方公尺\n",
    "阿公店水庫(高雄) 有效蓄水量：521.00萬立方公尺\n",
    "牡丹水庫(屏東) 有效蓄水量：1891.77萬立方公尺"
   ]
  }
 ],
 "metadata": {
  "kernelspec": {
   "display_name": "Python 3 (ipykernel)",
   "language": "python",
   "name": "python3"
  },
  "language_info": {
   "codemirror_mode": {
    "name": "ipython",
    "version": 3
   },
   "file_extension": ".py",
   "mimetype": "text/x-python",
   "name": "python",
   "nbconvert_exporter": "python",
   "pygments_lexer": "ipython3",
   "version": "3.9.7"
  }
 },
 "nbformat": 4,
 "nbformat_minor": 5
}
