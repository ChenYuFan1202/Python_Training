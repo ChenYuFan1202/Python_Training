{
 "cells": [
  {
   "cell_type": "code",
   "execution_count": 1,
   "id": "f652f701",
   "metadata": {},
   "outputs": [
    {
     "name": "stdout",
     "output_type": "stream",
     "text": [
      "台積電 : 569 ( +3 )\n"
     ]
    }
   ],
   "source": [
    "import requests\n",
    "from bs4 import BeautifulSoup as BS\n",
    "\n",
    "url = \"https://tw.stock.yahoo.com/quote/2330\"#ETF是代碼加.TW，像是00878.TW\n",
    "response = requests.get(url)\n",
    "bs = BS(response.text,features = \"html.parser\")\n",
    "title = bs.find(\"h1\",class_ = \"C($c-link-text) Fw(b) Fz(24px) Mend(8px)\")#遇到class有很多屬性的時候，最好還是用.select\n",
    "#print(title.text)\n",
    "price = bs.select(\"span.Fz\\(32px\\)\")#有些符號需要\\轉義\n",
    "#print(price[0].text)\n",
    "extent = bs.select(\".Fz\\(20px\\)\")\n",
    "#print(extent[0].text)\n",
    "\n",
    "sign = \"\"\n",
    "#print(bs.find(\"div\",id = \"main-0-QuoteHeader-Proxy\"))\n",
    "#print(bs.select(\"div#main-0-QuoteHeader-Proxy\"))這兩個也可以\n",
    "try:\n",
    "    #下跌的狀況，用try、except是因為空list取[0]會引發錯誤\n",
    "    if bs.find(\"div\",id = \"main-0-QuoteHeader-Proxy\").select(\"span.C\\(\\$c\\-trend\\-down\\)\")[0]:\n",
    "    # bs.select(\"div#main-0-QuoteHeader-Proxy\")[0].select(\"span.C\\(\\$c\\-trend\\-down\\)\")[0] 也可以\n",
    "        sign = \"-\"\n",
    "except:\n",
    "    try:\n",
    "        #上漲的狀況\n",
    "        if bs.select(\"div#main-0-QuoteHeader-Proxy\")[0].select(\"span.C\\(\\$c\\-trend\\-up\\)\")[0]:\n",
    "            sign = \"+\"\n",
    "    except:\n",
    "        #平盤的狀況，沒有C($c-trend-down)和C($c-trend-up)\n",
    "        sign = \"-\"\n",
    "\n",
    "print(f\"{title.text} : {price[0].text} ( {sign}{extent[0].text} )\")"
   ]
  },
  {
   "cell_type": "code",
   "execution_count": 6,
   "id": "4a2de422",
   "metadata": {},
   "outputs": [
    {
     "name": "stdout",
     "output_type": "stream",
     "text": [
      "[['台積電 : 569 ( +3 )'], ['鴻海 : 110.5 ( -1.0 )'], ['元大高股息 : 36.10 ( +0.08 )'], ['國泰永續高股息 : 22.18 ( -0.02 )']]\n"
     ]
    }
   ],
   "source": [
    "import requests\n",
    "from bs4 import BeautifulSoup as BS\n",
    "\n",
    "\n",
    "\n",
    "def get_stock(url):\n",
    "    response = requests.get(url)\n",
    "    bs = BS(response.text,features = \"html.parser\")\n",
    "    title = bs.find(\"h1\",class_ = \"C($c-link-text) Fw(b) Fz(24px) Mend(8px)\")#遇到class有很多屬性的時候，最好還是用.select\n",
    "    #print(title.text)\n",
    "    price = bs.select(\"span.Fz\\(32px\\)\")#有些符號需要\\轉義\n",
    "    #print(price[0].text)\n",
    "    extent = bs.select(\".Fz\\(20px\\)\")\n",
    "    #print(extent[0].text)\n",
    "\n",
    "    sign = \"\"\n",
    "    #print(bs.find(\"div\",id = \"main-0-QuoteHeader-Proxy\"))\n",
    "    #print(bs.select(\"div#main-0-QuoteHeader-Proxy\"))這兩個也可以\n",
    "    try:\n",
    "        #下跌的狀況，用try、except是因為空list取[0]會引發錯誤\n",
    "        if bs.find(\"div\",id = \"main-0-QuoteHeader-Proxy\").select(\"span.C\\(\\$c\\-trend\\-down\\)\")[0]:\n",
    "        # bs.select(\"div#main-0-QuoteHeader-Proxy\")[0].select(\"span.C\\(\\$c\\-trend\\-down\\)\")[0] 也可以\n",
    "            sign = \"-\"\n",
    "        return(f\"{title.text} : {price[0].text} ( {sign}{extent[0].text} )\")\n",
    "    except:\n",
    "        try:\n",
    "            #上漲的狀況\n",
    "            if bs.select(\"div#main-0-QuoteHeader-Proxy\")[0].select(\"span.C\\(\\$c\\-trend\\-up\\)\")[0]:\n",
    "                sign = \"+\"\n",
    "            return(f\"{title.text} : {price[0].text} ( {sign}{extent[0].text} )\")\n",
    "        except:\n",
    "            #平盤的狀況，沒有C($c-trend-down)和C($c-trend-up)\n",
    "            sign = \"-\"\n",
    "            return(f\"{title.text} : {price[0].text} ( {sign}{extent[0].text} )\")\n",
    "\n",
    "urls = [\"https://tw.stock.yahoo.com/quote/2330\",\n",
    "        \"https://tw.stock.yahoo.com/quote/2317\",\n",
    "        \"https://tw.stock.yahoo.com/quote/0056.TW\",\n",
    "        \"https://tw.stock.yahoo.com/quote/00878.TW\"]#ETF是代碼加.TW，像是00878.TW\n",
    "\n",
    "stock_prices = []\n",
    "\n",
    "for url in urls:\n",
    "#     print(url)\n",
    "    stock_prices.append([get_stock(url)])\n",
    "    \n",
    "print(stock_prices)"
   ]
  },
  {
   "cell_type": "code",
   "execution_count": 13,
   "id": "c07b8c24",
   "metadata": {},
   "outputs": [],
   "source": [
    "import csv,datetime\n",
    "today = datetime.date.today().strftime(\"%Y-%m-%d\")\n",
    "filename = \"{}_stock_prices.csv\".format(today)\n",
    "\n",
    "csv.writer(open(filename,\"w\",encoding = \"utf-8\",newline = \"\"),delimiter = \",\")\\\n",
    "    .writerows(stock_prices)"
   ]
  }
 ],
 "metadata": {
  "kernelspec": {
   "display_name": "Python 3 (ipykernel)",
   "language": "python",
   "name": "python3"
  },
  "language_info": {
   "codemirror_mode": {
    "name": "ipython",
    "version": 3
   },
   "file_extension": ".py",
   "mimetype": "text/x-python",
   "name": "python",
   "nbconvert_exporter": "python",
   "pygments_lexer": "ipython3",
   "version": "3.9.7"
  }
 },
 "nbformat": 4,
 "nbformat_minor": 5
}
