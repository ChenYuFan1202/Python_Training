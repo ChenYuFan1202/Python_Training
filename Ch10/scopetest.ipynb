{
 "cells": [
  {
   "cell_type": "code",
   "execution_count": 3,
   "id": "a1623ec8",
   "metadata": {},
   "outputs": [],
   "source": [
    "\"\"\"scopetest: 可視範圍測試模組\"\"\"\n",
    "v = 6\n",
    "def f(x):\n",
    "    \"\"\"f: scope test function\"\"\"\n",
    "    print(\"global: \",list(globals().keys()))\n",
    "    print(\"進入 local:\",locals())\n",
    "    y = x\n",
    "    w = v\n",
    "    print(\"離開 local:\",locals().keys())"
   ]
  }
 ],
 "metadata": {
  "kernelspec": {
   "display_name": "Python 3 (ipykernel)",
   "language": "python",
   "name": "python3"
  },
  "language_info": {
   "codemirror_mode": {
    "name": "ipython",
    "version": 3
   },
   "file_extension": ".py",
   "mimetype": "text/x-python",
   "name": "python",
   "nbconvert_exporter": "python",
   "pygments_lexer": "ipython3",
   "version": "3.9.7"
  }
 },
 "nbformat": 4,
 "nbformat_minor": 5
}
