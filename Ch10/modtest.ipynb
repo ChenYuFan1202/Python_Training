{
 "cells": [
  {
   "cell_type": "code",
   "execution_count": null,
   "id": "2b39278f",
   "metadata": {},
   "outputs": [],
   "source": [
    "\"\"\"modtest: our test module\"\"\"\n",
    "def f(x):\n",
    "    return x\n",
    "def _g(x):\n",
    "    return x\n",
    "a = 4\n",
    "_b = 2"
   ]
  }
 ],
 "metadata": {
  "kernelspec": {
   "display_name": "Python 3 (ipykernel)",
   "language": "python",
   "name": "python3"
  },
  "language_info": {
   "codemirror_mode": {
    "name": "ipython",
    "version": 3
   },
   "file_extension": ".py",
   "mimetype": "text/x-python",
   "name": "python",
   "nbconvert_exporter": "python",
   "pygments_lexer": "ipython3",
   "version": "3.9.7"
  }
 },
 "nbformat": 4,
 "nbformat_minor": 5
}
