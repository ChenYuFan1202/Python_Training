{
 "cells": [
  {
   "cell_type": "code",
   "execution_count": 2,
   "id": "3fb01939",
   "metadata": {},
   "outputs": [
    {
     "data": {
      "text/plain": [
       "'C:\\\\Users\\\\Vick\\\\Python3\\\\Ch10'"
      ]
     },
     "execution_count": 2,
     "metadata": {},
     "output_type": "execute_result"
    }
   ],
   "source": [
    "import os\n",
    "os.getcwd()"
   ]
  },
  {
   "cell_type": "code",
   "execution_count": 3,
   "id": "69bfa063",
   "metadata": {},
   "outputs": [
    {
     "data": {
      "text/plain": [
       "'area(r): 傳回半徑r的圓形面積.'"
      ]
     },
     "execution_count": 3,
     "metadata": {},
     "output_type": "execute_result"
    }
   ],
   "source": [
    "import mymath\n",
    "mymath.pi\n",
    "mymath.area(2)\n",
    "mymath.__doc__\n",
    "mymath.area.__doc__"
   ]
  },
  {
   "cell_type": "code",
   "execution_count": 9,
   "id": "35c8668c",
   "metadata": {},
   "outputs": [
    {
     "data": {
      "text/plain": [
       "12.56636"
      ]
     },
     "execution_count": 9,
     "metadata": {},
     "output_type": "execute_result"
    }
   ],
   "source": [
    "from mymath import pi\n",
    "pi\n",
    "#from mymath import area\n",
    "area(2)"
   ]
  },
  {
   "cell_type": "code",
   "execution_count": 4,
   "id": "13584832",
   "metadata": {},
   "outputs": [
    {
     "data": {
      "text/plain": [
       "<module 'mymath' from 'C:\\\\Users\\\\Vick\\\\Python3\\\\Ch10\\\\mymath.py'>"
      ]
     },
     "execution_count": 4,
     "metadata": {},
     "output_type": "execute_result"
    }
   ],
   "source": [
    "import mymath,importlib\n",
    "importlib.reload(mymath)"
   ]
  },
  {
   "cell_type": "code",
   "execution_count": 3,
   "id": "1ebd3778",
   "metadata": {},
   "outputs": [
    {
     "name": "stdout",
     "output_type": "stream",
     "text": [
      "3.14159\n"
     ]
    },
    {
     "data": {
      "text/plain": [
       "12.56636"
      ]
     },
     "execution_count": 3,
     "metadata": {},
     "output_type": "execute_result"
    }
   ],
   "source": [
    "import mymath as circle\n",
    "print(circle.pi)\n",
    "circle.area(2)\n",
    "from mymath import area as circle_area\n",
    "circle_area(2)"
   ]
  },
  {
   "cell_type": "code",
   "execution_count": 19,
   "id": "6f937ad8",
   "metadata": {},
   "outputs": [
    {
     "data": {
      "text/plain": [
       "'C:\\\\Users\\\\Vick\\\\Python3\\\\Ch10'"
      ]
     },
     "execution_count": 19,
     "metadata": {},
     "output_type": "execute_result"
    }
   ],
   "source": [
    "def find():\n",
    "    import os\n",
    "    return os.getcwd()\n",
    "#     import *\n",
    "#     return sys.path\n",
    "find()"
   ]
  },
  {
   "cell_type": "code",
   "execution_count": 13,
   "id": "23a84220",
   "metadata": {
    "scrolled": true
   },
   "outputs": [
    {
     "data": {
      "text/plain": [
       "['C:\\\\Users\\\\Vick\\\\Python3\\\\Ch10',\n",
       " 'C:\\\\Users\\\\Vick\\\\anaconda3\\\\python39.zip',\n",
       " 'C:\\\\Users\\\\Vick\\\\anaconda3\\\\DLLs',\n",
       " 'C:\\\\Users\\\\Vick\\\\anaconda3\\\\lib',\n",
       " 'C:\\\\Users\\\\Vick\\\\anaconda3',\n",
       " '',\n",
       " 'C:\\\\Users\\\\Vick\\\\anaconda3\\\\lib\\\\site-packages',\n",
       " 'C:\\\\Users\\\\Vick\\\\anaconda3\\\\lib\\\\site-packages\\\\locket-0.2.1-py3.9.egg',\n",
       " 'C:\\\\Users\\\\Vick\\\\anaconda3\\\\lib\\\\site-packages\\\\win32',\n",
       " 'C:\\\\Users\\\\Vick\\\\anaconda3\\\\lib\\\\site-packages\\\\win32\\\\lib',\n",
       " 'C:\\\\Users\\\\Vick\\\\anaconda3\\\\lib\\\\site-packages\\\\Pythonwin',\n",
       " 'C:\\\\Users\\\\Vick\\\\anaconda3\\\\lib\\\\site-packages\\\\IPython\\\\extensions',\n",
       " 'C:\\\\Users\\\\Vick\\\\.ipython']"
      ]
     },
     "execution_count": 13,
     "metadata": {},
     "output_type": "execute_result"
    }
   ],
   "source": [
    "import sys\n",
    "sys.path#path是變數"
   ]
  },
  {
   "cell_type": "code",
   "execution_count": 9,
   "id": "29350abc",
   "metadata": {},
   "outputs": [
    {
     "data": {
      "text/plain": [
       "4"
      ]
     },
     "execution_count": 9,
     "metadata": {},
     "output_type": "execute_result"
    }
   ],
   "source": [
    "#import modtest\n",
    "#modtest.__doc__\n",
    "from modtest import *\n",
    "f(3)\n",
    "#_g(3)\n",
    "a"
   ]
  },
  {
   "cell_type": "code",
   "execution_count": 17,
   "id": "cc3b91be",
   "metadata": {},
   "outputs": [
    {
     "data": {
      "text/plain": [
       "5"
      ]
     },
     "execution_count": 17,
     "metadata": {},
     "output_type": "execute_result"
    }
   ],
   "source": [
    "import modtest\n",
    "modtest._b\n",
    "from modtest import _g,_b\n",
    "_g(5)"
   ]
  },
  {
   "cell_type": "code",
   "execution_count": 2,
   "id": "4ab98710",
   "metadata": {},
   "outputs": [
    {
     "data": {
      "text/plain": [
       "{'__name__': '__main__',\n",
       " '__doc__': 'Automatically created module for IPython interactive environment',\n",
       " '__package__': None,\n",
       " '__loader__': None,\n",
       " '__spec__': None,\n",
       " '__builtin__': <module 'builtins' (built-in)>,\n",
       " '__builtins__': <module 'builtins' (built-in)>,\n",
       " '_ih': ['', 'locals()', 'locals()\\nglobals()'],\n",
       " '_oh': {1: {...}},\n",
       " '_dh': ['C:\\\\Users\\\\Vick\\\\Python3\\\\Ch10'],\n",
       " 'In': ['', 'locals()', 'locals()\\nglobals()'],\n",
       " 'Out': {1: {...}},\n",
       " 'get_ipython': <bound method InteractiveShell.get_ipython of <ipykernel.zmqshell.ZMQInteractiveShell object at 0x00000171A233C040>>,\n",
       " 'exit': <IPython.core.autocall.ZMQExitAutocall at 0x171a233cc10>,\n",
       " 'quit': <IPython.core.autocall.ZMQExitAutocall at 0x171a233cc10>,\n",
       " '_': {...},\n",
       " '__': '',\n",
       " '___': '',\n",
       " '_i': 'locals()',\n",
       " '_ii': '',\n",
       " '_iii': '',\n",
       " '_i1': 'locals()',\n",
       " '_1': {...},\n",
       " '_i2': 'locals()\\nglobals()'}"
      ]
     },
     "execution_count": 2,
     "metadata": {},
     "output_type": "execute_result"
    }
   ],
   "source": [
    "locals()\n",
    "globals()"
   ]
  }
 ],
 "metadata": {
  "kernelspec": {
   "display_name": "Python 3 (ipykernel)",
   "language": "python",
   "name": "python3"
  },
  "language_info": {
   "codemirror_mode": {
    "name": "ipython",
    "version": 3
   },
   "file_extension": ".py",
   "mimetype": "text/x-python",
   "name": "python",
   "nbconvert_exporter": "python",
   "pygments_lexer": "ipython3",
   "version": "3.9.7"
  }
 },
 "nbformat": 4,
 "nbformat_minor": 5
}
