{
 "cells": [
  {
   "cell_type": "code",
   "execution_count": 1,
   "id": "a106132a",
   "metadata": {},
   "outputs": [
    {
     "data": {
      "text/plain": [
       "{'__name__': '__main__',\n",
       " '__doc__': 'Automatically created module for IPython interactive environment',\n",
       " '__package__': None,\n",
       " '__loader__': None,\n",
       " '__spec__': None,\n",
       " '__builtin__': <module 'builtins' (built-in)>,\n",
       " '__builtins__': <module 'builtins' (built-in)>,\n",
       " '_ih': ['', 'locals()\\nglobals()'],\n",
       " '_oh': {},\n",
       " '_dh': ['C:\\\\Users\\\\Vick\\\\Python3\\\\Ch10'],\n",
       " 'In': ['', 'locals()\\nglobals()'],\n",
       " 'Out': {},\n",
       " 'get_ipython': <bound method InteractiveShell.get_ipython of <ipykernel.zmqshell.ZMQInteractiveShell object at 0x00000169F4B5D0D0>>,\n",
       " 'exit': <IPython.core.autocall.ZMQExitAutocall at 0x169f4b5dc10>,\n",
       " 'quit': <IPython.core.autocall.ZMQExitAutocall at 0x169f4b5dc10>,\n",
       " '_': '',\n",
       " '__': '',\n",
       " '___': '',\n",
       " '_i': '',\n",
       " '_ii': '',\n",
       " '_iii': '',\n",
       " '_i1': 'locals()\\nglobals()'}"
      ]
     },
     "execution_count": 1,
     "metadata": {},
     "output_type": "execute_result"
    }
   ],
   "source": [
    "locals()\n",
    "globals()"
   ]
  },
  {
   "cell_type": "code",
   "execution_count": 10,
   "id": "36e402ed",
   "metadata": {},
   "outputs": [
    {
     "name": "stdout",
     "output_type": "stream",
     "text": [
      "4\n"
     ]
    },
    {
     "data": {
      "text/plain": [
       "4"
      ]
     },
     "execution_count": 10,
     "metadata": {},
     "output_type": "execute_result"
    }
   ],
   "source": [
    "z = 2\n",
    "import math\n",
    "from cmath import cos\n",
    "globals()\n",
    "locals()\n",
    "print(math.ceil(3.4))\n",
    "del(z,math,cos)\n",
    "globals()\n",
    "import math\n",
    "math.ceil(3.4)"
   ]
  },
  {
   "cell_type": "code",
   "execution_count": 12,
   "id": "eb38f373",
   "metadata": {},
   "outputs": [
    {
     "name": "stdout",
     "output_type": "stream",
     "text": [
      "global:  {'__name__': '__main__', '__doc__': 'Automatically created module for IPython interactive environment', '__package__': None, '__loader__': None, '__spec__': None, '__builtin__': <module 'builtins' (built-in)>, '__builtins__': <module 'builtins' (built-in)>, '_ih': ['', 'locals()\\nglobals()', 'z = 2\\nimport math\\nfrom cmath import cos\\nglobal()', 'z = 2\\nimport math\\nfrom cmath import cos\\nglobals()', 'z = 2\\nimport math\\nfrom cmath import cos\\nglobals()\\nlocals()', 'z = 2\\nimport math\\nfrom cmath import cos\\nglobals()\\nlocals()\\nmath.ceil(3.4)', 'z = 2\\nimport math\\nfrom cmath import cos\\nglobals()\\nlocals()\\nprint(math.ceil(3.4))', 'z = 2\\nimport math\\nfrom cmath import cos\\nglobals()\\nlocals()\\nprint(math.ceil(3.4))\\ndel(z,math,cos)', 'z = 2\\nimport math\\nfrom cmath import cos\\nglobals()\\nlocals()\\nprint(math.ceil(3.4))\\ndel(z,math,cos)\\nglobals()', 'z = 2\\nimport math\\nfrom cmath import cos\\nglobals()\\nlocals()\\nprint(math.ceil(3.4))\\ndel(z,math,cos)\\nglobals()\\nmath.ceil(3.4)', 'z = 2\\nimport math\\nfrom cmath import cos\\nglobals()\\nlocals()\\nprint(math.ceil(3.4))\\ndel(z,math,cos)\\nglobals()\\nimport math\\nmath.ceil(3.4)', 'def f(x):\\n    print(\"global: \", globals())\\n    print(\"進入local: \",locals())\\n    y = x\\n    print(\"離開local: \",locals())\\n\\nz = 2\\nglobals()', 'def f(x):\\n    print(\"global: \", globals())\\n    print(\"進入local: \",locals())\\n    y = x\\n    print(\"離開local: \",locals())\\n\\nz = 2\\nglobals()\\nf(z)'], '_oh': {1: {...}, 3: {...}, 4: {...}, 5: 4, 8: {...}, 10: 4, 11: {...}}, '_dh': ['C:\\\\Users\\\\Vick\\\\Python3\\\\Ch10'], 'In': ['', 'locals()\\nglobals()', 'z = 2\\nimport math\\nfrom cmath import cos\\nglobal()', 'z = 2\\nimport math\\nfrom cmath import cos\\nglobals()', 'z = 2\\nimport math\\nfrom cmath import cos\\nglobals()\\nlocals()', 'z = 2\\nimport math\\nfrom cmath import cos\\nglobals()\\nlocals()\\nmath.ceil(3.4)', 'z = 2\\nimport math\\nfrom cmath import cos\\nglobals()\\nlocals()\\nprint(math.ceil(3.4))', 'z = 2\\nimport math\\nfrom cmath import cos\\nglobals()\\nlocals()\\nprint(math.ceil(3.4))\\ndel(z,math,cos)', 'z = 2\\nimport math\\nfrom cmath import cos\\nglobals()\\nlocals()\\nprint(math.ceil(3.4))\\ndel(z,math,cos)\\nglobals()', 'z = 2\\nimport math\\nfrom cmath import cos\\nglobals()\\nlocals()\\nprint(math.ceil(3.4))\\ndel(z,math,cos)\\nglobals()\\nmath.ceil(3.4)', 'z = 2\\nimport math\\nfrom cmath import cos\\nglobals()\\nlocals()\\nprint(math.ceil(3.4))\\ndel(z,math,cos)\\nglobals()\\nimport math\\nmath.ceil(3.4)', 'def f(x):\\n    print(\"global: \", globals())\\n    print(\"進入local: \",locals())\\n    y = x\\n    print(\"離開local: \",locals())\\n\\nz = 2\\nglobals()', 'def f(x):\\n    print(\"global: \", globals())\\n    print(\"進入local: \",locals())\\n    y = x\\n    print(\"離開local: \",locals())\\n\\nz = 2\\nglobals()\\nf(z)'], 'Out': {1: {...}, 3: {...}, 4: {...}, 5: 4, 8: {...}, 10: 4, 11: {...}}, 'get_ipython': <bound method InteractiveShell.get_ipython of <ipykernel.zmqshell.ZMQInteractiveShell object at 0x00000169F4B5D0D0>>, 'exit': <IPython.core.autocall.ZMQExitAutocall object at 0x00000169F4B5DC10>, 'quit': <IPython.core.autocall.ZMQExitAutocall object at 0x00000169F4B5DC10>, '_': {...}, '__': 4, '___': {...}, '_i': 'def f(x):\\n    print(\"global: \", globals())\\n    print(\"進入local: \",locals())\\n    y = x\\n    print(\"離開local: \",locals())\\n\\nz = 2\\nglobals()', '_ii': 'z = 2\\nimport math\\nfrom cmath import cos\\nglobals()\\nlocals()\\nprint(math.ceil(3.4))\\ndel(z,math,cos)\\nglobals()\\nimport math\\nmath.ceil(3.4)', '_iii': 'z = 2\\nimport math\\nfrom cmath import cos\\nglobals()\\nlocals()\\nprint(math.ceil(3.4))\\ndel(z,math,cos)\\nglobals()\\nmath.ceil(3.4)', '_i1': 'locals()\\nglobals()', '_1': {...}, '_i2': 'z = 2\\nimport math\\nfrom cmath import cos\\nglobal()', '_i3': 'z = 2\\nimport math\\nfrom cmath import cos\\nglobals()', '_3': {...}, '_i4': 'z = 2\\nimport math\\nfrom cmath import cos\\nglobals()\\nlocals()', '_4': {...}, '_i5': 'z = 2\\nimport math\\nfrom cmath import cos\\nglobals()\\nlocals()\\nmath.ceil(3.4)', '_5': 4, '_i6': 'z = 2\\nimport math\\nfrom cmath import cos\\nglobals()\\nlocals()\\nprint(math.ceil(3.4))', '_i7': 'z = 2\\nimport math\\nfrom cmath import cos\\nglobals()\\nlocals()\\nprint(math.ceil(3.4))\\ndel(z,math,cos)', '_i8': 'z = 2\\nimport math\\nfrom cmath import cos\\nglobals()\\nlocals()\\nprint(math.ceil(3.4))\\ndel(z,math,cos)\\nglobals()', '_8': {...}, '_i9': 'z = 2\\nimport math\\nfrom cmath import cos\\nglobals()\\nlocals()\\nprint(math.ceil(3.4))\\ndel(z,math,cos)\\nglobals()\\nmath.ceil(3.4)', '_i10': 'z = 2\\nimport math\\nfrom cmath import cos\\nglobals()\\nlocals()\\nprint(math.ceil(3.4))\\ndel(z,math,cos)\\nglobals()\\nimport math\\nmath.ceil(3.4)', 'math': <module 'math' (built-in)>, '_10': 4, '_i11': 'def f(x):\\n    print(\"global: \", globals())\\n    print(\"進入local: \",locals())\\n    y = x\\n    print(\"離開local: \",locals())\\n\\nz = 2\\nglobals()', 'f': <function f at 0x00000169F4C9B670>, 'z': 2, '_11': {...}, '_i12': 'def f(x):\\n    print(\"global: \", globals())\\n    print(\"進入local: \",locals())\\n    y = x\\n    print(\"離開local: \",locals())\\n\\nz = 2\\nglobals()\\nf(z)'}\n",
      "進入local:  {'x': 2}\n",
      "離開local:  {'x': 2, 'y': 2}\n"
     ]
    }
   ],
   "source": [
    "def f(x):\n",
    "    print(\"global: \", globals())\n",
    "    print(\"進入local: \",locals())\n",
    "    y = x\n",
    "    print(\"離開local: \",locals())\n",
    "\n",
    "z = 2\n",
    "globals()\n",
    "f(z)"
   ]
  },
  {
   "cell_type": "code",
   "execution_count": 1,
   "id": "9bb563b9",
   "metadata": {},
   "outputs": [
    {
     "name": "stdout",
     "output_type": "stream",
     "text": [
      "global:  ['__name__', '__doc__', '__package__', '__loader__', '__spec__', '__file__', '__cached__', '__builtins__', 'v', 'f']\n",
      "進入 local: {'x': 2}\n",
      "離開 local: dict_keys(['x', 'y', 'w'])\n"
     ]
    }
   ],
   "source": [
    "import scopetest\n",
    "z = 2\n",
    "scopetest.f(z)"
   ]
  },
  {
   "cell_type": "code",
   "execution_count": 10,
   "id": "3cd6826d",
   "metadata": {},
   "outputs": [],
   "source": [
    "# import counter,importlib\n",
    "# importlib.reload(counter)\n",
    "# counter.num\n",
    "# counter.add()\n",
    "# counter.num"
   ]
  },
  {
   "cell_type": "code",
   "execution_count": 14,
   "id": "02658a6f",
   "metadata": {},
   "outputs": [
    {
     "data": {
      "text/plain": [
       "1"
      ]
     },
     "execution_count": 14,
     "metadata": {},
     "output_type": "execute_result"
    }
   ],
   "source": [
    "import counter,importlib\n",
    "importlib.reload(counter)\n",
    "from counter import num,add\n",
    "num\n",
    "add()\n",
    "num\n",
    "counter.num"
   ]
  },
  {
   "cell_type": "code",
   "execution_count": 9,
   "id": "05996e25",
   "metadata": {},
   "outputs": [
    {
     "name": "stdout",
     "output_type": "stream",
     "text": [
      "['ArithmeticError', 'AssertionError', 'AttributeError', 'BaseException', 'BlockingIOError', 'BrokenPipeError', 'BufferError', 'BytesWarning', 'ChildProcessError', 'ConnectionAbortedError', 'ConnectionError', 'ConnectionRefusedError', 'ConnectionResetError', 'DeprecationWarning', 'EOFError', 'Ellipsis', 'EnvironmentError', 'Exception', 'False', 'FileExistsError', 'FileNotFoundError', 'FloatingPointError', 'FutureWarning', 'GeneratorExit', 'IOError', 'ImportError', 'ImportWarning', 'IndentationError', 'IndexError', 'InterruptedError', 'IsADirectoryError', 'KeyError', 'KeyboardInterrupt', 'LookupError', 'MemoryError', 'ModuleNotFoundError', 'NameError', 'None', 'NotADirectoryError', 'NotImplemented', 'NotImplementedError', 'OSError', 'OverflowError', 'PendingDeprecationWarning', 'PermissionError', 'ProcessLookupError', 'RecursionError', 'ReferenceError', 'ResourceWarning', 'RuntimeError', 'RuntimeWarning', 'StopAsyncIteration', 'StopIteration', 'SyntaxError', 'SyntaxWarning', 'SystemError', 'SystemExit', 'TabError', 'TimeoutError', 'True', 'TypeError', 'UnboundLocalError', 'UnicodeDecodeError', 'UnicodeEncodeError', 'UnicodeError', 'UnicodeTranslateError', 'UnicodeWarning', 'UserWarning', 'ValueError', 'Warning', 'WindowsError', 'ZeroDivisionError', '__IPYTHON__', '__build_class__', '__debug__', '__doc__', '__import__', '__loader__', '__name__', '__package__', '__spec__', 'abs', 'all', 'any', 'ascii', 'bin', 'bool', 'breakpoint', 'bytearray', 'bytes', 'callable', 'chr', 'classmethod', 'compile', 'complex', 'copyright', 'credits', 'delattr', 'dict', 'dir', 'display', 'divmod', 'enumerate', 'eval', 'exec', 'execfile', 'filter', 'float', 'format', 'frozenset', 'get_ipython', 'getattr', 'globals', 'hasattr', 'hash', 'help', 'hex', 'id', 'input', 'int', 'isinstance', 'issubclass', 'iter', 'len', 'license', 'list', 'locals', 'map', 'max', 'memoryview', 'min', 'next', 'object', 'oct', 'open', 'ord', 'pow', 'print', 'property', 'range', 'repr', 'reversed', 'round', 'runfile', 'set', 'setattr', 'slice', 'sorted', 'staticmethod', 'str', 'sum', 'super', 'tuple', 'type', 'vars', 'zip']\n"
     ]
    }
   ],
   "source": [
    "print(dir(__builtin__))"
   ]
  },
  {
   "cell_type": "code",
   "execution_count": 24,
   "id": "42143e54",
   "metadata": {},
   "outputs": [
    {
     "name": "stdout",
     "output_type": "stream",
     "text": [
      "Help on built-in function max in module builtins:\n",
      "\n",
      "max(...)\n",
      "    max(iterable, *[, default=obj, key=func]) -> value\n",
      "    max(arg1, arg2, *args, *[, key=func]) -> value\n",
      "    \n",
      "    With a single iterable argument, return its biggest item. The\n",
      "    default keyword-only argument specifies an object to return if\n",
      "    the provided iterable is empty.\n",
      "    With two or more arguments, return the largest argument.\n",
      "\n",
      "max(iterable, *[, default=obj, key=func]) -> value\n",
      "max(arg1, arg2, *args, *[, key=func]) -> value\n",
      "\n",
      "With a single iterable argument, return its biggest item. The\n",
      "default keyword-only argument specifies an object to return if\n",
      "the provided iterable is empty.\n",
      "With two or more arguments, return the largest argument.\n"
     ]
    }
   ],
   "source": [
    "help(max)\n",
    "print(max.__doc__)\n",
    "#max(6)"
   ]
  },
  {
   "cell_type": "code",
   "execution_count": 4,
   "id": "1fa34e18",
   "metadata": {},
   "outputs": [
    {
     "name": "stdout",
     "output_type": "stream",
     "text": [
      "12.56636\n"
     ]
    },
    {
     "data": {
      "text/plain": [
       "3.14159"
      ]
     },
     "execution_count": 4,
     "metadata": {},
     "output_type": "execute_result"
    }
   ],
   "source": [
    "import mymath\n",
    "mymath = mymath.area\n",
    "print(mymath(2))\n",
    "import mymath\n",
    "mymath.pi"
   ]
  },
  {
   "cell_type": "code",
   "execution_count": 8,
   "id": "dee89f9c",
   "metadata": {},
   "outputs": [
    {
     "name": "stdout",
     "output_type": "stream",
     "text": [
      "['In', 'Out', '_', '_1', '_2', '_3', '_4', '_5', '_6', '_7', '__', '___', '__builtin__', '__builtins__', '__doc__', '__loader__', '__name__', '__package__', '__spec__', '_dh', '_i', '_i1', '_i2', '_i3', '_i4', '_i5', '_i6', '_i7', '_i8', '_ih', '_ii', '_iii', '_oh', 'exit', 'get_ipython', 'mymath', 'quit', 'x1', 'xl']\n"
     ]
    }
   ],
   "source": [
    "x1 = 6\n",
    "xl = x1 - 2\n",
    "x1\n",
    "print(dir())"
   ]
  },
  {
   "cell_type": "code",
   "execution_count": 11,
   "id": "d8b2227f",
   "metadata": {},
   "outputs": [
    {
     "data": {
      "text/plain": [
       "1"
      ]
     },
     "execution_count": 11,
     "metadata": {},
     "output_type": "execute_result"
    }
   ],
   "source": [
    "import config,mymodule\n",
    "config.n\n",
    "mymodule.add()\n",
    "config.n"
   ]
  },
  {
   "cell_type": "code",
   "execution_count": 2,
   "id": "0247bf67",
   "metadata": {},
   "outputs": [
    {
     "name": "stdout",
     "output_type": "stream",
     "text": [
      "Most common words:\n",
      "\n",
      "Least common words:\n"
     ]
    }
   ],
   "source": [
    "import independent_module\n",
    "independent_module.first_step()\n",
    "independent_module.second_step()\n",
    "independent_module.third_step()"
   ]
  },
  {
   "cell_type": "code",
   "execution_count": 8,
   "id": "8e109daf",
   "metadata": {},
   "outputs": [
    {
     "data": {
      "text/plain": [
       "14.40015684153597"
      ]
     },
     "execution_count": 8,
     "metadata": {},
     "output_type": "execute_result"
    }
   ],
   "source": [
    "w = 65\n",
    "h = 1.72\n",
    "bmi = w/(h*h)\n",
    "#print(bmi)\n",
    "b = (1.39*bmi) + (0.16*20)-10.34-9\n",
    "b\n",
    "# p = b/w\n",
    "# p"
   ]
  }
 ],
 "metadata": {
  "kernelspec": {
   "display_name": "Python 3 (ipykernel)",
   "language": "python",
   "name": "python3"
  },
  "language_info": {
   "codemirror_mode": {
    "name": "ipython",
    "version": 3
   },
   "file_extension": ".py",
   "mimetype": "text/x-python",
   "name": "python",
   "nbconvert_exporter": "python",
   "pygments_lexer": "ipython3",
   "version": "3.9.7"
  }
 },
 "nbformat": 4,
 "nbformat_minor": 5
}
