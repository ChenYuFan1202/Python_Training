{
 "cells": [
  {
   "cell_type": "code",
   "execution_count": 4,
   "id": "8987b1a5",
   "metadata": {},
   "outputs": [
    {
     "name": "stdout",
     "output_type": "stream",
     "text": [
      "(6, [1, 2, 3], [4, 5, 6])\n"
     ]
    },
    {
     "data": {
      "text/plain": [
       "(5, [1, 2, 3], [4, 5])"
      ]
     },
     "execution_count": 4,
     "metadata": {},
     "output_type": "execute_result"
    }
   ],
   "source": [
    "def f(n,list1,list2):\n",
    "    list1.append(3)\n",
    "    list2 = [4,5,6]\n",
    "    n = n + 1\n",
    "    return n,list1,list2\n",
    "    \n",
    "x = 5\n",
    "y = [1,2]\n",
    "z = [4,5]\n",
    "print(f(x,y,z))\n",
    "x,y,z"
   ]
  },
  {
   "cell_type": "code",
   "execution_count": 5,
   "id": "8a00c6f7",
   "metadata": {},
   "outputs": [
    {
     "data": {
      "text/plain": [
       "[1, 2]"
      ]
     },
     "execution_count": 5,
     "metadata": {},
     "output_type": "execute_result"
    }
   ],
   "source": [
    "def f(lst):\n",
    "    lst = lst[:]\n",
    "    lst.append(3)\n",
    "    \n",
    "x = [1,2]\n",
    "f(x)\n",
    "x"
   ]
  },
  {
   "cell_type": "code",
   "execution_count": 7,
   "id": "1a7c8da2",
   "metadata": {},
   "outputs": [
    {
     "data": {
      "text/plain": [
       "[1, 2]"
      ]
     },
     "execution_count": 7,
     "metadata": {},
     "output_type": "execute_result"
    }
   ],
   "source": [
    "def data_append(v,lst = []):\n",
    "    lst.append(v)\n",
    "    return lst\n",
    "\n",
    "data_append(1)\n",
    "data_append(2)"
   ]
  },
  {
   "cell_type": "code",
   "execution_count": 2,
   "id": "b7233cbe",
   "metadata": {},
   "outputs": [
    {
     "data": {
      "text/plain": [
       "[2]"
      ]
     },
     "execution_count": 2,
     "metadata": {},
     "output_type": "execute_result"
    }
   ],
   "source": [
    "def data_append(v,lst = None):\n",
    "    if lst == None:\n",
    "        lst = []\n",
    "    lst.append(v)\n",
    "    return lst\n",
    "\n",
    "data_append(1)\n",
    "data_append(2)"
   ]
  },
  {
   "cell_type": "code",
   "execution_count": 4,
   "id": "1ee2c10b",
   "metadata": {},
   "outputs": [
    {
     "data": {
      "text/plain": [
       "'two'"
      ]
     },
     "execution_count": 4,
     "metadata": {},
     "output_type": "execute_result"
    }
   ],
   "source": [
    "def func():\n",
    "    global a\n",
    "    a = 1\n",
    "    b = 2\n",
    "    \n",
    "a = \"one\"\n",
    "b = \"two\"\n",
    "func()\n",
    "a\n",
    "b"
   ]
  },
  {
   "cell_type": "code",
   "execution_count": 8,
   "id": "d422bdcc",
   "metadata": {},
   "outputs": [
    {
     "name": "stdout",
     "output_type": "stream",
     "text": [
      "top level-> g_var: 0 nl_var: 0\n",
      "in test-> g_var: 0 nl_var: 2\n",
      "in inner_test-> g_var: 1 nl_var: 4\n",
      "in test-> g_var: 1 nl_var: 4\n",
      "top level-> g_var: 1 nl_var: 0\n"
     ]
    }
   ],
   "source": [
    "g_var = 0               \n",
    "nl_var = 0               \n",
    "print(\"top level-> g_var: {0} nl_var: {1}\".format(g_var, nl_var))\n",
    "def test():\n",
    "    nl_var = 2\n",
    "    print(\"in test-> g_var: {0} nl_var: {1}\".format(g_var, nl_var))\n",
    "    def inner_test():\n",
    "        global g_var   \n",
    "        nonlocal nl_var\n",
    "                  \n",
    "        g_var = 1\n",
    "        nl_var = 4\n",
    "    \n",
    "        print(\"in inner_test-> g_var: {0} nl_var: {1}\".format(g_var,\n",
    "                                                            nl_var))\n",
    "    inner_test()\n",
    "    print(\"in test-> g_var: {0} nl_var: {1}\".format(g_var, nl_var))\n",
    "\n",
    "test()\n",
    "print(\"top level-> g_var: {0} nl_var: {1}\".format(g_var, nl_var))\n"
   ]
  },
  {
   "cell_type": "code",
   "execution_count": 15,
   "id": "78412a98",
   "metadata": {},
   "outputs": [
    {
     "data": {
      "text/plain": [
       "273.15"
      ]
     },
     "execution_count": 15,
     "metadata": {},
     "output_type": "execute_result"
    }
   ],
   "source": [
    "def f_to_kelvin(degrees_f):\n",
    "    return 273.15 + (degrees_f - 32) * 5/9\n",
    "def c_to_kelvin(degrees_c):\n",
    "    return 273.15 + degrees_c\n",
    "\n",
    "abs_temperature = f_to_kelvin\n",
    "abs_temperature(32)\n",
    "abs_temperature = c_to_kelvin\n",
    "abs_temperature(0)\n",
    "t = {\"FtoK\":f_to_kelvin,\"CtoK\":c_to_kelvin}\n",
    "t[\"FtoK\"](32)\n",
    "t[\"CtoK\"](0)"
   ]
  },
  {
   "cell_type": "code",
   "execution_count": 25,
   "id": "7a5b6222",
   "metadata": {},
   "outputs": [
    {
     "data": {
      "text/plain": [
       "['QUICK', 'PYTHON', 'BOOK']"
      ]
     },
     "execution_count": 25,
     "metadata": {},
     "output_type": "execute_result"
    }
   ],
   "source": [
    "w = [\"Quick\",\"Python\",\"Book\"]\n",
    "def uppercase(s):\n",
    "    return s.upper()\n",
    "list(map(uppercase,w))"
   ]
  },
  {
   "cell_type": "code",
   "execution_count": 26,
   "id": "7b5e0c87",
   "metadata": {},
   "outputs": [
    {
     "data": {
      "text/plain": [
       "273.15"
      ]
     },
     "execution_count": 26,
     "metadata": {},
     "output_type": "execute_result"
    }
   ],
   "source": [
    "t2 = {\"FtoK\": lambda deg_f:273.15 + (deg_f-32) * 5 / 9,\n",
    "      \"CtoK\": lambda deg_c:273.15 + deg_c}\n",
    "t2[\"FtoK\"](32)"
   ]
  },
  {
   "cell_type": "code",
   "execution_count": 32,
   "id": "65bf3887",
   "metadata": {},
   "outputs": [
    {
     "data": {
      "text/plain": [
       "['C', 'is', 'than', 'Python', 'better']"
      ]
     },
     "execution_count": 32,
     "metadata": {},
     "output_type": "execute_result"
    }
   ],
   "source": [
    "# def compare_num_of_chars(string1):\n",
    "#     return len(string1)\n",
    "word_list = [\"Python\",\"is\",\"better\",\"than\",\"C\"]\n",
    "# word_list.sort(key = compare_num_of_chars)\n",
    "# word_list\n",
    "#word_list.sort(key = lambda s : len(s))\n",
    "word_list.sort(key = len)\n",
    "word_list"
   ]
  },
  {
   "cell_type": "code",
   "execution_count": 2,
   "id": "f18cfe31",
   "metadata": {},
   "outputs": [
    {
     "name": "stdout",
     "output_type": "stream",
     "text": [
      "in generator, x = 0\n",
      "0\n",
      "in generator, x = 1\n",
      "1\n",
      "in generator, x = 2\n",
      "2\n",
      "in generator, x = 3\n",
      "3\n",
      "in generator, x = 0\n",
      "in generator, x = 1\n",
      "in generator, x = 2\n",
      "in generator, x = 3\n"
     ]
    },
    {
     "data": {
      "text/plain": [
       "False"
      ]
     },
     "execution_count": 2,
     "metadata": {},
     "output_type": "execute_result"
    }
   ],
   "source": [
    "def four():\n",
    "    x = 0\n",
    "    while x <4:\n",
    "        print(\"in generator, x =\",x)\n",
    "        yield x\n",
    "        x += 1\n",
    "for i in four():\n",
    "    print(i)\n",
    "#four()\n",
    "\n",
    "#2 in four()\n",
    "4 in four()"
   ]
  },
  {
   "cell_type": "code",
   "execution_count": 47,
   "id": "090082e9",
   "metadata": {},
   "outputs": [
    {
     "name": "stdout",
     "output_type": "stream",
     "text": [
      "0\n",
      "1\n",
      "2\n",
      "3\n",
      "4\n",
      "5\n"
     ]
    }
   ],
   "source": [
    "def subgen(y):\n",
    "    for i in range(y):\n",
    "        yield i\n",
    "\n",
    "def gen(x):\n",
    "    yield from subgen(x)\n",
    "    \n",
    "for i in gen(6):\n",
    "    print(i)"
   ]
  },
  {
   "cell_type": "code",
   "execution_count": 51,
   "id": "360a995c",
   "metadata": {},
   "outputs": [
    {
     "name": "stdout",
     "output_type": "stream",
     "text": [
      "請輸入任意的正整數? 5\n",
      "請輸入任意的正整數(初始值)? 2\n",
      "in generator, x = 2\n",
      "2\n",
      "in generator, x = 3\n",
      "3\n",
      "in generator, x = 4\n",
      "4\n"
     ]
    }
   ],
   "source": [
    "a = int(input(\"請輸入任意的正整數? \"))\n",
    "c = int(input(\"請輸入任意的正整數(初始值)? \"))\n",
    "def four(b,d):\n",
    "    x = d\n",
    "    while x < b:\n",
    "        print(\"in generator, x =\",x)\n",
    "        yield x\n",
    "        x += 1\n",
    "\n",
    "for i in four(a,c):\n",
    "    print(i)\n"
   ]
  },
  {
   "cell_type": "code",
   "execution_count": 57,
   "id": "8af0c288",
   "metadata": {},
   "outputs": [
    {
     "name": "stdout",
     "output_type": "stream",
     "text": [
      "in generator, x = 0\n",
      "0\n",
      "in generator, x = 1\n",
      "1\n",
      "in generator, x = 2\n",
      "2\n",
      "in generator, x = 3\n",
      "3\n",
      "in generator, x = 1\n",
      "1\n",
      "in generator, x = 2\n",
      "2\n",
      "in generator, x = 3\n",
      "3\n"
     ]
    }
   ],
   "source": [
    ">>> def four(limit):\n",
    "...     x = 0 \n",
    "...     while x < limit:\n",
    "...         print(\"in generator, x =\", x)\n",
    "...         yield x\n",
    "...         x += 1\n",
    "... \n",
    ">>> for i in four(4):\n",
    "...     print(i)\n",
    "\n",
    ">>> def four(start, limit):\n",
    "...     x = start \n",
    "...     while x < limit:\n",
    "...         print(\"in generator, x =\", x)\n",
    "...         yield x\n",
    "...         x += 1\n",
    "... \n",
    ">>> for i in four(1, 4):\n",
    "...     print(i)"
   ]
  }
 ],
 "metadata": {
  "kernelspec": {
   "display_name": "Python 3 (ipykernel)",
   "language": "python",
   "name": "python3"
  },
  "language_info": {
   "codemirror_mode": {
    "name": "ipython",
    "version": 3
   },
   "file_extension": ".py",
   "mimetype": "text/x-python",
   "name": "python",
   "nbconvert_exporter": "python",
   "pygments_lexer": "ipython3",
   "version": "3.9.7"
  }
 },
 "nbformat": 4,
 "nbformat_minor": 5
}
