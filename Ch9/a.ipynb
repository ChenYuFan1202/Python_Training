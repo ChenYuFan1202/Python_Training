{
 "cells": [
  {
   "cell_type": "code",
   "execution_count": 2,
   "id": "f5869d54",
   "metadata": {},
   "outputs": [
    {
     "data": {
      "text/plain": [
       "24"
      ]
     },
     "execution_count": 2,
     "metadata": {},
     "output_type": "execute_result"
    }
   ],
   "source": [
    "def fact(n):\n",
    "    \"\"\"回傳參數n的階層\"\"\"\n",
    "    r = 1\n",
    "    while n > 0:\n",
    "        r = r * n\n",
    "        n = n - 1\n",
    "    return r\n",
    "#help(fact)\n",
    "#fact.__doc__\n",
    "fact(4)\n",
    "x = fact(4)\n",
    "x"
   ]
  },
  {
   "cell_type": "code",
   "execution_count": 17,
   "id": "d6fa482c",
   "metadata": {},
   "outputs": [
    {
     "data": {
      "text/plain": [
       "81"
      ]
     },
     "execution_count": 17,
     "metadata": {},
     "output_type": "execute_result"
    }
   ],
   "source": [
    "def power(x,y):\n",
    "    r = 1\n",
    "    while y > 0:\n",
    "        r = r * x\n",
    "        y = y - 1\n",
    "    return r\n",
    "power(3,4)"
   ]
  },
  {
   "cell_type": "code",
   "execution_count": 22,
   "id": "7b149fb4",
   "metadata": {},
   "outputs": [
    {
     "name": "stdout",
     "output_type": "stream",
     "text": [
      "81\n"
     ]
    },
    {
     "data": {
      "text/plain": [
       "9"
      ]
     },
     "execution_count": 22,
     "metadata": {},
     "output_type": "execute_result"
    }
   ],
   "source": [
    "def power(x,y = 2):\n",
    "    r = 1\n",
    "    while y > 0:\n",
    "        r = r * x\n",
    "        y = y - 1\n",
    "    return r\n",
    "print(power(3,4))\n",
    "power(3)"
   ]
  },
  {
   "cell_type": "code",
   "execution_count": 30,
   "id": "2aa21890",
   "metadata": {},
   "outputs": [
    {
     "data": {
      "text/plain": [
       "9"
      ]
     },
     "execution_count": 30,
     "metadata": {},
     "output_type": "execute_result"
    }
   ],
   "source": [
    "def power(x,y = 2):\n",
    "    r = 1\n",
    "    while y > 0:\n",
    "        r = r * x\n",
    "        y = y - 1\n",
    "    return r\n",
    "power(2,3)\n",
    "power(3,2)\n",
    "power(y = 2, x = 3)"
   ]
  },
  {
   "cell_type": "code",
   "execution_count": 5,
   "id": "071f3096",
   "metadata": {},
   "outputs": [
    {
     "name": "stdout",
     "output_type": "stream",
     "text": [
      "1 2 [3, 4, 5]\n",
      "(1, 2, (3, 4, 5))\n"
     ]
    }
   ],
   "source": [
    "x = 1,2,3,4,5\n",
    "a,b,*c = x\n",
    "print(a,b,c)\n",
    "\n",
    "def test(a,b,*args):\n",
    "    return a,b,args\n",
    "\n",
    "print(test(1,2,3,4,5))\n",
    "\n",
    "def maximum(*numbers):\n",
    "    if len(numbers) == 0:\n",
    "        return None\n",
    "    else:\n",
    "        maxnum = numbers[0]\n",
    "        for n in numbers[1:]:\n",
    "            if n > maxnum:\n",
    "                maxnum = n\n",
    "        return maxnum\n",
    "\n",
    "maximum(3,2,8)\n",
    "maximum(1,5,9,-2,2)\n",
    "maximum()"
   ]
  },
  {
   "cell_type": "code",
   "execution_count": 48,
   "id": "8afdf0e3",
   "metadata": {},
   "outputs": [
    {
     "data": {
      "text/plain": [
       "(1, 2, {'a': 3, 'b': 4, 'c': 5})"
      ]
     },
     "execution_count": 48,
     "metadata": {},
     "output_type": "execute_result"
    }
   ],
   "source": [
    "def foo(x,y,**z):\n",
    "    return x,y,z\n",
    "\n",
    "foo(1,2,a = 3,b = 4,c = 5)"
   ]
  },
  {
   "cell_type": "code",
   "execution_count": 9,
   "id": "45522c03",
   "metadata": {},
   "outputs": [
    {
     "name": "stdout",
     "output_type": "stream",
     "text": [
      "a\n",
      "x: 2, y: 1,字典 'other' 內的鍵: ['foo', 'bar']\n",
      "字典 'other' 內值的總和為 7\n"
     ]
    }
   ],
   "source": [
    "# a = {\"a\":\"v\",\"b\":\"a\"}\n",
    "# print(a[\"b\"])\n",
    "# list(a.keys())\n",
    "\n",
    "def example_fun(x,y,**other):\n",
    "    print(\"x: {0}, y: {1},字典 'other' 內的鍵: {2}\".format(x,\n",
    "           y, list(other.keys())))\n",
    "    other_total = 0\n",
    "    for k in other.keys():\n",
    "        other_total = other_total + other[k]\n",
    "    print(\"字典 'other' 內值的總和為 {0}\".format(other_total))\n",
    "\n",
    "example_fun(2,y = \"1\",foo = 3,bar = 4)"
   ]
  },
  {
   "cell_type": "code",
   "execution_count": 65,
   "id": "c481a90b",
   "metadata": {},
   "outputs": [
    {
     "name": "stdout",
     "output_type": "stream",
     "text": [
      "1 2 3 (4, 5) {'x': 1, 'y': 2}\n",
      "1 2 3 (4, 5) {}\n",
      "1 2 3 (4,) {'x': 5}\n",
      "1 2 3 () {}\n",
      "1 2 three () {}\n",
      "1 2 three () {'p4': 4}\n"
     ]
    }
   ],
   "source": [
    "def func(p1,p2,p3 = \"three\",*p4,**p5):\n",
    "    print(p1,p2,p3,p4,p5)\n",
    "    \n",
    "func(1,2,3,4,5,x = 1,y = 2)\n",
    "func(1,2,3,4,5)\n",
    "func(1,2,3,4,x = 5)\n",
    "func(1,2,3)\n",
    "func(1,2)\n",
    "func(1,2,p4 = 4)"
   ]
  },
  {
   "cell_type": "code",
   "execution_count": 11,
   "id": "0919b4fb",
   "metadata": {},
   "outputs": [
    {
     "name": "stdout",
     "output_type": "stream",
     "text": [
      "[5, 8, 6, 4, 2, 0]\n"
     ]
    }
   ],
   "source": [
    "def random(*args):\n",
    "    old_list = list(args)\n",
    "    #return list(reversed(old_list))\n",
    "    print(list(reversed(old_list)))\n",
    "\n",
    "random(0,2,4,6,8,5)"
   ]
  },
  {
   "cell_type": "code",
   "execution_count": 34,
   "id": "6f231e85",
   "metadata": {},
   "outputs": [
    {
     "ename": "AttributeError",
     "evalue": "'list_reverseiterator' object has no attribute 'sort'",
     "output_type": "error",
     "traceback": [
      "\u001b[1;31m---------------------------------------------------------------------------\u001b[0m",
      "\u001b[1;31mAttributeError\u001b[0m                            Traceback (most recent call last)",
      "\u001b[1;32m~\\AppData\\Local\\Temp/ipykernel_7572/279837835.py\u001b[0m in \u001b[0;36m<module>\u001b[1;34m\u001b[0m\n\u001b[0;32m      1\u001b[0m \u001b[0mx\u001b[0m \u001b[1;33m=\u001b[0m \u001b[1;33m[\u001b[0m\u001b[1;36m1\u001b[0m\u001b[1;33m,\u001b[0m\u001b[1;36m2\u001b[0m\u001b[1;33m,\u001b[0m\u001b[1;36m3\u001b[0m\u001b[1;33m,\u001b[0m\u001b[1;36m4\u001b[0m\u001b[1;33m]\u001b[0m\u001b[1;33m\u001b[0m\u001b[1;33m\u001b[0m\u001b[0m\n\u001b[0;32m      2\u001b[0m \u001b[0my\u001b[0m \u001b[1;33m=\u001b[0m \u001b[1;33m(\u001b[0m\u001b[0mreversed\u001b[0m\u001b[1;33m(\u001b[0m\u001b[0mx\u001b[0m\u001b[1;33m)\u001b[0m\u001b[1;33m)\u001b[0m\u001b[1;33m\u001b[0m\u001b[1;33m\u001b[0m\u001b[0m\n\u001b[1;32m----> 3\u001b[1;33m \u001b[0my\u001b[0m\u001b[1;33m.\u001b[0m\u001b[0msort\u001b[0m\u001b[1;33m(\u001b[0m\u001b[1;33m)\u001b[0m\u001b[1;33m\u001b[0m\u001b[1;33m\u001b[0m\u001b[0m\n\u001b[0m\u001b[0;32m      4\u001b[0m \u001b[0my\u001b[0m\u001b[1;33m\u001b[0m\u001b[1;33m\u001b[0m\u001b[0m\n\u001b[0;32m      5\u001b[0m \u001b[0mprint\u001b[0m\u001b[1;33m(\u001b[0m\u001b[0mlist\u001b[0m\u001b[1;33m(\u001b[0m\u001b[0my\u001b[0m\u001b[1;33m)\u001b[0m\u001b[1;33m)\u001b[0m\u001b[1;33m\u001b[0m\u001b[1;33m\u001b[0m\u001b[0m\n",
      "\u001b[1;31mAttributeError\u001b[0m: 'list_reverseiterator' object has no attribute 'sort'"
     ]
    }
   ],
   "source": [
    "x = [1,2,3,4]\n",
    "y = li(reversed(x))\n",
    "y.sort()\n",
    "y\n",
    "print(list(y))"
   ]
  },
  {
   "cell_type": "code",
   "execution_count": 32,
   "id": "0ce10074",
   "metadata": {},
   "outputs": [
    {
     "data": {
      "text/plain": [
       "[1, 2, 3, 4]"
      ]
     },
     "execution_count": 32,
     "metadata": {},
     "output_type": "execute_result"
    }
   ],
   "source": [
    "x = [2,3,1,4]\n",
    "x.sort()\n",
    "x"
   ]
  },
  {
   "cell_type": "code",
   "execution_count": 91,
   "id": "ad0fde47",
   "metadata": {},
   "outputs": [
    {
     "name": "stdout",
     "output_type": "stream",
     "text": [
      "4\n",
      "3\n",
      "2\n",
      "1\n"
     ]
    }
   ],
   "source": [
    "def my_funct(*params):\n",
    "    for i in reversed(params):\n",
    "        print(i)\n",
    "my_funct(1,2,3,4)"
   ]
  }
 ],
 "metadata": {
  "kernelspec": {
   "display_name": "Python 3 (ipykernel)",
   "language": "python",
   "name": "python3"
  },
  "language_info": {
   "codemirror_mode": {
    "name": "ipython",
    "version": 3
   },
   "file_extension": ".py",
   "mimetype": "text/x-python",
   "name": "python",
   "nbconvert_exporter": "python",
   "pygments_lexer": "ipython3",
   "version": "3.9.7"
  }
 },
 "nbformat": 4,
 "nbformat_minor": 5
}
