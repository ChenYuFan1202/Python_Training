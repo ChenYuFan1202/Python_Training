{
 "cells": [
  {
   "cell_type": "code",
   "execution_count": 1,
   "id": "1b737d71",
   "metadata": {},
   "outputs": [],
   "source": [
    "import sys\n",
    "_file_object = None\n",
    "\n",
    "def capture_output(file = \"capture_file.txt\"):\n",
    "    global _file_object\n",
    "    print(\"output will be sent to file:{0}\".format(file))\n",
    "    print(\"restore to normal by calling 'mio.restore_output()'\")\n",
    "    _file_object = open(file,\"w\",encoding = \"utf-8\")\n",
    "    sys.stdout = _file_object\n",
    "    \n",
    "    \n",
    "def restore_output():\n",
    "    global _file_object\n",
    "    sys.stdout = sys.__stdout__\n",
    "    _file_object.close()\n",
    "    print(\"standard output has been restored back to normal\")\n",
    "    \n",
    "def print_file(file = \"capture_file.txt\"):\n",
    "    f = open(file,\"r\",encoding = \"utf-8\")\n",
    "    print(f.read())\n",
    "    f.close()\n",
    "    \n",
    "\n",
    "def clear_file(file = \"capture_file.txt\"):\n",
    "    f = open(file,\"w\")\n",
    "    f.close()\n",
    "    "
   ]
  }
 ],
 "metadata": {
  "kernelspec": {
   "display_name": "Python 3 (ipykernel)",
   "language": "python",
   "name": "python3"
  },
  "language_info": {
   "codemirror_mode": {
    "name": "ipython",
    "version": 3
   },
   "file_extension": ".py",
   "mimetype": "text/x-python",
   "name": "python",
   "nbconvert_exporter": "python",
   "pygments_lexer": "ipython3",
   "version": "3.9.7"
  }
 },
 "nbformat": 4,
 "nbformat_minor": 5
}
