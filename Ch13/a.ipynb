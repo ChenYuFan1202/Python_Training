{
 "cells": [
  {
   "cell_type": "code",
   "execution_count": 10,
   "id": "6f1dd42f",
   "metadata": {},
   "outputs": [],
   "source": [
    "with open(\"myfile.txt\",\"w\",encoding = \"utf-8\") as file_object:\n",
    "    file_object.write(\"雷喔\\n不要再叫我打字了\")\n",
    "file_object.close()"
   ]
  },
  {
   "cell_type": "code",
   "execution_count": 5,
   "id": "470a3b11",
   "metadata": {},
   "outputs": [
    {
     "data": {
      "text/plain": [
       "'雷喔\\n'"
      ]
     },
     "execution_count": 5,
     "metadata": {},
     "output_type": "execute_result"
    }
   ],
   "source": [
    "file_object = open(\"myfile.txt\",\"r\",encoding=\"utf-8\")\n",
    "line = file_object.readline()\n",
    "line"
   ]
  },
  {
   "cell_type": "code",
   "execution_count": 46,
   "id": "a892edb3",
   "metadata": {},
   "outputs": [
    {
     "data": {
      "text/plain": [
       "'雷喔\\n'"
      ]
     },
     "execution_count": 46,
     "metadata": {},
     "output_type": "execute_result"
    }
   ],
   "source": [
    "import os\n",
    "file_name = os.path.join(\"C:\\\\\",\"Users\",\"Vick\",\"Python3\",\"Ch13\",\"myfile.txt\")\n",
    "with open(file_name,\"r\",encoding=\"utf-8\") as file_object:\n",
    "    line = file_object.readline()\n",
    "line"
   ]
  },
  {
   "cell_type": "code",
   "execution_count": 47,
   "id": "ff6e6f0b",
   "metadata": {},
   "outputs": [
    {
     "name": "stdout",
     "output_type": "stream",
     "text": [
      "雷喔\n",
      "\n"
     ]
    }
   ],
   "source": [
    "file_object = open(\"myfile.txt\",\"r\",encoding=\"utf-8\")\n",
    "line = file_object.readline()\n",
    "print(line)\n",
    "file_object.close()"
   ]
  },
  {
   "cell_type": "code",
   "execution_count": 8,
   "id": "eaa8e9dd",
   "metadata": {},
   "outputs": [
    {
     "data": {
      "text/plain": [
       "'雷喔\\n'"
      ]
     },
     "execution_count": 8,
     "metadata": {},
     "output_type": "execute_result"
    }
   ],
   "source": [
    "with open(\"myfile.txt\",\"r\",encoding=\"utf-8\") as file_object:\n",
    "    line = file_object.readline()\n",
    "line"
   ]
  },
  {
   "cell_type": "code",
   "execution_count": 70,
   "id": "0a0b3565",
   "metadata": {},
   "outputs": [],
   "source": [
    "file_object = open(\"myfile.txt\",\"w\",encoding = \"utf-8\")\n",
    "file_object.write(\"Hello, World\\n\")\n",
    "file_object.close()"
   ]
  },
  {
   "cell_type": "code",
   "execution_count": 10,
   "id": "b9dc03d3",
   "metadata": {},
   "outputs": [
    {
     "data": {
      "text/plain": [
       "'Hello, World\\n'"
      ]
     },
     "execution_count": 10,
     "metadata": {},
     "output_type": "execute_result"
    }
   ],
   "source": [
    "with open(\"myfile.txt\",\"r\",encoding=\"utf-8\") as file_object:\n",
    "    line = file_object.readline()\n",
    "line"
   ]
  },
  {
   "cell_type": "code",
   "execution_count": 3,
   "id": "1b255c12",
   "metadata": {},
   "outputs": [
    {
     "name": "stdout",
     "output_type": "stream",
     "text": [
      "2\n"
     ]
    }
   ],
   "source": [
    "file_object = open(\"myfile.txt\",\"r\",encoding = \"utf-8\")\n",
    "count = 0\n",
    "while file_object.readline() != \"\":\n",
    "    count += 1\n",
    "print(count)\n",
    "file_object.close()"
   ]
  },
  {
   "cell_type": "code",
   "execution_count": 4,
   "id": "8377b870",
   "metadata": {},
   "outputs": [
    {
     "name": "stdout",
     "output_type": "stream",
     "text": [
      "2\n"
     ]
    }
   ],
   "source": [
    "file_object = open(\"myfile.txt\",\"r\",encoding = \"utf-8\")\n",
    "print(len(file_object.readlines()))\n",
    "file_object.close()"
   ]
  },
  {
   "cell_type": "code",
   "execution_count": 5,
   "id": "9a808ab2",
   "metadata": {},
   "outputs": [
    {
     "name": "stdout",
     "output_type": "stream",
     "text": [
      "2\n"
     ]
    }
   ],
   "source": [
    "file_object = open(\"myfile.txt\",\"r\",encoding = \"utf-8\")\n",
    "count=0\n",
    "for line in file_object:#file_object or file_object.readlines()都可以\n",
    "    count += 1\n",
    "print(count)\n",
    "file_object.close()"
   ]
  },
  {
   "cell_type": "code",
   "execution_count": 8,
   "id": "cf2cb70e",
   "metadata": {},
   "outputs": [
    {
     "name": "stdout",
     "output_type": "stream",
     "text": [
      "['雷喔\\r\\n', '不要再叫我打字了']\n"
     ]
    }
   ],
   "source": [
    "file_object = open(\"myfile.txt\",\"r\",encoding = \"utf-8\",newline = \"\\n\")\n",
    "print(file_object.readlines())\n",
    "file_object.close()"
   ]
  },
  {
   "cell_type": "code",
   "execution_count": 66,
   "id": "e61f651e",
   "metadata": {},
   "outputs": [],
   "source": [
    "input_file = open(\"myfile.txt\",\"r\",encoding = \"utf-8\")\n",
    "lines = input_file.readlines()\n",
    "input_file.close()\n",
    "output = open(\"myfile2.txt\",\"w\",encoding = \"utf-8\")\n",
    "output.writelines(lines)\n",
    "output.close()"
   ]
  },
  {
   "cell_type": "code",
   "execution_count": 88,
   "id": "6b9556af",
   "metadata": {},
   "outputs": [
    {
     "name": "stdout",
     "output_type": "stream",
     "text": [
      "b'\\xe9\\x9b\\xb7\\xe5'\n",
      "<built-in method decode of bytes object at 0x0000028808AFC630>\n"
     ]
    }
   ],
   "source": [
    "input_file = open(\"myfile.txt\",\"rb\")\n",
    "header = input_file.read(4)\n",
    "data = input_file.read()\n",
    "input_file.close()\n",
    "print(header)\n",
    "print(data.decode)"
   ]
  },
  {
   "cell_type": "code",
   "execution_count": 19,
   "id": "3c162489",
   "metadata": {},
   "outputs": [
    {
     "name": "stdout",
     "output_type": "stream",
     "text": [
      "雷喔\r\n",
      "不要再叫我打字了\n"
     ]
    }
   ],
   "source": [
    "with open(\"myfile.txt\",\"rb\") as input_file:\n",
    "    lines = input_file.read()\n",
    "print(lines.decode(\"utf-8\"))"
   ]
  },
  {
   "cell_type": "code",
   "execution_count": 12,
   "id": "cda2fbb2",
   "metadata": {},
   "outputs": [],
   "source": [
    "input_file = open(\"myfile3.txt\",\"w\")\n",
    "input_file.write(\"Hello\\nWorld\")\n",
    "input_file.close()"
   ]
  },
  {
   "cell_type": "code",
   "execution_count": 9,
   "id": "c067a64e",
   "metadata": {},
   "outputs": [],
   "source": [
    "input_file = open(\"myfile3.txt\",\"wb\")\n",
    "input_file.write(bytes(\"Hello\\nWorld\",encoding=\"utf-8\"))\n",
    "input_file.close()"
   ]
  },
  {
   "cell_type": "code",
   "execution_count": 13,
   "id": "e47788cc",
   "metadata": {},
   "outputs": [
    {
     "name": "stdout",
     "output_type": "stream",
     "text": [
      "Hello\r\n",
      "World\n"
     ]
    }
   ],
   "source": [
    "input_file = open(\"myfile3.txt\",\"rb\")\n",
    "line = input_file.read()\n",
    "input_file.close()\n",
    "print(line.decode(\"utf-8\"))"
   ]
  },
  {
   "cell_type": "code",
   "execution_count": 22,
   "id": "f6f7b40e",
   "metadata": {},
   "outputs": [
    {
     "data": {
      "text/plain": [
       "18"
      ]
     },
     "execution_count": 22,
     "metadata": {},
     "output_type": "execute_result"
    }
   ],
   "source": [
    "from pathlib import Path\n",
    "p_text = Path(\"my_text_file.txt\")\n",
    "p_text.write_text(\"Text file contents\")"
   ]
  },
  {
   "cell_type": "code",
   "execution_count": 23,
   "id": "e2402200",
   "metadata": {},
   "outputs": [
    {
     "data": {
      "text/plain": [
       "'Text file contents'"
      ]
     },
     "execution_count": 23,
     "metadata": {},
     "output_type": "execute_result"
    }
   ],
   "source": [
    "p_text.read_text()"
   ]
  },
  {
   "cell_type": "code",
   "execution_count": 30,
   "id": "dca8e9fb",
   "metadata": {},
   "outputs": [
    {
     "data": {
      "text/plain": [
       "20"
      ]
     },
     "execution_count": 30,
     "metadata": {},
     "output_type": "execute_result"
    }
   ],
   "source": [
    "p_binary = Path(\"my_binary_file\")\n",
    "p_binary.write_bytes(b\"Binary file contents\")"
   ]
  },
  {
   "cell_type": "code",
   "execution_count": 31,
   "id": "a4edb93b",
   "metadata": {},
   "outputs": [
    {
     "data": {
      "text/plain": [
       "b'Binary file contents'"
      ]
     },
     "execution_count": 31,
     "metadata": {},
     "output_type": "execute_result"
    }
   ],
   "source": [
    "p_binary.read_bytes()"
   ]
  },
  {
   "cell_type": "code",
   "execution_count": 2,
   "id": "7359f7ac",
   "metadata": {},
   "outputs": [
    {
     "name": "stdout",
     "output_type": "stream",
     "text": [
      "請輸入檔案名稱：　myfile\n"
     ]
    },
    {
     "data": {
      "text/plain": [
       "'myfile'"
      ]
     },
     "execution_count": 2,
     "metadata": {},
     "output_type": "execute_result"
    }
   ],
   "source": [
    "x = input(\"請輸入檔案名稱：　\")\n",
    "x"
   ]
  },
  {
   "cell_type": "code",
   "execution_count": 36,
   "id": "8db9a25b",
   "metadata": {},
   "outputs": [
    {
     "name": "stdout",
     "output_type": "stream",
     "text": [
      "請輸入一個整數: 39\n"
     ]
    },
    {
     "data": {
      "text/plain": [
       "39"
      ]
     },
     "execution_count": 36,
     "metadata": {},
     "output_type": "execute_result"
    }
   ],
   "source": [
    "x = int(input(\"請輸入一個整數: \"))\n",
    "x"
   ]
  },
  {
   "cell_type": "code",
   "execution_count": 6,
   "id": "42931f65",
   "metadata": {},
   "outputs": [
    {
     "name": "stdout",
     "output_type": "stream",
     "text": [
      "Write to the standard output.\n",
      "Write to the standard output.\n"
     ]
    },
    {
     "data": {
      "text/plain": [
       "30"
      ]
     },
     "execution_count": 6,
     "metadata": {},
     "output_type": "execute_result"
    }
   ],
   "source": [
    "import sys\n",
    "print(\"Write to the standard output.\")\n",
    "sys.stdout.write(\"Write to the standard output.\\n\")\n",
    "\n",
    "# \"An input line\"\n",
    "# s = sys.stdin.readline()\n",
    "# s"
   ]
  },
  {
   "cell_type": "code",
   "execution_count": 9,
   "id": "268ab379",
   "metadata": {},
   "outputs": [
    {
     "data": {
      "text/plain": [
       "7"
      ]
     },
     "execution_count": 9,
     "metadata": {},
     "output_type": "execute_result"
    }
   ],
   "source": [
    "import sys\n",
    "f = open(\"outfile.txt\",\"w\")\n",
    "sys.stdout = f\n",
    "sys.stdout.writelines([\"A first line.\\n\",\"A second line.\\n\"])\n",
    "print(\"A line from the print function\")\n",
    "print(3+4)\n",
    "sys.stdout = sys.__stdout__\n",
    "f.close()\n",
    "3+4"
   ]
  },
  {
   "cell_type": "code",
   "execution_count": 16,
   "id": "ab32a796",
   "metadata": {},
   "outputs": [
    {
     "data": {
      "text/plain": [
       "7"
      ]
     },
     "execution_count": 16,
     "metadata": {},
     "output_type": "execute_result"
    }
   ],
   "source": [
    "import sys\n",
    "f = open(\"outfile2.txt\",\"w\")\n",
    "print(\"A first line.\",file = f)\n",
    "print(\"A second line.\\n\",file = f)\n",
    "print(3+4)\n",
    "f.close()\n",
    "3+4"
   ]
  }
 ],
 "metadata": {
  "kernelspec": {
   "display_name": "Python 3 (ipykernel)",
   "language": "python",
   "name": "python3"
  },
  "language_info": {
   "codemirror_mode": {
    "name": "ipython",
    "version": 3
   },
   "file_extension": ".py",
   "mimetype": "text/x-python",
   "name": "python",
   "nbconvert_exporter": "python",
   "pygments_lexer": "ipython3",
   "version": "3.9.7"
  }
 },
 "nbformat": 4,
 "nbformat_minor": 5
}
