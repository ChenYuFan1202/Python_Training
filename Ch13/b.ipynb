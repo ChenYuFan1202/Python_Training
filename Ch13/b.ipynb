{
 "cells": [
  {
   "cell_type": "code",
   "execution_count": 53,
   "id": "e2ce9631",
   "metadata": {},
   "outputs": [
    {
     "ename": "error",
     "evalue": "unpack requires a buffer of 20 bytes",
     "output_type": "error",
     "traceback": [
      "\u001b[1;31m---------------------------------------------------------------------------\u001b[0m",
      "\u001b[1;31merror\u001b[0m                                     Traceback (most recent call last)",
      "\u001b[1;32m~\\AppData\\Local\\Temp/ipykernel_23996/1081629890.py\u001b[0m in \u001b[0;36m<module>\u001b[1;34m\u001b[0m\n\u001b[0;32m      9\u001b[0m         \u001b[0minput\u001b[0m\u001b[1;33m.\u001b[0m\u001b[0mclose\u001b[0m\u001b[1;33m(\u001b[0m\u001b[1;33m)\u001b[0m\u001b[1;33m\u001b[0m\u001b[1;33m\u001b[0m\u001b[0m\n\u001b[0;32m     10\u001b[0m         \u001b[1;32mbreak\u001b[0m\u001b[1;33m\u001b[0m\u001b[1;33m\u001b[0m\u001b[0m\n\u001b[1;32m---> 11\u001b[1;33m     \u001b[0mresult_list\u001b[0m\u001b[1;33m.\u001b[0m\u001b[0mappend\u001b[0m\u001b[1;33m(\u001b[0m\u001b[0mstruct\u001b[0m\u001b[1;33m.\u001b[0m\u001b[0munpack\u001b[0m\u001b[1;33m(\u001b[0m\u001b[0mrecord_format\u001b[0m\u001b[1;33m,\u001b[0m\u001b[0mrecord\u001b[0m\u001b[1;33m)\u001b[0m\u001b[1;33m)\u001b[0m\u001b[1;33m\u001b[0m\u001b[1;33m\u001b[0m\u001b[0m\n\u001b[0m",
      "\u001b[1;31merror\u001b[0m: unpack requires a buffer of 20 bytes"
     ]
    }
   ],
   "source": [
    "import struct\n",
    "record_format = \"hd4s\"\n",
    "record_size = struct.calcsize(record_format)\n",
    "result_list = []\n",
    "input = open(\"data.bin\",\"rb\")\n",
    "while 1:\n",
    "    record = input.read(record_size)\n",
    "    if record == \"\":\n",
    "        input.close()\n",
    "        break\n",
    "    result_list.append(struct.unpack(record_format,record))"
   ]
  },
  {
   "cell_type": "code",
   "execution_count": 51,
   "id": "01cb8dd4",
   "metadata": {},
   "outputs": [
    {
     "name": "stdout",
     "output_type": "stream",
     "text": [
      "0b111\n",
      "b'\\x00\\x00\\x00\\x00\\x00\\x00\\x00'\n"
     ]
    }
   ],
   "source": [
    "import struct\n",
    "input_file = open(\"data.bin\",\"wb\")\n",
    "record_format = \"id4s\"\n",
    "input_file.write(struct.pack(record_format,7,3.14,b\"vick\"))\n",
    "input_file.close()\n",
    "print(bin(7))\n",
    "print(bytes(7))\n",
    "#struct.pack(record_format,7,3.14,b\"vick\")\n"
   ]
  },
  {
   "cell_type": "code",
   "execution_count": 38,
   "id": "8d97ccf0",
   "metadata": {},
   "outputs": [
    {
     "name": "stdout",
     "output_type": "stream",
     "text": [
      "0\n",
      "1\n",
      "2\n"
     ]
    }
   ],
   "source": [
    "flag = 1\n",
    "while flag:\n",
    "    for i in range(5):\n",
    "        if i == 3:\n",
    "            flag = 0\n",
    "            break\n",
    "        print(i)"
   ]
  },
  {
   "cell_type": "code",
   "execution_count": 38,
   "id": "9c2d46e4",
   "metadata": {},
   "outputs": [],
   "source": [
    "import struct\n",
    "input_file = open(\"data.bin\",\"wb\")\n",
    "record_format = \"4s\"\n",
    "input_file.write(struct.pack(record_format,b\"vick\"))\n",
    "input_file.close()"
   ]
  },
  {
   "cell_type": "code",
   "execution_count": 39,
   "id": "4e426087",
   "metadata": {},
   "outputs": [
    {
     "name": "stdout",
     "output_type": "stream",
     "text": [
      "(b'vick',)\n"
     ]
    }
   ],
   "source": [
    "import struct\n",
    "file_format = \"4s\"\n",
    "file_size = struct.calcsize(file_format)\n",
    "input_file = open(\"data.bin\",\"rb\")\n",
    "obj = input_file.read(file_size)\n",
    "print(struct.unpack(file_format,obj))"
   ]
  },
  {
   "cell_type": "code",
   "execution_count": 1,
   "id": "9566e675",
   "metadata": {},
   "outputs": [],
   "source": [
    "import pickle\n",
    "\n",
    "a = 5\n",
    "b = \"雷喔\"\n",
    "c = [5,\"雷喔\"]\n",
    "\n",
    "file = open(\"state\",\"wb\")\n",
    "pickle.dump(a,file)\n",
    "pickle.dump(b,file)\n",
    "pickle.dump(c,file)"
   ]
  },
  {
   "cell_type": "code",
   "execution_count": 2,
   "id": "3102056f",
   "metadata": {},
   "outputs": [
    {
     "name": "stdout",
     "output_type": "stream",
     "text": [
      "5 雷喔 [5, '雷喔']\n"
     ]
    }
   ],
   "source": [
    "import pickle\n",
    "file = open(\"state\",\"rb\")\n",
    "a = pickle.load(file)\n",
    "b = pickle.load(file)\n",
    "c = pickle.load(file)\n",
    "file.close()\n",
    "print(a,b,c)"
   ]
  },
  {
   "cell_type": "code",
   "execution_count": 3,
   "id": "d3947180",
   "metadata": {},
   "outputs": [],
   "source": [
    "import pickle\n",
    "file = open(\"solecache\",\"wb\")\n",
    "pickle.dump({},file)\n",
    "file.close()"
   ]
  },
  {
   "cell_type": "code",
   "execution_count": 65,
   "id": "595bf3f2",
   "metadata": {},
   "outputs": [
    {
     "ename": "AttributeError",
     "evalue": "'dict' object has no attribute 'has_key'",
     "output_type": "error",
     "traceback": [
      "\u001b[1;31m---------------------------------------------------------------------------\u001b[0m",
      "\u001b[1;31mAttributeError\u001b[0m                            Traceback (most recent call last)",
      "\u001b[1;32m~\\AppData\\Local\\Temp/ipykernel_23996/1540030567.py\u001b[0m in \u001b[0;36m<module>\u001b[1;34m\u001b[0m\n\u001b[0;32m     25\u001b[0m \u001b[1;33m\u001b[0m\u001b[0m\n\u001b[0;32m     26\u001b[0m \u001b[1;33m\u001b[0m\u001b[0m\n\u001b[1;32m---> 27\u001b[1;33m \u001b[0msole\u001b[0m\u001b[1;33m(\u001b[0m\u001b[1;33m{\u001b[0m\u001b[1;34m\"a\"\u001b[0m\u001b[1;33m:\u001b[0m\u001b[1;34m\"我\"\u001b[0m\u001b[1;33m}\u001b[0m\u001b[1;33m,\u001b[0m\u001b[1;33m{\u001b[0m\u001b[1;34m\"b\"\u001b[0m\u001b[1;33m:\u001b[0m\u001b[1;34m\"覺得\"\u001b[0m\u001b[1;33m}\u001b[0m\u001b[1;33m,\u001b[0m\u001b[1;33m{\u001b[0m\u001b[1;34m\"c\"\u001b[0m\u001b[1;33m:\u001b[0m\u001b[1;34m\"不行\"\u001b[0m\u001b[1;33m}\u001b[0m\u001b[1;33m)\u001b[0m\u001b[1;33m\u001b[0m\u001b[1;33m\u001b[0m\u001b[0m\n\u001b[0m\u001b[0;32m     28\u001b[0m \u001b[0mshow\u001b[0m\u001b[1;33m(\u001b[0m\u001b[1;33m)\u001b[0m\u001b[1;33m\u001b[0m\u001b[1;33m\u001b[0m\u001b[0m\n",
      "\u001b[1;32m~\\AppData\\Local\\Temp/ipykernel_23996/1540030567.py\u001b[0m in \u001b[0;36msole\u001b[1;34m(m, n, t)\u001b[0m\n\u001b[0;32m      8\u001b[0m \u001b[1;32mdef\u001b[0m \u001b[0msole\u001b[0m\u001b[1;33m(\u001b[0m\u001b[0mm\u001b[0m\u001b[1;33m,\u001b[0m\u001b[0mn\u001b[0m\u001b[1;33m,\u001b[0m\u001b[0mt\u001b[0m\u001b[1;33m)\u001b[0m\u001b[1;33m:\u001b[0m\u001b[1;33m\u001b[0m\u001b[1;33m\u001b[0m\u001b[0m\n\u001b[0;32m      9\u001b[0m     \u001b[1;32mglobal\u001b[0m \u001b[0m_sole_mem_cache_d\u001b[0m\u001b[1;33m\u001b[0m\u001b[1;33m\u001b[0m\u001b[0m\n\u001b[1;32m---> 10\u001b[1;33m     \u001b[1;32mif\u001b[0m \u001b[0m_sole_mem_cache_d\u001b[0m\u001b[1;33m.\u001b[0m\u001b[0mhas_key\u001b[0m\u001b[1;33m(\u001b[0m\u001b[1;33m(\u001b[0m\u001b[0mm\u001b[0m\u001b[1;33m,\u001b[0m\u001b[0mn\u001b[0m\u001b[1;33m,\u001b[0m\u001b[0mt\u001b[0m\u001b[1;33m)\u001b[0m\u001b[1;33m)\u001b[0m\u001b[1;33m:\u001b[0m\u001b[1;33m\u001b[0m\u001b[1;33m\u001b[0m\u001b[0m\n\u001b[0m\u001b[0;32m     11\u001b[0m         \u001b[1;32mreturn\u001b[0m \u001b[0m_sole_mem_cache\u001b[0m\u001b[1;33m.\u001b[0m\u001b[0md\u001b[0m\u001b[1;33m[\u001b[0m\u001b[1;33m(\u001b[0m\u001b[0mm\u001b[0m\u001b[1;33m,\u001b[0m\u001b[0mn\u001b[0m\u001b[1;33m,\u001b[0m\u001b[0mt\u001b[0m\u001b[1;33m)\u001b[0m\u001b[1;33m]\u001b[0m\u001b[1;33m\u001b[0m\u001b[1;33m\u001b[0m\u001b[0m\n\u001b[0;32m     12\u001b[0m     \u001b[1;32melse\u001b[0m\u001b[1;33m:\u001b[0m\u001b[1;33m\u001b[0m\u001b[1;33m\u001b[0m\u001b[0m\n",
      "\u001b[1;31mAttributeError\u001b[0m: 'dict' object has no attribute 'has_key'"
     ]
    }
   ],
   "source": [
    "import pickle\n",
    "_sole_mem_cache_d = {}\n",
    "_sole_disk_file_s = \"solecache\"\n",
    "file = open(_sole_disk_file_s,\"rb\")\n",
    "_sole_mem_cache_d = pickle.load(file)\n",
    "file.close()\n",
    "\n",
    "def sole(m,n,t):\n",
    "    global _sole_mem_cache_d\n",
    "    if _sole_mem_cache_d.has_key((m,n,t)):\n",
    "        return _sole_mem_cache.d[(m,n,t)]\n",
    "    else:\n",
    "        _sole_mem_cache_d[(m,n,t)] = result\n",
    "        return result\n",
    "    \n",
    "def save():\n",
    "    global _sole_mem_cache_d, _sole_disk_file_s\n",
    "    file = open(_sole_disk_file_s,\"wb\")\n",
    "    pickle.dump(_sole_mem_cache_d,file)\n",
    "    file.close()\n",
    "\n",
    "def show():\n",
    "    global _sole_mem_cache_d\n",
    "    print(_sole_mem_cache_d)\n",
    "\n",
    "    \n",
    "sole({\"a\":\"我\"},{\"b\":\"覺得\"},{\"c\":\"不行\"})\n",
    "show()"
   ]
  },
  {
   "cell_type": "code",
   "execution_count": 10,
   "id": "3bcca866",
   "metadata": {},
   "outputs": [],
   "source": [
    "import shelve\n",
    "book = shelve.open(\"addresses\")\n",
    "book[\"167\"] = (\"邱大熊\",\"0912-345678\",\"台北市忠孝路1號\")\n",
    "book[\"928\"] = (\"陳小天\",\"0987-654321\",\"新竹市中山路2號\")\n",
    "book.close()"
   ]
  },
  {
   "cell_type": "code",
   "execution_count": 6,
   "id": "cd019658",
   "metadata": {},
   "outputs": [
    {
     "data": {
      "text/plain": [
       "{0: '泛'}"
      ]
     },
     "execution_count": 6,
     "metadata": {},
     "output_type": "execute_result"
    }
   ],
   "source": [
    "a = {}\n",
    "a[0] = \"泛\"\n",
    "a"
   ]
  },
  {
   "cell_type": "code",
   "execution_count": 3,
   "id": "e3a33991",
   "metadata": {},
   "outputs": [
    {
     "data": {
      "text/plain": [
       "1360782518704"
      ]
     },
     "execution_count": 3,
     "metadata": {},
     "output_type": "execute_result"
    }
   ],
   "source": [
    "a = 5\n",
    "id(a)"
   ]
  },
  {
   "cell_type": "code",
   "execution_count": 16,
   "id": "aeca0ed1",
   "metadata": {},
   "outputs": [
    {
     "data": {
      "text/plain": [
       "('邱大熊', '0912-345678', '台北市忠孝路1號')"
      ]
     },
     "execution_count": 16,
     "metadata": {},
     "output_type": "execute_result"
    }
   ],
   "source": [
    "import shelve\n",
    "book = shelve.open(\"addresses\")\n",
    "book[\"167\"]\n",
    "#list(book.keys())"
   ]
  },
  {
   "cell_type": "code",
   "execution_count": 22,
   "id": "bf1e8452",
   "metadata": {},
   "outputs": [
    {
     "name": "stdout",
     "output_type": "stream",
     "text": [
      "['C:\\\\Users\\\\Vick\\\\anaconda3\\\\lib\\\\site-packages\\\\ipykernel_launcher.py', '-f', 'C:\\\\Users\\\\Vick\\\\AppData\\\\Roaming\\\\jupyter\\\\runtime\\\\kernel-1ae06685-a08f-4afb-8c5a-0b83c9500915.json']\n"
     ]
    }
   ],
   "source": [
    "# file_name = input(\"請輸入要計算的檔案名稱，如果沒有，請輸入雙引號? \")\n",
    "# sentence = input(\"如果沒有檔名，請輸入要計算的句子? \")\n",
    "import os,sys\n",
    "\n",
    "count_word = 0\n",
    "count_tuple = 0\n",
    "\n",
    "parameter = sys.argv[1:]\n",
    "file_or_sen = parameter[0]\n",
    "option = parameter[1]\n",
    "\n",
    "if (os.path.isfile(file_or_sen) == True) & (option == \"-m\"):\n",
    "    with open(file_or_sen,\"r\",encoding = \"utf-8\") as f:\n",
    "        words = f.read()\n",
    "        count_word += len(words)\n",
    "elif (os.path.isfile(file_or_sen) == True) & (option == \"-c\"):\n",
    "    with open(file_or_sen,\"rb\") as f:\n",
    "        byte = f.read()\n",
    "        count_tuple += len(byte)\n",
    "elif (os.path.isfile(file_or_sen) == False) & (option == \"-m\"):\n",
    "    words = file_or_sen\n",
    "    count_word += len(words)\n",
    "elif (os.path.isfile(file_or_sen) == False) & (option == \"-c\"):\n",
    "    byte = file_or_sen.encode(\"utf-8\")\n",
    "    count_tuple += len(byte)\n",
    "\n",
    "if option == \"-m\":\n",
    "    print(\"字元數為{}\".format(count_word))\n",
    "elif option == \"-c\":\n",
    "    print(\"位元組為{}\".format(count_tuple))\n",
    "#print(sys.argv)"
   ]
  },
  {
   "cell_type": "code",
   "execution_count": 29,
   "id": "54ab46fe",
   "metadata": {},
   "outputs": [],
   "source": [
    "import os,sys\n",
    "\n",
    "count_word = 0\n",
    "count_tuple = 0\n",
    "\n",
    "parameter = sys.argv[1:]\n",
    "file_or_sen = parameter[0]\n",
    "option = parameter[1]\n",
    "\n",
    "mode = \"r\"\n",
    "if option == \"-c\":\n",
    "    mode = \"rb\"\n",
    "\n",
    "if (os.path.isfile(file_or_sen) == True) & (option == \"-m\"):\n",
    "    with open(file_or_sen,mode,encoding = \"utf-8\") as f:\n",
    "        words = f.read()\n",
    "        count_word += len(words)\n",
    "elif (os.path.isfile(file_or_sen) == True) & (option == \"-c\"):\n",
    "    with open(file_or_sen,\"rb\") as f:\n",
    "        byte = f.read()\n",
    "        count_tuple += len(byte)\n",
    "elif (os.path.isfile(file_or_sen) == False) & (option == \"-m\"):\n",
    "    words = file_or_sen\n",
    "    count_word += len(words)\n",
    "elif (os.path.isfile(file_or_sen) == False) & (option == \"-c\"):\n",
    "    byte = file_or_sen.encode(\"utf-8\")\n",
    "    count_tuple += len(byte)\n",
    "\n",
    "if option == \"-m\":\n",
    "    print(\"字元數為{}\".format(count_word))\n",
    "elif option == \"-c\":\n",
    "    print(\"位元組為{}\".format(count_tuple))"
   ]
  },
  {
   "cell_type": "code",
   "execution_count": 28,
   "id": "0444f04d",
   "metadata": {},
   "outputs": [
    {
     "name": "stdout",
     "output_type": "stream",
     "text": [
      "File has 12 lines, 22 words, 263 characters\n"
     ]
    }
   ],
   "source": [
    "# File: word_count_program_stdin.py\n",
    "\"\"\" Reads a file and returns the number of lines, words,\n",
    "    and characters - similar to the UNIX wc utility\n",
    "\"\"\"\n",
    "\n",
    "import sys\n",
    "\n",
    "def main():\n",
    "    # initialze counts\n",
    "    line_count = 0\n",
    "    word_count = 0\n",
    "    char_count = 0\n",
    "    filename = None\n",
    "    \n",
    "    option = None\n",
    "    if len(sys.argv) > 1:\n",
    "        params = sys.argv[1:]\n",
    "        if params[0].startswith(\"-\"):\n",
    "        # if more than one param, pop the first one as the option\n",
    "            option = params.pop(0).lower().strip()\n",
    "        if params:\n",
    "            filename = params[0]    # open the file\n",
    "    file_mode = \"r\"\n",
    "    if option == \"-c\":\n",
    "        file_mode = \"rb\"\n",
    "    if filename:\n",
    "        infile =  open(filename, file_mode)\n",
    "    else:\n",
    "        infile = sys.stdin\n",
    "    with infile:\n",
    "        for line in infile:\n",
    "            line_count += 1\n",
    "            char_count += len(line)\n",
    "            words = line.split()\n",
    "            word_count += len(words)\n",
    "    \n",
    "    if option in (\"-c\", \"-m\"):\n",
    "        print(\"File has {} characters\".format(char_count))\n",
    "    elif option == \"-w\":\n",
    "        print(\"File has {} words\".format(word_count))\n",
    "    elif option == \"-l\":\n",
    "        print(\"File has {} lines\".format(line_count))\n",
    "    else:\n",
    "        # print the answers using the format() method\n",
    "        print(\"File has {0} lines, {1} words, {2} characters\".format(line_count, word_count, char_count))\n",
    "\n",
    "if __name__ == '__main__':\n",
    "    main() \n"
   ]
  },
  {
   "cell_type": "code",
   "execution_count": 13,
   "id": "9d8d2288",
   "metadata": {},
   "outputs": [
    {
     "data": {
      "text/plain": [
       "True"
      ]
     },
     "execution_count": 13,
     "metadata": {},
     "output_type": "execute_result"
    }
   ],
   "source": [
    "import os\n",
    "file_name = \"myfile.txt\"\n",
    "os.path.isfile(file_name)"
   ]
  },
  {
   "cell_type": "code",
   "execution_count": 19,
   "id": "84f7c168",
   "metadata": {},
   "outputs": [
    {
     "name": "stdout",
     "output_type": "stream",
     "text": [
      "30\n"
     ]
    }
   ],
   "source": [
    "with open(\"myfile2.txt\",\"rb\") as f:\n",
    "    print(len(f.read()))"
   ]
  },
  {
   "cell_type": "code",
   "execution_count": 30,
   "id": "2714b030",
   "metadata": {},
   "outputs": [
    {
     "data": {
      "text/plain": [
       "['雷喔', '不邀', '喔']"
      ]
     },
     "execution_count": 30,
     "metadata": {},
     "output_type": "execute_result"
    }
   ],
   "source": [
    "s = \"雷喔 不邀 喔\"\n",
    "s.split()"
   ]
  },
  {
   "cell_type": "code",
   "execution_count": 31,
   "id": "c5ee9d4f",
   "metadata": {},
   "outputs": [
    {
     "data": {
      "text/plain": [
       "b'\\xe6\\xb2\\x92\\xe6\\x9c\\x89'"
      ]
     },
     "execution_count": 31,
     "metadata": {},
     "output_type": "execute_result"
    }
   ],
   "source": [
    "s = \"沒有\".encode(\"utf-8\")\n",
    "s"
   ]
  }
 ],
 "metadata": {
  "kernelspec": {
   "display_name": "Python 3 (ipykernel)",
   "language": "python",
   "name": "python3"
  },
  "language_info": {
   "codemirror_mode": {
    "name": "ipython",
    "version": 3
   },
   "file_extension": ".py",
   "mimetype": "text/x-python",
   "name": "python",
   "nbconvert_exporter": "python",
   "pygments_lexer": "ipython3",
   "version": "3.9.7"
  }
 },
 "nbformat": 4,
 "nbformat_minor": 5
}
