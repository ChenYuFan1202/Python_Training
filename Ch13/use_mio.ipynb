{
 "cells": [
  {
   "cell_type": "code",
   "execution_count": 1,
   "id": "b3b718e0",
   "metadata": {},
   "outputs": [
    {
     "name": "stdout",
     "output_type": "stream",
     "text": [
      "雷喔\n",
      "不要再叫我打字了\n",
      "怎麼可能\n",
      "\n"
     ]
    }
   ],
   "source": [
    "import mio,sys\n",
    "mio.capture_output()\n",
    "sys.stdout.writelines([\"雷喔\\n\",\"不要再叫我打字了\\n\"])\n",
    "print(\"怎麼可能\")\n",
    "mio.restore_output()\n",
    "mio.print_file()\n",
    "#mio.clear_file()"
   ]
  },
  {
   "cell_type": "code",
   "execution_count": 3,
   "id": "fa988d09",
   "metadata": {},
   "outputs": [
    {
     "data": {
      "text/plain": [
       "7"
      ]
     },
     "execution_count": 3,
     "metadata": {},
     "output_type": "execute_result"
    }
   ],
   "source": [
    "import mio\n",
    "def main():\n",
    "    mio.capture_output(\"myfile.txt\")\n",
    "    print(\"hello\")\n",
    "    print(1 + 3)\n",
    "    mio.restore_output()\n",
    "    \n",
    "    mio.print_file(\"myfile.txt\")\n",
    "    \n",
    "    \n",
    "if __name__ == '__main__':\n",
    "    main()\n",
    "    "
   ]
  }
 ],
 "metadata": {
  "kernelspec": {
   "display_name": "Python 3 (ipykernel)",
   "language": "python",
   "name": "python3"
  },
  "language_info": {
   "codemirror_mode": {
    "name": "ipython",
    "version": 3
   },
   "file_extension": ".py",
   "mimetype": "text/x-python",
   "name": "python",
   "nbconvert_exporter": "python",
   "pygments_lexer": "ipython3",
   "version": "3.9.7"
  }
 },
 "nbformat": 4,
 "nbformat_minor": 5
}
