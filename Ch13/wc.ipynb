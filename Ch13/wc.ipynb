{
 "cells": [
  {
   "cell_type": "code",
   "execution_count": null,
   "id": "915b9eff",
   "metadata": {},
   "outputs": [],
   "source": [
    "import os,sys\n",
    "\n",
    "count_word = 0\n",
    "count_tuple = 0\n",
    "\n",
    "parameter = sys.argv[1:]\n",
    "file_or_sen = parameter[0]\n",
    "option = parameter[1]\n",
    "\n",
    "if (os.path.isfile(file_or_sen) == True) & (option == \"-m\"):\n",
    "    with open(file_or_sen,\"r\",encoding = \"utf-8\") as f:\n",
    "        words = f.readlines()\n",
    "        count_word += len(words)\n",
    "elif (os.path.isfile(file_or_sen) == True) & (option == \"-c\"):\n",
    "    with open(file_or_sen,\"rb\") as f:\n",
    "        byte = f.read()\n",
    "        count_tuple += len(byte)\n",
    "elif (os.path.isfile(file_or_sen) == False) & (option == \"-m\"):\n",
    "    words = file_or_sen\n",
    "    count_word += len(words)\n",
    "elif (os.path.isfile(file_or_sen) == False) & (option == \"-c\"):\n",
    "    byte = file_or_sen.encode(\"utf-8\")\n",
    "    count_tuple += len(byte)\n",
    "\n",
    "if option == \"-m\":\n",
    "    print(\"字元數為{}\".format(count_word))\n",
    "elif option == \"-c\":\n",
    "    print(\"位元組為{}\".format(count_tuple))"
   ]
  },
  {
   "cell_type": "code",
   "execution_count": 2,
   "id": "e4fa7cd1",
   "metadata": {},
   "outputs": [
    {
     "data": {
      "text/plain": [
       "3"
      ]
     },
     "execution_count": 2,
     "metadata": {},
     "output_type": "execute_result"
    }
   ],
   "source": [
    "# s = \"我沒又\"\n",
    "# len(s)"
   ]
  }
 ],
 "metadata": {
  "kernelspec": {
   "display_name": "Python 3 (ipykernel)",
   "language": "python",
   "name": "python3"
  },
  "language_info": {
   "codemirror_mode": {
    "name": "ipython",
    "version": 3
   },
   "file_extension": ".py",
   "mimetype": "text/x-python",
   "name": "python",
   "nbconvert_exporter": "python",
   "pygments_lexer": "ipython3",
   "version": "3.9.7"
  }
 },
 "nbformat": 4,
 "nbformat_minor": 5
}
