{
 "cells": [
  {
   "cell_type": "code",
   "execution_count": 7,
   "id": "20677277",
   "metadata": {},
   "outputs": [
    {
     "name": "stdout",
     "output_type": "stream",
     "text": [
      "A B C\n"
     ]
    },
    {
     "data": {
      "text/plain": [
       "6"
      ]
     },
     "execution_count": 7,
     "metadata": {},
     "output_type": "execute_result"
    }
   ],
   "source": [
    "print(chr(65),chr(66),chr(67))\n",
    "open(\"test.txt\",\"wb\").write(bytes([65,66,67,255,192,193]))"
   ]
  },
  {
   "cell_type": "code",
   "execution_count": 29,
   "id": "101bd260",
   "metadata": {},
   "outputs": [
    {
     "name": "stdout",
     "output_type": "stream",
     "text": [
      "b'ABC\\xff\\xc0\\xc1'\n",
      "ÿ À Á \n"
     ]
    }
   ],
   "source": [
    "print(bytes([65,66,67,255,192,193]))\n",
    "print(chr(255),chr(192),chr(193))"
   ]
  },
  {
   "cell_type": "code",
   "execution_count": 7,
   "id": "c635e0cb",
   "metadata": {},
   "outputs": [
    {
     "ename": "UnicodeDecodeError",
     "evalue": "'utf-8' codec can't decode byte 0xff in position 3: invalid start byte",
     "output_type": "error",
     "traceback": [
      "\u001b[1;31m---------------------------------------------------------------------------\u001b[0m",
      "\u001b[1;31mUnicodeDecodeError\u001b[0m                        Traceback (most recent call last)",
      "Cell \u001b[1;32mIn[7], line 1\u001b[0m\n\u001b[1;32m----> 1\u001b[0m x \u001b[38;5;241m=\u001b[39m \u001b[38;5;28;43mopen\u001b[39;49m\u001b[43m(\u001b[49m\u001b[38;5;124;43m\"\u001b[39;49m\u001b[38;5;124;43mtest.txt\u001b[39;49m\u001b[38;5;124;43m\"\u001b[39;49m\u001b[43m,\u001b[49m\u001b[38;5;124;43m\"\u001b[39;49m\u001b[38;5;124;43mr\u001b[39;49m\u001b[38;5;124;43m\"\u001b[39;49m\u001b[43m,\u001b[49m\u001b[43mencoding\u001b[49m\u001b[43m \u001b[49m\u001b[38;5;241;43m=\u001b[39;49m\u001b[43m \u001b[49m\u001b[38;5;124;43m\"\u001b[39;49m\u001b[38;5;124;43mutf-8\u001b[39;49m\u001b[38;5;124;43m\"\u001b[39;49m\u001b[43m)\u001b[49m\u001b[38;5;241;43m.\u001b[39;49m\u001b[43mread\u001b[49m\u001b[43m(\u001b[49m\u001b[43m)\u001b[49m\n",
      "File \u001b[1;32m~\\AppData\\Local\\anaconda3\\lib\\codecs.py:322\u001b[0m, in \u001b[0;36mBufferedIncrementalDecoder.decode\u001b[1;34m(self, input, final)\u001b[0m\n\u001b[0;32m    319\u001b[0m \u001b[38;5;28;01mdef\u001b[39;00m \u001b[38;5;21mdecode\u001b[39m(\u001b[38;5;28mself\u001b[39m, \u001b[38;5;28minput\u001b[39m, final\u001b[38;5;241m=\u001b[39m\u001b[38;5;28;01mFalse\u001b[39;00m):\n\u001b[0;32m    320\u001b[0m     \u001b[38;5;66;03m# decode input (taking the buffer into account)\u001b[39;00m\n\u001b[0;32m    321\u001b[0m     data \u001b[38;5;241m=\u001b[39m \u001b[38;5;28mself\u001b[39m\u001b[38;5;241m.\u001b[39mbuffer \u001b[38;5;241m+\u001b[39m \u001b[38;5;28minput\u001b[39m\n\u001b[1;32m--> 322\u001b[0m     (result, consumed) \u001b[38;5;241m=\u001b[39m \u001b[38;5;28;43mself\u001b[39;49m\u001b[38;5;241;43m.\u001b[39;49m\u001b[43m_buffer_decode\u001b[49m\u001b[43m(\u001b[49m\u001b[43mdata\u001b[49m\u001b[43m,\u001b[49m\u001b[43m \u001b[49m\u001b[38;5;28;43mself\u001b[39;49m\u001b[38;5;241;43m.\u001b[39;49m\u001b[43merrors\u001b[49m\u001b[43m,\u001b[49m\u001b[43m \u001b[49m\u001b[43mfinal\u001b[49m\u001b[43m)\u001b[49m\n\u001b[0;32m    323\u001b[0m     \u001b[38;5;66;03m# keep undecoded input until the next call\u001b[39;00m\n\u001b[0;32m    324\u001b[0m     \u001b[38;5;28mself\u001b[39m\u001b[38;5;241m.\u001b[39mbuffer \u001b[38;5;241m=\u001b[39m data[consumed:]\n",
      "\u001b[1;31mUnicodeDecodeError\u001b[0m: 'utf-8' codec can't decode byte 0xff in position 3: invalid start byte"
     ]
    }
   ],
   "source": [
    "x = open(\"test.txt\",\"r\",encoding = \"utf-8\").read()#改rb的話可以不透過utf-8解碼\n",
    "#print(open(\"test.txt\",\"rb\").read())"
   ]
  },
  {
   "cell_type": "code",
   "execution_count": 27,
   "id": "cb9098f7",
   "metadata": {},
   "outputs": [
    {
     "name": "stdout",
     "output_type": "stream",
     "text": [
      "ABC\n",
      "ABC���\n",
      "ABC���\n"
     ]
    },
    {
     "data": {
      "text/plain": [
       "'ABC\\\\xff\\\\xc0\\\\xc1'"
      ]
     },
     "execution_count": 27,
     "metadata": {},
     "output_type": "execute_result"
    }
   ],
   "source": [
    "print(open(\"test.txt\",\"r\",encoding = \"utf-8\",errors = \"ignore\").read())\n",
    "print(open(\"test.txt\",\"r\",encoding = \"utf-8\",errors = \"replace\").read())\n",
    "print(open(\"test.txt\",\"r\",encoding = \"utf-8\",errors = \"surrogateescape\").read())\n",
    "open(\"test.txt\",\"r\",encoding = \"utf-8\",errors = \"backslashreplace\").read()"
   ]
  },
  {
   "cell_type": "code",
   "execution_count": 2,
   "id": "38d6302b",
   "metadata": {},
   "outputs": [
    {
     "name": "stdout",
     "output_type": "stream",
     "text": [
      "There now is your insular city of the Manhattoes, belted round by wharves\n",
      "as Indian isles by coral reefs--commerce surrounds it with her surf.\n",
      "Right and left, the streets take you waterward.  Its extreme downtown\n",
      "is the battery, where that noble mole is washed by waves, and cooled\n",
      "by breezes, which a few hours previous were out of sight of land.\n",
      "Look at the crowds of water-gazers there.\n",
      "\n"
     ]
    }
   ],
   "source": [
    "moby_text = open(\"moby_01.txt\",\"r\").read()\n",
    "moby_paragraphs = moby_text.split(\"\\n\\n\")\n",
    "print(moby_paragraphs[1])\n",
    "#moby_text"
   ]
  },
  {
   "cell_type": "code",
   "execution_count": 7,
   "id": "d8362dd2",
   "metadata": {},
   "outputs": [
    {
     "name": "stdout",
     "output_type": "stream",
     "text": [
      "['there', 'now', 'is', 'your', 'insular', 'city', 'of', 'the', 'manhattoes,', 'belted', 'round', 'by', 'wharves', 'as', 'indian', 'isles', 'by', 'coral', 'reefs--commerce', 'surrounds', 'it', 'with', 'her', 'surf.', 'right', 'and', 'left,', 'the', 'streets', 'take', 'you', 'waterward.', 'its', 'extreme', 'downtown', 'is', 'the', 'battery,', 'where', 'that', 'noble', 'mole', 'is', 'washed', 'by', 'waves,', 'and', 'cooled', 'by', 'breezes,', 'which', 'a', 'few', 'hours', 'previous', 'were', 'out', 'of', 'sight', 'of', 'land.', 'look', 'at', 'the', 'crowds', 'of', 'water-gazers', 'there.']\n"
     ]
    }
   ],
   "source": [
    "moby_text = open(\"moby_01.txt\",\"r\").read()\n",
    "paragraphs = moby_text.split(\"\\n\\n\")\n",
    "print(paragraphs[1].lower().split())"
   ]
  },
  {
   "cell_type": "code",
   "execution_count": 21,
   "id": "926bd588",
   "metadata": {},
   "outputs": [
    {
     "name": "stdout",
     "output_type": "stream",
     "text": [
      "['there', 'now', 'is', 'your', 'insular', 'city', 'of', 'the', 'manhattoes', 'belted', 'round', 'by', 'wharves', 'as', 'indian', 'isles', 'by', 'coral', 'reefs--commerce', 'surrounds', 'it', 'with', 'her', 'surf', 'right', 'and', 'left', 'the', 'streets', 'take', 'you', 'waterward', 'its', 'extreme', 'downtown', 'is', 'the', 'battery', 'where', 'that', 'noble', 'mole', 'is', 'washed', 'by', 'waves', 'and', 'cooled', 'by', 'breezes', 'which', 'a', 'few', 'hours', 'previous', 'were', 'out', 'of', 'sight', 'of', 'land', 'look', 'at', 'the', 'crowds', 'of', 'water-gazers', 'there']\n"
     ]
    }
   ],
   "source": [
    "moby_text = open(\"moby_01.txt\",\"r\",encoding = \"utf-8\").read()\n",
    "moby_paragraphs = moby_text.split(\"\\n\\n\")\n",
    "moby = moby_paragraphs[1].lower()\n",
    "moby = moby.replace(\".\",\"\")\n",
    "moby = moby.replace(\",\",\"\")\n",
    "moby_words = moby.split()\n",
    "print(moby_words)"
   ]
  },
  {
   "cell_type": "code",
   "execution_count": 23,
   "id": "bf0cf07b",
   "metadata": {},
   "outputs": [
    {
     "name": "stdout",
     "output_type": "stream",
     "text": [
      "['Illinois', '1979/01/01', '17.48', '994']\n"
     ]
    }
   ],
   "source": [
    "\n",
    "#Illinois|1979/01/01|17.48|994\n",
    "\n",
    "line = \"Illinois|1979/01/01|17.48|994\"\n",
    "print(line.split(\"|\"))\n",
    "\n"
   ]
  },
  {
   "cell_type": "code",
   "execution_count": 9,
   "id": "8318314a",
   "metadata": {},
   "outputs": [
    {
     "name": "stdout",
     "output_type": "stream",
     "text": [
      "['州', '觀察日期', '平均溫度(°F)', '紀錄數量']\n",
      "['Illinois', '1979-01-01 00:00:00', 17.48, 994]\n",
      "['Illinois', '1979-01-02 00:00:00', 4.64, 994]\n",
      "['Illinois', '1979-01-03 00:00:00', 11.05, 994]\n",
      "['Illinois', '1979-01-04 00:00:00', 9.51, 994]\n",
      "['Illinois', '1979-05-15 00:00:00', 68.42, 994]\n",
      "['Illinois', '1979-05-16 00:00:00', 70.29, 994]\n",
      "['Illinois', '1979-05-17 00:00:00', 75.34, 994]\n",
      "['Illinois', '1979-05-18 00:00:00', 79.13, 994]\n",
      "['Illinois', '1979-05-19 00:00:00', 74.94, 994]\n"
     ]
    }
   ],
   "source": [
    "#temp_data_pipes_00a.txt\n",
    "import datetime\n",
    "\n",
    "records = open(\"temp_data_pipes_00a.txt\",\"r\",encoding = \"utf-8\").read()\n",
    "records = records.split()\n",
    "for record in records:\n",
    "#     print(record)\n",
    "    if record == \"州|觀察日期|平均溫度(°F)|紀錄數量\":\n",
    "        print(record.split(\"|\"))\n",
    "        continue\n",
    "    cleaned_record = record.split(\"|\")\n",
    "    cleaned_record[1] = str(datetime.datetime.strptime(cleaned_record[1],\"%Y/%m/%d\"))\n",
    "    #cleaned_record[1] = datetime.date.strftime(\"%Y%m%d\")\n",
    "    cleaned_record[2] = float(cleaned_record[2])\n",
    "    cleaned_record[3] = int(cleaned_record[3])\n",
    "    print(cleaned_record)\n",
    "    \n",
    "#\"\"\"你可以使用 list 生成式來轉換這些欄位\"\"\""
   ]
  },
  {
   "cell_type": "code",
   "execution_count": 49,
   "id": "72de851a",
   "metadata": {},
   "outputs": [
    {
     "data": {
      "text/plain": [
       "[['州', '觀察日期', '平均溫度(°F)', '紀錄數量'],\n",
       " ['Illinois', '1979/01/01', '17.48', '994'],\n",
       " ['Illinois', '1979/01/02', '4.64', '994'],\n",
       " ['Illinois', '1979/01/03', '11.05', '994'],\n",
       " ['Illinois', '1979/01/04', '9.51', '994'],\n",
       " ['Illinois', '1979/05/15', '68.42', '994'],\n",
       " ['Illinois', '1979/05/16', '70.29', '994'],\n",
       " ['Illinois', '1979/05/17', '75.34', '994'],\n",
       " ['Illinois', '1979/05/18', '79.13', '994'],\n",
       " ['Illinois', '1979/05/19', '74.94', '994']]"
      ]
     },
     "execution_count": 49,
     "metadata": {},
     "output_type": "execute_result"
    }
   ],
   "source": [
    "results = []\n",
    "for line in open(\"temp_data_pipes_00a.txt\",\"r\",encoding = \"utf-8\"):\n",
    "    fields = line.strip().split(\"|\")\n",
    "    results.append(fields)\n",
    "\n",
    "results"
   ]
  },
  {
   "cell_type": "code",
   "execution_count": 14,
   "id": "50534832",
   "metadata": {},
   "outputs": [
    {
     "name": "stdout",
     "output_type": "stream",
     "text": [
      "[['州', '觀察日期', '平均溫度(°F)', '紀錄數量'], ['Illinois', '1979/01/01', '17.48', '994'], ['Illinois', '1979/01/02', '4.64', '994'], ['Illinois', '1979/01/03', '11.05', '994'], ['Illinois', '1979/01/04', '9.51', '994'], ['Illinois', '1979/05/15', '68.42', '994'], ['Illinois', '1979/05/16', '70.29', '994'], ['Illinois', '1979/05/17', '75.34', '994'], ['Illinois', '1979/05/18', '79.13', '994'], ['Illinois', '1979/05/19', '74.94', '994']]\n"
     ]
    }
   ],
   "source": [
    "import csv\n",
    "results = csv.reader(\n",
    "open(\"temp_data_pipes_00a.txt\",\"r\",encoding = \"utf-8\",newline = \"\"),delimiter = \"|\")\n",
    "print(list(results))"
   ]
  },
  {
   "cell_type": "code",
   "execution_count": 64,
   "id": "e0d32655",
   "metadata": {},
   "outputs": [
    {
     "name": "stdout",
     "output_type": "stream",
     "text": [
      "[['州', '觀察日期', '平均溫度(°F)', '紀錄數量'], ['Illinois', '1979/01/01', '17.48', '994'], ['Illinois', '1979/01/02', '4.64', '994'], ['Illinois', '1979/01/03', '11.05', '994'], ['Illinois', '1979/01/04', '9.51', '994'], ['Illinois', '1979/05/15', '68.42', '994'], ['Illinois', '1979/05/16', '70.29', '994'], ['Illinois', '1979/05/17', '75.34', '994'], ['Illinois', '1979/05/18', '79.13', '994'], ['Illinois', '1979/05/19', '74.94', '994']]\n"
     ]
    }
   ],
   "source": [
    "import csv\n",
    "results = [fields for fields in csv.reader(\n",
    "open(\"temp_data_pipes_00a.txt\",newline = \"\",encoding = \"utf-8\"),delimiter = \"|\")]\n",
    "print(results)"
   ]
  },
  {
   "cell_type": "code",
   "execution_count": 83,
   "id": "6116cf5b",
   "metadata": {},
   "outputs": [
    {
     "name": "stdout",
     "output_type": "stream",
     "text": [
      "[['備註', '州', '州編號', '觀察日期(英文)', '觀察日期(數字)', '平均溫度(°F)', '溫度紀錄數量', '最低溫度(°F)', '最高溫度(°F)', '平均體感溫度(°F)', '體感溫度紀錄數量', '最低體感溫度(°F)', '最高體感溫度(°F)', '體感溫度紀錄數量/溫度紀錄數量百分比'], ['', 'Illinois', '17', 'Jan 01, 1979', '1979/01/01', '17.48', '994', '6.00', '30.50', '2.89', '994', '-13.60', '15.80', 'Missing', '0', 'Missing', 'Missing', '0.00%'], ['', 'Illinois', '17', 'Jan 02, 1979', '1979/01/02', '4.64', '994', '-6.40', '15.80', '-9.03', '994', '-23.60', '6.60', 'Missing', '0', 'Missing', 'Missing', '0.00%'], ['', 'Illinois', '17', 'Jan 03, 1979', '1979/01/03', '11.05', '994', '-0.70', '24.70', '-2.17', '994', '-18.30', '12.90', 'Missing', '0', 'Missing', 'Missing', '0.00%'], ['', 'Illinois', '17', 'Jan 04, 1979', '1979/01/04', '9.51', '994', '0.20', '27.60', '-0.43', '994', '-16.30', '16.30', 'Missing', '0', 'Missing', 'Missing', '0.00%'], ['', 'Illinois', '17', 'May 15, 1979', '1979/05/15', '68.42', '994', '61.00', '75.10', '51.30', '994', '43.30', '57.00', 'Missing', '0', 'Missing', 'Missing', '0.00%'], ['', 'Illinois', '17', 'May 16, 1979', '1979/05/16', '70.29', '994', '63.40', '73.50', '48.09', '994', '41.10', '53.00', 'Missing', '0', 'Missing', 'Missing', '0.00%'], ['', 'Illinois', '17', 'May 17, 1979', '1979/05/17', '75.34', '994', '64.00', '80.50', '50.84', '994', '44.30', '55.70', '82.60', '2', '82.40', '82.80', '0.20%'], ['', 'Illinois', '17', 'May 18, 1979', '1979/05/18', '79.13', '994', '75.50', '82.10', '55.68', '994', '50.00', '61.10', '81.42', '349', '80.20', '83.40', '35.11%'], ['', 'Illinois', '17', 'May 19, 1979', '1979/05/19', '74.94', '994', '66.90', '83.10', '58.59', '994', '50.90', '63.20', '82.87', '78', '81.60', '85.20', '7.85%']]\n"
     ]
    }
   ],
   "source": [
    "results2 = [fields for fields in csv.reader(\n",
    "open(\"temp_data_01.csv\",newline = \"\",encoding = \"utf-8\"))]#newline好像沒有影響\n",
    "print(results2)"
   ]
  },
  {
   "cell_type": "code",
   "execution_count": 81,
   "id": "73f83d26",
   "metadata": {},
   "outputs": [
    {
     "name": "stdout",
     "output_type": "stream",
     "text": [
      "['\"備註\"', '\"州\"', '\"州編號\"', '\"觀察日期(英文)\"', '\"觀察日期(數字)\"', '平均溫度(°F)', '溫度紀錄數量', '最低溫度(°F)', '最高溫度(°F)', '平均體感溫度(°F)', '體感溫度紀錄數量', '最低體感溫度(°F)', '最高體感溫度(°F)', '體感溫度紀錄數量/溫度紀錄數量百分比\\n', '\"Illinois\"', '\"17\"', '\"Jan 01', ' 1979\"', '\"1979/01/01\"', '17.48', '994', '6.00', '30.50', '2.89', '994', '-13.60', '15.80', 'Missing', '0', 'Missing', 'Missing', '0.00%\\n', '\"Illinois\"', '\"17\"', '\"Jan 02', ' 1979\"', '\"1979/01/02\"', '4.64', '994', '-6.40', '15.80', '-9.03', '994', '-23.60', '6.60', 'Missing', '0', 'Missing', 'Missing', '0.00%\\n', '\"Illinois\"', '\"17\"', '\"Jan 03', ' 1979\"', '\"1979/01/03\"', '11.05', '994', '-0.70', '24.70', '-2.17', '994', '-18.30', '12.90', 'Missing', '0', 'Missing', 'Missing', '0.00%\\n', '\"Illinois\"', '\"17\"', '\"Jan 04', ' 1979\"', '\"1979/01/04\"', '9.51', '994', '0.20', '27.60', '-0.43', '994', '-16.30', '16.30', 'Missing', '0', 'Missing', 'Missing', '0.00%\\n', '\"Illinois\"', '\"17\"', '\"May 15', ' 1979\"', '\"1979/05/15\"', '68.42', '994', '61.00', '75.10', '51.30', '994', '43.30', '57.00', 'Missing', '0', 'Missing', 'Missing', '0.00%\\n', '\"Illinois\"', '\"17\"', '\"May 16', ' 1979\"', '\"1979/05/16\"', '70.29', '994', '63.40', '73.50', '48.09', '994', '41.10', '53.00', 'Missing', '0', 'Missing', 'Missing', '0.00%\\n', '\"Illinois\"', '\"17\"', '\"May 17', ' 1979\"', '\"1979/05/17\"', '75.34', '994', '64.00', '80.50', '50.84', '994', '44.30', '55.70', '82.60', '2', '82.40', '82.80', '0.20%\\n', '\"Illinois\"', '\"17\"', '\"May 18', ' 1979\"', '\"1979/05/18\"', '79.13', '994', '75.50', '82.10', '55.68', '994', '50.00', '61.10', '81.42', '349', '80.20', '83.40', '35.11%\\n', '\"Illinois\"', '\"17\"', '\"May 19', ' 1979\"', '\"1979/05/19\"', '74.94', '994', '66.90', '83.10', '58.59', '994', '50.90', '63.20', '82.87', '78', '81.60', '85.20', '7.85%\\n']\n"
     ]
    }
   ],
   "source": [
    "result3 = open(\"temp_data_01.csv\",\"r\",encoding = \"utf-8\").read()\n",
    "print(result3.split(\",\"))"
   ]
  },
  {
   "cell_type": "code",
   "execution_count": 15,
   "id": "0f4101d9",
   "metadata": {},
   "outputs": [
    {
     "data": {
      "text/plain": [
       "{'備註': '',\n",
       " '州': 'Illinois',\n",
       " '州編號': '17',\n",
       " '觀察日期(英文)': 'Jan 01, 1979',\n",
       " '觀察日期(數字)': '1979/01/01',\n",
       " '平均溫度(°F)': '17.48',\n",
       " '溫度紀錄數量': '994',\n",
       " '最低溫度(°F)': '6.00',\n",
       " '最高溫度(°F)': '30.50',\n",
       " '平均體感溫度(°F)': '2.89',\n",
       " '體感溫度紀錄數量': '994',\n",
       " '最低體感溫度(°F)': '-13.60',\n",
       " '最高體感溫度(°F)': '15.80',\n",
       " '體感溫度紀錄數量/溫度紀錄數量百分比': 'Missing',\n",
       " None: ['0', 'Missing', 'Missing', '0.00%']}"
      ]
     },
     "execution_count": 15,
     "metadata": {},
     "output_type": "execute_result"
    }
   ],
   "source": [
    "results = [fields for fields in csv.DictReader(\n",
    "open(\"temp_data_01.csv\",\"r\",newline = \"\",encoding = \"utf-8\"))]\n",
    "results[0]\n",
    "#print(results[1])"
   ]
  },
  {
   "cell_type": "code",
   "execution_count": 17,
   "id": "561fd43a",
   "metadata": {},
   "outputs": [
    {
     "name": "stdout",
     "output_type": "stream",
     "text": [
      "Illinois\n"
     ]
    },
    {
     "data": {
      "text/plain": [
       "'17.48'"
      ]
     },
     "execution_count": 17,
     "metadata": {},
     "output_type": "execute_result"
    }
   ],
   "source": [
    "print(results[0][\"州\"])\n",
    "results[0]['平均溫度(°F)']"
   ]
  },
  {
   "cell_type": "code",
   "execution_count": 24,
   "id": "5a0bc229",
   "metadata": {},
   "outputs": [
    {
     "name": "stdout",
     "output_type": "stream",
     "text": [
      "[['備註', '州', '州編號', '觀察日期(英文)', '觀察日期(數字)', '平均溫度(°F)', '溫度紀錄數量', '最低溫度(°F)', '最高溫度(°F)', '平均體感溫度(°F)', '體感溫度紀錄數量', '最低體感溫度(°F)', '最高體感溫度(°F)', '體感溫度紀錄數量/溫度紀錄數量百分比'], [None, 'Illinois', 17, 'Jan 01, 1979', '1979/01/01', 17.48, 994, 6, 30.5, 'Missing', 0, 'Missing', 'Missing', '0.00%'], [None, 'Illinois', 17, 'Jan 02, 1979', '1979/01/02', 4.64, 994, -6.4, 15.8, 'Missing', 0, 'Missing', 'Missing', '0.00%'], [None, 'Illinois', 17, 'Jan 03, 1979', '1979/01/03', 11.05, 994, -0.7, 24.7, 'Missing', 0, 'Missing', 'Missing', '0.00%'], [None, 'Illinois', 17, 'Jan 04, 1979', '1979/01/04', 9.51, 994, 0.2, 27.6, 'Missing', 0, 'Missing', 'Missing', '0.00%'], [None, 'Illinois', 17, 'May 15, 1979', '1979/05/15', 68.42, 994, 61, 75.1, 'Missing', 0, 'Missing', 'Missing', '0.00%'], [None, 'Illinois', 17, 'May 16, 1979', '1979/05/16', 70.29, 994, 63.4, 73.5, 'Missing', 0, 'Missing', 'Missing', '0.00%'], [None, 'Illinois', 17, 'May 17, 1979', '1979/05/17', 75.34, 994, 64, 80.5, 82.6, 2, 82.4, 82.8, '0.20%'], [None, 'Illinois', 17, 'May 18, 1979', '1979/05/18', 79.13, 994, 75.5, 82.1, 81.42, 349, 80.2, 83.4, '35.11%'], [None, 'Illinois', 17, 'May 19, 1979', '1979/05/19', 74.94, 994, 66.9, 83.1, 82.87, 78, 81.6, 85.2, '7.85%']]\n"
     ]
    }
   ],
   "source": [
    "from openpyxl import load_workbook\n",
    "wb = load_workbook(\"temp_data_01.xlsx\")\n",
    "ws = wb.worksheets[0]\n",
    "results = []\n",
    "for row in ws:\n",
    "    results.append([cell.value for cell in row])\n",
    "    \n",
    "print(results)"
   ]
  },
  {
   "cell_type": "code",
   "execution_count": 104,
   "id": "f07612f9",
   "metadata": {},
   "outputs": [
    {
     "name": "stdout",
     "output_type": "stream",
     "text": [
      "[['備註', '州', '州編號', '觀察日期(英文)', '觀察日期(數字)', '平均溫度(°F)', '溫度紀錄數量', '最低溫度(°F)', '最高溫度(°F)', '平均體感溫度(°F)', '體感溫度紀錄數量', '最低體感溫度(°F)', '最高體感溫度(°F)', '體感溫度紀錄數量/溫度紀錄數量百分比'], [None, 'Illinois', 17, 'Jan 01, 1979', '1979/01/01', 17.48, 994, 6, 30.5, 'Missing', 0, 'Missing', 'Missing', '0.00%'], [None, 'Illinois', 17, 'Jan 02, 1979', '1979/01/02', 4.64, 994, -6.4, 15.8, 'Missing', 0, 'Missing', 'Missing', '0.00%'], [None, 'Illinois', 17, 'Jan 03, 1979', '1979/01/03', 11.05, 994, -0.7, 24.7, 'Missing', 0, 'Missing', 'Missing', '0.00%'], [None, 'Illinois', 17, 'Jan 04, 1979', '1979/01/04', 9.51, 994, 0.2, 27.6, 'Missing', 0, 'Missing', 'Missing', '0.00%'], [None, 'Illinois', 17, 'May 15, 1979', '1979/05/15', 68.42, 994, 61, 75.1, 'Missing', 0, 'Missing', 'Missing', '0.00%'], [None, 'Illinois', 17, 'May 16, 1979', '1979/05/16', 70.29, 994, 63.4, 73.5, 'Missing', 0, 'Missing', 'Missing', '0.00%'], [None, 'Illinois', 17, 'May 17, 1979', '1979/05/17', 75.34, 994, 64, 80.5, 82.6, 2, 82.4, 82.8, '0.20%'], [None, 'Illinois', 17, 'May 18, 1979', '1979/05/18', 79.13, 994, 75.5, 82.1, 81.42, 349, 80.2, 83.4, '35.11%'], [None, 'Illinois', 17, 'May 19, 1979', '1979/05/19', 74.94, 994, 66.9, 83.1, 82.87, 78, 81.6, 85.2, '7.85%']]\n"
     ]
    }
   ],
   "source": [
    "from openpyxl import load_workbook\n",
    "wb = load_workbook(\"temp_data_01.xlsx\")\n",
    "results = []\n",
    "ws = wb.worksheets[0]\n",
    "for row in ws.iter_rows():\n",
    "    results.append([cell.value for cell in row])\n",
    "\n",
    "print(results)"
   ]
  },
  {
   "cell_type": "code",
   "execution_count": 29,
   "id": "438789af",
   "metadata": {},
   "outputs": [
    {
     "name": "stdout",
     "output_type": "stream",
     "text": [
      "[['name', 'id', 'chi', 'eng', 'math'], ['marry', 9096003, 70, 88, 99], ['jack', 9096005, 99, 77, 66], ['tom', 9096006, 100, 66, 77]]\n"
     ]
    }
   ],
   "source": [
    "from openpyxl import load_workbook\n",
    "wb = load_workbook(\"score-del.xlsx\")\n",
    "ws = wb.worksheets[0]\n",
    "results = []\n",
    "\n",
    "for row in ws.iter_rows():\n",
    "    results.append([cell.value for cell in row])\n",
    "print(results)"
   ]
  },
  {
   "cell_type": "code",
   "execution_count": 15,
   "id": "d78f65c5",
   "metadata": {},
   "outputs": [
    {
     "data": {
      "text/plain": [
       "[['name', 'id', 'chi', 'eng', 'math'],\n",
       " ['marry', 9096003, 70, 88, 99],\n",
       " ['jack', 9096005, 99, 77, 66],\n",
       " ['tom', 9096006, 100, 66, 77]]"
      ]
     },
     "execution_count": 15,
     "metadata": {},
     "output_type": "execute_result"
    }
   ],
   "source": [
    "from openpyxl import load_workbook\n",
    "\n",
    "wb = load_workbook(\"score-del.xlsx\")\n",
    "ws = wb.worksheets[0]\n",
    "results = []\n",
    "for row in ws.iter_rows():\n",
    "    results.append([cell.value for cell in row])\n",
    "    \n",
    "results"
   ]
  },
  {
   "cell_type": "code",
   "execution_count": 13,
   "id": "2345ffb7",
   "metadata": {},
   "outputs": [
    {
     "ename": "ValueError",
     "evalue": "could not convert string to float: '體感溫度紀錄數量/溫度紀錄數量百分比'",
     "output_type": "error",
     "traceback": [
      "\u001b[1;31m---------------------------------------------------------------------------\u001b[0m",
      "\u001b[1;31mValueError\u001b[0m                                Traceback (most recent call last)",
      "Cell \u001b[1;32mIn[13], line 6\u001b[0m\n\u001b[0;32m      1\u001b[0m \u001b[38;5;66;03m# if value == \"Missing\":\u001b[39;00m\n\u001b[0;32m      2\u001b[0m \u001b[38;5;66;03m#     print(None)\u001b[39;00m\n\u001b[0;32m      3\u001b[0m \u001b[38;5;66;03m# else:\u001b[39;00m\n\u001b[0;32m      4\u001b[0m \u001b[38;5;66;03m#     value * ?\u001b[39;00m\n\u001b[1;32m----> 6\u001b[0m clean_field \u001b[38;5;241m=\u001b[39m [\u001b[38;5;28mfloat\u001b[39m(x[\u001b[38;5;241m13\u001b[39m]) \u001b[38;5;28;01mfor\u001b[39;00m x \u001b[38;5;129;01min\u001b[39;00m data_rows \u001b[38;5;28;01mif\u001b[39;00m x[\u001b[38;5;241m13\u001b[39m] \u001b[38;5;241m!=\u001b[39m \u001b[38;5;124m'\u001b[39m\u001b[38;5;124mMissing\u001b[39m\u001b[38;5;124m'\u001b[39m]\n\u001b[0;32m      7\u001b[0m average \u001b[38;5;241m=\u001b[39m \u001b[38;5;28msum\u001b[39m(clean_field)\u001b[38;5;241m/\u001b[39m\u001b[38;5;28mlen\u001b[39m(clean_field)\n",
      "Cell \u001b[1;32mIn[13], line 6\u001b[0m, in \u001b[0;36m<listcomp>\u001b[1;34m(.0)\u001b[0m\n\u001b[0;32m      1\u001b[0m \u001b[38;5;66;03m# if value == \"Missing\":\u001b[39;00m\n\u001b[0;32m      2\u001b[0m \u001b[38;5;66;03m#     print(None)\u001b[39;00m\n\u001b[0;32m      3\u001b[0m \u001b[38;5;66;03m# else:\u001b[39;00m\n\u001b[0;32m      4\u001b[0m \u001b[38;5;66;03m#     value * ?\u001b[39;00m\n\u001b[1;32m----> 6\u001b[0m clean_field \u001b[38;5;241m=\u001b[39m [\u001b[38;5;28;43mfloat\u001b[39;49m\u001b[43m(\u001b[49m\u001b[43mx\u001b[49m\u001b[43m[\u001b[49m\u001b[38;5;241;43m13\u001b[39;49m\u001b[43m]\u001b[49m\u001b[43m)\u001b[49m \u001b[38;5;28;01mfor\u001b[39;00m x \u001b[38;5;129;01min\u001b[39;00m data_rows \u001b[38;5;28;01mif\u001b[39;00m x[\u001b[38;5;241m13\u001b[39m] \u001b[38;5;241m!=\u001b[39m \u001b[38;5;124m'\u001b[39m\u001b[38;5;124mMissing\u001b[39m\u001b[38;5;124m'\u001b[39m]\n\u001b[0;32m      7\u001b[0m average \u001b[38;5;241m=\u001b[39m \u001b[38;5;28msum\u001b[39m(clean_field)\u001b[38;5;241m/\u001b[39m\u001b[38;5;28mlen\u001b[39m(clean_field)\n",
      "\u001b[1;31mValueError\u001b[0m: could not convert string to float: '體感溫度紀錄數量/溫度紀錄數量百分比'"
     ]
    }
   ],
   "source": [
    "# if value == \"Missing\":\n",
    "#     print(None)\n",
    "# else:\n",
    "#     value * ?\n",
    "    \n",
    "clean_field = [float(x[13]) for x in data_rows if x[13] != 'Missing']\n",
    "average = sum(clean_field)/len(clean_field)"
   ]
  },
  {
   "cell_type": "code",
   "execution_count": 5,
   "id": "dd0685cd",
   "metadata": {},
   "outputs": [],
   "source": [
    "import csv\n",
    "data = [fields for fields in csv.reader(\n",
    "open(\"temp_data_pipes_00a.txt\",\"r\",encoding = \"utf-8\",newline = \"\"),delimiter = \"|\")]\n",
    "\n",
    "csv.writer(\n",
    "open(\"temp_data_02.csv\",\"w\",encoding = \"utf-8\",newline = \"\"),delimiter = \"|\").writerows(data)"
   ]
  },
  {
   "cell_type": "code",
   "execution_count": 7,
   "id": "63e18086",
   "metadata": {},
   "outputs": [
    {
     "name": "stdout",
     "output_type": "stream",
     "text": [
      "[{'州': 'Illinois', '觀察日期': '1979/01/01', '平均溫度(°F)': '17.48', '紀錄數量': '994'}, {'州': 'Illinois', '觀察日期': '1979/01/02', '平均溫度(°F)': '4.64', '紀錄數量': '994'}]\n"
     ]
    }
   ],
   "source": [
    "import csv\n",
    "data = [fields for fields in csv.DictReader(\n",
    "    open(\"temp_data_02.csv\",\"r\",encoding = \"utf-8\",newline = \"\"),delimiter = \"|\")]\n",
    "wanted_data = data[0:2]\n",
    "print(wanted_data)\n",
    "\n",
    "fields = [\"州\",\"觀察日期\",\"平均溫度(°F)\",\"紀錄數量\"]\n",
    "with open(\"temp_data_03.csv\",\"w\",newline = \"\",encoding = \"utf-8\") as f:\n",
    "    dict_writer = csv.DictWriter(f,fieldnames = fields)\n",
    "    dict_writer.writeheader()\n",
    "    dict_writer.writerows(wanted_data)"
   ]
  },
  {
   "cell_type": "code",
   "execution_count": 10,
   "id": "b1c664f3",
   "metadata": {},
   "outputs": [
    {
     "name": "stdout",
     "output_type": "stream",
     "text": [
      "[['備註', '州', '州編號', '觀察日期(英文)', '觀察日期(數字)', '平均溫度(°F)', '溫度紀錄數量', '最低溫度(°F)', '最高溫度(°F)', '平均體感溫度(°F)', '體感溫度紀錄數量', '最低體感溫度(°F)', '最高體感溫度(°F)', '體感溫度紀錄數量/溫度紀錄數量百分比'], ['', 'Illinois', '17', 'Jan 01, 1979', '1979/01/01', '17.48', '994', '6.00', '30.50', '2.89', '994', '-13.60', '15.80', 'Missing', '0', 'Missing', 'Missing', '0.00%'], ['', 'Illinois', '17', 'Jan 02, 1979', '1979/01/02', '4.64', '994', '-6.40', '15.80', '-9.03', '994', '-23.60', '6.60', 'Missing', '0', 'Missing', 'Missing', '0.00%'], ['', 'Illinois', '17', 'Jan 03, 1979', '1979/01/03', '11.05', '994', '-0.70', '24.70', '-2.17', '994', '-18.30', '12.90', 'Missing', '0', 'Missing', 'Missing', '0.00%'], ['', 'Illinois', '17', 'Jan 04, 1979', '1979/01/04', '9.51', '994', '0.20', '27.60', '-0.43', '994', '-16.30', '16.30', 'Missing', '0', 'Missing', 'Missing', '0.00%'], ['', 'Illinois', '17', 'May 15, 1979', '1979/05/15', '68.42', '994', '61.00', '75.10', '51.30', '994', '43.30', '57.00', 'Missing', '0', 'Missing', 'Missing', '0.00%'], ['', 'Illinois', '17', 'May 16, 1979', '1979/05/16', '70.29', '994', '63.40', '73.50', '48.09', '994', '41.10', '53.00', 'Missing', '0', 'Missing', 'Missing', '0.00%'], ['', 'Illinois', '17', 'May 17, 1979', '1979/05/17', '75.34', '994', '64.00', '80.50', '50.84', '994', '44.30', '55.70', '82.60', '2', '82.40', '82.80', '0.20%'], ['', 'Illinois', '17', 'May 18, 1979', '1979/05/18', '79.13', '994', '75.50', '82.10', '55.68', '994', '50.00', '61.10', '81.42', '349', '80.20', '83.40', '35.11%'], ['', 'Illinois', '17', 'May 19, 1979', '1979/05/19', '74.94', '994', '66.90', '83.10', '58.59', '994', '50.90', '63.20', '82.87', '78', '81.60', '85.20', '7.85%']]\n"
     ]
    }
   ],
   "source": [
    "from openpyxl import Workbook\n",
    "data_rows = [fields for fields in csv.reader(\n",
    "open(\"temp_data_01.csv\",\"r\",newline = \"\",encoding = \"utf-8\"))]\n",
    "\n",
    "wb = Workbook()\n",
    "ws = wb.active\n",
    "ws.title = \"temperature data\"#工作表名\n",
    "for row in data_rows:\n",
    "    ws.append(row)\n",
    "    \n",
    "wb.save(\"temp_data_02.xlsx\")#檔名"
   ]
  }
 ],
 "metadata": {
  "kernelspec": {
   "display_name": "Python 3 (ipykernel)",
   "language": "python",
   "name": "python3"
  },
  "language_info": {
   "codemirror_mode": {
    "name": "ipython",
    "version": 3
   },
   "file_extension": ".py",
   "mimetype": "text/x-python",
   "name": "python",
   "nbconvert_exporter": "python",
   "pygments_lexer": "ipython3",
   "version": "3.10.9"
  }
 },
 "nbformat": 4,
 "nbformat_minor": 5
}
