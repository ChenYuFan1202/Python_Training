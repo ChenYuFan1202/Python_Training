{
 "cells": [
  {
   "cell_type": "code",
   "execution_count": 3,
   "id": "040d0828",
   "metadata": {},
   "outputs": [
    {
     "data": {
      "text/plain": [
       "{'Mary': 13, 'John': 14, 'Tony': 13, 'Peter': 12}"
      ]
     },
     "execution_count": 3,
     "metadata": {},
     "output_type": "execute_result"
    }
   ],
   "source": [
    "ages = {\"Mary\":13,\"John\":14,\"Tony\":13}\n",
    "ages[\"Mary\"]\n",
    "ages[\"Peter\"] = 12\n",
    "ages"
   ]
  },
  {
   "cell_type": "code",
   "execution_count": 8,
   "id": "6d815738",
   "metadata": {},
   "outputs": [
    {
     "name": "stdout",
     "output_type": "stream",
     "text": [
      "Hello\n"
     ]
    },
    {
     "data": {
      "text/plain": [
       "'Goodbye, Friend.'"
      ]
     },
     "execution_count": 8,
     "metadata": {},
     "output_type": "execute_result"
    }
   ],
   "source": [
    "x = []\n",
    "y = {}\n",
    "y[0] = \"Hello\"\n",
    "y[1] = \"Goodbye\"\n",
    "#x[0] = \"Hello\"\n",
    "print(y[0])\n",
    "y[1] + \", Friend.\""
   ]
  },
  {
   "cell_type": "code",
   "execution_count": 11,
   "id": "576119a5",
   "metadata": {},
   "outputs": [
    {
     "data": {
      "text/plain": [
       "6.28"
      ]
     },
     "execution_count": 11,
     "metadata": {},
     "output_type": "execute_result"
    }
   ],
   "source": [
    "y = {}\n",
    "y[\"two\"] = \"two\"\n",
    "y\n",
    "y[\"two\"] = 2\n",
    "y\n",
    "y[\"pi\"] = 3.14\n",
    "y[\"two\"] * y[\"pi\"]"
   ]
  },
  {
   "cell_type": "code",
   "execution_count": 13,
   "id": "6edf415a",
   "metadata": {},
   "outputs": [
    {
     "name": "stdout",
     "output_type": "stream",
     "text": [
      "red is rogue\n"
     ]
    }
   ],
   "source": [
    "english_to_french = {}\n",
    "english_to_french[\"red\"] = \"rogue\"\n",
    "english_to_french[\"blue\"] = \"bleu\"\n",
    "english_to_french[\"green\"] = \"vert\"\n",
    "print(\"red is\", english_to_french[\"red\"])"
   ]
  },
  {
   "cell_type": "code",
   "execution_count": 15,
   "id": "bb95ef0d",
   "metadata": {},
   "outputs": [
    {
     "name": "stdout",
     "output_type": "stream",
     "text": [
      "輸入第一個人的名字? 范振宇\n",
      "輸入第一個人的年齡?20\n",
      "輸入第二個人的名字? 范振華\n",
      "輸入第二個人的年齡?22\n",
      "輸入第三個人的名字? 黃卉君\n",
      "輸入第三個人的年齡?21\n",
      "請輸入一個名字? 黃卉君\n"
     ]
    },
    {
     "data": {
      "text/plain": [
       "21"
      ]
     },
     "execution_count": 15,
     "metadata": {},
     "output_type": "execute_result"
    }
   ],
   "source": [
    "# name1 = input(\"輸入第一個人的名字? \")#范振宇\n",
    "# age1 = int(input(\"輸入第一個人的年齡?\"))#20\n",
    "# name2 = input(\"輸入第二個人的名字? \")#范振華\n",
    "# age2 = int(input(\"輸入第二個人的年齡?\"))#22\n",
    "# name3 = input(\"輸入第三個人的名字? \")#黃卉君\n",
    "# age3 = int(input(\"輸入第三個人的年齡?\"))#21\n",
    "name_age = {}\n",
    "name_age[name1] = age1\n",
    "name_age[name2] = age2\n",
    "name_age[name3] = age3\n",
    "respondence = input(\"請輸入一個名字? \")\n",
    "name_age[respondence]"
   ]
  },
  {
   "cell_type": "code",
   "execution_count": 12,
   "id": "2daf5048",
   "metadata": {},
   "outputs": [
    {
     "name": "stdout",
     "output_type": "stream",
     "text": [
      "Name? 1\n",
      "Age? 2\n",
      "Name? 3\n",
      "Age? 4\n",
      "Name? 5\n",
      "Age? 6\n",
      "Name to find? 3\n",
      "4\n"
     ]
    }
   ],
   "source": [
    "name_age = {}\n",
    "for i in range(3):\n",
    "    name = input(\"Name? \")\n",
    "    age = int(input(\"Age? \"))\n",
    "    name_age[name] = age\n",
    "name_choice = input(\"Name to find? \")\n",
    "print(name_age[name_choice])\n",
    "# Name? Tom\n",
    "# Age? 33\n",
    "# Name? Talita\n",
    "# Age? 28\n",
    "# Name? Rania\n",
    "# Age? 35\n",
    "# Name to find? Talita\n",
    "# 28"
   ]
  },
  {
   "cell_type": "code",
   "execution_count": 9,
   "id": "5d9e44d1",
   "metadata": {},
   "outputs": [
    {
     "data": {
      "text/plain": [
       "[('red', 'rogue'), ('blue', 'bleu'), ('green', 'vert')]"
      ]
     },
     "execution_count": 9,
     "metadata": {},
     "output_type": "execute_result"
    }
   ],
   "source": [
    "english_to_french = {\"red\":\"rogue\",\"blue\":\"bleu\",\"green\":\"vert\"}\n",
    "english_to_french\n",
    "len(english_to_french)\n",
    "list(english_to_french.keys())\n",
    "list(english_to_french.values())\n",
    "list(english_to_french.items())"
   ]
  },
  {
   "cell_type": "code",
   "execution_count": 37,
   "id": "6bd7455c",
   "metadata": {},
   "outputs": [
    {
     "data": {
      "text/plain": [
       "False"
      ]
     },
     "execution_count": 37,
     "metadata": {},
     "output_type": "execute_result"
    }
   ],
   "source": [
    "english_to_french = {\"red\":\"rogue\",\"blue\":\"bleu\",\"green\":\"vert\"}\n",
    "list(english_to_french.items())\n",
    "del(english_to_french[\"green\"])\n",
    "list(english_to_french.items())\n",
    "\"red\" in english_to_french\n",
    "\"orange\" in english_to_french"
   ]
  },
  {
   "cell_type": "code",
   "execution_count": 41,
   "id": "0a51f43a",
   "metadata": {},
   "outputs": [
    {
     "name": "stdout",
     "output_type": "stream",
     "text": [
      "bleu\n",
      "No translation\n",
      "None\n"
     ]
    }
   ],
   "source": [
    "english_to_french = {\"red\":\"rogue\",\"blue\":\"bleu\",\"green\":\"vert\"}\n",
    "print(english_to_french.get(\"blue\",\"No translation\"))\n",
    "print(english_to_french.get(\"chartreuse\",\"No translation\"))\n",
    "print(english_to_french.get(\"chartreuse\"))"
   ]
  },
  {
   "cell_type": "code",
   "execution_count": 48,
   "id": "c5677377",
   "metadata": {},
   "outputs": [
    {
     "name": "stdout",
     "output_type": "stream",
     "text": [
      "No translation\n",
      "{'red': 'rogue', 'blue': 'bleu', 'green': 'vert', 'chartreuse': 'No translation'}\n"
     ]
    }
   ],
   "source": [
    "english_to_french = {\"red\":\"rogue\",\"blue\":\"bleu\",\"green\":\"vert\"}\n",
    "print(english_to_french.setdefault(\"chartreuse\",\"No translation\"))\n",
    "print(english_to_french)"
   ]
  },
  {
   "cell_type": "code",
   "execution_count": 14,
   "id": "736995d0",
   "metadata": {},
   "outputs": [
    {
     "data": {
      "text/plain": [
       "{0: 'zero', 1: 'one'}"
      ]
     },
     "execution_count": 14,
     "metadata": {},
     "output_type": "execute_result"
    }
   ],
   "source": [
    "x = {0:\"zero\",1:\"one\"}\n",
    "y = x.copy()\n",
    "y"
   ]
  },
  {
   "cell_type": "code",
   "execution_count": 56,
   "id": "7d9086e3",
   "metadata": {},
   "outputs": [
    {
     "data": {
      "text/plain": [
       "{1: 'one', 2: 'Two', 0: 'zero'}"
      ]
     },
     "execution_count": 56,
     "metadata": {},
     "output_type": "execute_result"
    }
   ],
   "source": [
    "x = {0:\"zero\",1:\"one\"}\n",
    "z = {1:\"One\",2:\"Two\"}\n",
    "# x.update(z)\n",
    "# x\n",
    "z.update(x)\n",
    "z"
   ]
  },
  {
   "cell_type": "code",
   "execution_count": 58,
   "id": "9fe670b7",
   "metadata": {},
   "outputs": [
    {
     "name": "stdout",
     "output_type": "stream",
     "text": [
      "{'a': 1, 'b': 2, 'c': 3}\n",
      "{'a': 1, 'b': 2, 'c': 3, 'g': 7}\n",
      "{'a': 6, 'b': 2, 'c': 3, 'g': 7, 'e': 5, 'f': 6}\n"
     ]
    }
   ],
   "source": [
    "x = {'a':1, 'b':2, 'c':3, 'd':4}\n",
    "y = {'a':6, 'e':5, 'f':6}\n",
    "del(x[\"d\"])\n",
    "print(x)\n",
    "z = x.setdefault(\"g\",7)\n",
    "print(x)\n",
    "x.update(y)\n",
    "print(x)"
   ]
  },
  {
   "cell_type": "code",
   "execution_count": 16,
   "id": "b565ca94",
   "metadata": {},
   "outputs": [
    {
     "name": "stdout",
     "output_type": "stream",
     "text": [
      "The word To occurs 1 times in the string\n",
      "The word be occurs 2 times in the string\n",
      "The word or occurs 1 times in the string\n",
      "The word not occurs 1 times in the string\n",
      "The word to occurs 1 times in the string\n"
     ]
    }
   ],
   "source": [
    "sample_string = \"To be or not to be\"\n",
    "occurrences = {}\n",
    "for word in sample_string.split():\n",
    "    occurrences[word] = occurrences.get(word,0) + 1\n",
    "    \n",
    "for word in occurrences:\n",
    "    print(\"The word\",word,\"occurs\",occurrences[word],\\\n",
    "         \"times in the string\")"
   ]
  },
  {
   "cell_type": "code",
   "execution_count": 61,
   "id": "49048e35",
   "metadata": {},
   "outputs": [
    {
     "data": {
      "text/plain": [
       "0"
      ]
     },
     "execution_count": 61,
     "metadata": {},
     "output_type": "execute_result"
    }
   ],
   "source": [
    "matrix = [[3,0,-2,11],[0,9,0,0],[0,7,0,0],[0,0,0,-5]]\n",
    "element = matrix[0][1]\n",
    "element"
   ]
  },
  {
   "cell_type": "code",
   "execution_count": 71,
   "id": "05120382",
   "metadata": {},
   "outputs": [
    {
     "name": "stdout",
     "output_type": "stream",
     "text": [
      "3\n"
     ]
    }
   ],
   "source": [
    "matrix = {(0,0):3,(0,2):-2,(0,3):11,\n",
    "         (1,1):9,(2,1):7,(3,3):-5}\n",
    "# if (0,2) in matrix:\n",
    "#     element = matrix[(0,2)]\n",
    "# else:\n",
    "#     element = 0\n",
    "element = matrix.get((0,0),0)\n",
    "print(element)"
   ]
  },
  {
   "cell_type": "code",
   "execution_count": 17,
   "id": "2db2b4c4",
   "metadata": {},
   "outputs": [],
   "source": [
    "sole_cache = {}\n",
    "def sole(m,n,t):\n",
    "    if (m,n,t) in sole_cache:\n",
    "        return sole_cache[(m,n,t)]\n",
    "    else:\n",
    "        #對m,n,t進行一些計算\n",
    "        sole_cache[(m,n,t)] = result\n",
    "        return result"
   ]
  },
  {
   "cell_type": "code",
   "execution_count": 72,
   "id": "485f1681",
   "metadata": {},
   "outputs": [
    {
     "name": "stdout",
     "output_type": "stream",
     "text": [
      "100\n"
     ]
    }
   ],
   "source": [
    "sheet = {}\n",
    "sheet[(\"A\",1)] = 100\n",
    "sheet[(\"B\",1)] = 1000\n",
    "print(sheet[(\"A\",1)])"
   ]
  },
  {
   "cell_type": "code",
   "execution_count": 2,
   "id": "a05a0bc2",
   "metadata": {},
   "outputs": [
    {
     "name": "stdout",
     "output_type": "stream",
     "text": [
      "[('call', 1), ('ishmael', 1), ('years', 1), ('ago', 1), ('never', 1), ('mind', 1), ('how', 1), ('long', 1), ('precisely', 1), ('having', 1), ('no', 1), ('money', 1), ('purse', 1), ('particular', 1), ('interest', 1), ('on', 1), ('shore', 1), ('thought', 1), ('would', 1), ('sail', 1), ('see', 1), ('watery', 1), ('part', 1), ('world', 1), ('way', 1), ('have', 1), ('driving', 1), ('spleen', 1), ('regulating', 1), ('circulation', 1), ('growing', 1), ('grim', 1), ('mouth', 1), ('damp', 1), ('drizzly', 1), ('november', 1), ('soul', 1), ('involuntarily', 1), ('pausing', 1), ('before', 1), ('coffin', 1), ('warehouses', 1), ('bringing', 1), ('up', 1), ('rear', 1), ('every', 1), ('funeral', 1), ('meet', 1), ('especially', 1), ('hypos', 1), ('such', 1), ('an', 1), ('upper', 1), ('hand', 1), ('requires', 1), ('strong', 1), ('moral', 1), ('principle', 1), ('prevent', 1), ('from', 1), ('deliberately', 1), ('stepping', 1), ('into', 1), ('street', 1), ('methodically', 1), ('knocking', 1), (\"people's\", 1), ('hats', 1), ('then', 1), ('account', 1), ('high', 1), ('sea', 1), ('soon', 1), ('can', 1), ('substitute', 1), ('for', 1), ('pistol', 1), ('ball', 1), ('philosophical', 1), ('flourish', 1), ('cato', 1), ('throws', 1), ('himself', 1), ('upon', 1), ('his', 1), ('sword', 1), ('quietly', 1), ('ship', 1), ('surprising', 1), ('if', 1), ('they', 1), ('but', 1), ('knew', 1), ('almost', 1), ('all', 1), ('men', 1), ('their', 1), ('degree', 1), ('other', 1), ('cherish', 1), ('very', 1), ('nearly', 1), ('same', 1), ('feelings', 1), ('towards', 1), ('ocean', 1), ('now', 1), ('your', 1), ('insular', 1), ('city', 1), ('manhattoes', 1), ('belted', 1), ('round', 1), ('wharves', 1), ('indian', 1), ('isles', 1), ('coral', 1), ('reefs', 1), ('commerce', 1), ('surrounds', 1), ('her', 1), ('surf', 1), ('right', 1), ('left', 1), ('streets', 1), ('you', 1), ('waterward', 1), ('its', 1), ('extreme', 1), ('downtown', 1), ('battery', 1), ('where', 1), ('noble', 1), ('mole', 1), ('washed', 1), ('waves', 1), ('cooled', 1), ('breezes', 1), ('which', 1), ('few', 1), ('hours', 1), ('previous', 1), ('were', 1), ('out', 1), ('sight', 1), ('land', 1), ('look', 1), ('at', 1), ('crowds', 1), ('water', 1), ('gazers', 1), ('some', 2), ('little', 2), ('or', 2), ('nothing', 2), ('about', 2), ('off', 2), ('find', 2), ('myself', 2), ('get', 2), ('that', 2), ('time', 2), ('this', 2), ('take', 2), ('as', 3), ('with', 3), ('there', 3), ('in', 4), ('my', 4), ('whenever', 4), ('by', 4), ('me', 5), ('to', 5), ('a', 6), ('it', 6), ('is', 7), ('of', 8), ('and', 9), ('i', 9), ('the', 14)]\n",
      "\n",
      "[('is', 7), ('of', 8), ('and', 9), ('i', 9), ('the', 14)]\n"
     ]
    },
    {
     "data": {
      "text/plain": [
       "[('call', 1), ('ishmael', 1), ('years', 1), ('ago', 1), ('never', 1)]"
      ]
     },
     "execution_count": 2,
     "metadata": {},
     "output_type": "execute_result"
    }
   ],
   "source": [
    "moby_word = open(\"moby_01_clean.txt\")\n",
    "dic = {}\n",
    "lis = []\n",
    "for word in moby_word:\n",
    "    if word.strip():\n",
    "        #print(word.strip())\n",
    "        lis.append(word.strip())\n",
    "#lis\n",
    "for word in lis:\n",
    "    dic[word] = dic.get(word,0) + 1\n",
    "lis1 = list(dic.items())\n",
    "#lis1\n",
    "\n",
    "# def s(n):\n",
    "#     return n[1]\n",
    "\n",
    "lis1.sort(key = lambda f : f[1])\n",
    "print(lis1,end = \"\\n\\n\")\n",
    "\n",
    "print(list(reversed(lis1[-5:])))\n",
    "\n",
    "list((lis1[:5]))"
   ]
  },
  {
   "cell_type": "code",
   "execution_count": 29,
   "id": "82c57763",
   "metadata": {},
   "outputs": [
    {
     "name": "stdout",
     "output_type": "stream",
     "text": [
      "('call', 1)\n",
      "('ishmael', 1)\n",
      "('years', 1)\n",
      "('ago', 1)\n",
      "('never', 1)\n",
      "('mind', 1)\n",
      "('how', 1)\n",
      "('long', 1)\n",
      "('precisely', 1)\n",
      "('having', 1)\n",
      "('no', 1)\n",
      "('money', 1)\n",
      "('purse', 1)\n",
      "('particular', 1)\n",
      "('interest', 1)\n",
      "('on', 1)\n",
      "('shore', 1)\n",
      "('thought', 1)\n",
      "('would', 1)\n",
      "('sail', 1)\n",
      "('see', 1)\n",
      "('watery', 1)\n",
      "('part', 1)\n",
      "('world', 1)\n",
      "('way', 1)\n",
      "('have', 1)\n",
      "('driving', 1)\n",
      "('spleen', 1)\n",
      "('regulating', 1)\n",
      "('circulation', 1)\n",
      "('growing', 1)\n",
      "('grim', 1)\n",
      "('mouth', 1)\n",
      "('damp', 1)\n",
      "('drizzly', 1)\n",
      "('november', 1)\n",
      "('soul', 1)\n",
      "('involuntarily', 1)\n",
      "('pausing', 1)\n",
      "('before', 1)\n",
      "('coffin', 1)\n",
      "('warehouses', 1)\n",
      "('bringing', 1)\n",
      "('up', 1)\n",
      "('rear', 1)\n",
      "('every', 1)\n",
      "('funeral', 1)\n",
      "('meet', 1)\n",
      "('especially', 1)\n",
      "('hypos', 1)\n",
      "('such', 1)\n",
      "('an', 1)\n",
      "('upper', 1)\n",
      "('hand', 1)\n",
      "('requires', 1)\n",
      "('strong', 1)\n",
      "('moral', 1)\n",
      "('principle', 1)\n",
      "('prevent', 1)\n",
      "('from', 1)\n",
      "('deliberately', 1)\n",
      "('stepping', 1)\n",
      "('into', 1)\n",
      "('street', 1)\n",
      "('methodically', 1)\n",
      "('knocking', 1)\n",
      "(\"people's\", 1)\n",
      "('hats', 1)\n",
      "('then', 1)\n",
      "('account', 1)\n",
      "('high', 1)\n",
      "('sea', 1)\n",
      "('soon', 1)\n",
      "('can', 1)\n",
      "('substitute', 1)\n",
      "('for', 1)\n",
      "('pistol', 1)\n",
      "('ball', 1)\n",
      "('philosophical', 1)\n",
      "('flourish', 1)\n",
      "('cato', 1)\n",
      "('throws', 1)\n",
      "('himself', 1)\n",
      "('upon', 1)\n",
      "('his', 1)\n",
      "('sword', 1)\n",
      "('quietly', 1)\n",
      "('ship', 1)\n",
      "('surprising', 1)\n",
      "('if', 1)\n",
      "('they', 1)\n",
      "('but', 1)\n",
      "('knew', 1)\n",
      "('almost', 1)\n",
      "('all', 1)\n",
      "('men', 1)\n",
      "('their', 1)\n",
      "('degree', 1)\n",
      "('other', 1)\n",
      "('cherish', 1)\n",
      "('very', 1)\n",
      "('nearly', 1)\n",
      "('same', 1)\n",
      "('feelings', 1)\n",
      "('towards', 1)\n",
      "('ocean', 1)\n",
      "('now', 1)\n",
      "('your', 1)\n",
      "('insular', 1)\n",
      "('city', 1)\n",
      "('manhattoes', 1)\n",
      "('belted', 1)\n",
      "('round', 1)\n",
      "('wharves', 1)\n",
      "('indian', 1)\n",
      "('isles', 1)\n",
      "('coral', 1)\n",
      "('reefs', 1)\n",
      "('commerce', 1)\n",
      "('surrounds', 1)\n",
      "('her', 1)\n",
      "('surf', 1)\n",
      "('right', 1)\n",
      "('left', 1)\n",
      "('streets', 1)\n",
      "('you', 1)\n",
      "('waterward', 1)\n",
      "('its', 1)\n",
      "('extreme', 1)\n",
      "('downtown', 1)\n",
      "('battery', 1)\n",
      "('where', 1)\n",
      "('noble', 1)\n",
      "('mole', 1)\n",
      "('washed', 1)\n",
      "('waves', 1)\n",
      "('cooled', 1)\n",
      "('breezes', 1)\n",
      "('which', 1)\n",
      "('few', 1)\n",
      "('hours', 1)\n",
      "('previous', 1)\n",
      "('were', 1)\n",
      "('out', 1)\n",
      "('sight', 1)\n",
      "('land', 1)\n",
      "('look', 1)\n",
      "('at', 1)\n",
      "('crowds', 1)\n",
      "('water', 1)\n",
      "('gazers', 1)\n",
      "('some', 2)\n",
      "('little', 2)\n",
      "('or', 2)\n",
      "('nothing', 2)\n",
      "('about', 2)\n",
      "('off', 2)\n",
      "('find', 2)\n",
      "('myself', 2)\n",
      "('get', 2)\n",
      "('that', 2)\n",
      "('time', 2)\n",
      "('this', 2)\n",
      "('take', 2)\n",
      "('as', 3)\n",
      "('with', 3)\n",
      "('there', 3)\n",
      "('in', 4)\n",
      "('my', 4)\n",
      "('whenever', 4)\n",
      "('by', 4)\n",
      "('me', 5)\n",
      "('to', 5)\n",
      "('a', 6)\n",
      "('it', 6)\n",
      "('is', 7)\n",
      "('of', 8)\n",
      "('and', 9)\n",
      "('i', 9)\n",
      "('the', 14)\n",
      "\n",
      "Most common words:\n",
      "('the', 14)\n",
      "('i', 9)\n",
      "('and', 9)\n",
      "('of', 8)\n",
      "('is', 7)\n",
      "\n",
      "Least common words:\n",
      "('call', 1)\n",
      "('ishmael', 1)\n",
      "('years', 1)\n",
      "('ago', 1)\n",
      "('never', 1)\n"
     ]
    }
   ],
   "source": [
    "moby_words = []\n",
    "with open('moby_01_clean.txt') as infile:\n",
    "    for word in infile:\n",
    "        if word.strip():\n",
    "            moby_words.append(word.strip())\n",
    "   \n",
    "word_count = {}\n",
    "for word in moby_words:\n",
    "    count = word_count.setdefault(word, 0)\n",
    "    #count += 1\n",
    "    #print(count)\n",
    "    word_count[word] += 1\n",
    "    \n",
    "word_list = list(word_count.items())\n",
    "word_list.sort(key=lambda x: x[1])\n",
    "\n",
    "for i in word_list:\n",
    "    print(i)\n",
    "print(\"\\nMost common words:\")\n",
    "for word in reversed(word_list[-5:]):\n",
    "    print(word)\n",
    "\n",
    "print(\"\\nLeast common words:\")\n",
    "for word in word_list[:5]:\n",
    "    print(word)"
   ]
  }
 ],
 "metadata": {
  "kernelspec": {
   "display_name": "Python 3 (ipykernel)",
   "language": "python",
   "name": "python3"
  },
  "language_info": {
   "codemirror_mode": {
    "name": "ipython",
    "version": 3
   },
   "file_extension": ".py",
   "mimetype": "text/x-python",
   "name": "python",
   "nbconvert_exporter": "python",
   "pygments_lexer": "ipython3",
   "version": "3.9.7"
  }
 },
 "nbformat": 4,
 "nbformat_minor": 5
}
